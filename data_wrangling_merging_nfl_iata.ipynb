{
 "cells": [
  {
   "cell_type": "markdown",
   "id": "bed460b2-fdde-45a7-a8d6-0fb392311c4a",
   "metadata": {},
   "source": [
    "Data Wrangling\n",
    "\n",
    "** IMPORTANT NOTE: Most data wrangling steps had to be downloaded in separate Jupyter Notebook files due to the large data sizes.  If working with larger memory/faster processing times, this will be done in one single notebook. **\n",
    "\n",
    "This notebook combines 2023 NFL Game day data with the universal IATA Airport Code. This code will be used for merging with other data sources."
   ]
  },
  {
   "cell_type": "code",
   "execution_count": 37,
   "id": "0fd417b6-508d-4db4-883c-43fd564a92dc",
   "metadata": {},
   "outputs": [],
   "source": [
    "import pandas as pd\n"
   ]
  },
  {
   "cell_type": "code",
   "execution_count": 38,
   "id": "be607c0b-ad55-4377-bb3d-8c6e58ac5c97",
   "metadata": {},
   "outputs": [],
   "source": [
    "# def convert_excel_to_csv(excel_file):\n",
    "#     # Specify the output path\n",
    "#     output_path = r'C:\\Users\\hopeh\\Desktop\\data_science_bootcamp\\flight_times_capstone\\extra_fun_data\\2023_nfl_schedule.csv'\n",
    "    \n",
    "#     # Read the Excel file\n",
    "#     df = pd.read_excel(excel_file)\n",
    "    \n",
    "#     # Save to CSV in the specified folder\n",
    "#     df.to_csv(output_path, index=False)\n",
    "#     print(f\"Converted and saved as: {output_path}\")\n",
    "\n",
    "# # Example usage\n",
    "# convert_excel_to_csv(r\"C:\\Users\\hopeh\\Desktop\\data_science_bootcamp\\flight_times_capstone\\extra_fun_data\\2023_NFL_schedule.xlsx\")"
   ]
  },
  {
   "cell_type": "code",
   "execution_count": 39,
   "id": "9c9ace4c-2388-46b7-b0db-20b539b137ae",
   "metadata": {},
   "outputs": [],
   "source": [
    "# load csv file\n",
    "nfl_2023 = pd.read_csv(r'C:\\Users\\hopeh\\Desktop\\data_science_bootcamp\\flight_times_capstone\\extra_fun_data\\2023_nfl_schedule.csv')"
   ]
  },
  {
   "cell_type": "code",
   "execution_count": 40,
   "id": "88a715cb-f7a7-44cd-9ff9-17292d1df7a0",
   "metadata": {},
   "outputs": [
    {
     "name": "stdout",
     "output_type": "stream",
     "text": [
      "               Teams 2023-09-10 00:00:00 2023-09-17 00:00:00  \\\n",
      "0  Arizona Cardinals        @ Commanders          vs. Giants   \n",
      "1    Atlanta Falcons        vs. Panthers         vs. Packers   \n",
      "2   Baltimore Ravens          vs. Texans           @ Bengals   \n",
      "3      Buffalo Bills        @ Jets (MNF)          vs Raiders   \n",
      "4  Carolina Panthers           @ Falcons    vs. Saints (MNF)   \n",
      "\n",
      "  2023-09-24 00:00:00 2023-10-01 00:00:00   2023-10-08 00:00:00  \\\n",
      "0         vs. Cowboys             @ 49ers           vs. Bengals   \n",
      "1             @ Lions  @ Jaguars (London)            vs. Texans   \n",
      "2           vs. Colts            @ Browns            @ Steelers   \n",
      "3        @ Commanders        vs. Dolphins  vs. Jaguars (London)   \n",
      "4          @ Seahawks         vs. Vikings               @ Lions   \n",
      "\n",
      "  2023-10-15 00:00:00 2023-10-22 00:00:00   2023-10-29 00:00:00  \\\n",
      "0              @ Rams          @ Seahawks            vs. Ravens   \n",
      "1      vs. Commanders        @ Buccaneers              @ Titans   \n",
      "2   @ Titans (London)           vs. Lions           @ Cardinals   \n",
      "3          vs. Giants          @ Patriots  vs. Buccaneers (TNF)   \n",
      "4          @ Dolphins                 BYE            vs. Texans   \n",
      "\n",
      "  2023-11-05 00:00:00 2023-11-12 00:00:00 2023-11-19 00:00:00  \\\n",
      "0            @ Browns         vs. Falcons            @ Texans   \n",
      "1         vs. Vikings         @ Cardinals                 BYE   \n",
      "2        vs. Seahawks          vs. Browns   vs. Bengals (TNF)   \n",
      "3           @ Bengals   vs. Broncos (MNF)            vs. Jets   \n",
      "4           vs. Colts       @ Bears (TNF)         vs. Cowboys   \n",
      "\n",
      "  2023-11-26 00:00:00 2023-12-03 00:00:00 2023-12-10 00:00:00  \\\n",
      "0            vs. Rams          @ Steelers                 BYE   \n",
      "1          vs. Saints              @ Jets      vs. Buccaneers   \n",
      "2    @ Chargers (SNF)                 BYE            vs. Rams   \n",
      "3            @ Eagles                 BYE            @ Chiefs   \n",
      "4            @ Titans        @ Buccaneers            @ Saints   \n",
      "\n",
      "  2023-12-17 00:00:00 2023-12-24 00:00:00 2023-12-31 00:00:00     Jan. 6 or 7  \n",
      "0           vs. 49ers             @ Bears            @ Eagles    vs. Seahawks  \n",
      "1          @ Panthers           vs. Colts             @ Bears        @ Saints  \n",
      "2     @ Jaguars (SNF)       @ 49ers (MNF)        vs. Dolphins    vs. Steelers  \n",
      "3         vs. Cowboys          @ Chargers        vs. Patriots      @ Dolphins  \n",
      "4         vs. Falcons         vs. Packers           @ Jaguars  vs. Buccaneers  \n"
     ]
    }
   ],
   "source": [
    "# explore data set\n",
    "\n",
    "print(nfl_2023.head())"
   ]
  },
  {
   "cell_type": "code",
   "execution_count": 41,
   "id": "5f5cccf5-b213-4534-8658-97a1e7ce688c",
   "metadata": {},
   "outputs": [
    {
     "name": "stdout",
     "output_type": "stream",
     "text": [
      "               teams 2023-09-10 00:00:00 2023-09-17 00:00:00  \\\n",
      "0  arizona cardinals        @ commanders          vs. giants   \n",
      "1    atlanta falcons        vs. panthers         vs. packers   \n",
      "2   baltimore ravens          vs. texans           @ bengals   \n",
      "3      buffalo bills        @ jets (mnf)          vs raiders   \n",
      "4  carolina panthers           @ falcons    vs. saints (mnf)   \n",
      "\n",
      "  2023-09-24 00:00:00 2023-10-01 00:00:00   2023-10-08 00:00:00  \\\n",
      "0         vs. cowboys             @ 49ers           vs. bengals   \n",
      "1             @ lions  @ jaguars (london)            vs. texans   \n",
      "2           vs. colts            @ browns            @ steelers   \n",
      "3        @ commanders        vs. dolphins  vs. jaguars (london)   \n",
      "4          @ seahawks         vs. vikings               @ lions   \n",
      "\n",
      "  2023-10-15 00:00:00 2023-10-22 00:00:00   2023-10-29 00:00:00  \\\n",
      "0              @ rams          @ seahawks            vs. ravens   \n",
      "1      vs. commanders        @ buccaneers              @ titans   \n",
      "2   @ titans (london)           vs. lions           @ cardinals   \n",
      "3          vs. giants          @ patriots  vs. buccaneers (tnf)   \n",
      "4          @ dolphins                 bye            vs. texans   \n",
      "\n",
      "  2023-11-05 00:00:00 2023-11-12 00:00:00 2023-11-19 00:00:00  \\\n",
      "0            @ browns         vs. falcons            @ texans   \n",
      "1         vs. vikings         @ cardinals                 bye   \n",
      "2        vs. seahawks          vs. browns   vs. bengals (tnf)   \n",
      "3           @ bengals   vs. broncos (mnf)            vs. jets   \n",
      "4           vs. colts       @ bears (tnf)         vs. cowboys   \n",
      "\n",
      "  2023-11-26 00:00:00 2023-12-03 00:00:00 2023-12-10 00:00:00  \\\n",
      "0            vs. rams          @ steelers                 bye   \n",
      "1          vs. saints              @ jets      vs. buccaneers   \n",
      "2    @ chargers (snf)                 bye            vs. rams   \n",
      "3            @ eagles                 bye            @ chiefs   \n",
      "4            @ titans        @ buccaneers            @ saints   \n",
      "\n",
      "  2023-12-17 00:00:00 2023-12-24 00:00:00 2023-12-31 00:00:00     jan. 6 or 7  \n",
      "0           vs. 49ers             @ bears            @ eagles    vs. seahawks  \n",
      "1          @ panthers           vs. colts             @ bears        @ saints  \n",
      "2     @ jaguars (snf)       @ 49ers (mnf)        vs. dolphins    vs. steelers  \n",
      "3         vs. cowboys          @ chargers        vs. patriots      @ dolphins  \n",
      "4         vs. falcons         vs. packers           @ jaguars  vs. buccaneers  \n"
     ]
    },
    {
     "name": "stderr",
     "output_type": "stream",
     "text": [
      "C:\\Users\\hopeh\\AppData\\Local\\Temp\\ipykernel_12092\\2479572915.py:4: FutureWarning: DataFrame.applymap has been deprecated. Use DataFrame.map instead.\n",
      "  nfl_2023 = nfl_2023.applymap(lambda x: x.lower() if isinstance(x, str) else x)\n"
     ]
    }
   ],
   "source": [
    "nfl_2023.columns = nfl_2023.columns.str.lower()\n",
    "\n",
    "# Convert all string values in the DataFrame to lowercase\n",
    "nfl_2023 = nfl_2023.applymap(lambda x: x.lower() if isinstance(x, str) else x)\n",
    "\n",
    "# Check the updated DataFrame\n",
    "print(nfl_2023.head())"
   ]
  },
  {
   "cell_type": "code",
   "execution_count": 42,
   "id": "82ca610d-aede-47b3-8696-214956599889",
   "metadata": {},
   "outputs": [
    {
     "data": {
      "text/plain": [
       "(32, 19)"
      ]
     },
     "execution_count": 42,
     "metadata": {},
     "output_type": "execute_result"
    }
   ],
   "source": [
    "nfl_2023.shape"
   ]
  },
  {
   "cell_type": "code",
   "execution_count": 43,
   "id": "436a48ea-abf1-42ee-afba-3485fa6fd8cb",
   "metadata": {},
   "outputs": [
    {
     "data": {
      "text/plain": [
       "Index(['teams', '2023-09-10 00:00:00', '2023-09-17 00:00:00',\n",
       "       '2023-09-24 00:00:00', '2023-10-01 00:00:00', '2023-10-08 00:00:00',\n",
       "       '2023-10-15 00:00:00', '2023-10-22 00:00:00', '2023-10-29 00:00:00',\n",
       "       '2023-11-05 00:00:00', '2023-11-12 00:00:00', '2023-11-19 00:00:00',\n",
       "       '2023-11-26 00:00:00', '2023-12-03 00:00:00', '2023-12-10 00:00:00',\n",
       "       '2023-12-17 00:00:00', '2023-12-24 00:00:00', '2023-12-31 00:00:00',\n",
       "       'jan. 6 or 7'],\n",
       "      dtype='object')"
      ]
     },
     "execution_count": 43,
     "metadata": {},
     "output_type": "execute_result"
    }
   ],
   "source": [
    "nfl_2023.columns"
   ]
  },
  {
   "cell_type": "code",
   "execution_count": 44,
   "id": "ed9c7712-a9fe-4158-8a01-6388e35bdb5d",
   "metadata": {},
   "outputs": [
    {
     "name": "stdout",
     "output_type": "stream",
     "text": [
      "['arizona cardinals' 'atlanta falcons' 'baltimore ravens' 'buffalo bills'\n",
      " 'carolina panthers' 'chicago bears' 'cincinnati bengals'\n",
      " 'cleveland browns' 'dallas cowboys' 'denver broncos' 'detroit lions'\n",
      " 'green bay packers' 'houston texans' 'indianapolis colts'\n",
      " 'jacksonville jaguars' 'kansas city chiefs' 'las vegas raiders'\n",
      " 'los angeles chargers' 'los angeles rams' 'miami dolphins'\n",
      " 'minnesota vikings' 'new england patriots' 'new orleans saints'\n",
      " 'new york giants' 'new york jets' 'philadelphia eagles'\n",
      " 'pittsburgh steelers' 'san francisco 49ers' 'seattle seahawks'\n",
      " 'tampa bay buccaneers' 'tennessee titans' 'washington commanders']\n"
     ]
    }
   ],
   "source": [
    "print(nfl_2023['teams'].unique())"
   ]
  },
  {
   "cell_type": "code",
   "execution_count": 74,
   "id": "d2670d6a-37bc-492f-b969-91374f5e8f84",
   "metadata": {},
   "outputs": [
    {
     "name": "stdout",
     "output_type": "stream",
     "text": [
      "               teams                 date game result    opponent\n",
      "0  arizona cardinals  2023-09-10 00:00:00        away  commanders\n",
      "1  arizona cardinals  2023-09-17 00:00:00        home      giants\n",
      "2  arizona cardinals  2023-09-24 00:00:00        home     cowboys\n",
      "3  arizona cardinals  2023-10-01 00:00:00        away       49ers\n",
      "4  arizona cardinals  2023-10-08 00:00:00        home     bengals\n"
     ]
    }
   ],
   "source": [
    "# Normalize Game Notations\n",
    "\n",
    "# clean_game_notation checks if the game is a home or away game\n",
    "# and extracts the opponent's name. returns a tuple \n",
    "# with the game result type ('home', 'away', or 'bye') and the opponent.\n",
    "\n",
    "\n",
    "# Function to clean game notation and extract result type and opponent\n",
    "def clean_game_notation(cell_value):\n",
    "    if isinstance(cell_value, str):\n",
    "        if '@' in cell_value:\n",
    "            opponent = cell_value.split('@')[1].strip()  # Get opponent\n",
    "            return 'away', opponent\n",
    "        elif 'vs.' in cell_value:\n",
    "            opponent = cell_value.split('vs.')[1].strip()  # Get opponent\n",
    "            return 'home', opponent\n",
    "        elif 'bye' in cell_value:\n",
    "            return 'bye', None\n",
    "    return None, None\n",
    "\n",
    "# Reshape Data\n",
    "cleaned_data = []\n",
    "\n",
    "# Iterate over each team and each game\n",
    "for index, row in nfl_2023.iterrows():\n",
    "    team_name = row['teams']\n",
    "    for date in nfl_2023.columns[1:]:\n",
    "        game_result, opponent = clean_game_notation(row[date])\n",
    "        cleaned_data.append({\n",
    "            'teams': team_name,\n",
    "            'date': date,\n",
    "            'game result': game_result,\n",
    "            'opponent': opponent  # Capture opponent here\n",
    "        })\n",
    "\n",
    "# Convert to DataFrame\n",
    "cleaned_df = pd.DataFrame(cleaned_data)\n",
    "\n",
    "# Handle Bye Weeks\n",
    "cleaned_df['opponent'] = cleaned_df['opponent'].fillna('bye')\n",
    "\n",
    "# Show the cleaned DataFrame\n",
    "print(cleaned_df.head())\n"
   ]
  },
  {
   "cell_type": "code",
   "execution_count": 76,
   "id": "7d700c4b-db86-4075-9304-b55f1833766e",
   "metadata": {},
   "outputs": [
    {
     "data": {
      "text/plain": [
       "Index(['teams', 'date', 'game result', 'opponent'], dtype='object')"
      ]
     },
     "execution_count": 76,
     "metadata": {},
     "output_type": "execute_result"
    }
   ],
   "source": [
    "cleaned_df.columns"
   ]
  },
  {
   "cell_type": "code",
   "execution_count": 78,
   "id": "911f5bb9-145e-46bc-b74a-6e5827991277",
   "metadata": {},
   "outputs": [],
   "source": [
    "cleaned_df.rename(columns={'Game Result': 'Location'}, inplace=True)"
   ]
  },
  {
   "cell_type": "code",
   "execution_count": 80,
   "id": "859fee45-908c-4ecf-bbea-989d825e7b0e",
   "metadata": {},
   "outputs": [
    {
     "data": {
      "text/plain": [
       "(576, 4)"
      ]
     },
     "execution_count": 80,
     "metadata": {},
     "output_type": "execute_result"
    }
   ],
   "source": [
    "cleaned_df.shape\n"
   ]
  },
  {
   "cell_type": "code",
   "execution_count": 82,
   "id": "4aebc15f-fe2f-4a12-a265-48bdece23b00",
   "metadata": {},
   "outputs": [],
   "source": [
    "# Convert column names to lowercase\n"
   ]
  },
  {
   "cell_type": "code",
   "execution_count": 86,
   "id": "3ec34a0b-255f-43c1-9da6-4d6e4453d3ff",
   "metadata": {},
   "outputs": [
    {
     "name": "stdout",
     "output_type": "stream",
     "text": [
      "['commanders' 'giants' 'cowboys' '49ers' 'bengals' 'rams' 'seahawks'\n",
      " 'ravens' 'browns' 'falcons' 'texans' 'steelers' 'bye' 'bears' 'eagles'\n",
      " 'panthers' 'packers' 'lions' 'jaguars (london)' 'buccaneers' 'titans'\n",
      " 'vikings' 'cardinals' 'saints' 'jets' 'colts' 'titans (london)'\n",
      " 'bengals (tnf)' 'chargers (snf)' 'jaguars (snf)' '49ers (mnf)' 'dolphins'\n",
      " 'jets (mnf)' 'patriots' 'buccaneers (tnf)' 'broncos (mnf)' 'chiefs'\n",
      " 'chargers' 'saints (mnf)' 'bears (tnf)' 'jaguars' 'broncos'\n",
      " 'commanders (tnf)' 'raiders' 'panthers (tnf)' 'vikings (mnf)'\n",
      " 'rams (mnf)' 'bills (snf)' 'ravens (tnf)' 'jaguars (mnf)'\n",
      " 'steelers (mnf)' 'jets (tnf)' 'chargers (mnf)' 'seahawks (tnf)' 'bills'\n",
      " 'chiefs (tnf)' 'bills (mnf)' 'vikings (snf)' 'packers (tnf)'\n",
      " 'raiders (mnf)' 'patriots (germany)' 'saints (tnf)' 'bengals (mnf)'\n",
      " 'jets (snf)' 'broncos (tnf)' 'dolphins (germany)' 'eagles (mnf)'\n",
      " 'patriots (mnf)' 'cowboys (mnf)' 'bears (snf)' 'ravens (snf)'\n",
      " 'raiders (tnf)' 'patriots (snf)' 'eagles (snf)' 'titans (mnf)'\n",
      " 'eagles (tnf)' 'broncos (snf)' 'bears (mnf)' 'packers (snf)'\n",
      " 'dolphins (snf)' 'colts (germany)' 'steelers (tnf)' 'chiefs (mnf)'\n",
      " 'panthers (mnf)' 'jaguars (tnf)' 'rams (tnf)' '49ers (tnf)'\n",
      " 'chiefs (snf)' 'raiders (snf)' 'browns (tnf)' 'vikings (tnf)'\n",
      " 'buccaneers (mnf)' 'cowboys (snf)' 'browns (mnf)' 'titans (tnf)'\n",
      " 'patriots (tnf)' 'giants (tnf)' 'ravens (mnf)' 'giants (mnf)'\n",
      " '49ers (thanksgiving)' 'cowboys (tnf)' 'bills (tnf)' 'ravens (london)'\n",
      " 'dolphins (mnf)' 'cowboys (thanksgiving)']\n"
     ]
    }
   ],
   "source": [
    "print(cleaned_df['opponent'].unique())"
   ]
  },
  {
   "cell_type": "code",
   "execution_count": 88,
   "id": "bfe8b62c-33e9-4fd7-a468-1a8ecdb081a5",
   "metadata": {},
   "outputs": [
    {
     "data": {
      "text/plain": [
       "<bound method DataFrame.info of                      teams                 date game result    opponent\n",
       "0        arizona cardinals  2023-09-10 00:00:00        away  commanders\n",
       "1        arizona cardinals  2023-09-17 00:00:00        home      giants\n",
       "2        arizona cardinals  2023-09-24 00:00:00        home     cowboys\n",
       "3        arizona cardinals  2023-10-01 00:00:00        away       49ers\n",
       "4        arizona cardinals  2023-10-08 00:00:00        home     bengals\n",
       "..                     ...                  ...         ...         ...\n",
       "571  washington commanders  2023-12-10 00:00:00         bye         bye\n",
       "572  washington commanders  2023-12-17 00:00:00        away        rams\n",
       "573  washington commanders  2023-12-24 00:00:00        away        jets\n",
       "574  washington commanders  2023-12-31 00:00:00        home       49ers\n",
       "575  washington commanders          jan. 6 or 7        home     cowboys\n",
       "\n",
       "[576 rows x 4 columns]>"
      ]
     },
     "execution_count": 88,
     "metadata": {},
     "output_type": "execute_result"
    }
   ],
   "source": [
    "cleaned_df.info"
   ]
  },
  {
   "cell_type": "code",
   "execution_count": 128,
   "id": "3a95a281-b98c-4fcc-98a2-9404b97e1e03",
   "metadata": {},
   "outputs": [],
   "source": [
    "# create a mapping of teams to IATA codes\n",
    "iata_mapping = {\n",
    "    'Arizona Cardinals': 'PHX',\n",
    "    'Atlanta Falcons': 'ATL',\n",
    "    'Baltimore Ravens': 'BWI',\n",
    "    'Buffalo Bills': 'BUF',\n",
    "    'Carolina Panthers': 'CLT',\n",
    "    'Chicago Bears': 'ORD',\n",
    "    'Cincinnati Bengals': 'CVG',\n",
    "    'Cleveland Browns': 'CLE',\n",
    "    'Dallas Cowboys': 'DFW',\n",
    "    'Denver Broncos': 'DEN',\n",
    "    'Detroit Lions': 'DTW',\n",
    "    'Green Bay Packers': 'GRB',\n",
    "    'Houston Texans': 'IAH',\n",
    "    'Indianapolis Colts': 'IND',\n",
    "    'Jacksonville Jaguars': 'JAX',\n",
    "    'Kansas City Chiefs': 'MCI',\n",
    "    'Las Vegas Raiders': 'LAS',\n",
    "    'Los Angeles Chargers': 'LAX',\n",
    "    'Los Angeles Rams': 'LAX',\n",
    "    'Miami Dolphins': 'MIA',\n",
    "    'Minnesota Vikings': 'MSP',\n",
    "    'New England Patriots': 'BOS',\n",
    "    'New Orleans Saints': 'MSY',\n",
    "    'New York Giants': 'EWR',\n",
    "    'New York Jets': 'EWR',\n",
    "    'Philadelphia Eagles': 'PHL',\n",
    "    'Pittsburgh Steelers': 'PIT',\n",
    "    'San Francisco 49ers': 'SFO',\n",
    "    'Seattle Seahawks': 'SEA',\n",
    "    'Tampa Bay Buccaneers': 'TPA',\n",
    "    'Tennessee Titans': 'BNA',\n",
    "    'Washington Commanders': 'DCA',\n",
    "}"
   ]
  },
  {
   "cell_type": "code",
   "execution_count": 130,
   "id": "00868a21-560b-4fe1-af3c-c2345b6946ba",
   "metadata": {},
   "outputs": [],
   "source": [
    "# Function to clean opponent name\n",
    "def clean_opponent_name(opponent):\n",
    "    # Remove any additional text (e.g., '(MNF)', '(Germany)', etc.)\n",
    "    if '(' in opponent:\n",
    "        opponent = opponent.split('(')[0].strip()  # Take the part before '('\n",
    "    return opponent"
   ]
  },
  {
   "cell_type": "code",
   "execution_count": 132,
   "id": "a07fff56-ac9c-426d-a2cd-6bfcf103ad4a",
   "metadata": {},
   "outputs": [
    {
     "data": {
      "text/plain": [
       "Index(['teams', 'date', 'game result', 'opponent'], dtype='object')"
      ]
     },
     "execution_count": 132,
     "metadata": {},
     "output_type": "execute_result"
    }
   ],
   "source": [
    "cleaned_df.columns"
   ]
  },
  {
   "cell_type": "code",
   "execution_count": 134,
   "id": "f37cef69-a682-45f9-a266-db4af26e3750",
   "metadata": {},
   "outputs": [
    {
     "name": "stdout",
     "output_type": "stream",
     "text": [
      "               teams                 date game result    opponent\n",
      "0  arizona cardinals  2023-09-10 00:00:00        away  commanders\n",
      "1  arizona cardinals  2023-09-17 00:00:00        home      giants\n",
      "2  arizona cardinals  2023-09-24 00:00:00        home     cowboys\n",
      "3  arizona cardinals  2023-10-01 00:00:00        away       49ers\n",
      "4  arizona cardinals  2023-10-08 00:00:00        home     bengals\n"
     ]
    }
   ],
   "source": [
    "print(cleaned_df.head())"
   ]
  },
  {
   "cell_type": "code",
   "execution_count": 136,
   "id": "694ac75e-fa1d-4501-8242-2f4cf54f5f7c",
   "metadata": {},
   "outputs": [
    {
     "name": "stdout",
     "output_type": "stream",
     "text": [
      "['commanders' 'giants' 'cowboys' '49ers' 'bengals' 'rams' 'seahawks'\n",
      " 'ravens' 'browns' 'falcons' 'texans' 'steelers' 'bye' 'bears' 'eagles'\n",
      " 'panthers' 'packers' 'lions' 'jaguars (london)' 'buccaneers' 'titans'\n",
      " 'vikings' 'cardinals' 'saints' 'jets' 'colts' 'titans (london)'\n",
      " 'bengals (tnf)' 'chargers (snf)' 'jaguars (snf)' '49ers (mnf)' 'dolphins'\n",
      " 'jets (mnf)' 'patriots' 'buccaneers (tnf)' 'broncos (mnf)' 'chiefs'\n",
      " 'chargers' 'saints (mnf)' 'bears (tnf)' 'jaguars' 'broncos'\n",
      " 'commanders (tnf)' 'raiders' 'panthers (tnf)' 'vikings (mnf)'\n",
      " 'rams (mnf)' 'bills (snf)' 'ravens (tnf)' 'jaguars (mnf)'\n",
      " 'steelers (mnf)' 'jets (tnf)' 'chargers (mnf)' 'seahawks (tnf)' 'bills'\n",
      " 'chiefs (tnf)' 'bills (mnf)' 'vikings (snf)' 'packers (tnf)'\n",
      " 'raiders (mnf)' 'patriots (germany)' 'saints (tnf)' 'bengals (mnf)'\n",
      " 'jets (snf)' 'broncos (tnf)' 'dolphins (germany)' 'eagles (mnf)'\n",
      " 'patriots (mnf)' 'cowboys (mnf)' 'bears (snf)' 'ravens (snf)'\n",
      " 'raiders (tnf)' 'patriots (snf)' 'eagles (snf)' 'titans (mnf)'\n",
      " 'eagles (tnf)' 'broncos (snf)' 'bears (mnf)' 'packers (snf)'\n",
      " 'dolphins (snf)' 'colts (germany)' 'steelers (tnf)' 'chiefs (mnf)'\n",
      " 'panthers (mnf)' 'jaguars (tnf)' 'rams (tnf)' '49ers (tnf)'\n",
      " 'chiefs (snf)' 'raiders (snf)' 'browns (tnf)' 'vikings (tnf)'\n",
      " 'buccaneers (mnf)' 'cowboys (snf)' 'browns (mnf)' 'titans (tnf)'\n",
      " 'patriots (tnf)' 'giants (tnf)' 'ravens (mnf)' 'giants (mnf)'\n",
      " '49ers (thanksgiving)' 'cowboys (tnf)' 'bills (tnf)' 'ravens (london)'\n",
      " 'dolphins (mnf)' 'cowboys (thanksgiving)']\n"
     ]
    },
    {
     "ename": "KeyError",
     "evalue": "'location'",
     "output_type": "error",
     "traceback": [
      "\u001b[1;31m---------------------------------------------------------------------------\u001b[0m",
      "\u001b[1;31mKeyError\u001b[0m                                  Traceback (most recent call last)",
      "File \u001b[1;32m~\\anaconda3\\Lib\\site-packages\\pandas\\core\\indexes\\base.py:3805\u001b[0m, in \u001b[0;36mIndex.get_loc\u001b[1;34m(self, key)\u001b[0m\n\u001b[0;32m   3804\u001b[0m \u001b[38;5;28;01mtry\u001b[39;00m:\n\u001b[1;32m-> 3805\u001b[0m     \u001b[38;5;28;01mreturn\u001b[39;00m \u001b[38;5;28mself\u001b[39m\u001b[38;5;241m.\u001b[39m_engine\u001b[38;5;241m.\u001b[39mget_loc(casted_key)\n\u001b[0;32m   3806\u001b[0m \u001b[38;5;28;01mexcept\u001b[39;00m \u001b[38;5;167;01mKeyError\u001b[39;00m \u001b[38;5;28;01mas\u001b[39;00m err:\n",
      "File \u001b[1;32mindex.pyx:167\u001b[0m, in \u001b[0;36mpandas._libs.index.IndexEngine.get_loc\u001b[1;34m()\u001b[0m\n",
      "File \u001b[1;32mindex.pyx:196\u001b[0m, in \u001b[0;36mpandas._libs.index.IndexEngine.get_loc\u001b[1;34m()\u001b[0m\n",
      "File \u001b[1;32mpandas\\\\_libs\\\\hashtable_class_helper.pxi:7081\u001b[0m, in \u001b[0;36mpandas._libs.hashtable.PyObjectHashTable.get_item\u001b[1;34m()\u001b[0m\n",
      "File \u001b[1;32mpandas\\\\_libs\\\\hashtable_class_helper.pxi:7089\u001b[0m, in \u001b[0;36mpandas._libs.hashtable.PyObjectHashTable.get_item\u001b[1;34m()\u001b[0m\n",
      "\u001b[1;31mKeyError\u001b[0m: 'location'",
      "\nThe above exception was the direct cause of the following exception:\n",
      "\u001b[1;31mKeyError\u001b[0m                                  Traceback (most recent call last)",
      "Cell \u001b[1;32mIn[136], line 21\u001b[0m\n\u001b[0;32m     18\u001b[0m     \u001b[38;5;28;01mreturn\u001b[39;00m \u001b[38;5;28;01mNone\u001b[39;00m\n\u001b[0;32m     20\u001b[0m \u001b[38;5;66;03m# Apply the function to get IATA codes again\u001b[39;00m\n\u001b[1;32m---> 21\u001b[0m cleaned_df[\u001b[38;5;124m'\u001b[39m\u001b[38;5;124miata code\u001b[39m\u001b[38;5;124m'\u001b[39m] \u001b[38;5;241m=\u001b[39m cleaned_df\u001b[38;5;241m.\u001b[39mapply(get_iata, axis\u001b[38;5;241m=\u001b[39m\u001b[38;5;241m1\u001b[39m)\n",
      "File \u001b[1;32m~\\anaconda3\\Lib\\site-packages\\pandas\\core\\frame.py:10374\u001b[0m, in \u001b[0;36mDataFrame.apply\u001b[1;34m(self, func, axis, raw, result_type, args, by_row, engine, engine_kwargs, **kwargs)\u001b[0m\n\u001b[0;32m  10360\u001b[0m \u001b[38;5;28;01mfrom\u001b[39;00m \u001b[38;5;21;01mpandas\u001b[39;00m\u001b[38;5;21;01m.\u001b[39;00m\u001b[38;5;21;01mcore\u001b[39;00m\u001b[38;5;21;01m.\u001b[39;00m\u001b[38;5;21;01mapply\u001b[39;00m \u001b[38;5;28;01mimport\u001b[39;00m frame_apply\n\u001b[0;32m  10362\u001b[0m op \u001b[38;5;241m=\u001b[39m frame_apply(\n\u001b[0;32m  10363\u001b[0m     \u001b[38;5;28mself\u001b[39m,\n\u001b[0;32m  10364\u001b[0m     func\u001b[38;5;241m=\u001b[39mfunc,\n\u001b[1;32m   (...)\u001b[0m\n\u001b[0;32m  10372\u001b[0m     kwargs\u001b[38;5;241m=\u001b[39mkwargs,\n\u001b[0;32m  10373\u001b[0m )\n\u001b[1;32m> 10374\u001b[0m \u001b[38;5;28;01mreturn\u001b[39;00m op\u001b[38;5;241m.\u001b[39mapply()\u001b[38;5;241m.\u001b[39m__finalize__(\u001b[38;5;28mself\u001b[39m, method\u001b[38;5;241m=\u001b[39m\u001b[38;5;124m\"\u001b[39m\u001b[38;5;124mapply\u001b[39m\u001b[38;5;124m\"\u001b[39m)\n",
      "File \u001b[1;32m~\\anaconda3\\Lib\\site-packages\\pandas\\core\\apply.py:916\u001b[0m, in \u001b[0;36mFrameApply.apply\u001b[1;34m(self)\u001b[0m\n\u001b[0;32m    913\u001b[0m \u001b[38;5;28;01melif\u001b[39;00m \u001b[38;5;28mself\u001b[39m\u001b[38;5;241m.\u001b[39mraw:\n\u001b[0;32m    914\u001b[0m     \u001b[38;5;28;01mreturn\u001b[39;00m \u001b[38;5;28mself\u001b[39m\u001b[38;5;241m.\u001b[39mapply_raw(engine\u001b[38;5;241m=\u001b[39m\u001b[38;5;28mself\u001b[39m\u001b[38;5;241m.\u001b[39mengine, engine_kwargs\u001b[38;5;241m=\u001b[39m\u001b[38;5;28mself\u001b[39m\u001b[38;5;241m.\u001b[39mengine_kwargs)\n\u001b[1;32m--> 916\u001b[0m \u001b[38;5;28;01mreturn\u001b[39;00m \u001b[38;5;28mself\u001b[39m\u001b[38;5;241m.\u001b[39mapply_standard()\n",
      "File \u001b[1;32m~\\anaconda3\\Lib\\site-packages\\pandas\\core\\apply.py:1063\u001b[0m, in \u001b[0;36mFrameApply.apply_standard\u001b[1;34m(self)\u001b[0m\n\u001b[0;32m   1061\u001b[0m \u001b[38;5;28;01mdef\u001b[39;00m \u001b[38;5;21mapply_standard\u001b[39m(\u001b[38;5;28mself\u001b[39m):\n\u001b[0;32m   1062\u001b[0m     \u001b[38;5;28;01mif\u001b[39;00m \u001b[38;5;28mself\u001b[39m\u001b[38;5;241m.\u001b[39mengine \u001b[38;5;241m==\u001b[39m \u001b[38;5;124m\"\u001b[39m\u001b[38;5;124mpython\u001b[39m\u001b[38;5;124m\"\u001b[39m:\n\u001b[1;32m-> 1063\u001b[0m         results, res_index \u001b[38;5;241m=\u001b[39m \u001b[38;5;28mself\u001b[39m\u001b[38;5;241m.\u001b[39mapply_series_generator()\n\u001b[0;32m   1064\u001b[0m     \u001b[38;5;28;01melse\u001b[39;00m:\n\u001b[0;32m   1065\u001b[0m         results, res_index \u001b[38;5;241m=\u001b[39m \u001b[38;5;28mself\u001b[39m\u001b[38;5;241m.\u001b[39mapply_series_numba()\n",
      "File \u001b[1;32m~\\anaconda3\\Lib\\site-packages\\pandas\\core\\apply.py:1081\u001b[0m, in \u001b[0;36mFrameApply.apply_series_generator\u001b[1;34m(self)\u001b[0m\n\u001b[0;32m   1078\u001b[0m \u001b[38;5;28;01mwith\u001b[39;00m option_context(\u001b[38;5;124m\"\u001b[39m\u001b[38;5;124mmode.chained_assignment\u001b[39m\u001b[38;5;124m\"\u001b[39m, \u001b[38;5;28;01mNone\u001b[39;00m):\n\u001b[0;32m   1079\u001b[0m     \u001b[38;5;28;01mfor\u001b[39;00m i, v \u001b[38;5;129;01min\u001b[39;00m \u001b[38;5;28menumerate\u001b[39m(series_gen):\n\u001b[0;32m   1080\u001b[0m         \u001b[38;5;66;03m# ignore SettingWithCopy here in case the user mutates\u001b[39;00m\n\u001b[1;32m-> 1081\u001b[0m         results[i] \u001b[38;5;241m=\u001b[39m \u001b[38;5;28mself\u001b[39m\u001b[38;5;241m.\u001b[39mfunc(v, \u001b[38;5;241m*\u001b[39m\u001b[38;5;28mself\u001b[39m\u001b[38;5;241m.\u001b[39margs, \u001b[38;5;241m*\u001b[39m\u001b[38;5;241m*\u001b[39m\u001b[38;5;28mself\u001b[39m\u001b[38;5;241m.\u001b[39mkwargs)\n\u001b[0;32m   1082\u001b[0m         \u001b[38;5;28;01mif\u001b[39;00m \u001b[38;5;28misinstance\u001b[39m(results[i], ABCSeries):\n\u001b[0;32m   1083\u001b[0m             \u001b[38;5;66;03m# If we have a view on v, we need to make a copy because\u001b[39;00m\n\u001b[0;32m   1084\u001b[0m             \u001b[38;5;66;03m#  series_generator will swap out the underlying data\u001b[39;00m\n\u001b[0;32m   1085\u001b[0m             results[i] \u001b[38;5;241m=\u001b[39m results[i]\u001b[38;5;241m.\u001b[39mcopy(deep\u001b[38;5;241m=\u001b[39m\u001b[38;5;28;01mFalse\u001b[39;00m)\n",
      "Cell \u001b[1;32mIn[136], line 13\u001b[0m, in \u001b[0;36mget_iata\u001b[1;34m(row)\u001b[0m\n\u001b[0;32m     12\u001b[0m \u001b[38;5;28;01mdef\u001b[39;00m \u001b[38;5;21mget_iata\u001b[39m(row):\n\u001b[1;32m---> 13\u001b[0m     \u001b[38;5;28;01mif\u001b[39;00m row[\u001b[38;5;124m'\u001b[39m\u001b[38;5;124mlocation\u001b[39m\u001b[38;5;124m'\u001b[39m] \u001b[38;5;241m==\u001b[39m \u001b[38;5;124m'\u001b[39m\u001b[38;5;124mhome\u001b[39m\u001b[38;5;124m'\u001b[39m:\n\u001b[0;32m     14\u001b[0m         \u001b[38;5;28;01mreturn\u001b[39;00m iata_mapping\u001b[38;5;241m.\u001b[39mget(row[\u001b[38;5;124m'\u001b[39m\u001b[38;5;124mteam\u001b[39m\u001b[38;5;124m'\u001b[39m], \u001b[38;5;28;01mNone\u001b[39;00m)\n\u001b[0;32m     15\u001b[0m     \u001b[38;5;28;01melif\u001b[39;00m row[\u001b[38;5;124m'\u001b[39m\u001b[38;5;124mlocation\u001b[39m\u001b[38;5;124m'\u001b[39m] \u001b[38;5;241m==\u001b[39m \u001b[38;5;124m'\u001b[39m\u001b[38;5;124maway\u001b[39m\u001b[38;5;124m'\u001b[39m:\n",
      "File \u001b[1;32m~\\anaconda3\\Lib\\site-packages\\pandas\\core\\series.py:1121\u001b[0m, in \u001b[0;36mSeries.__getitem__\u001b[1;34m(self, key)\u001b[0m\n\u001b[0;32m   1118\u001b[0m     \u001b[38;5;28;01mreturn\u001b[39;00m \u001b[38;5;28mself\u001b[39m\u001b[38;5;241m.\u001b[39m_values[key]\n\u001b[0;32m   1120\u001b[0m \u001b[38;5;28;01melif\u001b[39;00m key_is_scalar:\n\u001b[1;32m-> 1121\u001b[0m     \u001b[38;5;28;01mreturn\u001b[39;00m \u001b[38;5;28mself\u001b[39m\u001b[38;5;241m.\u001b[39m_get_value(key)\n\u001b[0;32m   1123\u001b[0m \u001b[38;5;66;03m# Convert generator to list before going through hashable part\u001b[39;00m\n\u001b[0;32m   1124\u001b[0m \u001b[38;5;66;03m# (We will iterate through the generator there to check for slices)\u001b[39;00m\n\u001b[0;32m   1125\u001b[0m \u001b[38;5;28;01mif\u001b[39;00m is_iterator(key):\n",
      "File \u001b[1;32m~\\anaconda3\\Lib\\site-packages\\pandas\\core\\series.py:1237\u001b[0m, in \u001b[0;36mSeries._get_value\u001b[1;34m(self, label, takeable)\u001b[0m\n\u001b[0;32m   1234\u001b[0m     \u001b[38;5;28;01mreturn\u001b[39;00m \u001b[38;5;28mself\u001b[39m\u001b[38;5;241m.\u001b[39m_values[label]\n\u001b[0;32m   1236\u001b[0m \u001b[38;5;66;03m# Similar to Index.get_value, but we do not fall back to positional\u001b[39;00m\n\u001b[1;32m-> 1237\u001b[0m loc \u001b[38;5;241m=\u001b[39m \u001b[38;5;28mself\u001b[39m\u001b[38;5;241m.\u001b[39mindex\u001b[38;5;241m.\u001b[39mget_loc(label)\n\u001b[0;32m   1239\u001b[0m \u001b[38;5;28;01mif\u001b[39;00m is_integer(loc):\n\u001b[0;32m   1240\u001b[0m     \u001b[38;5;28;01mreturn\u001b[39;00m \u001b[38;5;28mself\u001b[39m\u001b[38;5;241m.\u001b[39m_values[loc]\n",
      "File \u001b[1;32m~\\anaconda3\\Lib\\site-packages\\pandas\\core\\indexes\\base.py:3812\u001b[0m, in \u001b[0;36mIndex.get_loc\u001b[1;34m(self, key)\u001b[0m\n\u001b[0;32m   3807\u001b[0m     \u001b[38;5;28;01mif\u001b[39;00m \u001b[38;5;28misinstance\u001b[39m(casted_key, \u001b[38;5;28mslice\u001b[39m) \u001b[38;5;129;01mor\u001b[39;00m (\n\u001b[0;32m   3808\u001b[0m         \u001b[38;5;28misinstance\u001b[39m(casted_key, abc\u001b[38;5;241m.\u001b[39mIterable)\n\u001b[0;32m   3809\u001b[0m         \u001b[38;5;129;01mand\u001b[39;00m \u001b[38;5;28many\u001b[39m(\u001b[38;5;28misinstance\u001b[39m(x, \u001b[38;5;28mslice\u001b[39m) \u001b[38;5;28;01mfor\u001b[39;00m x \u001b[38;5;129;01min\u001b[39;00m casted_key)\n\u001b[0;32m   3810\u001b[0m     ):\n\u001b[0;32m   3811\u001b[0m         \u001b[38;5;28;01mraise\u001b[39;00m InvalidIndexError(key)\n\u001b[1;32m-> 3812\u001b[0m     \u001b[38;5;28;01mraise\u001b[39;00m \u001b[38;5;167;01mKeyError\u001b[39;00m(key) \u001b[38;5;28;01mfrom\u001b[39;00m \u001b[38;5;21;01merr\u001b[39;00m\n\u001b[0;32m   3813\u001b[0m \u001b[38;5;28;01mexcept\u001b[39;00m \u001b[38;5;167;01mTypeError\u001b[39;00m:\n\u001b[0;32m   3814\u001b[0m     \u001b[38;5;66;03m# If we have a listlike key, _check_indexing_error will raise\u001b[39;00m\n\u001b[0;32m   3815\u001b[0m     \u001b[38;5;66;03m#  InvalidIndexError. Otherwise we fall through and re-raise\u001b[39;00m\n\u001b[0;32m   3816\u001b[0m     \u001b[38;5;66;03m#  the TypeError.\u001b[39;00m\n\u001b[0;32m   3817\u001b[0m     \u001b[38;5;28mself\u001b[39m\u001b[38;5;241m.\u001b[39m_check_indexing_error(key)\n",
      "\u001b[1;31mKeyError\u001b[0m: 'location'"
     ]
    }
   ],
   "source": [
    "# Get unique opponent names from the DataFrame\n",
    "unique_opponents = cleaned_df['opponent'].unique()\n",
    "print(unique_opponents)\n",
    "\n",
    "def clean_opponent_name(opponent):\n",
    "    # Remove any text in parentheses and extra spaces\n",
    "    opponent = opponent.split('(')[0].strip()\n",
    "    if opponent.endswith('s'):\n",
    "        opponent = opponent[:-1]\n",
    "    return opponent\n",
    "\n",
    "def get_iata(row):\n",
    "    if row['location'] == 'home':\n",
    "        return iata_mapping.get(row['team'], None)\n",
    "    elif row['location'] == 'away':\n",
    "        opponent = clean_opponent_name(row['opponent'])\n",
    "        return iata_mapping.get(opponent, None)\n",
    "    return None\n",
    "\n",
    "# Apply the function to get IATA codes again\n",
    "cleaned_df['iata code'] = cleaned_df.apply(get_iata, axis=1)\n",
    "\n"
   ]
  },
  {
   "cell_type": "code",
   "execution_count": null,
   "id": "1089b3eb-79f3-4361-a41c-acfb6b99bf56",
   "metadata": {},
   "outputs": [],
   "source": [
    "# Filter the DataFrame to show only rows where 'IATA Code' is NaN\n",
    "nan_iata_df = cleaned_df[cleaned_df['IATA Code'].isna()]\n",
    "\n",
    "# Display the resulting DataFrame\n",
    "print(nan_iata_df)\n"
   ]
  },
  {
   "cell_type": "code",
   "execution_count": 139,
   "id": "1c34d0ce-18f0-4107-b17b-78e8b24978f0",
   "metadata": {},
   "outputs": [
    {
     "name": "stdout",
     "output_type": "stream",
     "text": [
      "               teams                 date game result    opponent\n",
      "0  arizona cardinals  2023-09-10 00:00:00        away  commanders\n",
      "1  arizona cardinals  2023-09-17 00:00:00        home      giants\n",
      "2  arizona cardinals  2023-09-24 00:00:00        home     cowboys\n",
      "3  arizona cardinals  2023-10-01 00:00:00        away       49ers\n",
      "4  arizona cardinals  2023-10-08 00:00:00        home     bengals\n"
     ]
    }
   ],
   "source": [
    "print(cleaned_df.head())"
   ]
  },
  {
   "cell_type": "code",
   "execution_count": 149,
   "id": "8f3acfed-1a46-4439-b01d-67df7bc86317",
   "metadata": {},
   "outputs": [
    {
     "name": "stdout",
     "output_type": "stream",
     "text": [
      "                     teams                 date game result    opponent  \\\n",
      "0        arizona cardinals  2023-09-10 00:00:00        away  commanders   \n",
      "1        arizona cardinals  2023-09-17 00:00:00        home      giants   \n",
      "2        arizona cardinals  2023-09-24 00:00:00        home     cowboys   \n",
      "3        arizona cardinals  2023-10-01 00:00:00        away       49ers   \n",
      "4        arizona cardinals  2023-10-08 00:00:00        home     bengals   \n",
      "..                     ...                  ...         ...         ...   \n",
      "571  washington commanders  2023-12-10 00:00:00         bye         bye   \n",
      "572  washington commanders  2023-12-17 00:00:00        away        rams   \n",
      "573  washington commanders  2023-12-24 00:00:00        away        jets   \n",
      "574  washington commanders  2023-12-31 00:00:00        home       49ers   \n",
      "575  washington commanders          jan. 6 or 7        home     cowboys   \n",
      "\n",
      "             opponent_team  \n",
      "0    washington commanders  \n",
      "1          new york giants  \n",
      "2           dallas cowboys  \n",
      "3      san francisco 49ers  \n",
      "4       cincinnati bengals  \n",
      "..                     ...  \n",
      "571                   None  \n",
      "572       los angeles rams  \n",
      "573          new york jets  \n",
      "574    san francisco 49ers  \n",
      "575         dallas cowboys  \n",
      "\n",
      "[576 rows x 5 columns]\n"
     ]
    }
   ],
   "source": [
    "\n",
    "\n",
    "# Function to check for match and create opponent_team column\n",
    "def find_opponent_team(row):\n",
    "    opponent_prefix = row['opponent'][:4]\n",
    "    for team in cleaned_df['teams']:\n",
    "        if opponent_prefix in team:\n",
    "            return team\n",
    "    return None\n",
    "\n",
    "# Apply the function to create the opponent_team column\n",
    "cleaned_df['opponent_team'] = cleaned_df.apply(find_opponent_team, axis=1)\n",
    "\n",
    "# Display the updated DataFrame\n",
    "print(cleaned_df)"
   ]
  },
  {
   "cell_type": "code",
   "execution_count": 151,
   "id": "b40f4680-c207-4df5-8c05-9767df966428",
   "metadata": {},
   "outputs": [
    {
     "ename": "KeyError",
     "evalue": "'IATA Code'",
     "output_type": "error",
     "traceback": [
      "\u001b[1;31m---------------------------------------------------------------------------\u001b[0m",
      "\u001b[1;31mKeyError\u001b[0m                                  Traceback (most recent call last)",
      "File \u001b[1;32m~\\anaconda3\\Lib\\site-packages\\pandas\\core\\indexes\\base.py:3805\u001b[0m, in \u001b[0;36mIndex.get_loc\u001b[1;34m(self, key)\u001b[0m\n\u001b[0;32m   3804\u001b[0m \u001b[38;5;28;01mtry\u001b[39;00m:\n\u001b[1;32m-> 3805\u001b[0m     \u001b[38;5;28;01mreturn\u001b[39;00m \u001b[38;5;28mself\u001b[39m\u001b[38;5;241m.\u001b[39m_engine\u001b[38;5;241m.\u001b[39mget_loc(casted_key)\n\u001b[0;32m   3806\u001b[0m \u001b[38;5;28;01mexcept\u001b[39;00m \u001b[38;5;167;01mKeyError\u001b[39;00m \u001b[38;5;28;01mas\u001b[39;00m err:\n",
      "File \u001b[1;32mindex.pyx:167\u001b[0m, in \u001b[0;36mpandas._libs.index.IndexEngine.get_loc\u001b[1;34m()\u001b[0m\n",
      "File \u001b[1;32mindex.pyx:196\u001b[0m, in \u001b[0;36mpandas._libs.index.IndexEngine.get_loc\u001b[1;34m()\u001b[0m\n",
      "File \u001b[1;32mpandas\\\\_libs\\\\hashtable_class_helper.pxi:7081\u001b[0m, in \u001b[0;36mpandas._libs.hashtable.PyObjectHashTable.get_item\u001b[1;34m()\u001b[0m\n",
      "File \u001b[1;32mpandas\\\\_libs\\\\hashtable_class_helper.pxi:7089\u001b[0m, in \u001b[0;36mpandas._libs.hashtable.PyObjectHashTable.get_item\u001b[1;34m()\u001b[0m\n",
      "\u001b[1;31mKeyError\u001b[0m: 'IATA Code'",
      "\nThe above exception was the direct cause of the following exception:\n",
      "\u001b[1;31mKeyError\u001b[0m                                  Traceback (most recent call last)",
      "Cell \u001b[1;32mIn[151], line 2\u001b[0m\n\u001b[0;32m      1\u001b[0m \u001b[38;5;66;03m# Filter the DataFrame to show only rows where 'IATA Code' is NaN\u001b[39;00m\n\u001b[1;32m----> 2\u001b[0m nan_iata_df \u001b[38;5;241m=\u001b[39m cleaned_df[cleaned_df[\u001b[38;5;124m'\u001b[39m\u001b[38;5;124mIATA Code\u001b[39m\u001b[38;5;124m'\u001b[39m]\u001b[38;5;241m.\u001b[39misna()]\n\u001b[0;32m      4\u001b[0m \u001b[38;5;66;03m# Display the resulting DataFrame\u001b[39;00m\n\u001b[0;32m      5\u001b[0m \u001b[38;5;28mprint\u001b[39m(nan_iata_df)\n",
      "File \u001b[1;32m~\\anaconda3\\Lib\\site-packages\\pandas\\core\\frame.py:4102\u001b[0m, in \u001b[0;36mDataFrame.__getitem__\u001b[1;34m(self, key)\u001b[0m\n\u001b[0;32m   4100\u001b[0m \u001b[38;5;28;01mif\u001b[39;00m \u001b[38;5;28mself\u001b[39m\u001b[38;5;241m.\u001b[39mcolumns\u001b[38;5;241m.\u001b[39mnlevels \u001b[38;5;241m>\u001b[39m \u001b[38;5;241m1\u001b[39m:\n\u001b[0;32m   4101\u001b[0m     \u001b[38;5;28;01mreturn\u001b[39;00m \u001b[38;5;28mself\u001b[39m\u001b[38;5;241m.\u001b[39m_getitem_multilevel(key)\n\u001b[1;32m-> 4102\u001b[0m indexer \u001b[38;5;241m=\u001b[39m \u001b[38;5;28mself\u001b[39m\u001b[38;5;241m.\u001b[39mcolumns\u001b[38;5;241m.\u001b[39mget_loc(key)\n\u001b[0;32m   4103\u001b[0m \u001b[38;5;28;01mif\u001b[39;00m is_integer(indexer):\n\u001b[0;32m   4104\u001b[0m     indexer \u001b[38;5;241m=\u001b[39m [indexer]\n",
      "File \u001b[1;32m~\\anaconda3\\Lib\\site-packages\\pandas\\core\\indexes\\base.py:3812\u001b[0m, in \u001b[0;36mIndex.get_loc\u001b[1;34m(self, key)\u001b[0m\n\u001b[0;32m   3807\u001b[0m     \u001b[38;5;28;01mif\u001b[39;00m \u001b[38;5;28misinstance\u001b[39m(casted_key, \u001b[38;5;28mslice\u001b[39m) \u001b[38;5;129;01mor\u001b[39;00m (\n\u001b[0;32m   3808\u001b[0m         \u001b[38;5;28misinstance\u001b[39m(casted_key, abc\u001b[38;5;241m.\u001b[39mIterable)\n\u001b[0;32m   3809\u001b[0m         \u001b[38;5;129;01mand\u001b[39;00m \u001b[38;5;28many\u001b[39m(\u001b[38;5;28misinstance\u001b[39m(x, \u001b[38;5;28mslice\u001b[39m) \u001b[38;5;28;01mfor\u001b[39;00m x \u001b[38;5;129;01min\u001b[39;00m casted_key)\n\u001b[0;32m   3810\u001b[0m     ):\n\u001b[0;32m   3811\u001b[0m         \u001b[38;5;28;01mraise\u001b[39;00m InvalidIndexError(key)\n\u001b[1;32m-> 3812\u001b[0m     \u001b[38;5;28;01mraise\u001b[39;00m \u001b[38;5;167;01mKeyError\u001b[39;00m(key) \u001b[38;5;28;01mfrom\u001b[39;00m \u001b[38;5;21;01merr\u001b[39;00m\n\u001b[0;32m   3813\u001b[0m \u001b[38;5;28;01mexcept\u001b[39;00m \u001b[38;5;167;01mTypeError\u001b[39;00m:\n\u001b[0;32m   3814\u001b[0m     \u001b[38;5;66;03m# If we have a listlike key, _check_indexing_error will raise\u001b[39;00m\n\u001b[0;32m   3815\u001b[0m     \u001b[38;5;66;03m#  InvalidIndexError. Otherwise we fall through and re-raise\u001b[39;00m\n\u001b[0;32m   3816\u001b[0m     \u001b[38;5;66;03m#  the TypeError.\u001b[39;00m\n\u001b[0;32m   3817\u001b[0m     \u001b[38;5;28mself\u001b[39m\u001b[38;5;241m.\u001b[39m_check_indexing_error(key)\n",
      "\u001b[1;31mKeyError\u001b[0m: 'IATA Code'"
     ]
    }
   ],
   "source": [
    "# Filter the DataFrame to show only rows where 'IATA Code' is NaN\n",
    "nan_iata_df = cleaned_df[cleaned_df['IATA Code'].isna()]\n",
    "\n",
    "# Display the resulting DataFrame\n",
    "print(nan_iata_df)"
   ]
  },
  {
   "cell_type": "code",
   "execution_count": null,
   "id": "de743d73-7497-4bad-8492-7c98fd6b7ba6",
   "metadata": {},
   "outputs": [],
   "source": [
    "# Update the IATA Code assignment function\n",
    "def get_iata(row):\n",
    "    if row['Location'] == 'home':\n",
    "        return iata_mapping.get(row['Team'], None)\n",
    "    elif row['Location'] == 'away':\n",
    "        # Clean opponent name if necessary\n",
    "        opponent = clean_opponent_name(row['Opponent'])\n",
    "        return iata_mapping.get(opponent, None)  # Handle if opponent not found\n",
    "    return None\n",
    "\n",
    "cleaned_df['iata_code'] = cleaned_df.apply(get_iata, axis=1)"
   ]
  },
  {
   "cell_type": "code",
   "execution_count": null,
   "id": "46a52d3a-b6d3-4a70-8456-db04b5e077aa",
   "metadata": {},
   "outputs": [],
   "source": [
    "# Replace the 'Opponent' column with the 'opponent_team' column\n",
    "cleaned_df['Opponent'] = cleaned_df['opponent_team']\n",
    "\n",
    "# Optionally, drop the 'opponent_team' column if you don't need it anymore\n",
    "cleaned_df.drop(columns=['opponent_team'], inplace=True)\n",
    "\n",
    "# Display the updated DataFrame\n",
    "print(cleaned_df.columns)"
   ]
  },
  {
   "cell_type": "code",
   "execution_count": null,
   "id": "f3abd826-0734-4f88-95e6-1da8a4e718af",
   "metadata": {},
   "outputs": [],
   "source": [
    "cleaned_df.columns\n"
   ]
  },
  {
   "cell_type": "code",
   "execution_count": null,
   "id": "79f6e0fc-faa0-4c29-a4a0-8e9d7578c693",
   "metadata": {},
   "outputs": [],
   "source": [
    "print(cleaned_df.head())"
   ]
  },
  {
   "cell_type": "code",
   "execution_count": null,
   "id": "d9a4b72f-3c0d-4606-bf01-ec4c9732fd5c",
   "metadata": {},
   "outputs": [],
   "source": [
    "# Mapping of teams to their IATA codes\n",
    "iata_codes = {\n",
    "    'arizona cardinals': 'PHX',\n",
    "    'atlanta falcons': 'ATL',\n",
    "    'baltimore ravens': 'BWI',\n",
    "    'buffalo bills': 'BUF',\n",
    "    'carolina panthers': 'CLT',\n",
    "    'chicago bears': 'ORD',\n",
    "    'cincinnati bengals': 'CVG',\n",
    "    'cleveland browns': 'CLE',\n",
    "    'dallas cowboys': 'DFW',\n",
    "    'denver broncos': 'DEN',\n",
    "    'detroit lions': 'DTW',\n",
    "    'green bay packers': 'GRB',\n",
    "    'houston texans': 'IAH',\n",
    "    'indianapolis colts': 'IND',\n",
    "    'jacksonville jaguars': 'JAX',\n",
    "    'kansas city chiefs': 'MCI',\n",
    "    'las vegas raiders': 'LAS',\n",
    "    'los angeles chargers': 'LAX',\n",
    "    'los angeles rams': 'LAX',\n",
    "    'miami dolphins': 'MIA',\n",
    "    'minnesota vikings': 'MSP',\n",
    "    'new england patriots': 'BOS',\n",
    "    'new orleans saints': 'MSY',\n",
    "    'new york giants': 'JFK',\n",
    "    'new york jets': 'JFK',\n",
    "    'philadelphia eagles': 'PHL',\n",
    "    'pittsburgh steelers': 'PIT',\n",
    "    'san francisco 49ers': 'SFO',\n",
    "    'seattle seahawks': 'SEA',\n",
    "    'tampa bay buccaneers': 'TPA',\n",
    "    'tennessee titans': 'BNA',\n",
    "    'washington commanders': 'DCA'\n",
    "}\n",
    "\n",
    "# Function to determine IATA code based on location\n",
    "def get_iata_code(row):\n",
    "    if row['Location'] == 'home':\n",
    "        return iata_codes[row['Team']]\n",
    "    elif row['Location'] == 'away':\n",
    "        opponent = row['Opponent'].lower()\n",
    "        return iata_codes.get(opponent, None)  # Use .get to avoid KeyError\n",
    "\n",
    "# Apply the function to create the IATA Code column\n",
    "cleaned_df['IATA Code'] = cleaned_df.apply(get_iata_code, axis=1)\n",
    "\n",
    "# Display the updated DataFrame\n",
    "print(cleaned_df)"
   ]
  },
  {
   "cell_type": "code",
   "execution_count": null,
   "id": "388c804e-7315-43ce-bce7-576e1995cb02",
   "metadata": {},
   "outputs": [],
   "source": [
    "# Check for NaN values in critical columns like 'Opponent' and 'IATA Code'."
   ]
  },
  {
   "cell_type": "code",
   "execution_count": null,
   "id": "fc6e1e00-106f-43e7-b994-f6e0e0814bfe",
   "metadata": {},
   "outputs": [],
   "source": [
    "# Ensure all team names in the 'Team' and 'Opponent' columns are consistently formatted (lowercase, no extra spaces).\n",
    "# Convert the 'Date' column to a datetime format for easier manipulation and analysis.\n",
    "# Game Week: Create a column to represent the week of the season for each game (e.g., Week 1, Week 2).\n",
    "\n",
    "\n",
    "# Standardize string columns\n",
    "for col in ['Team', 'Opponent', 'Location']:\n",
    "    cleaned_df[col] = cleaned_df[col].str.lower().str.strip()\n"
   ]
  },
  {
   "cell_type": "code",
   "execution_count": null,
   "id": "7908e81e-914e-4d87-87ba-3be9dc90c22b",
   "metadata": {},
   "outputs": [],
   "source": [
    "# Clean the 'Date' column: replace problematic formats\n",
    "cleaned_df['Date'] = cleaned_df['Date'].str.replace('Jan. 6 or 7', '2023-01-06', regex=False)\n",
    "\n",
    "# Convert Date to datetime format with error handling\n",
    "cleaned_df['Date'] = pd.to_datetime(cleaned_df['Date'], errors='coerce')\n",
    "\n",
    "print(cleaned_df)\n"
   ]
  },
  {
   "cell_type": "code",
   "execution_count": null,
   "id": "be09c122-01ba-44b1-a2bb-2dd0b2353460",
   "metadata": {},
   "outputs": [],
   "source": [
    "print(cleaned_df.head())"
   ]
  },
  {
   "cell_type": "code",
   "execution_count": null,
   "id": "fc54acbb-b2af-4f97-b5a0-4e2bb514f743",
   "metadata": {},
   "outputs": [],
   "source": [
    "# Identify rows where the Date conversion resulted in NaT\n",
    "invalid_date_rows = cleaned_df[cleaned_df['Date'].isna()]\n",
    "\n",
    "# Display rows with invalid dates\n",
    "print(invalid_date_rows)"
   ]
  },
  {
   "cell_type": "code",
   "execution_count": null,
   "id": "58608bee-98e0-4e87-8067-dd6c7d01c526",
   "metadata": {},
   "outputs": [],
   "source": [
    "\n",
    "# Create a Game Week column\n",
    "cleaned_df['Game Week'] = cleaned_df['Date'].dt.isocalendar().week\n",
    "\n",
    "# Final inspection\n"
   ]
  },
  {
   "cell_type": "code",
   "execution_count": null,
   "id": "199821d7-3072-408b-bb6e-f8d97a5e27de",
   "metadata": {},
   "outputs": [],
   "source": [
    "print(cleaned_df['Date'].unique())"
   ]
  },
  {
   "cell_type": "code",
   "execution_count": null,
   "id": "0d6f19e2-4e97-4ed5-a7b9-be196e804fda",
   "metadata": {},
   "outputs": [],
   "source": [
    "# Filter the DataFrame to find the row with the problematic date\n",
    "problematic_game = cleaned_df[cleaned_df['Date'].astype(str).str.contains('Jan. 6 or 7')]\n",
    "print(problematic_game)"
   ]
  },
  {
   "cell_type": "code",
   "execution_count": null,
   "id": "f3a60acc-b1c7-4677-b22b-3594b62a3d5b",
   "metadata": {},
   "outputs": [],
   "source": [
    "# jan 7 games\n",
    "teams_to_update = ['buffalo bills', 'miami dolphins', 'kansas city chiefs',\n",
    "                   'los angeles chargers', 'los angeles rams', 'san francisco 49ers',\n",
    "                   'seattle seahawks', 'arizona cardinals', 'philadelphia eagles',\n",
    "                   'new york giants', 'denver broncos', 'las vegas raiders',\n",
    "                   'dallas cowboys', 'washington commanders', 'chicago bears',\n",
    "                   'green bay packers', 'cleveland browns', 'cincinnati bengals',\n",
    "                   'tampa bay buccaneers', 'carolina panthers', 'new york jets',\n",
    "                   'new england patriots', 'minnesota vikings', 'detroit lions',\n",
    "                   'jacksonville jaguars']                   \n",
    "\n",
    "# Update the Date column for the specified teams\n",
    "cleaned_df.loc[\n",
    "    (cleaned_df['Team'].isin(teams_to_update)) & \n",
    "    (cleaned_df['Date'].dt.strftime('%b. %d').isin(['Jan. 6', 'Jan. 7'])),\n",
    "    'Date'\n",
    "] = '2024-01-07'\n",
    "\n",
    "# Convert the Date column to datetime format\n",
    "cleaned_df['Date'] = pd.to_datetime(cleaned_df['Date'], errors='coerce')\n",
    "\n",
    "# Final inspection\n",
    "print(cleaned_df[cleaned_df['Date'].isna()])  # Check for any remaining NaT values\n",
    "print(cleaned_df.head()) "
   ]
  },
  {
   "cell_type": "code",
   "execution_count": null,
   "id": "f5519e73-fee6-4e79-9457-e90be2292b92",
   "metadata": {},
   "outputs": [],
   "source": [
    "# jan 6 games\n",
    "teams_to_update = [\n",
    "    'pittsburgh steelers',\n",
    "    'baltimore ravens',\n",
    "    'indianapolis colts',\n",
    "    'houston texans'\n",
    "]\n",
    "\n",
    "# Update the Date column for the specified teams\n",
    "cleaned_df.loc[cleaned_df['Team'].isin(teams_to_update), 'Date'] = '2024-01-06'\n",
    "\n",
    "# Convert the Date column to datetime format\n",
    "cleaned_df['Date'] = pd.to_datetime(cleaned_df['Date'], errors='coerce')\n",
    "\n",
    "# Final inspection\n",
    "print(cleaned_df[cleaned_df['Date'].isna()])  # Check for any remaining NaT values\n",
    "print(cleaned_df.head())  # View updated DataFrame"
   ]
  },
  {
   "cell_type": "code",
   "execution_count": null,
   "id": "d209db7d-454c-4017-b022-e1b5ccd1084c",
   "metadata": {},
   "outputs": [],
   "source": [
    "# Get unique values in the 'Date' column\n",
    "unique_dates = cleaned_df['Date'].unique()\n",
    "\n",
    "# Print the unique dates\n",
    "print(unique_dates)"
   ]
  },
  {
   "cell_type": "code",
   "execution_count": null,
   "id": "19d619c5-8b32-4870-9066-3084421fe2a4",
   "metadata": {},
   "outputs": [],
   "source": [
    "# Filter for rows where the Date column is NaT\n",
    "nat_rows = cleaned_df[cleaned_df['Date'].isna()]\n",
    "\n",
    "# Display the rows with NaT in the Date column\n",
    "print(nat_rows)"
   ]
  },
  {
   "cell_type": "code",
   "execution_count": null,
   "id": "0eaaa4d6-8ec4-48a4-be32-721853f36409",
   "metadata": {},
   "outputs": [],
   "source": [
    "# Create a dictionary to map teams to their game dates\n",
    "saints_game_dates = {\n",
    "    'tennessee titans': '2023-09-10',\n",
    "    'carolina panthers': '2023-09-17',\n",
    "    'green bay packers': '2023-09-24',\n",
    "    'tampa bay buccaneers': '2023-10-01',\n",
    "    'new england patriots': '2023-10-08',\n",
    "    'houston texans': '2023-10-15',\n",
    "    'jacksonville jaguars': '2023-10-22',\n",
    "    'indianapolis colts': '2023-10-29',\n",
    "    'chicago bears': '2023-11-05',\n",
    "    'minnesota vikings': '2023-11-12',\n",
    "    'atlanta falcons': '2023-11-19',\n",
    "    'tampa bay buccaneers': '2023-11-26',\n",
    "    'los angeles rams': '2023-12-03',\n",
    "    'new york giants': '2023-12-10',\n",
    "    'atlanta falcons': '2023-12-17',\n",
    "    'philadelphia eagles': '2023-12-24',\n",
    "    'miami dolphins': '2023-12-31'\n",
    "\n",
    "}\n",
    "\n",
    "# Update the Date column based on the Team column\n",
    "for team, date in saints_game_dates.items():\n",
    "    cleaned_df.loc[cleaned_df['Opponent'] == team, 'Date'] = pd.to_datetime(date)\n",
    "\n",
    "# Final inspection to see if updates were successful\n",
    "print(cleaned_df[cleaned_df['Team'] == 'new orleans saints'])\n"
   ]
  },
  {
   "cell_type": "code",
   "execution_count": null,
   "id": "fc43f444-6685-4c55-8c8a-c54659e04d5b",
   "metadata": {},
   "outputs": [],
   "source": [
    "# List of Tennessee Titans games and their dates\n",
    "titans_games = {\n",
    "    'new orleans saints': '2023-09-10',\n",
    "    'los angeles chargers': '2023-09-17',\n",
    "    'cleveland browns': '2023-09-24',\n",
    "    'indianapolis colts': '2023-10-01',\n",
    "    'baltimore ravens': '2023-10-08',\n",
    "    'atlanta falcons': '2023-10-15',\n",
    "    'cincinnati bengals': '2023-10-22',\n",
    "    'jacksonville jaguars': '2023-10-29',\n",
    "    'tampa bay buccaneers': '2023-11-05',\n",
    "    'carolina panthers': '2023-11-12',\n",
    "    'miami dolphins': '2023-11-19',\n",
    "    'houston texans': '2023-11-26',\n",
    "    'indianapolis colts': '2023-12-03',\n",
    "    'new york jets': '2023-12-10',\n",
    "    'houston texans': '2023-12-17',\n",
    "    'seattle seahawks': '2023-12-24',\n",
    "    'jacksonville jaguars': '2023-12-31',\n",
    "    'new england patriots': '2024-01-07'\n",
    "}\n",
    "\n",
    "# Update the 'Date' column in cleaned_df\n",
    "for opponent, date in titans_games.items():\n",
    "    cleaned_df.loc[cleaned_df['Opponent'] == opponent, 'Date'] = pd.to_datetime(date)\n",
    "\n",
    "# Verify the changes\n",
    "print(cleaned_df[cleaned_df['Team'] == 'tennessee titans'])"
   ]
  },
  {
   "cell_type": "code",
   "execution_count": null,
   "id": "11a4eb45-b7ba-4b79-945c-937c3f740473",
   "metadata": {},
   "outputs": [],
   "source": [
    "cleaned_df.drop(columns=['iata_code'], inplace=True)"
   ]
  },
  {
   "cell_type": "code",
   "execution_count": null,
   "id": "dc5ad650-01a9-45d2-bb64-728d0ecc1c17",
   "metadata": {},
   "outputs": [],
   "source": [
    "duplicates = cleaned_df.duplicated()\n",
    "print(\"Duplicate rows:\")\n",
    "print(cleaned_df[duplicates])"
   ]
  },
  {
   "cell_type": "code",
   "execution_count": null,
   "id": "7b33a287-0853-45c1-a456-63c12d727459",
   "metadata": {},
   "outputs": [],
   "source": [
    "#drop duplicates\n",
    "cleaned_df = cleaned_df.drop_duplicates()\n"
   ]
  },
  {
   "cell_type": "code",
   "execution_count": null,
   "id": "a3c5bf79-0263-46a5-adf4-30c635c3e506",
   "metadata": {},
   "outputs": [],
   "source": [
    "null_values = cleaned_df.isnull().sum()\n",
    "print(\"Null values in each column:\")\n",
    "print(null_values)"
   ]
  },
  {
   "cell_type": "code",
   "execution_count": null,
   "id": "b51c0c78-c3ea-4557-bea2-304d39185a79",
   "metadata": {},
   "outputs": [],
   "source": [
    "# Display rows where 'Date' is null\n",
    "null_date_rows = cleaned_df[cleaned_df['Date'].isnull()]\n",
    "print(\"Rows with null values in the Date column:\")\n",
    "print(null_date_rows)"
   ]
  },
  {
   "cell_type": "code",
   "execution_count": null,
   "id": "a3db39c6-e0e5-4caf-be22-ba8091c5e0fe",
   "metadata": {},
   "outputs": [],
   "source": [
    "# Display rows where 'Date' is null\n",
    "null_date_rows = cleaned_df[cleaned_df['Date'].isnull()]\n",
    "print(\"Rows with null values in the Date column:\")\n",
    "print(null_date_rows)"
   ]
  },
  {
   "cell_type": "code",
   "execution_count": null,
   "id": "76116008-8e20-4770-9229-2afcaba30220",
   "metadata": {},
   "outputs": [],
   "source": [
    "# handle bye weeks for Opponent\n",
    "cleaned_df.loc[cleaned_df['Opponent'].isnull() & cleaned_df['Location'] == 'bye', 'Opponent'] = 'bye'"
   ]
  },
  {
   "cell_type": "code",
   "execution_count": null,
   "id": "aa67bbc4-0418-4b97-a9ff-3804f2d44192",
   "metadata": {},
   "outputs": [],
   "source": [
    "# Check the updated DataFrame\n",
    "print(\"Updated DataFrame:\")\n",
    "print(cleaned_df[cleaned_df['Opponent'].isnull() | cleaned_df['Date'].isnull()])"
   ]
  },
  {
   "cell_type": "code",
   "execution_count": null,
   "id": "ef5764b8-2387-4c32-ab1e-7b6f328a4178",
   "metadata": {},
   "outputs": [],
   "source": [
    "# Display rows where the Team is 'tennessee titans'\n",
    "titans_games = cleaned_df[cleaned_df['Team'] == 'tennessee titans']\n",
    "print(titans_games)"
   ]
  },
  {
   "cell_type": "code",
   "execution_count": null,
   "id": "10b5a53a-3c92-4a78-a7ff-7fdead00b56f",
   "metadata": {},
   "outputs": [],
   "source": [
    "# Remove rows where 'Opponent' is 'none' or 'Date' is NaT\n",
    "cleaned_df = cleaned_df[~((cleaned_df['Opponent'] == 'none') | (cleaned_df['Date'].isna()))]\n",
    "\n",
    "print(cleaned_df)"
   ]
  },
  {
   "cell_type": "code",
   "execution_count": null,
   "id": "f075e644-64b2-464e-93f9-132c4273cd1f",
   "metadata": {},
   "outputs": [],
   "source": [
    "# Check for duplicates\n",
    "duplicates = cleaned_df.duplicated()\n",
    "duplicate_count = duplicates.sum()\n",
    "\n",
    "# Check for missing values\n",
    "missing_values = cleaned_df.isna().sum()\n",
    "\n",
    "print(\"Duplicate Rows:\")\n",
    "print(cleaned_df[duplicates])\n",
    "\n",
    "print(\"\\nTotal Duplicates:\", duplicate_count)\n",
    "\n",
    "print(\"\\nMissing Values in Each Column:\")\n",
    "print(missing_values)"
   ]
  },
  {
   "cell_type": "code",
   "execution_count": null,
   "id": "39a197b2-9886-4d49-9d3f-bbcb1592ae49",
   "metadata": {},
   "outputs": [],
   "source": [
    "# Remove rows where Location is 'bye'\n",
    "cleaned_df = cleaned_df[cleaned_df['Location'] != 'bye']\n",
    "\n",
    "# Check the shape of the DataFrame after the operation\n",
    "print(cleaned_df.shape)"
   ]
  },
  {
   "cell_type": "code",
   "execution_count": null,
   "id": "1ba2bfba-00d9-47f1-b2fd-060a484a4789",
   "metadata": {},
   "outputs": [],
   "source": [
    "# Check for missing values\n",
    "missing_values = cleaned_df.isna().sum()\n",
    "\n",
    "print(\"\\nMissing Values in Each Column:\")\n",
    "print(missing_values)"
   ]
  },
  {
   "cell_type": "code",
   "execution_count": null,
   "id": "20c5da4b-7e97-4bbd-9f3b-ffcb4b65bce3",
   "metadata": {},
   "outputs": [],
   "source": [
    "missing_values_df = cleaned_df[cleaned_df.isnull().any(axis=1)]\n",
    "print(missing_values_df)"
   ]
  },
  {
   "cell_type": "code",
   "execution_count": null,
   "id": "d480de8c-2f2e-47ff-828e-7b2a5c8618f9",
   "metadata": {},
   "outputs": [],
   "source": [
    "# Filter the DataFrame\n",
    "cleaned_df = cleaned_df[~(cleaned_df['Location'].isin(['None', 'bye']) | cleaned_df['Date'].isna())]\n",
    "\n",
    "# Final inspection\n",
    "print(cleaned_df.head())"
   ]
  },
  {
   "cell_type": "code",
   "execution_count": null,
   "id": "5341c72b-90b2-46c2-a5fb-42d8f98ceace",
   "metadata": {},
   "outputs": [],
   "source": [
    "# Check for missing values\n",
    "missing_values = cleaned_df.isna().sum()\n",
    "\n",
    "print(\"\\nMissing Values in Each Column:\")\n",
    "print(missing_values)"
   ]
  },
  {
   "cell_type": "code",
   "execution_count": null,
   "id": "3dbabd3e-9242-4b78-a713-472deb45c612",
   "metadata": {},
   "outputs": [],
   "source": [
    "# Filter the DataFrame for rows where Location, Opponent, and IATA Code are all missing\n",
    "missing_rows = cleaned_df[cleaned_df[['Location', 'Opponent', 'IATA Code']].isna().all(axis=1)]\n",
    "\n",
    "# Display the rows\n",
    "print(missing_rows)\n"
   ]
  },
  {
   "cell_type": "code",
   "execution_count": null,
   "id": "8c4596b0-e716-4ece-9b0a-4b57676b39c2",
   "metadata": {},
   "outputs": [],
   "source": [
    "# Define the indices of the rows to drop\n",
    "indices_to_drop = [55, 352, 480]\n",
    "\n",
    "# Drop the specified rows from the DataFrame\n",
    "cleaned_df = cleaned_df.drop(index=indices_to_drop)\n",
    "\n",
    "# Resetting the index (optional)\n",
    "cleaned_df.reset_index(drop=True, inplace=True)\n",
    "\n",
    "# Display the updated DataFrame\n",
    "print(cleaned_df)"
   ]
  },
  {
   "cell_type": "code",
   "execution_count": null,
   "id": "3af465fc-2182-4bd0-bbd3-d1618f40c3e4",
   "metadata": {},
   "outputs": [],
   "source": [
    "# Check for missing values\n",
    "missing_values = cleaned_df.isna().sum()\n",
    "\n",
    "print(\"\\nMissing Values in Each Column:\")\n",
    "print(missing_values)"
   ]
  },
  {
   "cell_type": "code",
   "execution_count": null,
   "id": "e05d8f11-6f3d-4339-9e48-8d52787be17a",
   "metadata": {},
   "outputs": [],
   "source": [
    "# Summary statistics\n",
    "print(cleaned_df.describe())"
   ]
  },
  {
   "cell_type": "code",
   "execution_count": null,
   "id": "68438307-549e-4356-b022-17295ce06e53",
   "metadata": {},
   "outputs": [],
   "source": [
    "# Specify the path where you want to save the file\n",
    "file_path = r'C:\\Users\\hopeh\\Desktop\\data_science_bootcamp\\flight_times_capstone\\nfl_iata.csv'\n",
    "\n",
    "# Save the DataFrame as a CSV file\n",
    "cleaned_df.to_csv(file_path, index=False)"
   ]
  },
  {
   "cell_type": "code",
   "execution_count": 163,
   "id": "c57fa9b5-ffb8-4c36-afc9-ceba21e40870",
   "metadata": {},
   "outputs": [],
   "source": [
    "# Load .csv file to review\n",
    "nfl_2023 = pd.read_csv(r\"C:\\Users\\hopeh\\Desktop\\data_science_bootcamp\\flight_times_capstone\\nfl_iata.csv\")"
   ]
  },
  {
   "cell_type": "code",
   "execution_count": 155,
   "id": "782798d0-be02-4703-b015-58155460b275",
   "metadata": {},
   "outputs": [
    {
     "data": {
      "text/html": [
       "<div>\n",
       "<style scoped>\n",
       "    .dataframe tbody tr th:only-of-type {\n",
       "        vertical-align: middle;\n",
       "    }\n",
       "\n",
       "    .dataframe tbody tr th {\n",
       "        vertical-align: top;\n",
       "    }\n",
       "\n",
       "    .dataframe thead th {\n",
       "        text-align: right;\n",
       "    }\n",
       "</style>\n",
       "<table border=\"1\" class=\"dataframe\">\n",
       "  <thead>\n",
       "    <tr style=\"text-align: right;\">\n",
       "      <th></th>\n",
       "      <th>Team</th>\n",
       "      <th>Date</th>\n",
       "      <th>Location</th>\n",
       "      <th>Opponent</th>\n",
       "      <th>IATA Code</th>\n",
       "      <th>Game Week</th>\n",
       "    </tr>\n",
       "  </thead>\n",
       "  <tbody>\n",
       "    <tr>\n",
       "      <th>0</th>\n",
       "      <td>arizona cardinals</td>\n",
       "      <td>2023-09-10</td>\n",
       "      <td>away</td>\n",
       "      <td>washington commanders</td>\n",
       "      <td>DCA</td>\n",
       "      <td>36.0</td>\n",
       "    </tr>\n",
       "    <tr>\n",
       "      <th>1</th>\n",
       "      <td>arizona cardinals</td>\n",
       "      <td>2023-12-10</td>\n",
       "      <td>home</td>\n",
       "      <td>new york giants</td>\n",
       "      <td>PHX</td>\n",
       "      <td>37.0</td>\n",
       "    </tr>\n",
       "    <tr>\n",
       "      <th>2</th>\n",
       "      <td>arizona cardinals</td>\n",
       "      <td>2023-09-24</td>\n",
       "      <td>home</td>\n",
       "      <td>dallas cowboys</td>\n",
       "      <td>PHX</td>\n",
       "      <td>38.0</td>\n",
       "    </tr>\n",
       "    <tr>\n",
       "      <th>3</th>\n",
       "      <td>arizona cardinals</td>\n",
       "      <td>2023-10-01</td>\n",
       "      <td>away</td>\n",
       "      <td>san francisco 49ers</td>\n",
       "      <td>SFO</td>\n",
       "      <td>39.0</td>\n",
       "    </tr>\n",
       "    <tr>\n",
       "      <th>4</th>\n",
       "      <td>arizona cardinals</td>\n",
       "      <td>2023-10-22</td>\n",
       "      <td>home</td>\n",
       "      <td>cincinnati bengals</td>\n",
       "      <td>PHX</td>\n",
       "      <td>40.0</td>\n",
       "    </tr>\n",
       "  </tbody>\n",
       "</table>\n",
       "</div>"
      ],
      "text/plain": [
       "                Team        Date Location               Opponent IATA Code  \\\n",
       "0  arizona cardinals  2023-09-10     away  washington commanders       DCA   \n",
       "1  arizona cardinals  2023-12-10     home        new york giants       PHX   \n",
       "2  arizona cardinals  2023-09-24     home         dallas cowboys       PHX   \n",
       "3  arizona cardinals  2023-10-01     away    san francisco 49ers       SFO   \n",
       "4  arizona cardinals  2023-10-22     home     cincinnati bengals       PHX   \n",
       "\n",
       "   Game Week  \n",
       "0       36.0  \n",
       "1       37.0  \n",
       "2       38.0  \n",
       "3       39.0  \n",
       "4       40.0  "
      ]
     },
     "execution_count": 155,
     "metadata": {},
     "output_type": "execute_result"
    }
   ],
   "source": [
    "nfl_2023.head()"
   ]
  },
  {
   "cell_type": "code",
   "execution_count": 157,
   "id": "01e89d21-30dc-4477-8753-7ebbd51ef5d7",
   "metadata": {},
   "outputs": [
    {
     "name": "stdout",
     "output_type": "stream",
     "text": [
      "                team        date location               opponent iata code  \\\n",
      "0  arizona cardinals  2023-09-10     away  washington commanders       DCA   \n",
      "1  arizona cardinals  2023-12-10     home        new york giants       PHX   \n",
      "2  arizona cardinals  2023-09-24     home         dallas cowboys       PHX   \n",
      "3  arizona cardinals  2023-10-01     away    san francisco 49ers       SFO   \n",
      "4  arizona cardinals  2023-10-22     home     cincinnati bengals       PHX   \n",
      "\n",
      "   game week  \n",
      "0       36.0  \n",
      "1       37.0  \n",
      "2       38.0  \n",
      "3       39.0  \n",
      "4       40.0  \n"
     ]
    },
    {
     "name": "stderr",
     "output_type": "stream",
     "text": [
      "C:\\Users\\hopeh\\AppData\\Local\\Temp\\ipykernel_12092\\2207697049.py:5: FutureWarning: DataFrame.applymap has been deprecated. Use DataFrame.map instead.\n",
      "  nflnfl_2023_df = nfl_2023.applymap(lambda x: x.lower() if isinstance(x, str) else x)\n"
     ]
    }
   ],
   "source": [
    "# Convert column names to lowercase\n",
    "nfl_2023.columns = nfl_2023.columns.str.lower()\n",
    "\n",
    "# Convert all string values in the DataFrame to lowercase\n",
    "nflnfl_2023_df = nfl_2023.applymap(lambda x: x.lower() if isinstance(x, str) else x)\n",
    "\n",
    "# Check the updated DataFrame\n",
    "print(nfl_2023.head())\n"
   ]
  },
  {
   "cell_type": "code",
   "execution_count": 161,
   "id": "6ba966f0-f751-482e-8478-ddcc06941997",
   "metadata": {},
   "outputs": [
    {
     "name": "stdout",
     "output_type": "stream",
     "text": [
      "                team        date location               opponent iata code  \\\n",
      "0  arizona cardinals  2023-09-10     away  washington commanders       dca   \n",
      "1  arizona cardinals  2023-12-10     home        new york giants       phx   \n",
      "2  arizona cardinals  2023-09-24     home         dallas cowboys       phx   \n",
      "3  arizona cardinals  2023-10-01     away    san francisco 49ers       sfo   \n",
      "4  arizona cardinals  2023-10-22     home     cincinnati bengals       phx   \n",
      "\n",
      "   game week  \n",
      "0       36.0  \n",
      "1       37.0  \n",
      "2       38.0  \n",
      "3       39.0  \n",
      "4       40.0  \n"
     ]
    },
    {
     "name": "stderr",
     "output_type": "stream",
     "text": [
      "C:\\Users\\hopeh\\AppData\\Local\\Temp\\ipykernel_12092\\3178604967.py:5: FutureWarning: DataFrame.applymap has been deprecated. Use DataFrame.map instead.\n",
      "  nfl_2023 = nfl_2023.applymap(lambda x: x.lower() if isinstance(x, str) else x)\n"
     ]
    }
   ],
   "source": [
    "# Convert column names to lowercase\n",
    "nfl_2023.columns = nfl_2023.columns.str.lower()\n",
    "\n",
    "# Convert all string values in the DataFrame to lowercase\n",
    "nfl_2023 = nfl_2023.applymap(lambda x: x.lower() if isinstance(x, str) else x)\n",
    "\n",
    "# Check the updated DataFrame\n",
    "print(nfl_2023.head())\n"
   ]
  },
  {
   "cell_type": "code",
   "execution_count": null,
   "id": "66ca5b52-4a7a-43e8-a4f0-24df3c3f96f6",
   "metadata": {},
   "outputs": [],
   "source": []
  },
  {
   "cell_type": "code",
   "execution_count": null,
   "id": "dae30e19-281b-41b0-b3f8-a26a808f6ada",
   "metadata": {},
   "outputs": [],
   "source": []
  }
 ],
 "metadata": {
  "kernelspec": {
   "display_name": "Python 3 (ipykernel)",
   "language": "python",
   "name": "python3"
  },
  "language_info": {
   "codemirror_mode": {
    "name": "ipython",
    "version": 3
   },
   "file_extension": ".py",
   "mimetype": "text/x-python",
   "name": "python",
   "nbconvert_exporter": "python",
   "pygments_lexer": "ipython3",
   "version": "3.12.4"
  }
 },
 "nbformat": 4,
 "nbformat_minor": 5
}
