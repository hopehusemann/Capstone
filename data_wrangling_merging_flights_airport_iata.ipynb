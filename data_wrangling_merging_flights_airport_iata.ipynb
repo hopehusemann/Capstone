{
 "cells": [
  {
   "cell_type": "markdown",
   "id": "a2e16eaf-0e83-4dd6-93c4-0d2938898c80",
   "metadata": {},
   "source": [
    "Data Wrangling\n",
    "\n",
    "** IMPORTANT NOTE: Most data wrangling steps had to be downloaded in separate Jupyter Notebook files due to the large data sizes.  If working with larger memory/faster processing times, this will be done in one single notebook. **\n",
    "\n",
    "This notebook combines flight data with Airport data (including but not limited to longitude, latitude, elevation, etc.) based the universal IATA Airport Code. "
   ]
  },
  {
   "cell_type": "code",
   "execution_count": 57,
   "id": "445b68f9-24db-413a-9449-7b7daa82b59c",
   "metadata": {},
   "outputs": [],
   "source": [
    "import pandas as pd\n",
    "\n",
    "# Load dataset\n",
    "flight_data = pd.read_csv(r\"C:\\Users\\hopeh\\Desktop\\data_science_bootcamp\\flight_times_capstone\\cleaned_flight_data.csv\", low_memory=False)\n",
    "airport_data = pd.read_csv(r\"C:\\Users\\hopeh\\Desktop\\data_science_bootcamp\\flight_times_capstone\\cleaned_airport_and_runway.csv\", low_memory=False)\n"
   ]
  },
  {
   "cell_type": "code",
   "execution_count": 58,
   "id": "bce6bdd9-bc49-4f70-8cce-8e117b615a37",
   "metadata": {},
   "outputs": [
    {
     "name": "stdout",
     "output_type": "stream",
     "text": [
      "   year  month  day_of_month  day_of_week        date op_unique_carrier  \\\n",
      "0  2022      5             1            7  2022-05-01                9e   \n",
      "1  2022      5             1            7  2022-05-01                9e   \n",
      "2  2022      5             1            7  2022-05-01                9e   \n",
      "3  2022      5             1            7  2022-05-01                9e   \n",
      "4  2022      5             1            7  2022-05-01                9e   \n",
      "\n",
      "  tail_num  op_carrier_fl_num origin_iata                origin_city  ...  \\\n",
      "0   n131ev               4633         atl                    atlanta  ...   \n",
      "1   n131ev               4633         hpn               white plains  ...   \n",
      "2   n131ev               4717         tys                  knoxville  ...   \n",
      "3   n131ev               4958         atl                    atlanta  ...   \n",
      "4   n131ev               4958         oaj  jacksonville/camp lejeune  ...   \n",
      "\n",
      "  flights distance  distance_group  carrier_delay  weather_delay  nas_delay  \\\n",
      "0     1.0    780.0               4            NaN            NaN        NaN   \n",
      "1     1.0    780.0               4            NaN            NaN        NaN   \n",
      "2     1.0    152.0               1            NaN            NaN        NaN   \n",
      "3     1.0    399.0               2            NaN            NaN        NaN   \n",
      "4     1.0    399.0               2            NaN            NaN        NaN   \n",
      "\n",
      "   security_delay  late_aircraft_delay  origin_state  dest_state  \n",
      "0             NaN                  NaN            ga          ny  \n",
      "1             NaN                  NaN            ny          ga  \n",
      "2             NaN                  NaN            tn          ga  \n",
      "3             NaN                  NaN            ga          nc  \n",
      "4             NaN                  NaN            nc          ga  \n",
      "\n",
      "[5 rows x 35 columns]\n"
     ]
    }
   ],
   "source": [
    "print(flight_data.head())"
   ]
  },
  {
   "cell_type": "code",
   "execution_count": 59,
   "id": "559f1ce2-6b90-4060-9e21-71ebaee09d56",
   "metadata": {},
   "outputs": [
    {
     "name": "stdout",
     "output_type": "stream",
     "text": [
      "   airport_ref airport_ident type_of_airport  \\\n",
      "0         6523           00A        heliport   \n",
      "1         6524          00AK   small_airport   \n",
      "2         6525          00AL   small_airport   \n",
      "3       506791          00AN   small_airport   \n",
      "4         6526          00AR          closed   \n",
      "\n",
      "                         airport_name   latitude   longitude  elevation_ft  \\\n",
      "0                   Total RF Heliport  40.070984  -74.933685          11.0   \n",
      "1                        Lowell Field  59.947735 -151.692520         450.0   \n",
      "2                        Epps Airpark  34.864800  -86.770300         820.0   \n",
      "3                Katmai Lodge Airport  59.093290 -156.456700          80.0   \n",
      "4  Newport Hospital & Clinic Heliport  35.608700  -91.254900         237.0   \n",
      "\n",
      "  state  municipality scheduled_service  ...      id  length_ft  width_ft  \\\n",
      "0    PA      Bensalem                no  ...  269408       80.0      80.0   \n",
      "1    AK  Anchor Point                no  ...  255155     2500.0      70.0   \n",
      "2    AL       Harvest                no  ...  254165     2300.0     200.0   \n",
      "3    AK   King Salmon                no  ...  506792     4517.0      60.0   \n",
      "4    AR       Newport                no  ...  270932       40.0      40.0   \n",
      "\n",
      "   surface lighted  closed  le_ident le_displaced_threshold_ft  he_ident  \\\n",
      "0   ASPH-G       1       0        H1                       NaN       NaN   \n",
      "1     GRVL       0       0         N                       NaN         S   \n",
      "2     TURF       0       0        01                       NaN        19   \n",
      "3      GVL       0       0         3                       NaN        21   \n",
      "4    GRASS       0       0        H1                       NaN        H1   \n",
      "\n",
      "  he_displaced_threshold_ft  \n",
      "0                       NaN  \n",
      "1                       NaN  \n",
      "2                       NaN  \n",
      "3                       NaN  \n",
      "4                       NaN  \n",
      "\n",
      "[5 rows x 21 columns]\n"
     ]
    }
   ],
   "source": [
    "print(airport_data.head())"
   ]
  },
  {
   "cell_type": "code",
   "execution_count": 60,
   "id": "138006d6-6c1e-4a7a-aa32-55b45ed8adf2",
   "metadata": {},
   "outputs": [
    {
     "name": "stdout",
     "output_type": "stream",
     "text": [
      "Unique values in type_of_airport: ['heliport' 'small_airport' 'closed' 'seaplane_base' 'balloonport'\n",
      " 'medium_airport' 'large_airport']\n"
     ]
    }
   ],
   "source": [
    "# View unique values in the 'type_of_airport' column\n",
    "unique_airports = airport_data['type_of_airport'].unique()\n",
    "print(\"Unique values in type_of_airport:\", unique_airports)\n",
    "\n"
   ]
  },
  {
   "cell_type": "code",
   "execution_count": 61,
   "id": "724b0dd4-0fee-4ceb-b6ae-950637034a16",
   "metadata": {},
   "outputs": [
    {
     "name": "stdout",
     "output_type": "stream",
     "text": [
      "       airport_ref airport_ident type_of_airport  \\\n",
      "6567         12243           5A8  medium_airport   \n",
      "13959        18945          K61B  medium_airport   \n",
      "13960        18945          K61B  medium_airport   \n",
      "13961        18945          K61B  medium_airport   \n",
      "13987        18966          K67L  medium_airport   \n",
      "...            ...           ...             ...   \n",
      "22284         5455          PHOG   large_airport   \n",
      "22287         5457          PHTO  medium_airport   \n",
      "22288         5457          PHTO  medium_airport   \n",
      "22388         5495          PPIZ  medium_airport   \n",
      "23555       324440       US-0571  medium_airport   \n",
      "\n",
      "                                airport_name   latitude   longitude  \\\n",
      "6567                 Aleknagik / New Airport  59.282600 -158.618000   \n",
      "13959         Boulder City Municipal Airport  35.947163 -114.858800   \n",
      "13960         Boulder City Municipal Airport  35.947163 -114.858800   \n",
      "13961         Boulder City Municipal Airport  35.947163 -114.858800   \n",
      "13987         Mesquite International Airport  36.833103 -114.055930   \n",
      "...                                      ...        ...         ...   \n",
      "22284          Kahului International Airport  20.896263 -156.431840   \n",
      "22287             Hilo International Airport  19.721400 -155.048000   \n",
      "22288             Hilo International Airport  19.721400 -155.048000   \n",
      "22388                 Point Lay LRRS Airport  69.732900 -163.005000   \n",
      "23555  Williston Basin International Airport  48.258390 -103.748795   \n",
      "\n",
      "       elevation_ft state  municipality scheduled_service  ...      id  \\\n",
      "6567           66.0    AK     Aleknagik               yes  ...  258105   \n",
      "13959        2201.0    NV  Boulder City               yes  ...  244777   \n",
      "13960        2201.0    NV  Boulder City               yes  ...  244776   \n",
      "13961        2201.0    NV  Boulder City               yes  ...  244778   \n",
      "13987        1978.0    NV      Mesquite                no  ...  242534   \n",
      "...             ...   ...           ...               ...  ...     ...   \n",
      "22284          54.0    HI       Kahului               yes  ...  240430   \n",
      "22287          38.0    HI          Hilo               yes  ...  239663   \n",
      "22288          38.0    HI          Hilo               yes  ...  239664   \n",
      "22388          22.0    AK     Point Lay               yes  ...  239659   \n",
      "23555        2344.0    ND     Williston               yes  ...  332440   \n",
      "\n",
      "       length_ft  width_ft      surface lighted  closed  le_ident  \\\n",
      "6567      2040.0      80.0  GRVL-DIRT-F       0       0        15   \n",
      "13959     2200.0      60.0          ASP       0       0       09L   \n",
      "13960     4800.0      75.0          ASP       1       0       09R   \n",
      "13961     3850.0      75.0          ASP       1       0        15   \n",
      "13987     5100.0      75.0          ASP       1       0        01   \n",
      "...          ...       ...          ...     ...     ...       ...   \n",
      "22284     4990.0     150.0          ASP       1       0        05   \n",
      "22287     5600.0     150.0          ASP       1       0        03   \n",
      "22288     9800.0     150.0          ASP       1       0        08   \n",
      "22388     3519.0      80.0          GVL       1       0        05   \n",
      "23555     7501.0     150.0          CON       1       0        14   \n",
      "\n",
      "      le_displaced_threshold_ft  he_ident he_displaced_threshold_ft  \n",
      "6567                        NaN        33                       NaN  \n",
      "13959                       NaN       27R                       NaN  \n",
      "13960                       NaN       27L                       NaN  \n",
      "13961                       NaN        33                       NaN  \n",
      "13987                     240.0        19                     291.0  \n",
      "...                         ...       ...                       ...  \n",
      "22284                       NaN        23                       NaN  \n",
      "22287                     349.0        21                       NaN  \n",
      "22288                       NaN        26                       NaN  \n",
      "22388                       NaN        23                       NaN  \n",
      "23555                       NaN        32                       NaN  \n",
      "\n",
      "[1949 rows x 21 columns]\n"
     ]
    }
   ],
   "source": [
    "# Filter the DataFrame for only large_airport and medium_airport\n",
    "filtered_airports = airport_data[airport_data['type_of_airport'].isin(['large_airport', 'medium_airport'])]\n",
    "\n",
    "# Display the filtered DataFrame\n",
    "print(filtered_airports)"
   ]
  },
  {
   "cell_type": "code",
   "execution_count": 62,
   "id": "d31402ff-0d33-4a01-b5d4-c45476bc1d24",
   "metadata": {},
   "outputs": [
    {
     "name": "stdout",
     "output_type": "stream",
     "text": [
      "Updated columns: Index(['airport_ident', 'type_of_airport', 'airport_name', 'latitude',\n",
      "       'longitude', 'elevation_ft', 'state', 'scheduled_service', 'unique_id',\n",
      "       'length_ft', 'width_ft', 'surface', 'lighted', 'closed',\n",
      "       'le_displaced_threshold_ft', 'he_displaced_threshold_ft'],\n",
      "      dtype='object')\n"
     ]
    }
   ],
   "source": [
    "# Remove specified columns\n",
    "columns_to_remove = ['airport_ref', 'municipality', 'id', 'le_ident', 'he_ident']\n",
    "filtered_airports = filtered_airports.drop(columns=columns_to_remove)\n",
    "\n",
    "# Print updated columns to confirm removal\n",
    "print(\"Updated columns:\", filtered_airports.columns)"
   ]
  },
  {
   "cell_type": "code",
   "execution_count": 63,
   "id": "4a4a8232-6d86-4c40-8c43-9a60dd847640",
   "metadata": {},
   "outputs": [
    {
     "data": {
      "text/html": [
       "<div>\n",
       "<style scoped>\n",
       "    .dataframe tbody tr th:only-of-type {\n",
       "        vertical-align: middle;\n",
       "    }\n",
       "\n",
       "    .dataframe tbody tr th {\n",
       "        vertical-align: top;\n",
       "    }\n",
       "\n",
       "    .dataframe thead th {\n",
       "        text-align: right;\n",
       "    }\n",
       "</style>\n",
       "<table border=\"1\" class=\"dataframe\">\n",
       "  <thead>\n",
       "    <tr style=\"text-align: right;\">\n",
       "      <th></th>\n",
       "      <th>airport_ident</th>\n",
       "      <th>type_of_airport</th>\n",
       "      <th>airport_name</th>\n",
       "      <th>latitude</th>\n",
       "      <th>longitude</th>\n",
       "      <th>elevation_ft</th>\n",
       "      <th>state</th>\n",
       "      <th>scheduled_service</th>\n",
       "      <th>unique_id</th>\n",
       "      <th>length_ft</th>\n",
       "      <th>width_ft</th>\n",
       "      <th>surface</th>\n",
       "      <th>lighted</th>\n",
       "      <th>closed</th>\n",
       "      <th>le_displaced_threshold_ft</th>\n",
       "      <th>he_displaced_threshold_ft</th>\n",
       "    </tr>\n",
       "  </thead>\n",
       "  <tbody>\n",
       "    <tr>\n",
       "      <th>6567</th>\n",
       "      <td>5A8</td>\n",
       "      <td>medium_airport</td>\n",
       "      <td>Aleknagik / New Airport</td>\n",
       "      <td>59.282600</td>\n",
       "      <td>-158.61800</td>\n",
       "      <td>66.0</td>\n",
       "      <td>AK</td>\n",
       "      <td>yes</td>\n",
       "      <td>6565</td>\n",
       "      <td>2040.0</td>\n",
       "      <td>80.0</td>\n",
       "      <td>GRVL-DIRT-F</td>\n",
       "      <td>0</td>\n",
       "      <td>0</td>\n",
       "      <td>NaN</td>\n",
       "      <td>NaN</td>\n",
       "    </tr>\n",
       "    <tr>\n",
       "      <th>13959</th>\n",
       "      <td>K61B</td>\n",
       "      <td>medium_airport</td>\n",
       "      <td>Boulder City Municipal Airport</td>\n",
       "      <td>35.947163</td>\n",
       "      <td>-114.85880</td>\n",
       "      <td>2201.0</td>\n",
       "      <td>NV</td>\n",
       "      <td>yes</td>\n",
       "      <td>36688</td>\n",
       "      <td>2200.0</td>\n",
       "      <td>60.0</td>\n",
       "      <td>ASP</td>\n",
       "      <td>0</td>\n",
       "      <td>0</td>\n",
       "      <td>NaN</td>\n",
       "      <td>NaN</td>\n",
       "    </tr>\n",
       "    <tr>\n",
       "      <th>13960</th>\n",
       "      <td>K61B</td>\n",
       "      <td>medium_airport</td>\n",
       "      <td>Boulder City Municipal Airport</td>\n",
       "      <td>35.947163</td>\n",
       "      <td>-114.85880</td>\n",
       "      <td>2201.0</td>\n",
       "      <td>NV</td>\n",
       "      <td>yes</td>\n",
       "      <td>36688</td>\n",
       "      <td>4800.0</td>\n",
       "      <td>75.0</td>\n",
       "      <td>ASP</td>\n",
       "      <td>1</td>\n",
       "      <td>0</td>\n",
       "      <td>NaN</td>\n",
       "      <td>NaN</td>\n",
       "    </tr>\n",
       "    <tr>\n",
       "      <th>13961</th>\n",
       "      <td>K61B</td>\n",
       "      <td>medium_airport</td>\n",
       "      <td>Boulder City Municipal Airport</td>\n",
       "      <td>35.947163</td>\n",
       "      <td>-114.85880</td>\n",
       "      <td>2201.0</td>\n",
       "      <td>NV</td>\n",
       "      <td>yes</td>\n",
       "      <td>36688</td>\n",
       "      <td>3850.0</td>\n",
       "      <td>75.0</td>\n",
       "      <td>ASP</td>\n",
       "      <td>1</td>\n",
       "      <td>0</td>\n",
       "      <td>NaN</td>\n",
       "      <td>NaN</td>\n",
       "    </tr>\n",
       "    <tr>\n",
       "      <th>13987</th>\n",
       "      <td>K67L</td>\n",
       "      <td>medium_airport</td>\n",
       "      <td>Mesquite International Airport</td>\n",
       "      <td>36.833103</td>\n",
       "      <td>-114.05593</td>\n",
       "      <td>1978.0</td>\n",
       "      <td>NV</td>\n",
       "      <td>no</td>\n",
       "      <td>36709</td>\n",
       "      <td>5100.0</td>\n",
       "      <td>75.0</td>\n",
       "      <td>ASP</td>\n",
       "      <td>1</td>\n",
       "      <td>0</td>\n",
       "      <td>240.0</td>\n",
       "      <td>291.0</td>\n",
       "    </tr>\n",
       "  </tbody>\n",
       "</table>\n",
       "</div>"
      ],
      "text/plain": [
       "      airport_ident type_of_airport                    airport_name  \\\n",
       "6567            5A8  medium_airport         Aleknagik / New Airport   \n",
       "13959          K61B  medium_airport  Boulder City Municipal Airport   \n",
       "13960          K61B  medium_airport  Boulder City Municipal Airport   \n",
       "13961          K61B  medium_airport  Boulder City Municipal Airport   \n",
       "13987          K67L  medium_airport  Mesquite International Airport   \n",
       "\n",
       "        latitude  longitude  elevation_ft state scheduled_service  unique_id  \\\n",
       "6567   59.282600 -158.61800          66.0    AK               yes       6565   \n",
       "13959  35.947163 -114.85880        2201.0    NV               yes      36688   \n",
       "13960  35.947163 -114.85880        2201.0    NV               yes      36688   \n",
       "13961  35.947163 -114.85880        2201.0    NV               yes      36688   \n",
       "13987  36.833103 -114.05593        1978.0    NV                no      36709   \n",
       "\n",
       "       length_ft  width_ft      surface  lighted  closed  \\\n",
       "6567      2040.0      80.0  GRVL-DIRT-F        0       0   \n",
       "13959     2200.0      60.0          ASP        0       0   \n",
       "13960     4800.0      75.0          ASP        1       0   \n",
       "13961     3850.0      75.0          ASP        1       0   \n",
       "13987     5100.0      75.0          ASP        1       0   \n",
       "\n",
       "       le_displaced_threshold_ft  he_displaced_threshold_ft  \n",
       "6567                         NaN                        NaN  \n",
       "13959                        NaN                        NaN  \n",
       "13960                        NaN                        NaN  \n",
       "13961                        NaN                        NaN  \n",
       "13987                      240.0                      291.0  "
      ]
     },
     "execution_count": 63,
     "metadata": {},
     "output_type": "execute_result"
    }
   ],
   "source": [
    "filtered_airports.head()"
   ]
  },
  {
   "cell_type": "code",
   "execution_count": 64,
   "id": "13830eda-f616-4dc9-bde8-45cc7d5406d9",
   "metadata": {},
   "outputs": [],
   "source": [
    "# Save the filtered DataFrame to a CSV file\n",
    "filtered_airports.to_csv(r'C:\\Users\\hopeh\\Desktop\\data_science_bootcamp\\flight_times_capstone\\filtered_airports.csv', index=False)"
   ]
  },
  {
   "cell_type": "code",
   "execution_count": 65,
   "id": "dab96743-2664-48ba-b208-f15aa746730d",
   "metadata": {},
   "outputs": [
    {
     "name": "stdout",
     "output_type": "stream",
     "text": [
      "Null values in latitude: 0\n",
      "Null values in longitude: 0\n"
     ]
    }
   ],
   "source": [
    "\n",
    "try:\n",
    "    flights_data = pd.read_csv(r\"C:\\Users\\hopeh\\Desktop\\data_science_bootcamp\\flight_times_capstone\\redundant_files\\flights_iata.csv\")\n",
    "    filtered_airports = pd.read_csv('filtered_airports.csv')\n",
    "except FileNotFoundError as e:\n",
    "    print(e)\n",
    "    # Exit the script if files are not found\n",
    "    exit()\n",
    "\n",
    "# Check for null or empty values in latitude and longitude columns\n",
    "null_latitude_count = filtered_airports['latitude'].isnull().sum()\n",
    "null_longitude_count = filtered_airports['longitude'].isnull().sum()\n",
    "\n",
    "print(f\"Null values in latitude: {null_latitude_count}\")\n",
    "print(f\"Null values in longitude: {null_longitude_count}\")\n"
   ]
  },
  {
   "cell_type": "code",
   "execution_count": 66,
   "id": "f7bd6a73-8ca8-47d9-b3e3-9deb3837ade8",
   "metadata": {},
   "outputs": [],
   "source": [
    "# # use flights_iata.csv and filtered_airports.csv to filter out 'medium' and 'large' airports. We will only use these.\n",
    "# flights_data = pd.read_csv('flights_iata.csv')\n",
    "# filtered_airports = pd.read_csv('filtered_airports.csv')"
   ]
  },
  {
   "cell_type": "code",
   "execution_count": 67,
   "id": "f0cab591-a888-42b2-bb48-d8ff271d0b15",
   "metadata": {},
   "outputs": [
    {
     "name": "stdout",
     "output_type": "stream",
     "text": [
      "Columns in filtered_airports: Index(['airport_ident', 'type_of_airport', 'airport_name', 'latitude',\n",
      "       'longitude', 'elevation_ft', 'state', 'scheduled_service', 'unique_id',\n",
      "       'length_ft', 'width_ft', 'surface', 'lighted', 'closed',\n",
      "       'le_displaced_threshold_ft', 'he_displaced_threshold_ft'],\n",
      "      dtype='object')\n"
     ]
    }
   ],
   "source": [
    "# Check the columns in the filtered_airports DataFrame\n",
    "print(\"Columns in filtered_airports:\", filtered_airports.columns)\n"
   ]
  },
  {
   "cell_type": "code",
   "execution_count": 68,
   "id": "90c339c7-dc9b-43a4-b163-33e6ad8d520f",
   "metadata": {},
   "outputs": [
    {
     "name": "stdout",
     "output_type": "stream",
     "text": [
      "Columns in flights_data: Index(['year', 'month', 'day_of_month', 'day_of_week', 'date',\n",
      "       'op_unique_carrier', 'tail_num', 'op_carrier_fl_num', 'origin_iata',\n",
      "       'origin_city', 'dest_iata', 'dest_city', 'crs_dep_time', 'dep_time',\n",
      "       'taxi_out', 'wheels_off', 'wheels_on', 'taxi_in', 'crs_arr_time',\n",
      "       'arr_time', 'cancelled', 'diverted', 'crs_elapsed_time',\n",
      "       'actual_elapsed_time', 'air_time', 'flights', 'distance',\n",
      "       'distance_group', 'carrier_delay', 'weather_delay', 'nas_delay',\n",
      "       'security_delay', 'late_aircraft_delay', 'origin_state', 'dest_state',\n",
      "       'state', 'iata', 'airport_name', 'latitude', 'longitude', 'state_abbr',\n",
      "       'state_dest', 'iata_dest', 'airport_name_dest', 'latitude_dest',\n",
      "       'longitude_dest', 'state_abbr_dest'],\n",
      "      dtype='object')\n"
     ]
    }
   ],
   "source": [
    "# Check the columns in the flights_data DataFrame\n",
    "print(\"Columns in flights_data:\", flights_data.columns)"
   ]
  },
  {
   "cell_type": "code",
   "execution_count": 69,
   "id": "df308142-7a6a-42a1-8cfd-ce34b12f478a",
   "metadata": {},
   "outputs": [
    {
     "name": "stdout",
     "output_type": "stream",
     "text": [
      "Updated columns: Index(['day_of_week', 'date', 'op_unique_carrier', 'tail_num',\n",
      "       'op_carrier_fl_num', 'origin_iata', 'origin_city', 'dest_iata',\n",
      "       'dest_city', 'crs_dep_time', 'dep_time', 'taxi_out', 'wheels_off',\n",
      "       'wheels_on', 'taxi_in', 'crs_arr_time', 'arr_time', 'cancelled',\n",
      "       'diverted', 'crs_elapsed_time', 'actual_elapsed_time', 'air_time',\n",
      "       'flights', 'distance', 'distance_group', 'carrier_delay',\n",
      "       'weather_delay', 'nas_delay', 'security_delay', 'late_aircraft_delay',\n",
      "       'origin_state', 'dest_state', 'state', 'iata', 'latitude', 'longitude',\n",
      "       'state_abbr', 'state_dest', 'iata_dest', 'airport_name_dest',\n",
      "       'latitude_dest', 'longitude_dest', 'state_abbr_dest'],\n",
      "      dtype='object')\n"
     ]
    }
   ],
   "source": [
    "# Remove specified columns\n",
    "columns_to_remove = ['airport_name','year', 'month', 'day_of_month']\n",
    "flights_data = flights_data.drop(columns=columns_to_remove)\n",
    "\n",
    "# Print updated columns to confirm removal\n",
    "print(\"Updated columns:\", flights_data.columns)"
   ]
  },
  {
   "cell_type": "code",
   "execution_count": 70,
   "id": "fda3581d-a050-4a5a-982e-3473a9069cac",
   "metadata": {},
   "outputs": [
    {
     "name": "stdout",
     "output_type": "stream",
     "text": [
      "         day_of_week        date op_unique_carrier tail_num  \\\n",
      "6129688            1  2023-05-01                9e   n131ev   \n",
      "6129689            1  2023-05-01                9e   n131ev   \n",
      "6129690            1  2023-05-01                9e   n131ev   \n",
      "6129691            1  2023-05-01                9e   n131ev   \n",
      "6129692            1  2023-05-01                9e   n131ev   \n",
      "\n",
      "         op_carrier_fl_num origin_iata  origin_city dest_iata    dest_city  \\\n",
      "6129688               4704         msp  minneapolis       cvg   cincinnati   \n",
      "6129689               4888         cvg   cincinnati       msp  minneapolis   \n",
      "6129690               5128         dsm   des moines       msp  minneapolis   \n",
      "6129691               5190         msp  minneapolis       dsm   des moines   \n",
      "6129692               5283         cvg   cincinnati       msp  minneapolis   \n",
      "\n",
      "         crs_dep_time  ...  iata  latitude  longitude  state_abbr  state_dest  \\\n",
      "6129688           850  ...   msp   44.8820   -93.2218          mn    kentucky   \n",
      "6129689          1234  ...   cvg   39.0488   -84.6678          ky   minnesota   \n",
      "6129690          1750  ...   dsm   41.5340   -93.6631          ia   minnesota   \n",
      "6129691          1554  ...   msp   44.8820   -93.2218          mn        iowa   \n",
      "6129692           645  ...   cvg   39.0488   -84.6678          ky   minnesota   \n",
      "\n",
      "         iata_dest                                  airport_name_dest  \\\n",
      "6129688        cvg  cincinnati/northern kentucky international air...   \n",
      "6129689        msp  minneapolis-saint paul international airport (...   \n",
      "6129690        msp  minneapolis-saint paul international airport (...   \n",
      "6129691        dsm                   des moines international airport   \n",
      "6129692        msp  minneapolis-saint paul international airport (...   \n",
      "\n",
      "         latitude_dest  longitude_dest  state_abbr_dest  \n",
      "6129688        39.0488        -84.6678               ky  \n",
      "6129689        44.8820        -93.2218               mn  \n",
      "6129690        44.8820        -93.2218               mn  \n",
      "6129691        41.5340        -93.6631               ia  \n",
      "6129692        44.8820        -93.2218               mn  \n",
      "\n",
      "[5 rows x 43 columns]\n"
     ]
    }
   ],
   "source": [
    "# Define the date range\n",
    "start_date = '2023-05-01'\n",
    "end_date = '2024-04-30'\n",
    "\n",
    "# Filter the DataFrame\n",
    "flights_data = flights_data[(flights_data['date'] >= start_date) & (flights_data['date'] <= end_date)]\n",
    "\n",
    "# Display the filtered DataFrame\n",
    "print(flights_data.head())"
   ]
  },
  {
   "cell_type": "code",
   "execution_count": 71,
   "id": "ec3c7ecb-ab15-494e-9e5d-9e24eae6dd46",
   "metadata": {},
   "outputs": [
    {
     "name": "stdout",
     "output_type": "stream",
     "text": [
      "Merged data saved as 'merged_data.csv'.\n"
     ]
    }
   ],
   "source": [
    "# Merge the DataFrames on latitude and longitude\n",
    "merged_data = pd.merge(flights_data, airport_data, on=['latitude', 'longitude'], how='inner')\n",
    "\n",
    "# Save the merged DataFrame to a new CSV file\n",
    "merged_data.to_csv(r'C:\\Users\\hopeh\\Desktop\\data_science_bootcamp\\flight_times_capstone\\merged_flights_airport_data.csv', index=False)\n",
    "\n",
    "print(\"Merged data saved as 'merged_data.csv'.\")"
   ]
  },
  {
   "cell_type": "code",
   "execution_count": 72,
   "id": "e192e69f-1ca0-45f3-b527-5911ea85f657",
   "metadata": {},
   "outputs": [
    {
     "name": "stdout",
     "output_type": "stream",
     "text": [
      "   day_of_week        date op_unique_carrier tail_num  op_carrier_fl_num  \\\n",
      "0            1  2023-05-01                9e   n131ev               4888   \n",
      "1            1  2023-05-01                9e   n131ev               4888   \n",
      "2            1  2023-05-01                9e   n131ev               4888   \n",
      "3            1  2023-05-01                9e   n131ev               4888   \n",
      "4            1  2023-05-01                9e   n131ev               5128   \n",
      "\n",
      "  origin_iata origin_city dest_iata    dest_city  crs_dep_time  ...      id  \\\n",
      "0         cvg  cincinnati       msp  minneapolis          1234  ...  240940   \n",
      "1         cvg  cincinnati       msp  minneapolis          1234  ...  240941   \n",
      "2         cvg  cincinnati       msp  minneapolis          1234  ...  240943   \n",
      "3         cvg  cincinnati       msp  minneapolis          1234  ...  240942   \n",
      "4         dsm  des moines       msp  minneapolis          1750  ...  244170   \n",
      "\n",
      "   length_ft  width_ft  surface  lighted  closed  le_ident  \\\n",
      "0    12000.0     150.0      PEM        1       0        09   \n",
      "1    11000.0     150.0      PEM        1       0       18C   \n",
      "2    10000.0     150.0      CON        1       0       18L   \n",
      "3     8000.0     150.0      CON        1       0       18R   \n",
      "4     9003.0     150.0      ASP        1       0        05   \n",
      "\n",
      "   le_displaced_threshold_ft  he_ident  he_displaced_threshold_ft  \n",
      "0                        NaN        27                        NaN  \n",
      "1                        NaN       36C                        NaN  \n",
      "2                        NaN       36R                        NaN  \n",
      "3                        NaN       36L                        NaN  \n",
      "4                        NaN        23                        NaN  \n",
      "\n",
      "[5 rows x 62 columns]\n"
     ]
    }
   ],
   "source": [
    "print(merged_data.head())"
   ]
  },
  {
   "cell_type": "code",
   "execution_count": 73,
   "id": "341d82dd-50d4-4a2a-a0ca-b2c0217fdf2e",
   "metadata": {},
   "outputs": [
    {
     "data": {
      "text/plain": [
       "(15094416, 62)"
      ]
     },
     "execution_count": 73,
     "metadata": {},
     "output_type": "execute_result"
    }
   ],
   "source": [
    "merged_data.shape"
   ]
  },
  {
   "cell_type": "code",
   "execution_count": 74,
   "id": "5e8c21c8-2d97-4966-b371-b09c5cb07081",
   "metadata": {},
   "outputs": [
    {
     "data": {
      "text/plain": [
       "<bound method DataFrame.info of           day_of_week        date op_unique_carrier tail_num  \\\n",
       "0                   1  2023-05-01                9e   n131ev   \n",
       "1                   1  2023-05-01                9e   n131ev   \n",
       "2                   1  2023-05-01                9e   n131ev   \n",
       "3                   1  2023-05-01                9e   n131ev   \n",
       "4                   1  2023-05-01                9e   n131ev   \n",
       "...               ...         ...               ...      ...   \n",
       "15094411            2  2024-04-30                yx   n880rw   \n",
       "15094412            2  2024-04-30                yx   n880rw   \n",
       "15094413            2  2024-04-30                yx   n880rw   \n",
       "15094414            2  2024-04-30                yx   n880rw   \n",
       "15094415            2  2024-04-30                yx   n880rw   \n",
       "\n",
       "          op_carrier_fl_num origin_iata origin_city dest_iata    dest_city  \\\n",
       "0                      4888         cvg  cincinnati       msp  minneapolis   \n",
       "1                      4888         cvg  cincinnati       msp  minneapolis   \n",
       "2                      4888         cvg  cincinnati       msp  minneapolis   \n",
       "3                      4888         cvg  cincinnati       msp  minneapolis   \n",
       "4                      5128         dsm  des moines       msp  minneapolis   \n",
       "...                     ...         ...         ...       ...          ...   \n",
       "15094411               5785         syr    syracuse       lga     new york   \n",
       "15094412               5785         syr    syracuse       lga     new york   \n",
       "15094413               5825         ric    richmond       lga     new york   \n",
       "15094414               5825         ric    richmond       lga     new york   \n",
       "15094415               5825         ric    richmond       lga     new york   \n",
       "\n",
       "          crs_dep_time  ...      id  length_ft  width_ft  surface  lighted  \\\n",
       "0                 1234  ...  240940    12000.0     150.0      PEM        1   \n",
       "1                 1234  ...  240941    11000.0     150.0      PEM        1   \n",
       "2                 1234  ...  240943    10000.0     150.0      CON        1   \n",
       "3                 1234  ...  240942     8000.0     150.0      CON        1   \n",
       "4                 1750  ...  244170     9003.0     150.0      ASP        1   \n",
       "...                ...  ...     ...        ...       ...      ...      ...   \n",
       "15094411          1700  ...  244405     9003.0     150.0      ASP        1   \n",
       "15094412          1700  ...  244406     7500.0     150.0      ASP        1   \n",
       "15094413          1248  ...  242481     6607.0     150.0      ASP        1   \n",
       "15094414          1248  ...  242482     5326.0     100.0      ASP        1   \n",
       "15094415          1248  ...  242483     9003.0     150.0      ASP        1   \n",
       "\n",
       "          closed  le_ident  le_displaced_threshold_ft  he_ident  \\\n",
       "0              0        09                        NaN        27   \n",
       "1              0       18C                        NaN       36C   \n",
       "2              0       18L                        NaN       36R   \n",
       "3              0       18R                        NaN       36L   \n",
       "4              0        05                        NaN        23   \n",
       "...          ...       ...                        ...       ...   \n",
       "15094411       0        10                        NaN        28   \n",
       "15094412       0        15                        NaN        33   \n",
       "15094413       0        02                        NaN        20   \n",
       "15094414       0        07                        NaN        25   \n",
       "15094415       0        16                        NaN        34   \n",
       "\n",
       "          he_displaced_threshold_ft  \n",
       "0                               NaN  \n",
       "1                               NaN  \n",
       "2                               NaN  \n",
       "3                               NaN  \n",
       "4                               NaN  \n",
       "...                             ...  \n",
       "15094411                        NaN  \n",
       "15094412                        NaN  \n",
       "15094413                        NaN  \n",
       "15094414                        NaN  \n",
       "15094415                        NaN  \n",
       "\n",
       "[15094416 rows x 62 columns]>"
      ]
     },
     "execution_count": 74,
     "metadata": {},
     "output_type": "execute_result"
    }
   ],
   "source": [
    "merged_data.info"
   ]
  },
  {
   "cell_type": "code",
   "execution_count": 75,
   "id": "b1883ae7-f069-45d2-b0e4-e0535345e157",
   "metadata": {},
   "outputs": [
    {
     "data": {
      "text/plain": [
       "Index(['day_of_week', 'date', 'op_unique_carrier', 'tail_num',\n",
       "       'op_carrier_fl_num', 'origin_iata', 'origin_city', 'dest_iata',\n",
       "       'dest_city', 'crs_dep_time', 'dep_time', 'taxi_out', 'wheels_off',\n",
       "       'wheels_on', 'taxi_in', 'crs_arr_time', 'arr_time', 'cancelled',\n",
       "       'diverted', 'crs_elapsed_time', 'actual_elapsed_time', 'air_time',\n",
       "       'flights', 'distance', 'distance_group', 'carrier_delay',\n",
       "       'weather_delay', 'nas_delay', 'security_delay', 'late_aircraft_delay',\n",
       "       'origin_state', 'dest_state', 'state_x', 'iata', 'latitude',\n",
       "       'longitude', 'state_abbr', 'state_dest', 'iata_dest',\n",
       "       'airport_name_dest', 'latitude_dest', 'longitude_dest',\n",
       "       'state_abbr_dest', 'airport_ref', 'airport_ident', 'type_of_airport',\n",
       "       'airport_name', 'elevation_ft', 'state_y', 'municipality',\n",
       "       'scheduled_service', 'unique_id', 'id', 'length_ft', 'width_ft',\n",
       "       'surface', 'lighted', 'closed', 'le_ident', 'le_displaced_threshold_ft',\n",
       "       'he_ident', 'he_displaced_threshold_ft'],\n",
       "      dtype='object')"
      ]
     },
     "execution_count": 75,
     "metadata": {},
     "output_type": "execute_result"
    }
   ],
   "source": [
    "merged_data.columns"
   ]
  },
  {
   "cell_type": "code",
   "execution_count": 76,
   "id": "cb8bfe80-97de-470a-95ed-5b3ff61c6c43",
   "metadata": {},
   "outputs": [
    {
     "name": "stdout",
     "output_type": "stream",
     "text": [
      "No duplicate columns found.\n"
     ]
    }
   ],
   "source": [
    "# Ignore the first row of data and check for duplicates in the remaining data\n",
    "data_rows = merged_data.iloc[1:]  # Get all rows except the first one\n",
    "\n",
    "# Check for duplicate columns\n",
    "duplicate_columns = merged_data.columns[merged_data.columns.duplicated(keep=False)]\n",
    "\n",
    "# Print the results\n",
    "if not duplicate_columns.empty:\n",
    "    print(\"Duplicate columns found:\")\n",
    "    print(duplicate_columns.value_counts())\n",
    "else:\n",
    "    print(\"No duplicate columns found.\")"
   ]
  },
  {
   "cell_type": "code",
   "execution_count": 77,
   "id": "39849d09-bbf4-4493-bf7e-793bf9e7a1d7",
   "metadata": {},
   "outputs": [
    {
     "name": "stdout",
     "output_type": "stream",
     "text": [
      "    state_x state_y state_abbr state_dest dest_state\n",
      "0  kentucky      KY         ky  minnesota         mn\n",
      "1  kentucky      KY         ky  minnesota         mn\n",
      "2  kentucky      KY         ky  minnesota         mn\n",
      "3  kentucky      KY         ky  minnesota         mn\n",
      "4      iowa      IA         ia  minnesota         mn\n",
      "5      iowa      IA         ia  minnesota         mn\n",
      "6  kentucky      KY         ky  minnesota         mn\n",
      "7  kentucky      KY         ky  minnesota         mn\n",
      "8  kentucky      KY         ky  minnesota         mn\n",
      "9  kentucky      KY         ky  minnesota         mn\n"
     ]
    }
   ],
   "source": [
    "columns_to_display = ['state_x','state_y', 'state_abbr','state_dest', 'dest_state']\n",
    "print(merged_data[columns_to_display].head(10))"
   ]
  },
  {
   "cell_type": "code",
   "execution_count": null,
   "id": "f5b0dcb1-fef5-40be-a0c0-77eb58dfc01f",
   "metadata": {},
   "outputs": [],
   "source": [
    "# Delete specified columns\n",
    "columns_to_delete = ['state_x', 'state_abbr', 'state_dest']\n",
    "merged_data = merged_data.drop(columns=columns_to_delete)\n",
    "\n",
    "# Rename 'state_y' to 'state'\n",
    "merged_data = merged_data.rename(columns={'state_y': 'origin_state'})\n",
    "\n",
    "# Keep 'dest_state' as is (no action needed if you're keeping it)\n",
    "# Display the updated DataFrame to verify changes\n",
    "print(merged_data.head())"
   ]
  },
  {
   "cell_type": "code",
   "execution_count": 79,
   "id": "e65cd3b6-a76e-4952-bc3a-ea0670b7480b",
   "metadata": {},
   "outputs": [
    {
     "name": "stdout",
     "output_type": "stream",
     "text": [
      "Merged data saved as 'flights_airport_iata.csv'.\n"
     ]
    }
   ],
   "source": [
    "# Save the merged DataFrame to a new CSV file\n",
    "merged_data.to_csv(r'C:\\Users\\hopeh\\Desktop\\data_science_bootcamp\\flight_times_capstone\\flights_airport_iata.csv', index=False)\n",
    "\n",
    "print(\"Merged data saved as 'flights_airport_iata.csv'.\")"
   ]
  },
  {
   "cell_type": "markdown",
   "id": "36b77938-0842-4c4a-a055-77847b566662",
   "metadata": {},
   "source": [
    "DATA WRANGLING MARKDOWN\n",
    "\n",
    "I loaded the datasets into the notebook to merge Flight data with Airport data (including but not limited to longitude, latitude, elevation, etc.) based the universal IATA Airport Code.\n",
    "I then merged the Weather data on Flight data based on the nearest IATA codes.  Finally, I merged and added columns to include data on dates/locations for large events that may impact flight delays, including Taylor Swift’s Era’s Tour dates and NFL game dates.\n",
    "I checked for missing values:\n",
    "Dropped any duplicates after investigation determining there are no trends found in duplicates\n",
    "Dropped all weather data that didn’t align with the airports that show flights on the specific dates. \n",
    "A large portion of the weather data is missing, but it’s unclear whether it’s missing because it wasn’t reported or whether that data means there’s no precipitation, snow, etc. at the locations. Because the weather info is critical to evaluation of flight delays, so we are leaving most of those null values for now.\n",
    "To handle the missing values in columns with less that 5% missing data, , I decided to use median imputation, since the column contains numerical data and is not heavily skewed.\n",
    "I performed outlier detection using the IQR method and decided to cap values outside 1.5 * IQR to prevent distortion of the analysis.\n",
    "\n"
   ]
  },
  {
   "cell_type": "code",
   "execution_count": null,
   "id": "8db1d7d3-48b3-49fb-9725-4f37a4f8ab50",
   "metadata": {},
   "outputs": [],
   "source": []
  }
 ],
 "metadata": {
  "kernelspec": {
   "display_name": "Python 3 (ipykernel)",
   "language": "python",
   "name": "python3"
  },
  "language_info": {
   "codemirror_mode": {
    "name": "ipython",
    "version": 3
   },
   "file_extension": ".py",
   "mimetype": "text/x-python",
   "name": "python",
   "nbconvert_exporter": "python",
   "pygments_lexer": "ipython3",
   "version": "3.12.4"
  }
 },
 "nbformat": 4,
 "nbformat_minor": 5
}
