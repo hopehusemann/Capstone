{
 "cells": [
  {
   "cell_type": "code",
   "execution_count": 512,
   "id": "ea2cfba1-96af-437f-a513-d9f2d1c9cc37",
   "metadata": {},
   "outputs": [],
   "source": [
    "import pandas as pd"
   ]
  },
  {
   "cell_type": "code",
   "execution_count": 513,
   "id": "8d1d5457-f564-46b0-9230-91361177d945",
   "metadata": {},
   "outputs": [],
   "source": [
    "airport_data = pd.read_csv(r\"C:\\Users\\hopeh\\Desktop\\data_science_bootcamp\\flight_times_capstone\\airport_data\\airports.csv\")"
   ]
  },
  {
   "cell_type": "code",
   "execution_count": 514,
   "id": "1ad1a7c1-b811-431a-9e21-38baa54867f7",
   "metadata": {},
   "outputs": [
    {
     "name": "stdout",
     "output_type": "stream",
     "text": [
      "       id ident           type                  name  latitude_deg  \\\n",
      "0    6523   00A       heliport     Total RF Heliport       40.0710   \n",
      "1  323361  00AA  small_airport  Aero B Ranch Airport       38.7040   \n",
      "2    6524  00AK  small_airport          Lowell Field       59.9477   \n",
      "3    6525  00AL  small_airport          Epps Airpark       34.8648   \n",
      "4  506791  00AN  small_airport  Katmai Lodge Airport       59.0933   \n",
      "\n",
      "   longitude_deg  elevation_ft continent iso_country iso_region  municipality  \\\n",
      "0       -74.9337       11.0000       NaN          US      US-PA      Bensalem   \n",
      "1      -101.4739     3435.0000       NaN          US      US-KS         Leoti   \n",
      "2      -151.6925      450.0000       NaN          US      US-AK  Anchor Point   \n",
      "3       -86.7703      820.0000       NaN          US      US-AL       Harvest   \n",
      "4      -156.4567       80.0000       NaN          US      US-AK   King Salmon   \n",
      "\n",
      "  scheduled_service gps_code iata_code local_code  \\\n",
      "0                no     K00A       NaN        00A   \n",
      "1                no     00AA       NaN       00AA   \n",
      "2                no     00AK       NaN       00AK   \n",
      "3                no     00AL       NaN       00AL   \n",
      "4                no     00AN       NaN       00AN   \n",
      "\n",
      "                                           home_link wikipedia_link keywords  \n",
      "0  https://www.penndot.pa.gov/TravelInPA/airports...            NaN      NaN  \n",
      "1                                                NaN            NaN      NaN  \n",
      "2                                                NaN            NaN      NaN  \n",
      "3                                                NaN            NaN      NaN  \n",
      "4                                                NaN            NaN      NaN  \n"
     ]
    }
   ],
   "source": [
    "# Display the first few rows of the dataset\n",
    "print(airport_data.head())"
   ]
  },
  {
   "cell_type": "code",
   "execution_count": 515,
   "id": "102cb090-19b9-4819-b1bf-72ac41e1deb9",
   "metadata": {},
   "outputs": [
    {
     "name": "stdout",
     "output_type": "stream",
     "text": [
      "Index(['id', 'ident', 'type', 'name', 'latitude_deg', 'longitude_deg',\n",
      "       'elevation_ft', 'continent', 'iso_country', 'iso_region',\n",
      "       'municipality', 'scheduled_service', 'gps_code', 'iata_code',\n",
      "       'local_code', 'home_link', 'wikipedia_link', 'keywords'],\n",
      "      dtype='object')\n"
     ]
    }
   ],
   "source": [
    "# Display column names\n",
    "print(airport_data.columns)"
   ]
  },
  {
   "cell_type": "code",
   "execution_count": 516,
   "id": "0ed2f5a7-d876-46bb-aded-d4e74a0a851a",
   "metadata": {},
   "outputs": [
    {
     "name": "stdout",
     "output_type": "stream",
     "text": [
      "                id  ident           type                         name  \\\n",
      "count   80470.0000  80470          80470                        80470   \n",
      "unique         NaN  80470              7                        76117   \n",
      "top            NaN    00A  small_airport  Centre Hospitalier Heliport   \n",
      "freq           NaN      1          41424                           57   \n",
      "mean   181330.6449    NaN            NaN                          NaN   \n",
      "std    179963.3421    NaN            NaN                          NaN   \n",
      "min         2.0000    NaN            NaN                          NaN   \n",
      "25%     20269.2500    NaN            NaN                          NaN   \n",
      "50%     43054.5000    NaN            NaN                          NaN   \n",
      "75%    339224.7500    NaN            NaN                          NaN   \n",
      "max    539184.0000    NaN            NaN                          NaN   \n",
      "\n",
      "        latitude_deg  longitude_deg  elevation_ft continent iso_country  \\\n",
      "count     80470.0000     80470.0000    65711.0000     42160       80210   \n",
      "unique           NaN            NaN           NaN         6         244   \n",
      "top              NaN            NaN           NaN        AS          US   \n",
      "freq             NaN            NaN           NaN     11605       31508   \n",
      "mean         26.0319       -28.5890     1305.2858       NaN         NaN   \n",
      "std          26.1335        85.4425     1672.9327       NaN         NaN   \n",
      "min         -89.9894      -179.8770    -1266.0000       NaN         NaN   \n",
      "25%          13.3335       -93.7418      213.0000       NaN         NaN   \n",
      "50%          35.2150       -67.9733      735.0000       NaN         NaN   \n",
      "75%          43.0231        22.6723     1617.0000       NaN         NaN   \n",
      "max          82.7500       179.9757    17372.0000       NaN         NaN   \n",
      "\n",
      "       iso_region municipality scheduled_service gps_code iata_code  \\\n",
      "count       80470        75219             80470    42546      9093   \n",
      "unique       2948        35921                 2    42546      9093   \n",
      "top         US-TX        Osaka                no     K00A       UTK   \n",
      "freq         3731          419             75927        1         1   \n",
      "mean          NaN          NaN               NaN      NaN       NaN   \n",
      "std           NaN          NaN               NaN      NaN       NaN   \n",
      "min           NaN          NaN               NaN      NaN       NaN   \n",
      "25%           NaN          NaN               NaN      NaN       NaN   \n",
      "50%           NaN          NaN               NaN      NaN       NaN   \n",
      "75%           NaN          NaN               NaN      NaN       NaN   \n",
      "max           NaN          NaN               NaN      NaN       NaN   \n",
      "\n",
      "       local_code                       home_link  \\\n",
      "count       34056                            4204   \n",
      "unique      32557                            4156   \n",
      "top           PRO  https://www.fuerzaaerea.mil.py   \n",
      "freq            5                              17   \n",
      "mean          NaN                             NaN   \n",
      "std           NaN                             NaN   \n",
      "min           NaN                             NaN   \n",
      "25%           NaN                             NaN   \n",
      "50%           NaN                             NaN   \n",
      "75%           NaN                             NaN   \n",
      "max           NaN                             NaN   \n",
      "\n",
      "                                           wikipedia_link keywords  \n",
      "count                                               16406    18901  \n",
      "unique                                              16297    18446  \n",
      "top     https://es.wikipedia.org/wiki/Fuerza_Aérea_Par...    Mukho  \n",
      "freq                                                   17       48  \n",
      "mean                                                  NaN      NaN  \n",
      "std                                                   NaN      NaN  \n",
      "min                                                   NaN      NaN  \n",
      "25%                                                   NaN      NaN  \n",
      "50%                                                   NaN      NaN  \n",
      "75%                                                   NaN      NaN  \n",
      "max                                                   NaN      NaN  \n"
     ]
    }
   ],
   "source": [
    "# Show summary statistics\n",
    "print(airport_data.describe(include='all'))"
   ]
  },
  {
   "cell_type": "code",
   "execution_count": 517,
   "id": "e2991c21-18de-4f08-8b74-46aff8056758",
   "metadata": {},
   "outputs": [
    {
     "name": "stdout",
     "output_type": "stream",
     "text": [
      "<class 'pandas.core.frame.DataFrame'>\n",
      "RangeIndex: 80470 entries, 0 to 80469\n",
      "Data columns (total 18 columns):\n",
      " #   Column             Non-Null Count  Dtype  \n",
      "---  ------             --------------  -----  \n",
      " 0   id                 80470 non-null  int64  \n",
      " 1   ident              80470 non-null  object \n",
      " 2   type               80470 non-null  object \n",
      " 3   name               80470 non-null  object \n",
      " 4   latitude_deg       80470 non-null  float64\n",
      " 5   longitude_deg      80470 non-null  float64\n",
      " 6   elevation_ft       65711 non-null  float64\n",
      " 7   continent          42160 non-null  object \n",
      " 8   iso_country        80210 non-null  object \n",
      " 9   iso_region         80470 non-null  object \n",
      " 10  municipality       75219 non-null  object \n",
      " 11  scheduled_service  80470 non-null  object \n",
      " 12  gps_code           42546 non-null  object \n",
      " 13  iata_code          9093 non-null   object \n",
      " 14  local_code         34056 non-null  object \n",
      " 15  home_link          4204 non-null   object \n",
      " 16  wikipedia_link     16406 non-null  object \n",
      " 17  keywords           18901 non-null  object \n",
      "dtypes: float64(3), int64(1), object(14)\n",
      "memory usage: 11.1+ MB\n",
      "None\n"
     ]
    }
   ],
   "source": [
    "# Display basic information about the dataset\n",
    "print(airport_data.info())"
   ]
  },
  {
   "cell_type": "code",
   "execution_count": 518,
   "id": "8f6f8889-3eb1-438a-a343-f2193a010437",
   "metadata": {},
   "outputs": [],
   "source": [
    "# Rename specific columns if needed\n",
    "airport_data.rename(columns={\n",
    "    'latitude_deg': 'latitude', \n",
    "    'longitude_deg': 'longitude',\n",
    "    'type' : 'type_of_airport',\n",
    "    'name': 'airport_name'\n",
    "}, inplace=True)"
   ]
  },
  {
   "cell_type": "code",
   "execution_count": 519,
   "id": "be491410-349d-492e-b153-ba0cd783ae76",
   "metadata": {},
   "outputs": [
    {
     "name": "stdout",
     "output_type": "stream",
     "text": [
      "Index(['id', 'ident', 'type_of_airport', 'airport_name', 'latitude',\n",
      "       'longitude', 'elevation_ft', 'continent', 'iso_country', 'iso_region',\n",
      "       'municipality', 'scheduled_service', 'gps_code', 'iata_code',\n",
      "       'local_code', 'home_link', 'wikipedia_link', 'keywords'],\n",
      "      dtype='object')\n"
     ]
    }
   ],
   "source": [
    "# Display column names\n",
    "print(airport_data.columns)"
   ]
  },
  {
   "cell_type": "code",
   "execution_count": 520,
   "id": "e26f19d8-f2fd-4cbb-8df5-f9aeff4cc558",
   "metadata": {},
   "outputs": [
    {
     "name": "stdout",
     "output_type": "stream",
     "text": [
      "Index(['id', 'ident', 'type_of_airport', 'airport_name', 'latitude',\n",
      "       'longitude', 'elevation_ft', 'iso_country', 'iso_region',\n",
      "       'municipality', 'scheduled_service'],\n",
      "      dtype='object')\n"
     ]
    }
   ],
   "source": [
    "# Drop Columns that provide no useful information for analysis (e.g., unique\n",
    "# identifiers if not needed)\n",
    "\n",
    "columns_to_drop = [\n",
    "    'continent',\n",
    "    'gps_code',\n",
    "    'iata_code',\n",
    "    'local_code',\n",
    "    'home_link',\n",
    "    'wikipedia_link',\n",
    "    'keywords'\n",
    "]\n",
    "\n",
    "# Drop the identified columns\n",
    "airport_data = airport_data.drop(columns=columns_to_drop)\n",
    "\n",
    "# Display column names\n",
    "print(airport_data.columns)"
   ]
  },
  {
   "cell_type": "code",
   "execution_count": 521,
   "id": "4fe38ba0-7ac4-4eea-9112-279e0245ab00",
   "metadata": {},
   "outputs": [
    {
     "name": "stdout",
     "output_type": "stream",
     "text": [
      "<class 'pandas.core.frame.DataFrame'>\n",
      "RangeIndex: 80470 entries, 0 to 80469\n",
      "Data columns (total 11 columns):\n",
      " #   Column             Non-Null Count  Dtype  \n",
      "---  ------             --------------  -----  \n",
      " 0   id                 80470 non-null  int64  \n",
      " 1   ident              80470 non-null  object \n",
      " 2   type_of_airport    80470 non-null  object \n",
      " 3   airport_name       80470 non-null  object \n",
      " 4   latitude           80470 non-null  float32\n",
      " 5   longitude          80470 non-null  float32\n",
      " 6   elevation_ft       65711 non-null  float32\n",
      " 7   iso_country        80210 non-null  object \n",
      " 8   iso_region         80470 non-null  object \n",
      " 9   municipality       75219 non-null  object \n",
      " 10  scheduled_service  80470 non-null  object \n",
      "dtypes: float32(3), int64(1), object(7)\n",
      "memory usage: 5.8+ MB\n",
      "None\n"
     ]
    }
   ],
   "source": [
    "# Convert float64 to float32\n",
    "for col in airport_data.select_dtypes(include=['float64']).columns:\n",
    "    airport_data[col] = airport_data[col].astype('float32')\n",
    "\n",
    "# Check memory usage after conversion\n",
    "print(airport_data.info())"
   ]
  },
  {
   "cell_type": "code",
   "execution_count": 522,
   "id": "9060f080-2450-40c5-b88b-076b5deae60f",
   "metadata": {},
   "outputs": [
    {
     "name": "stdout",
     "output_type": "stream",
     "text": [
      "id                   0.0000\n",
      "ident                0.0000\n",
      "type_of_airport      0.0000\n",
      "airport_name         0.0000\n",
      "latitude             0.0000\n",
      "longitude            0.0000\n",
      "elevation_ft        18.3410\n",
      "iso_country          0.3231\n",
      "iso_region           0.0000\n",
      "municipality         6.5254\n",
      "scheduled_service    0.0000\n",
      "dtype: float64\n"
     ]
    }
   ],
   "source": [
    "# Calculate the percentage of NaN values for each column\n",
    "nan_percentage = airport_data.isna().mean() * 100\n",
    "\n",
    "# Adjust pandas display options\n",
    "pd.set_option('display.max_columns', None)  # Show all columns\n",
    "pd.set_option('display.max_rows', None)     # Show all rows\n",
    "\n",
    "# Print the results\n",
    "print(nan_percentage)"
   ]
  },
  {
   "cell_type": "code",
   "execution_count": 523,
   "id": "10eb2543-fae7-46ea-a3d5-138f0d17f8b6",
   "metadata": {},
   "outputs": [
    {
     "name": "stdout",
     "output_type": "stream",
     "text": [
      "       id ident type_of_airport          airport_name  latitude  longitude  \\\n",
      "0    6523   00A        heliport     Total RF Heliport   40.0710   -74.9337   \n",
      "1  323361  00AA   small_airport  Aero B Ranch Airport   38.7040  -101.4739   \n",
      "2    6524  00AK   small_airport          Lowell Field   59.9477  -151.6925   \n",
      "3    6525  00AL   small_airport          Epps Airpark   34.8648   -86.7703   \n",
      "4  506791  00AN   small_airport  Katmai Lodge Airport   59.0933  -156.4567   \n",
      "\n",
      "   elevation_ft iso_country iso_region  municipality scheduled_service  \n",
      "0       11.0000          US      US-PA      Bensalem                no  \n",
      "1     3435.0000          US      US-KS         Leoti                no  \n",
      "2      450.0000          US      US-AK  Anchor Point                no  \n",
      "3      820.0000          US      US-AL       Harvest                no  \n",
      "4       80.0000          US      US-AK   King Salmon                no  \n"
     ]
    }
   ],
   "source": [
    "# Define columns to drop\n",
    "# columns_to_drop = ['continent', 'gps_code', 'iata_code', 'local_code', 'home_link',\n",
    "#        'wikipedia_link', 'keywords', 'iso_region']\n",
    "\n",
    "# Drop unnecessary columns\n",
    "# airport_data = airport_data[[col for col in airport_data.columns if col not in columns_to_drop]]\n",
    "\n",
    "# Print updated DataFrame head\n",
    "print(airport_data.head())"
   ]
  },
  {
   "cell_type": "code",
   "execution_count": 524,
   "id": "e65a4a6e-a855-4707-9af5-2baf46930130",
   "metadata": {},
   "outputs": [
    {
     "name": "stdout",
     "output_type": "stream",
     "text": [
      "       id ident type_of_airport          airport_name  latitude  longitude  \\\n",
      "0    6523   00A        heliport     Total RF Heliport   40.0710   -74.9337   \n",
      "1  323361  00AA   small_airport  Aero B Ranch Airport   38.7040  -101.4739   \n",
      "2    6524  00AK   small_airport          Lowell Field   59.9477  -151.6925   \n",
      "3    6525  00AL   small_airport          Epps Airpark   34.8648   -86.7703   \n",
      "4  506791  00AN   small_airport  Katmai Lodge Airport   59.0933  -156.4567   \n",
      "\n",
      "   elevation_ft iso_country iso_region  municipality scheduled_service  \n",
      "0       11.0000          US      US-PA      Bensalem                no  \n",
      "1     3435.0000          US      US-KS         Leoti                no  \n",
      "2      450.0000          US      US-AK  Anchor Point                no  \n",
      "3      820.0000          US      US-AL       Harvest                no  \n",
      "4       80.0000          US      US-AK   King Salmon                no  \n"
     ]
    }
   ],
   "source": [
    "# Drop rows where 'iso_country' is not equal to 'US'\n",
    "us_airport_data = airport_data[airport_data['iso_country'] == 'US']\n",
    "\n",
    "# Print the filtered DataFrame containing only United States airport data\n",
    "print(us_airport_data.head())"
   ]
  },
  {
   "cell_type": "code",
   "execution_count": 525,
   "id": "93912b29-7b6a-4964-afa2-d41cde65344a",
   "metadata": {},
   "outputs": [
    {
     "name": "stdout",
     "output_type": "stream",
     "text": [
      "       id ident type_of_airport          airport_name  latitude  longitude  \\\n",
      "0    6523   00A        heliport     Total RF Heliport   40.0710   -74.9337   \n",
      "1  323361  00AA   small_airport  Aero B Ranch Airport   38.7040  -101.4739   \n",
      "2    6524  00AK   small_airport          Lowell Field   59.9477  -151.6925   \n",
      "3    6525  00AL   small_airport          Epps Airpark   34.8648   -86.7703   \n",
      "4  506791  00AN   small_airport  Katmai Lodge Airport   59.0933  -156.4567   \n",
      "\n",
      "   elevation_ft iso_country iso_region  municipality scheduled_service  \n",
      "0       11.0000          US      US-PA      Bensalem                no  \n",
      "1     3435.0000          US      US-KS         Leoti                no  \n",
      "2      450.0000          US      US-AK  Anchor Point                no  \n",
      "3      820.0000          US      US-AL       Harvest                no  \n",
      "4       80.0000          US      US-AK   King Salmon                no  \n"
     ]
    }
   ],
   "source": [
    "# Round latitude and longitude to 4 decimal places\n",
    "us_airport_data.loc[:, 'latitude'] = us_airport_data['latitude'].round(4)\n",
    "us_airport_data.loc[:, 'longitude'] = us_airport_data['longitude'].round(4)\n",
    "\n",
    "# Set display format for floating-point numbers\n",
    "pd.options.display.float_format = '{:.4f}'.format\n",
    "\n",
    "# Display the updated DataFrame\n",
    "print(us_airport_data.head())\n"
   ]
  },
  {
   "cell_type": "code",
   "execution_count": 526,
   "id": "578587e5-9048-4a8d-8bdc-bbac9f123a4d",
   "metadata": {},
   "outputs": [
    {
     "name": "stdout",
     "output_type": "stream",
     "text": [
      "       id ident type_of_airport          airport_name  latitude  longitude  \\\n",
      "0    6523   00A        heliport     Total RF Heliport   40.0710   -74.9337   \n",
      "1  323361  00AA   small_airport  Aero B Ranch Airport   38.7040  -101.4739   \n",
      "2    6524  00AK   small_airport          Lowell Field   59.9477  -151.6925   \n",
      "3    6525  00AL   small_airport          Epps Airpark   34.8648   -86.7703   \n",
      "4  506791  00AN   small_airport  Katmai Lodge Airport   59.0933  -156.4567   \n",
      "\n",
      "   elevation_ft state  municipality scheduled_service  \n",
      "0       11.0000    PA      Bensalem                no  \n",
      "1     3435.0000    KS         Leoti                no  \n",
      "2      450.0000    AK  Anchor Point                no  \n",
      "3      820.0000    AL       Harvest                no  \n",
      "4       80.0000    AK   King Salmon                no  \n"
     ]
    }
   ],
   "source": [
    "# Remove the 'iso_country' column\n",
    "airport_data = airport_data.drop(columns=['iso_country'])\n",
    "\n",
    "# Remove 'US-' from the 'iso_region' column\n",
    "airport_data['iso_region'] = airport_data['iso_region'].str.replace('US-', '', regex=False)\n",
    "\n",
    "# Rename the 'iso_region' column to 'state'\n",
    "airport_data.rename(columns={'iso_region': 'state'}, inplace=True)\n",
    "\n",
    "# Display the updated DataFrame\n",
    "print(airport_data.head())"
   ]
  },
  {
   "cell_type": "code",
   "execution_count": 527,
   "id": "73ebd900-7fef-4223-9e3d-ef654d3b9aad",
   "metadata": {},
   "outputs": [
    {
     "name": "stdout",
     "output_type": "stream",
     "text": [
      "       id ident type_of_airport          airport_name  latitude  longitude  \\\n",
      "0    6523   00A        heliport     Total RF Heliport   40.0710   -74.9337   \n",
      "1  323361  00AA   small_airport  Aero B Ranch Airport   38.7040  -101.4739   \n",
      "2    6524  00AK   small_airport          Lowell Field   59.9477  -151.6925   \n",
      "3    6525  00AL   small_airport          Epps Airpark   34.8648   -86.7703   \n",
      "4  506791  00AN   small_airport  Katmai Lodge Airport   59.0933  -156.4567   \n",
      "\n",
      "   elevation_ft state  municipality scheduled_service  unique_id  \n",
      "0       11.0000    PA      Bensalem                no          1  \n",
      "1     3435.0000    KS         Leoti                no          2  \n",
      "2      450.0000    AK  Anchor Point                no          3  \n",
      "3      820.0000    AL       Harvest                no          4  \n",
      "4       80.0000    AK   King Salmon                no          5  \n"
     ]
    }
   ],
   "source": [
    "# Add a unique identifier column\n",
    "airport_data['unique_id'] = range(1, len(airport_data) + 1)\n",
    "\n",
    "# Display the updated DataFrame\n",
    "print(airport_data.head())"
   ]
  },
  {
   "cell_type": "code",
   "execution_count": 528,
   "id": "fbb07a9a-9665-48bd-8825-9e51a7503fa0",
   "metadata": {},
   "outputs": [],
   "source": [
    "# Save the DataFrame to CSV file\n",
    "airport_data.to_csv(r'C:\\Users\\hopeh\\Desktop\\data_science_bootcamp\\flight_times_capstone\\cleaned_airport_data.csv', index=False)"
   ]
  },
  {
   "cell_type": "code",
   "execution_count": 529,
   "id": "ebfe3796-5114-4dcf-a61d-8baabc52f63d",
   "metadata": {},
   "outputs": [],
   "source": [
    "# import dataset containing runway data\n",
    "runway_data = pd.read_csv(r\"C:\\Users\\hopeh\\Desktop\\data_science_bootcamp\\flight_times_capstone\\airport_data\\runways.csv\")"
   ]
  },
  {
   "cell_type": "code",
   "execution_count": 530,
   "id": "41f02103-68d4-4cbf-bd07-c9d90b490216",
   "metadata": {},
   "outputs": [
    {
     "name": "stdout",
     "output_type": "stream",
     "text": [
      "       id  airport_ref airport_ident  length_ft  width_ft surface  lighted  \\\n",
      "0  269408         6523           00A    80.0000   80.0000  ASPH-G        1   \n",
      "1  255155         6524          00AK  2500.0000   70.0000    GRVL        0   \n",
      "2  254165         6525          00AL  2300.0000  200.0000    TURF        0   \n",
      "3  506792       506791          00AN  4517.0000   60.0000     GVL        0   \n",
      "4  270932         6526          00AR    40.0000   40.0000   GRASS        0   \n",
      "\n",
      "   closed le_ident  le_latitude_deg  le_longitude_deg  le_elevation_ft  \\\n",
      "0       0       H1              NaN               NaN              NaN   \n",
      "1       0        N              NaN               NaN              NaN   \n",
      "2       0       01              NaN               NaN              NaN   \n",
      "3       0        3              NaN               NaN              NaN   \n",
      "4       0       H1              NaN               NaN              NaN   \n",
      "\n",
      "   le_heading_degT  le_displaced_threshold_ft he_ident  he_latitude_deg  \\\n",
      "0              NaN                        NaN      NaN              NaN   \n",
      "1              NaN                        NaN        S              NaN   \n",
      "2              NaN                        NaN       19              NaN   \n",
      "3              NaN                        NaN       21              NaN   \n",
      "4              NaN                        NaN       H1              NaN   \n",
      "\n",
      "   he_longitude_deg  he_elevation_ft  he_heading_degT  \\\n",
      "0               NaN              NaN              NaN   \n",
      "1               NaN              NaN              NaN   \n",
      "2               NaN              NaN              NaN   \n",
      "3               NaN              NaN              NaN   \n",
      "4               NaN              NaN              NaN   \n",
      "\n",
      "   he_displaced_threshold_ft  \n",
      "0                        NaN  \n",
      "1                        NaN  \n",
      "2                        NaN  \n",
      "3                        NaN  \n",
      "4                        NaN  \n"
     ]
    }
   ],
   "source": [
    "# Display the first few rows of the dataset\n",
    "print(runway_data.head())"
   ]
  },
  {
   "cell_type": "code",
   "execution_count": 531,
   "id": "545d48a1-018a-46ea-bdec-ba23cff1368e",
   "metadata": {},
   "outputs": [
    {
     "name": "stdout",
     "output_type": "stream",
     "text": [
      "<class 'pandas.core.frame.DataFrame'>\n",
      "RangeIndex: 46037 entries, 0 to 46036\n",
      "Data columns (total 20 columns):\n",
      " #   Column                     Non-Null Count  Dtype  \n",
      "---  ------                     --------------  -----  \n",
      " 0   id                         46037 non-null  int64  \n",
      " 1   airport_ref                46037 non-null  int64  \n",
      " 2   airport_ident              46037 non-null  object \n",
      " 3   length_ft                  45777 non-null  float64\n",
      " 4   width_ft                   43047 non-null  float64\n",
      " 5   surface                    45540 non-null  object \n",
      " 6   lighted                    46037 non-null  int64  \n",
      " 7   closed                     46037 non-null  int64  \n",
      " 8   le_ident                   45829 non-null  object \n",
      " 9   le_latitude_deg            15238 non-null  float64\n",
      " 10  le_longitude_deg           15220 non-null  float64\n",
      " 11  le_elevation_ft            12984 non-null  float64\n",
      " 12  le_heading_degT            14775 non-null  float64\n",
      " 13  le_displaced_threshold_ft  2954 non-null   float64\n",
      " 14  he_ident                   38965 non-null  object \n",
      " 15  he_latitude_deg            15174 non-null  float64\n",
      " 16  he_longitude_deg           15176 non-null  float64\n",
      " 17  he_elevation_ft            12797 non-null  float64\n",
      " 18  he_heading_degT            16584 non-null  float64\n",
      " 19  he_displaced_threshold_ft  3237 non-null   float64\n",
      "dtypes: float64(12), int64(4), object(4)\n",
      "memory usage: 7.0+ MB\n",
      "None\n"
     ]
    }
   ],
   "source": [
    "# Display basic information about the dataset\n",
    "print(runway_data.info())"
   ]
  },
  {
   "cell_type": "code",
   "execution_count": 532,
   "id": "42609607-a80a-49e9-881d-37df4bd1113b",
   "metadata": {},
   "outputs": [
    {
     "name": "stdout",
     "output_type": "stream",
     "text": [
      "Index(['id', 'airport_ref', 'airport_ident', 'length_ft', 'width_ft',\n",
      "       'surface', 'lighted', 'closed', 'le_ident', 'le_latitude_deg',\n",
      "       'le_longitude_deg', 'le_elevation_ft', 'le_heading_degT',\n",
      "       'le_displaced_threshold_ft', 'he_ident', 'he_latitude_deg',\n",
      "       'he_longitude_deg', 'he_elevation_ft', 'he_heading_degT',\n",
      "       'he_displaced_threshold_ft'],\n",
      "      dtype='object')\n"
     ]
    }
   ],
   "source": [
    "# Display column names\n",
    "print(runway_data.columns)"
   ]
  },
  {
   "cell_type": "code",
   "execution_count": 533,
   "id": "59b6e33f-a44f-4c86-aa92-fbadbe85989c",
   "metadata": {},
   "outputs": [
    {
     "name": "stdout",
     "output_type": "stream",
     "text": [
      "<class 'pandas.core.frame.DataFrame'>\n",
      "RangeIndex: 46037 entries, 0 to 46036\n",
      "Data columns (total 20 columns):\n",
      " #   Column                     Non-Null Count  Dtype  \n",
      "---  ------                     --------------  -----  \n",
      " 0   id                         46037 non-null  int64  \n",
      " 1   airport_ref                46037 non-null  int64  \n",
      " 2   airport_ident              46037 non-null  object \n",
      " 3   length_ft                  45777 non-null  float64\n",
      " 4   width_ft                   43047 non-null  float64\n",
      " 5   surface                    45540 non-null  object \n",
      " 6   lighted                    46037 non-null  int64  \n",
      " 7   closed                     46037 non-null  int64  \n",
      " 8   le_ident                   45829 non-null  object \n",
      " 9   le_latitude_deg            15238 non-null  float64\n",
      " 10  le_longitude_deg           15220 non-null  float64\n",
      " 11  le_elevation_ft            12984 non-null  float64\n",
      " 12  le_heading_degT            14775 non-null  float64\n",
      " 13  le_displaced_threshold_ft  2954 non-null   float64\n",
      " 14  he_ident                   38965 non-null  object \n",
      " 15  he_latitude_deg            15174 non-null  float64\n",
      " 16  he_longitude_deg           15176 non-null  float64\n",
      " 17  he_elevation_ft            12797 non-null  float64\n",
      " 18  he_heading_degT            16584 non-null  float64\n",
      " 19  he_displaced_threshold_ft  3237 non-null   float64\n",
      "dtypes: float64(12), int64(4), object(4)\n",
      "memory usage: 7.0+ MB\n",
      "None\n"
     ]
    }
   ],
   "source": [
    "# Display basic information about the dataset\n",
    "print(runway_data.info())"
   ]
  },
  {
   "cell_type": "code",
   "execution_count": 534,
   "id": "9a2703aa-27d4-4928-939d-e65619b9edf0",
   "metadata": {},
   "outputs": [
    {
     "name": "stdout",
     "output_type": "stream",
     "text": [
      "Index(['id', 'airport_ident', 'length_ft', 'width_ft', 'surface', 'lighted',\n",
      "       'closed', 'le_ident', 'le_latitude_deg', 'le_longitude_deg',\n",
      "       'le_elevation_ft', 'le_heading_degT', 'le_displaced_threshold_ft',\n",
      "       'he_ident', 'he_latitude_deg', 'he_longitude_deg', 'he_elevation_ft',\n",
      "       'he_heading_degT', 'he_displaced_threshold_ft'],\n",
      "      dtype='object')\n"
     ]
    }
   ],
   "source": [
    "# Drop Columns that provide no useful information for analysis (e.g., unique\n",
    "# identifiers if not needed)\n",
    "\n",
    "columns_to_drop = [\n",
    "    'airport_ref'\n",
    "]\n",
    "\n",
    "# Drop the identified columns\n",
    "runway_data = runway_data.drop(columns=columns_to_drop)\n",
    "\n",
    "# Display column names\n",
    "print(runway_data.columns)"
   ]
  },
  {
   "cell_type": "code",
   "execution_count": 535,
   "id": "c9ebb383-062b-4519-b970-2a2a735114ab",
   "metadata": {},
   "outputs": [
    {
     "name": "stdout",
     "output_type": "stream",
     "text": [
      "id                           0.0000\n",
      "airport_ident                0.0000\n",
      "length_ft                    0.5648\n",
      "width_ft                     6.4948\n",
      "surface                      1.0796\n",
      "lighted                      0.0000\n",
      "closed                       0.0000\n",
      "le_ident                     0.4518\n",
      "le_latitude_deg             66.9005\n",
      "le_longitude_deg            66.9396\n",
      "le_elevation_ft             71.7966\n",
      "le_heading_degT             67.9062\n",
      "le_displaced_threshold_ft   93.5834\n",
      "he_ident                    15.3616\n",
      "he_latitude_deg             67.0396\n",
      "he_longitude_deg            67.0352\n",
      "he_elevation_ft             72.2028\n",
      "he_heading_degT             63.9768\n",
      "he_displaced_threshold_ft   92.9687\n",
      "dtype: float64\n"
     ]
    }
   ],
   "source": [
    "# Calculate the percentage of NaN values for each column\n",
    "nan_percentage = runway_data.isna().mean() * 100\n",
    "\n",
    "# Adjust pandas display options\n",
    "pd.set_option('display.max_columns', None)  # Show all columns\n",
    "pd.set_option('display.max_rows', None)     # Show all rows if there are many rows\n",
    "\n",
    "# Print the results\n",
    "print(nan_percentage)"
   ]
  },
  {
   "cell_type": "code",
   "execution_count": 536,
   "id": "d369f26e-e7a1-4297-96ce-766256e79882",
   "metadata": {},
   "outputs": [
    {
     "name": "stdout",
     "output_type": "stream",
     "text": [
      "Columns with more than 20% missing values:\n",
      "Index(['le_latitude_deg', 'le_longitude_deg', 'le_elevation_ft',\n",
      "       'le_heading_degT', 'le_displaced_threshold_ft', 'he_latitude_deg',\n",
      "       'he_longitude_deg', 'he_elevation_ft', 'he_heading_degT',\n",
      "       'he_displaced_threshold_ft'],\n",
      "      dtype='object')\n"
     ]
    }
   ],
   "source": [
    "# Calculate the proportion of missing values for each column\n",
    "missing_proportion_runway = runway_data.isnull().mean()\n",
    "\n",
    "# Filter columns where the proportion of missing values is more than 20%\n",
    "high_missing_cols = missing_proportion_runway[missing_proportion_runway > 0.20].index\n",
    "\n",
    "# Display columns with high missing values\n",
    "print(\"Columns with more than 20% missing values:\")\n",
    "print(high_missing_cols)"
   ]
  },
  {
   "cell_type": "code",
   "execution_count": 537,
   "id": "e354268b-62d5-482a-bda9-d02b50dc6ee4",
   "metadata": {},
   "outputs": [
    {
     "name": "stdout",
     "output_type": "stream",
     "text": [
      "Columns with more than 70% missing values:\n",
      "Index(['le_elevation_ft', 'le_displaced_threshold_ft', 'he_elevation_ft',\n",
      "       'he_displaced_threshold_ft'],\n",
      "      dtype='object')\n"
     ]
    }
   ],
   "source": [
    "# Filter columns where the proportion of missing values is more than 70%\n",
    "high_missing_cols = missing_proportion_runway[missing_proportion_runway > 0.70].index\n",
    "\n",
    "# Display columns with high missing values\n",
    "print(\"Columns with more than 70% missing values:\")\n",
    "print(high_missing_cols)"
   ]
  },
  {
   "cell_type": "code",
   "execution_count": 538,
   "id": "f4399178-5bd1-4be8-aee2-4c036ac1ddb5",
   "metadata": {},
   "outputs": [
    {
     "name": "stdout",
     "output_type": "stream",
     "text": [
      "                       Column  NaN Percentage\n",
      "12  le_displaced_threshold_ft         93.5834\n",
      "18  he_displaced_threshold_ft         92.9687\n",
      "16            he_elevation_ft         72.2028\n",
      "10            le_elevation_ft         71.7966\n",
      "11            le_heading_degT         67.9062\n",
      "14            he_latitude_deg         67.0396\n",
      "15           he_longitude_deg         67.0352\n",
      "9            le_longitude_deg         66.9396\n",
      "8             le_latitude_deg         66.9005\n",
      "17            he_heading_degT         63.9768\n",
      "13                   he_ident         15.3616\n",
      "3                    width_ft          6.4948\n",
      "4                     surface          1.0796\n",
      "2                   length_ft          0.5648\n",
      "7                    le_ident          0.4518\n",
      "1               airport_ident          0.0000\n",
      "6                      closed          0.0000\n",
      "5                     lighted          0.0000\n",
      "0                          id          0.0000\n"
     ]
    }
   ],
   "source": [
    "# Calculate the percentage of NaN values for each column\n",
    "nan_percentage_runways = runway_data.isna().mean() * 100\n",
    "\n",
    "# Convert the result to a DataFrame for better readability\n",
    "nan_percentage_runways_df = pd.DataFrame({\n",
    "    'Column': nan_percentage_runways.index,\n",
    "    'NaN Percentage': nan_percentage_runways.values\n",
    "})\n",
    "\n",
    "# Sort the DataFrame by percentage of NaN values (optional)\n",
    "nan_percentage_runways_df = nan_percentage_runways_df.sort_values(by='NaN Percentage', ascending=False)\n",
    "\n",
    "# Print the DataFrame or list\n",
    "print(nan_percentage_runways_df)"
   ]
  },
  {
   "cell_type": "code",
   "execution_count": 539,
   "id": "5ad3e2da-4322-4c11-b07e-d594c1a456bb",
   "metadata": {},
   "outputs": [
    {
     "name": "stdout",
     "output_type": "stream",
     "text": [
      "       id airport_ident  length_ft  width_ft surface  lighted  closed  \\\n",
      "0  269408           00A    80.0000   80.0000  ASPH-G        1       0   \n",
      "1  255155          00AK  2500.0000   70.0000    GRVL        0       0   \n",
      "2  254165          00AL  2300.0000  200.0000    TURF        0       0   \n",
      "3  506792          00AN  4517.0000   60.0000     GVL        0       0   \n",
      "4  270932          00AR    40.0000   40.0000   GRASS        0       0   \n",
      "\n",
      "  le_ident  le_latitude_deg  le_longitude_deg  le_elevation_ft  \\\n",
      "0       H1              NaN               NaN              NaN   \n",
      "1        N              NaN               NaN              NaN   \n",
      "2       01              NaN               NaN              NaN   \n",
      "3        3              NaN               NaN              NaN   \n",
      "4       H1              NaN               NaN              NaN   \n",
      "\n",
      "   le_heading_degT  le_displaced_threshold_ft he_ident  he_latitude_deg  \\\n",
      "0              NaN                        NaN      NaN              NaN   \n",
      "1              NaN                        NaN        S              NaN   \n",
      "2              NaN                        NaN       19              NaN   \n",
      "3              NaN                        NaN       21              NaN   \n",
      "4              NaN                        NaN       H1              NaN   \n",
      "\n",
      "   he_longitude_deg  he_elevation_ft  he_heading_degT  \\\n",
      "0               NaN              NaN              NaN   \n",
      "1               NaN              NaN              NaN   \n",
      "2               NaN              NaN              NaN   \n",
      "3               NaN              NaN              NaN   \n",
      "4               NaN              NaN              NaN   \n",
      "\n",
      "   he_displaced_threshold_ft  \n",
      "0                        NaN  \n",
      "1                        NaN  \n",
      "2                        NaN  \n",
      "3                        NaN  \n",
      "4                        NaN  \n"
     ]
    }
   ],
   "source": [
    "# Define columns to drop\n",
    "#columns_to_drop = ['le_displaced_threshold_ft', 'he_displaced_threshold_ft']\n",
    "\n",
    "# Drop unnecessary columns\n",
    "#runway_data = runway_data[[col for col in runway_data.columns if col not in columns_to_drop]]\n",
    "\n",
    "# Print updated DataFrame head\n",
    "print(runway_data.head())"
   ]
  },
  {
   "cell_type": "code",
   "execution_count": 540,
   "id": "bf52bb3f-558e-40a2-b211-56d791d5ccb7",
   "metadata": {},
   "outputs": [],
   "source": [
    "# Save the DataFrame to CSV file\n",
    "runway_data.to_csv(r'C:\\Users\\hopeh\\Desktop\\data_science_bootcamp\\flight_times_capstone\\cleaned_runway_data.csv', index=False)"
   ]
  },
  {
   "cell_type": "code",
   "execution_count": 541,
   "id": "4a5a747d-169a-4694-9029-212f0066773f",
   "metadata": {},
   "outputs": [],
   "source": [
    "## Merge cleaned_airport_data and cleaned_runway_data into one .csv\n",
    "\n",
    "# Load the airport data\n",
    "airport_data = pd.read_csv('cleaned_airport_data.csv')\n",
    "\n",
    "# Load the runway data\n",
    "runway_data = pd.read_csv('cleaned_runway_data.csv')"
   ]
  },
  {
   "cell_type": "code",
   "execution_count": 542,
   "id": "031b7a7e-8fe9-4e73-99f6-01a3acb81bda",
   "metadata": {},
   "outputs": [
    {
     "name": "stdout",
     "output_type": "stream",
     "text": [
      "       id ident type_of_airport          airport_name  latitude  longitude  \\\n",
      "0    6523   00A        heliport     Total RF Heliport   40.0710   -74.9337   \n",
      "1  323361  00AA   small_airport  Aero B Ranch Airport   38.7040  -101.4739   \n",
      "2    6524  00AK   small_airport          Lowell Field   59.9477  -151.6925   \n",
      "3    6525  00AL   small_airport          Epps Airpark   34.8648   -86.7703   \n",
      "4  506791  00AN   small_airport  Katmai Lodge Airport   59.0933  -156.4567   \n",
      "\n",
      "   elevation_ft state  municipality scheduled_service  unique_id  \n",
      "0       11.0000    PA      Bensalem                no          1  \n",
      "1     3435.0000    KS         Leoti                no          2  \n",
      "2      450.0000    AK  Anchor Point                no          3  \n",
      "3      820.0000    AL       Harvest                no          4  \n",
      "4       80.0000    AK   King Salmon                no          5  \n",
      "Index(['id', 'ident', 'type_of_airport', 'airport_name', 'latitude',\n",
      "       'longitude', 'elevation_ft', 'state', 'municipality',\n",
      "       'scheduled_service', 'unique_id'],\n",
      "      dtype='object')\n"
     ]
    }
   ],
   "source": [
    "# Inspect the airport data\n",
    "print(airport_data.head())\n",
    "print(airport_data.columns)"
   ]
  },
  {
   "cell_type": "code",
   "execution_count": 543,
   "id": "4aad4a41-b897-41ba-bb20-d014382a8778",
   "metadata": {},
   "outputs": [
    {
     "name": "stdout",
     "output_type": "stream",
     "text": [
      "       id airport_ident  length_ft  width_ft surface  lighted  closed  \\\n",
      "0  269408           00A    80.0000   80.0000  ASPH-G        1       0   \n",
      "1  255155          00AK  2500.0000   70.0000    GRVL        0       0   \n",
      "2  254165          00AL  2300.0000  200.0000    TURF        0       0   \n",
      "3  506792          00AN  4517.0000   60.0000     GVL        0       0   \n",
      "4  270932          00AR    40.0000   40.0000   GRASS        0       0   \n",
      "\n",
      "  le_ident  le_latitude_deg  le_longitude_deg  le_elevation_ft  \\\n",
      "0       H1              NaN               NaN              NaN   \n",
      "1        N              NaN               NaN              NaN   \n",
      "2       01              NaN               NaN              NaN   \n",
      "3        3              NaN               NaN              NaN   \n",
      "4       H1              NaN               NaN              NaN   \n",
      "\n",
      "   le_heading_degT  le_displaced_threshold_ft he_ident  he_latitude_deg  \\\n",
      "0              NaN                        NaN      NaN              NaN   \n",
      "1              NaN                        NaN        S              NaN   \n",
      "2              NaN                        NaN       19              NaN   \n",
      "3              NaN                        NaN       21              NaN   \n",
      "4              NaN                        NaN       H1              NaN   \n",
      "\n",
      "   he_longitude_deg  he_elevation_ft  he_heading_degT  \\\n",
      "0               NaN              NaN              NaN   \n",
      "1               NaN              NaN              NaN   \n",
      "2               NaN              NaN              NaN   \n",
      "3               NaN              NaN              NaN   \n",
      "4               NaN              NaN              NaN   \n",
      "\n",
      "   he_displaced_threshold_ft  \n",
      "0                        NaN  \n",
      "1                        NaN  \n",
      "2                        NaN  \n",
      "3                        NaN  \n",
      "4                        NaN  \n",
      "Index(['id', 'airport_ident', 'length_ft', 'width_ft', 'surface', 'lighted',\n",
      "       'closed', 'le_ident', 'le_latitude_deg', 'le_longitude_deg',\n",
      "       'le_elevation_ft', 'le_heading_degT', 'le_displaced_threshold_ft',\n",
      "       'he_ident', 'he_latitude_deg', 'he_longitude_deg', 'he_elevation_ft',\n",
      "       'he_heading_degT', 'he_displaced_threshold_ft'],\n",
      "      dtype='object')\n"
     ]
    }
   ],
   "source": [
    "# Inspect the runway data\n",
    "print(runway_data.head())\n",
    "print(runway_data.columns)"
   ]
  },
  {
   "cell_type": "code",
   "execution_count": 544,
   "id": "c095e4d4-5822-4492-affd-f0913ba36475",
   "metadata": {},
   "outputs": [],
   "source": [
    "# Rename columns\n",
    "airport_data.rename(columns={'ident': 'airport_ident', 'id' : 'airport_ref'}, inplace=True)"
   ]
  },
  {
   "cell_type": "code",
   "execution_count": 545,
   "id": "c6f9e3a6-50b4-4a01-b34d-e8265438d6d5",
   "metadata": {},
   "outputs": [],
   "source": [
    "# Merge the DataFrames\n",
    "merged_data = pd.merge(airport_data, runway_data, how='inner', left_on='airport_ident', right_on='airport_ident')"
   ]
  },
  {
   "cell_type": "code",
   "execution_count": 546,
   "id": "78e6f46c-dc42-4856-9538-868cb41d3c1d",
   "metadata": {},
   "outputs": [
    {
     "name": "stdout",
     "output_type": "stream",
     "text": [
      "   airport_ref airport_ident type_of_airport  \\\n",
      "0         6523           00A        heliport   \n",
      "1         6524          00AK   small_airport   \n",
      "2         6525          00AL   small_airport   \n",
      "3       506791          00AN   small_airport   \n",
      "4         6526          00AR          closed   \n",
      "\n",
      "                         airport_name  latitude  longitude  elevation_ft  \\\n",
      "0                   Total RF Heliport   40.0710   -74.9337       11.0000   \n",
      "1                        Lowell Field   59.9477  -151.6925      450.0000   \n",
      "2                        Epps Airpark   34.8648   -86.7703      820.0000   \n",
      "3                Katmai Lodge Airport   59.0933  -156.4567       80.0000   \n",
      "4  Newport Hospital & Clinic Heliport   35.6087   -91.2549      237.0000   \n",
      "\n",
      "  state  municipality scheduled_service  unique_id      id  length_ft  \\\n",
      "0    PA      Bensalem                no          1  269408    80.0000   \n",
      "1    AK  Anchor Point                no          3  255155  2500.0000   \n",
      "2    AL       Harvest                no          4  254165  2300.0000   \n",
      "3    AK   King Salmon                no          5  506792  4517.0000   \n",
      "4    AR       Newport                no          6  270932    40.0000   \n",
      "\n",
      "   width_ft surface  lighted  closed le_ident  le_latitude_deg  \\\n",
      "0   80.0000  ASPH-G        1       0       H1              NaN   \n",
      "1   70.0000    GRVL        0       0        N              NaN   \n",
      "2  200.0000    TURF        0       0       01              NaN   \n",
      "3   60.0000     GVL        0       0        3              NaN   \n",
      "4   40.0000   GRASS        0       0       H1              NaN   \n",
      "\n",
      "   le_longitude_deg  le_elevation_ft  le_heading_degT  \\\n",
      "0               NaN              NaN              NaN   \n",
      "1               NaN              NaN              NaN   \n",
      "2               NaN              NaN              NaN   \n",
      "3               NaN              NaN              NaN   \n",
      "4               NaN              NaN              NaN   \n",
      "\n",
      "   le_displaced_threshold_ft he_ident  he_latitude_deg  he_longitude_deg  \\\n",
      "0                        NaN      NaN              NaN               NaN   \n",
      "1                        NaN        S              NaN               NaN   \n",
      "2                        NaN       19              NaN               NaN   \n",
      "3                        NaN       21              NaN               NaN   \n",
      "4                        NaN       H1              NaN               NaN   \n",
      "\n",
      "   he_elevation_ft  he_heading_degT  he_displaced_threshold_ft  \n",
      "0              NaN              NaN                        NaN  \n",
      "1              NaN              NaN                        NaN  \n",
      "2              NaN              NaN                        NaN  \n",
      "3              NaN              NaN                        NaN  \n",
      "4              NaN              NaN                        NaN  \n",
      "Index(['airport_ref', 'airport_ident', 'type_of_airport', 'airport_name',\n",
      "       'latitude', 'longitude', 'elevation_ft', 'state', 'municipality',\n",
      "       'scheduled_service', 'unique_id', 'id', 'length_ft', 'width_ft',\n",
      "       'surface', 'lighted', 'closed', 'le_ident', 'le_latitude_deg',\n",
      "       'le_longitude_deg', 'le_elevation_ft', 'le_heading_degT',\n",
      "       'le_displaced_threshold_ft', 'he_ident', 'he_latitude_deg',\n",
      "       'he_longitude_deg', 'he_elevation_ft', 'he_heading_degT',\n",
      "       'he_displaced_threshold_ft'],\n",
      "      dtype='object')\n"
     ]
    }
   ],
   "source": [
    "# Inspect the merged data\n",
    "print(merged_data.head())\n",
    "print(merged_data.columns)"
   ]
  },
  {
   "cell_type": "code",
   "execution_count": 547,
   "id": "2cf7d4a3-bbf5-4232-953a-1425a982f8d3",
   "metadata": {},
   "outputs": [
    {
     "name": "stdout",
     "output_type": "stream",
     "text": [
      "       airport_ref   latitude  longitude  elevation_ft  unique_id          id  \\\n",
      "count   46037.0000 46037.0000 46037.0000    44492.0000 46037.0000  46037.0000   \n",
      "mean    62595.1710    25.8343   -50.1584     1160.5572 36896.2327 273828.5497   \n",
      "std    121001.9088    27.1382    74.3598     1449.8553 24250.8538  60154.1777   \n",
      "min         2.0000   -89.9894  -179.8770    -1266.0000     1.0000 232758.0000   \n",
      "25%      9533.0000    16.1933   -95.4119      215.0000 11994.0000 244293.0000   \n",
      "50%     20108.0000    36.5479   -80.0123      722.0000 38504.0000 255813.0000   \n",
      "75%     35272.0000    42.9380   -42.0547     1394.0000 57007.0000 267345.0000   \n",
      "max    538694.0000    82.5178   179.3406    14472.0000 80470.0000 538940.0000   \n",
      "\n",
      "       length_ft   width_ft    lighted     closed  le_latitude_deg  \\\n",
      "count 45777.0000 43047.0000 46037.0000 46037.0000       15238.0000   \n",
      "mean   3232.8950   108.0085     0.2561     0.0182          31.0743   \n",
      "std    2700.4622   222.7255     0.4365     0.1338          23.1924   \n",
      "min       0.0000     0.0000     0.0000     0.0000         -77.9699   \n",
      "25%    1600.0000    59.0000     0.0000     0.0000          28.6381   \n",
      "50%    2690.0000    75.0000     0.0000     0.0000          37.5913   \n",
      "75%    4200.0000   100.0000     1.0000     0.0000          44.3754   \n",
      "max   30000.0000  9000.0000     1.0000     1.0000          82.5128   \n",
      "\n",
      "       le_longitude_deg  le_elevation_ft  le_heading_degT  \\\n",
      "count        15220.0000       12984.0000       14775.0000   \n",
      "mean          1061.0329        1066.3249         104.2077   \n",
      "std         134820.3533        1466.1505          57.4456   \n",
      "min           -178.3030       -1246.0000           0.0000   \n",
      "25%            -96.2633         120.0000          57.0000   \n",
      "50%            -79.8649         581.0000          98.0000   \n",
      "75%             15.5157        1260.0000         148.0000   \n",
      "max       16632257.0000       13202.0000         360.0000   \n",
      "\n",
      "       le_displaced_threshold_ft  he_latitude_deg  he_longitude_deg  \\\n",
      "count                  2954.0000       15174.0000        15176.0000   \n",
      "mean                    531.7011          31.0643          -39.3352   \n",
      "std                     472.9836          23.1863           79.6637   \n",
      "min                       1.0000         -77.9440         -178.2920   \n",
      "25%                     225.0000          28.6142          -96.2466   \n",
      "50%                     400.0000          37.5793          -79.8399   \n",
      "75%                     679.7500          44.3762           15.5477   \n",
      "max                    6365.0000          82.5228          179.3430   \n",
      "\n",
      "       he_elevation_ft  he_heading_degT  he_displaced_threshold_ft  \n",
      "count       12797.0000       16584.0000                  3237.0000  \n",
      "mean         1061.2765         261.8004                   532.4059  \n",
      "std          1459.8254          78.1430                   470.6483  \n",
      "min         -1210.0000           0.0000                     1.0000  \n",
      "25%           120.0000         226.0000                   225.0000  \n",
      "50%           577.0000         270.0000                   400.0000  \n",
      "75%          1250.0000         316.0000                   689.0000  \n",
      "max         13314.0000         363.0000                  5001.0000  \n"
     ]
    }
   ],
   "source": [
    "print(merged_data.describe())"
   ]
  },
  {
   "cell_type": "code",
   "execution_count": 548,
   "id": "c4df377d-6170-44a6-b231-6a00914b6bb9",
   "metadata": {},
   "outputs": [
    {
     "name": "stdout",
     "output_type": "stream",
     "text": [
      "<class 'pandas.core.frame.DataFrame'>\n",
      "RangeIndex: 46037 entries, 0 to 46036\n",
      "Data columns (total 29 columns):\n",
      " #   Column                     Non-Null Count  Dtype  \n",
      "---  ------                     --------------  -----  \n",
      " 0   airport_ref                46037 non-null  int64  \n",
      " 1   airport_ident              46037 non-null  object \n",
      " 2   type_of_airport            46037 non-null  object \n",
      " 3   airport_name               46037 non-null  object \n",
      " 4   latitude                   46037 non-null  float64\n",
      " 5   longitude                  46037 non-null  float64\n",
      " 6   elevation_ft               44492 non-null  float64\n",
      " 7   state                      46037 non-null  object \n",
      " 8   municipality               44033 non-null  object \n",
      " 9   scheduled_service          46037 non-null  object \n",
      " 10  unique_id                  46037 non-null  int64  \n",
      " 11  id                         46037 non-null  int64  \n",
      " 12  length_ft                  45777 non-null  float64\n",
      " 13  width_ft                   43047 non-null  float64\n",
      " 14  surface                    45540 non-null  object \n",
      " 15  lighted                    46037 non-null  int64  \n",
      " 16  closed                     46037 non-null  int64  \n",
      " 17  le_ident                   45829 non-null  object \n",
      " 18  le_latitude_deg            15238 non-null  float64\n",
      " 19  le_longitude_deg           15220 non-null  float64\n",
      " 20  le_elevation_ft            12984 non-null  float64\n",
      " 21  le_heading_degT            14775 non-null  float64\n",
      " 22  le_displaced_threshold_ft  2954 non-null   float64\n",
      " 23  he_ident                   38965 non-null  object \n",
      " 24  he_latitude_deg            15174 non-null  float64\n",
      " 25  he_longitude_deg           15176 non-null  float64\n",
      " 26  he_elevation_ft            12797 non-null  float64\n",
      " 27  he_heading_degT            16584 non-null  float64\n",
      " 28  he_displaced_threshold_ft  3237 non-null   float64\n",
      "dtypes: float64(15), int64(5), object(9)\n",
      "memory usage: 10.2+ MB\n",
      "None\n"
     ]
    }
   ],
   "source": [
    "print(merged_data.info())"
   ]
  },
  {
   "cell_type": "code",
   "execution_count": 549,
   "id": "908b00bc-100c-471e-aba4-2749ed8e8cc4",
   "metadata": {},
   "outputs": [
    {
     "name": "stdout",
     "output_type": "stream",
     "text": [
      "   airport_ref airport_ident type_of_airport  \\\n",
      "0         6523           00A        heliport   \n",
      "1         6524          00AK   small_airport   \n",
      "2         6525          00AL   small_airport   \n",
      "3       506791          00AN   small_airport   \n",
      "4         6526          00AR          closed   \n",
      "\n",
      "                         airport_name  latitude  longitude  elevation_ft  \\\n",
      "0                   Total RF Heliport   40.0710   -74.9337       11.0000   \n",
      "1                        Lowell Field   59.9477  -151.6925      450.0000   \n",
      "2                        Epps Airpark   34.8648   -86.7703      820.0000   \n",
      "3                Katmai Lodge Airport   59.0933  -156.4567       80.0000   \n",
      "4  Newport Hospital & Clinic Heliport   35.6087   -91.2549      237.0000   \n",
      "\n",
      "  state  municipality scheduled_service  unique_id      id  length_ft  \\\n",
      "0    PA      Bensalem                no          1  269408    80.0000   \n",
      "1    AK  Anchor Point                no          3  255155  2500.0000   \n",
      "2    AL       Harvest                no          4  254165  2300.0000   \n",
      "3    AK   King Salmon                no          5  506792  4517.0000   \n",
      "4    AR       Newport                no          6  270932    40.0000   \n",
      "\n",
      "   width_ft surface  lighted  closed le_ident  le_displaced_threshold_ft  \\\n",
      "0   80.0000  ASPH-G        1       0       H1                        NaN   \n",
      "1   70.0000    GRVL        0       0        N                        NaN   \n",
      "2  200.0000    TURF        0       0       01                        NaN   \n",
      "3   60.0000     GVL        0       0        3                        NaN   \n",
      "4   40.0000   GRASS        0       0       H1                        NaN   \n",
      "\n",
      "  he_ident  he_displaced_threshold_ft  \n",
      "0      NaN                        NaN  \n",
      "1        S                        NaN  \n",
      "2       19                        NaN  \n",
      "3       21                        NaN  \n",
      "4       H1                        NaN  \n"
     ]
    }
   ],
   "source": [
    "# Define columns to drop \n",
    "columns_to_drop = ['le_latitude_deg', 'le_longitude_deg', 'le_elevation_ft', 'le_heading_degT', 'he_latitude_deg', 'he_longitude_deg', 'he_elevation_ft', 'he_heading_degT']\n",
    "\n",
    "# Drop unnecessary columns\n",
    "merged_data = merged_data[[col for col in merged_data.columns if col not in columns_to_drop]]\n",
    "\n",
    "# Print updated DataFrame head\n",
    "print(merged_data.head())"
   ]
  },
  {
   "cell_type": "code",
   "execution_count": 550,
   "id": "f0382b5c-2a3b-4aa2-83da-6fcb3badeda1",
   "metadata": {},
   "outputs": [],
   "source": [
    "# Delete rows with more than two characters in the 'state' column\n",
    "merged_data = merged_data[merged_data['state'].str.len() <= 2]"
   ]
  },
  {
   "cell_type": "code",
   "execution_count": 551,
   "id": "5bd6be00-c9ac-42ee-a8f7-5a5f8e6178d5",
   "metadata": {},
   "outputs": [],
   "source": [
    "# Save the DataFrame to CSV file\n",
    "merged_data.to_csv(r'C:\\Users\\hopeh\\Desktop\\data_science_bootcamp\\flight_times_capstone\\cleaned_airport_and_runway.csv', index=False)"
   ]
  },
  {
   "cell_type": "code",
   "execution_count": 552,
   "id": "b451ca50-0450-4cc9-a97f-3f40ea7b6ae3",
   "metadata": {},
   "outputs": [],
   "source": [
    "# import dataset containing iata airport data\n",
    "\n",
    "file_path = r'C:\\Users\\hopeh\\Desktop\\data_science_bootcamp\\flight_times_capstone\\iata.csv'\n",
    "iata_df = pd.read_csv(file_path)\n"
   ]
  },
  {
   "cell_type": "code",
   "execution_count": 553,
   "id": "89561f6c-ebfd-48b7-968a-bfceee4a03fc",
   "metadata": {},
   "outputs": [
    {
     "name": "stdout",
     "output_type": "stream",
     "text": [
      "  country_code region_name iata  icao                          airport  \\\n",
      "0           AE    Abu Zaby  AAN  OMAL     Al Ain International Airport   \n",
      "1           AE    Abu Zaby  AUH  OMAA  Abu Dhabi International Airport   \n",
      "2           AE    Abu Zaby  AYM   NaN         Yas Island Seaplane Base   \n",
      "3           AE    Abu Zaby  AZI  OMAD      Al Bateen Executive Airport   \n",
      "4           AE    Abu Zaby  DHF  OMAM               Al Dhafra Air Base   \n",
      "\n",
      "   latitude  longitude  \n",
      "0   24.2617    55.6092  \n",
      "1   24.4330    54.6511  \n",
      "2   24.4670    54.6103  \n",
      "3   24.4283    54.4581  \n",
      "4   24.2482    54.5477  \n"
     ]
    }
   ],
   "source": [
    "print(iata_df.head())"
   ]
  },
  {
   "cell_type": "code",
   "execution_count": 554,
   "id": "1facbb08-d127-4d23-bf0e-f48203a2b437",
   "metadata": {},
   "outputs": [
    {
     "name": "stdout",
     "output_type": "stream",
     "text": [
      "        state iata                                       airport_name  \\\n",
      "6610  Alabama  AIV                              George Downer Airport   \n",
      "6611  Alabama  ALX                            Thomas C. Russell Field   \n",
      "6612  Alabama  ANB                          Anniston Regional Airport   \n",
      "6613  Alabama  ASN                        Talladega Municipal Airport   \n",
      "6614  Alabama  AUO                 Auburn University Regional Airport   \n",
      "6615  Alabama  BFM                            Mobile Downtown Airport   \n",
      "6616  Alabama  BHM     Birmingham-Shuttlesworth International Airport   \n",
      "6617  Alabama  DCU                       Pryor Field Regional Airport   \n",
      "6618  Alabama  DHN                            Dothan Regional Airport   \n",
      "6619  Alabama  ETS                       Enterprise Municipal Airport   \n",
      "6620  Alabama  EUF                                       Weedon Field   \n",
      "6621  Alabama  GAD                 Northeast Alabama Regional Airport   \n",
      "6622  Alabama  GUF                               Jack Edwards Airport   \n",
      "6623  Alabama  HAB                Marion County - Rankin Fite Airport   \n",
      "6624  Alabama  HSV  Huntsville International Airport (Carl T. Jone...   \n",
      "6625  Alabama  HUA                             Redstone Army Airfield   \n",
      "6626  Alabama  MGM       Montgomery Regional Airport (Dannelly Field)   \n",
      "6627  Alabama  MOB                            Mobile Regional Airport   \n",
      "6628  Alabama  MSL                 Northwest Alabama Regional Airport   \n",
      "6629  Alabama  MVC                              Monroe County Airport   \n",
      "6630  Alabama  MXF                             Maxwell Air Force Base   \n",
      "6631  Alabama  NHX                                         NOLF Barin   \n",
      "6632  Alabama  OZR                               Cairns Army Airfield   \n",
      "6633  Alabama  PLR                           St. Clair County Airport   \n",
      "6634  Alabama  SEM                                        Craig Field   \n",
      "\n",
      "      latitude  longitude  unique_id  \n",
      "6610   33.1065   -88.1978          1  \n",
      "6611   32.9147   -85.9630          2  \n",
      "6612   33.5882   -85.8581          3  \n",
      "6613   33.5699   -86.0509          4  \n",
      "6614   32.6151   -85.4340          5  \n",
      "6615   30.6268   -88.0681          6  \n",
      "6616   33.5629   -86.7535          7  \n",
      "6617   34.6527   -86.9454          8  \n",
      "6618   31.3213   -85.4496          9  \n",
      "6619   31.2997   -85.8999         10  \n",
      "6620   31.9513   -85.1289         11  \n",
      "6621   33.9726   -86.0890         12  \n",
      "6622   30.2905   -87.6718         13  \n",
      "6623   34.1176   -87.9982         14  \n",
      "6624   34.6372   -86.7751         15  \n",
      "6625   34.6787   -86.6848         16  \n",
      "6626   32.3006   -86.3940         17  \n",
      "6627   30.6912   -88.2428         18  \n",
      "6628   34.7453   -87.6102         19  \n",
      "6629   31.4580   -87.3510         20  \n",
      "6630   32.3829   -86.3658         21  \n",
      "6631   30.3891   -87.6353         22  \n",
      "6632   31.2757   -85.7134         23  \n",
      "6633   33.5588   -86.2491         24  \n",
      "6634   32.3439   -86.9878         25  \n"
     ]
    }
   ],
   "source": [
    "# Filter the DataFrame to only include rows with country_code 'US'\n",
    "iata_df = iata_df[iata_df['country_code'] == 'US']\n",
    "\n",
    "# Drop the country_code and icao columns\n",
    "iata_df.drop(columns=['country_code', 'icao'], inplace=True)\n",
    "\n",
    "# Rename 'region' to 'state'\n",
    "iata_df.rename(columns={'region_name': 'state'}, inplace=True)\n",
    "\n",
    "# Rename 'airport' to 'airport_name'\n",
    "iata_df.rename(columns={'airport': 'airport_name'}, inplace=True)\n",
    "\n",
    "# Add a unique ID column\n",
    "iata_df['unique_id'] = range(1, len(iata_df) + 1)\n",
    "\n",
    "# Display the updated DataFrame\n",
    "print(iata_df.head(25))"
   ]
  },
  {
   "cell_type": "code",
   "execution_count": 599,
   "id": "c67093ae-e296-4b38-bbaf-a873b1956baf",
   "metadata": {},
   "outputs": [
    {
     "name": "stdout",
     "output_type": "stream",
     "text": [
      "        state iata                        airport_name  latitude  longitude  \\\n",
      "6610  Alabama  AIV               George Downer Airport   33.1065   -88.1978   \n",
      "6611  Alabama  ALX             Thomas C. Russell Field   32.9147   -85.9630   \n",
      "6612  Alabama  ANB           Anniston Regional Airport   33.5882   -85.8581   \n",
      "6613  Alabama  ASN         Talladega Municipal Airport   33.5699   -86.0509   \n",
      "6614  Alabama  AUO  Auburn University Regional Airport   32.6151   -85.4340   \n",
      "\n",
      "      unique_id state_abbr  \n",
      "6610          1         AL  \n",
      "6611          2         AL  \n",
      "6612          3         AL  \n",
      "6613          4         AL  \n",
      "6614          5         AL  \n"
     ]
    }
   ],
   "source": [
    "# create a mapping dictionary for state abbreviations\n",
    "state_abbreviations = {\n",
    "    'Alabama': 'AL',\n",
    "    'Alaska': 'AK',\n",
    "    'Arizona': 'AZ',\n",
    "    'Arkansas': 'AR',\n",
    "    'California': 'CA',\n",
    "    'Colorado': 'CO',\n",
    "    'Connecticut': 'CT',\n",
    "    'Delaware': 'DE',\n",
    "    'Florida': 'FL',\n",
    "    'Georgia': 'GA',\n",
    "    'Hawaii': 'HI',\n",
    "    'Idaho': 'ID',\n",
    "    'Illinois': 'IL',\n",
    "    'Indiana': 'IN',\n",
    "    'Iowa': 'IA',\n",
    "    'Kansas': 'KS',\n",
    "    'Kentucky': 'KY',\n",
    "    'Louisiana': 'LA',\n",
    "    'Maine': 'ME',\n",
    "    'Maryland': 'MD',\n",
    "    'Massachusetts': 'MA',\n",
    "    'Michigan': 'MI',\n",
    "    'Minnesota': 'MN',\n",
    "    'Mississippi': 'MS',\n",
    "    'Missouri': 'MO',\n",
    "    'Montana': 'MT',\n",
    "    'Nebraska': 'NE',\n",
    "    'Nevada': 'NV',\n",
    "    'New Hampshire': 'NH',\n",
    "    'New Jersey': 'NJ',\n",
    "    'New Mexico': 'NM',\n",
    "    'New York': 'NY',\n",
    "    'North Carolina': 'NC',\n",
    "    'North Dakota': 'ND',\n",
    "    'Ohio': 'OH',\n",
    "    'Oklahoma': 'OK',\n",
    "    'Oregon': 'OR',\n",
    "    'Pennsylvania': 'PA',\n",
    "    'Rhode Island': 'RI',\n",
    "    'South Carolina': 'SC',\n",
    "    'South Dakota': 'SD',\n",
    "    'Tennessee': 'TN',\n",
    "    'Texas': 'TX',\n",
    "    'Utah': 'UT',\n",
    "    'Vermont': 'VT',\n",
    "    'Virginia': 'VA',\n",
    "    'Washington': 'WA',\n",
    "    'West Virginia': 'WV',\n",
    "    'Wisconsin': 'WI',\n",
    "    'Wyoming': 'WY'\n",
    "}\n",
    "\n",
    "# Create a new column with state abbreviations\n",
    "iata_df['state_abbr'] = iata_df['state'].map(state_abbreviations)\n",
    "\n",
    "# Display the updated DataFrame\n",
    "print(iata_df.head())"
   ]
  },
  {
   "cell_type": "code",
   "execution_count": 605,
   "id": "115e18a2-1981-44ea-bad0-085db4f81899",
   "metadata": {},
   "outputs": [
    {
     "name": "stdout",
     "output_type": "stream",
     "text": [
      "DataFrame saved to cleaned_iata_data.csv\n"
     ]
    }
   ],
   "source": [
    "# Save the DataFrame to a CSV file\n",
    "iata_df.to_csv(r'C:\\Users\\hopeh\\Desktop\\data_science_bootcamp\\flight_times_capstone\\cleaned_iata_data.csv', index=False)\n",
    "\n",
    "print(\"DataFrame saved to cleaned_iata_data.csv\")"
   ]
  },
  {
   "cell_type": "code",
   "execution_count": null,
   "id": "58a08428-e2eb-4667-bbe2-ae5c0f98668d",
   "metadata": {},
   "outputs": [],
   "source": []
  }
 ],
 "metadata": {
  "kernelspec": {
   "display_name": "Python 3 (ipykernel)",
   "language": "python",
   "name": "python3"
  },
  "language_info": {
   "codemirror_mode": {
    "name": "ipython",
    "version": 3
   },
   "file_extension": ".py",
   "mimetype": "text/x-python",
   "name": "python",
   "nbconvert_exporter": "python",
   "pygments_lexer": "ipython3",
   "version": "3.12.4"
  }
 },
 "nbformat": 4,
 "nbformat_minor": 5
}
