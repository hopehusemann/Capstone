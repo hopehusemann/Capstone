{
 "cells": [
  {
   "cell_type": "code",
   "execution_count": 58,
   "id": "f77163a3-5a08-45b4-88d8-32b0d755fa7b",
   "metadata": {},
   "outputs": [
    {
     "name": "stdout",
     "output_type": "stream",
     "text": [
      "       station           id  latitude  longitude   elevation        date  \\\n",
      "0  us1alel0004  3774578.csv  32.55035 -86.384499  120.099998  2024-01-01   \n",
      "1  us1alel0004  3774578.csv  32.55035 -86.384499  120.099998  2024-01-02   \n",
      "2  us1alel0004  3774578.csv  32.55035 -86.384499  120.099998  2024-01-03   \n",
      "3  us1alel0004  3774578.csv  32.55035 -86.384499  120.099998  2024-01-04   \n",
      "4  us1alel0004  3774578.csv  32.55035 -86.384499  120.099998  2024-01-05   \n",
      "\n",
      "   prcp  snow  snwd  tmax  tmin  tobs       city state  \n",
      "0  0.00   0.0   NaN   NaN   NaN   NaN  millbrook    al  \n",
      "1  0.00   0.0   NaN   NaN   NaN   NaN  millbrook    al  \n",
      "2  0.00   0.0   NaN   NaN   NaN   NaN  millbrook    al  \n",
      "3  0.21   NaN   NaN   NaN   NaN   NaN  millbrook    al  \n",
      "4  0.00   0.0   NaN   NaN   NaN   NaN  millbrook    al  \n"
     ]
    }
   ],
   "source": [
    "import pandas as pd\n",
    "\n",
    "# Load the cleaned weather data\n",
    "weather_data = pd.read_csv(r'C:\\Users\\hopeh\\Desktop\\data_science_bootcamp\\flight_times_capstone\\cleaned_weather_data.csv')\n",
    "\n",
    "# Load the cleaned IATA data\n",
    "iata_data = pd.read_csv(r\"C:\\Users\\hopeh\\Desktop\\data_science_bootcamp\\flight_times_capstone\\cleaned_iata_data.csv\")\n",
    "\n",
    "# Display the first few rows of each DataFrame to confirm they loaded correctly\n",
    "print(weather_data.head())\n"
   ]
  },
  {
   "cell_type": "code",
   "execution_count": 59,
   "id": "c424ccdf-1eca-4504-88eb-64b960510c8b",
   "metadata": {},
   "outputs": [
    {
     "name": "stdout",
     "output_type": "stream",
     "text": [
      "     state iata                        airport_name  latitude  longitude  \\\n",
      "0  Alabama  AIV               George Downer Airport   33.1065   -88.1978   \n",
      "1  Alabama  ALX             Thomas C. Russell Field   32.9147   -85.9630   \n",
      "2  Alabama  ANB           Anniston Regional Airport   33.5882   -85.8581   \n",
      "3  Alabama  ASN         Talladega Municipal Airport   33.5699   -86.0509   \n",
      "4  Alabama  AUO  Auburn University Regional Airport   32.6151   -85.4340   \n",
      "\n",
      "   unique_id state_abbr  \n",
      "0          1         AL  \n",
      "1          2         AL  \n",
      "2          3         AL  \n",
      "3          4         AL  \n",
      "4          5         AL  \n"
     ]
    }
   ],
   "source": [
    "print(iata_data.head())"
   ]
  },
  {
   "cell_type": "code",
   "execution_count": 60,
   "id": "e8794305-6b5a-4c33-abbc-e027cfb333ba",
   "metadata": {},
   "outputs": [
    {
     "name": "stdout",
     "output_type": "stream",
     "text": [
      "         state iata                             airport_name  latitude  \\\n",
      "1205  Missouri  STL  Lambert-St. Louis International Airport   38.7487   \n",
      "\n",
      "      longitude  unique_id state_abbr  \n",
      "1205     -90.37       1206         MO  \n"
     ]
    }
   ],
   "source": [
    "print(iata_data[iata_data['iata']=='STL'])"
   ]
  },
  {
   "cell_type": "code",
   "execution_count": 61,
   "id": "ae242528-7a1d-47ce-b8b0-bba2e127da92",
   "metadata": {},
   "outputs": [],
   "source": [
    "# Function to clean column names and string values\n",
    "def clean_dataframe(df):\n",
    "    # Convert column names to lowercase and strip whitespace\n",
    "    df.columns = df.columns.str.lower().str.strip()\n",
    "    # Convert all string values to lowercase and strip whitespace\n",
    "    for col in df.select_dtypes(include=['object']).columns:\n",
    "        df[col] = df[col].str.lower().str.strip()\n",
    "    return df\n",
    "\n",
    "# Clean both datasets\n",
    "weather_data = clean_dataframe(weather_data)\n",
    "iata_data = clean_dataframe(iata_data)\n",
    "\n",
    "# Now both datasets have lowercase columns and cleaned string values\n"
   ]
  },
  {
   "cell_type": "code",
   "execution_count": 62,
   "id": "6dac1fae-4a9f-4865-a9b7-6d3519e74516",
   "metadata": {},
   "outputs": [
    {
     "name": "stdout",
     "output_type": "stream",
     "text": [
      "Index(['station', 'id', 'latitude', 'longitude', 'elevation', 'date', 'prcp',\n",
      "       'snow', 'snwd', 'tmax', 'tmin', 'tobs', 'city', 'state'],\n",
      "      dtype='object')\n",
      "Index(['state', 'iata', 'airport_name', 'latitude', 'longitude', 'unique_id',\n",
      "       'state_abbr'],\n",
      "      dtype='object')\n"
     ]
    }
   ],
   "source": [
    "print(weather_data.columns)\n",
    "print(iata_data.columns)"
   ]
  },
  {
   "cell_type": "code",
   "execution_count": 63,
   "id": "7c5392eb-5308-4951-b2a0-f6618c056613",
   "metadata": {},
   "outputs": [
    {
     "name": "stdout",
     "output_type": "stream",
     "text": [
      "       station           id  latitude  longitude   elevation        date  \\\n",
      "0  us1alel0004  3774578.csv  32.55035 -86.384499  120.099998  2024-01-01   \n",
      "1  us1alel0004  3774578.csv  32.55035 -86.384499  120.099998  2024-01-02   \n",
      "2  us1alel0004  3774578.csv  32.55035 -86.384499  120.099998  2024-01-03   \n",
      "3  us1alel0004  3774578.csv  32.55035 -86.384499  120.099998  2024-01-04   \n",
      "4  us1alel0004  3774578.csv  32.55035 -86.384499  120.099998  2024-01-05   \n",
      "\n",
      "   prcp  snow  snwd  tmax  tmin  tobs       city state  \n",
      "0  0.00   0.0   NaN   NaN   NaN   NaN  millbrook    al  \n",
      "1  0.00   0.0   NaN   NaN   NaN   NaN  millbrook    al  \n",
      "2  0.00   0.0   NaN   NaN   NaN   NaN  millbrook    al  \n",
      "3  0.21   NaN   NaN   NaN   NaN   NaN  millbrook    al  \n",
      "4  0.00   0.0   NaN   NaN   NaN   NaN  millbrook    al  \n",
      "     state iata                        airport_name  latitude  longitude  \\\n",
      "0  alabama  aiv               george downer airport   33.1065   -88.1978   \n",
      "1  alabama  alx             thomas c. russell field   32.9147   -85.9630   \n",
      "2  alabama  anb           anniston regional airport   33.5882   -85.8581   \n",
      "3  alabama  asn         talladega municipal airport   33.5699   -86.0509   \n",
      "4  alabama  auo  auburn university regional airport   32.6151   -85.4340   \n",
      "\n",
      "   unique_id state_abbr  \n",
      "0          1         al  \n",
      "1          2         al  \n",
      "2          3         al  \n",
      "3          4         al  \n",
      "4          5         al  \n"
     ]
    }
   ],
   "source": [
    "print(weather_data.head())\n",
    "print(iata_data.head())"
   ]
  },
  {
   "cell_type": "code",
   "execution_count": 64,
   "id": "91e86c24-9c8c-40fa-a9e8-33bad83db357",
   "metadata": {},
   "outputs": [],
   "source": [
    "# Rename the state column to state_abbr\n",
    "weather_data.rename(columns={'state': 'state_abbr'}, inplace=True)"
   ]
  },
  {
   "cell_type": "code",
   "execution_count": 65,
   "id": "71098bdb-5848-425e-ae01-68bda99ea207",
   "metadata": {},
   "outputs": [],
   "source": [
    "# Drop the unique_id column from iata_data\n",
    "iata_data = iata_data.drop(columns=['unique_id', 'state'])"
   ]
  },
  {
   "cell_type": "code",
   "execution_count": 66,
   "id": "33c860bc-e18a-4b98-80e5-10d9a460a746",
   "metadata": {},
   "outputs": [],
   "source": [
    "# Drop the station and id columns from weather_data\n",
    "weather_data = weather_data.drop(columns=['station', 'id',])"
   ]
  },
  {
   "cell_type": "code",
   "execution_count": 67,
   "id": "e76dbaec-130f-4915-a897-d162455291d0",
   "metadata": {},
   "outputs": [],
   "source": [
    "\n",
    "# Round latitude and longitude to two decimal places\n",
    "weather_data['latitude'] = weather_data['latitude'].round(2)\n",
    "weather_data['longitude'] = weather_data['longitude'].round(2)\n",
    "\n",
    "iata_data['latitude'] = iata_data['latitude'].round(2)\n",
    "iata_data['longitude'] = iata_data['longitude'].round(2)\n",
    "\n",
    "# Merge the datasets on latitude and longitude\n",
    "#merged_data = pd.merge(weather_data, iata_data, on=['latitude', 'longitude'], how='inner')\n",
    "\n",
    "# Now merged_data contains the combined information from both datasets\n"
   ]
  },
  {
   "cell_type": "code",
   "execution_count": 68,
   "id": "dbdd4d16-4b75-43f9-8423-c39510c481b2",
   "metadata": {},
   "outputs": [],
   "source": [
    "# merge the datasets on the state column in weather_data and state_abbr column in iata_data\n",
    "#merged_data = pd.merge(weather_data, iata_data, left_on='state', right_on='state_abbr', how='inner')"
   ]
  },
  {
   "cell_type": "code",
   "execution_count": 69,
   "id": "820d3050-f261-4bd7-8e02-1fa3f8bc2863",
   "metadata": {},
   "outputs": [
    {
     "data": {
      "text/html": [
       "<div>\n",
       "<style scoped>\n",
       "    .dataframe tbody tr th:only-of-type {\n",
       "        vertical-align: middle;\n",
       "    }\n",
       "\n",
       "    .dataframe tbody tr th {\n",
       "        vertical-align: top;\n",
       "    }\n",
       "\n",
       "    .dataframe thead th {\n",
       "        text-align: right;\n",
       "    }\n",
       "</style>\n",
       "<table border=\"1\" class=\"dataframe\">\n",
       "  <thead>\n",
       "    <tr style=\"text-align: right;\">\n",
       "      <th></th>\n",
       "      <th>latitude</th>\n",
       "      <th>longitude</th>\n",
       "      <th>elevation</th>\n",
       "      <th>date</th>\n",
       "      <th>prcp</th>\n",
       "      <th>snow</th>\n",
       "      <th>snwd</th>\n",
       "      <th>tmax</th>\n",
       "      <th>tmin</th>\n",
       "      <th>tobs</th>\n",
       "      <th>city</th>\n",
       "      <th>state_abbr</th>\n",
       "    </tr>\n",
       "  </thead>\n",
       "  <tbody>\n",
       "    <tr>\n",
       "      <th>0</th>\n",
       "      <td>32.55</td>\n",
       "      <td>-86.38</td>\n",
       "      <td>120.099998</td>\n",
       "      <td>2024-01-01</td>\n",
       "      <td>0.00</td>\n",
       "      <td>0.0</td>\n",
       "      <td>NaN</td>\n",
       "      <td>NaN</td>\n",
       "      <td>NaN</td>\n",
       "      <td>NaN</td>\n",
       "      <td>millbrook</td>\n",
       "      <td>al</td>\n",
       "    </tr>\n",
       "    <tr>\n",
       "      <th>1</th>\n",
       "      <td>32.55</td>\n",
       "      <td>-86.38</td>\n",
       "      <td>120.099998</td>\n",
       "      <td>2024-01-02</td>\n",
       "      <td>0.00</td>\n",
       "      <td>0.0</td>\n",
       "      <td>NaN</td>\n",
       "      <td>NaN</td>\n",
       "      <td>NaN</td>\n",
       "      <td>NaN</td>\n",
       "      <td>millbrook</td>\n",
       "      <td>al</td>\n",
       "    </tr>\n",
       "    <tr>\n",
       "      <th>2</th>\n",
       "      <td>32.55</td>\n",
       "      <td>-86.38</td>\n",
       "      <td>120.099998</td>\n",
       "      <td>2024-01-03</td>\n",
       "      <td>0.00</td>\n",
       "      <td>0.0</td>\n",
       "      <td>NaN</td>\n",
       "      <td>NaN</td>\n",
       "      <td>NaN</td>\n",
       "      <td>NaN</td>\n",
       "      <td>millbrook</td>\n",
       "      <td>al</td>\n",
       "    </tr>\n",
       "    <tr>\n",
       "      <th>3</th>\n",
       "      <td>32.55</td>\n",
       "      <td>-86.38</td>\n",
       "      <td>120.099998</td>\n",
       "      <td>2024-01-04</td>\n",
       "      <td>0.21</td>\n",
       "      <td>NaN</td>\n",
       "      <td>NaN</td>\n",
       "      <td>NaN</td>\n",
       "      <td>NaN</td>\n",
       "      <td>NaN</td>\n",
       "      <td>millbrook</td>\n",
       "      <td>al</td>\n",
       "    </tr>\n",
       "    <tr>\n",
       "      <th>4</th>\n",
       "      <td>32.55</td>\n",
       "      <td>-86.38</td>\n",
       "      <td>120.099998</td>\n",
       "      <td>2024-01-05</td>\n",
       "      <td>0.00</td>\n",
       "      <td>0.0</td>\n",
       "      <td>NaN</td>\n",
       "      <td>NaN</td>\n",
       "      <td>NaN</td>\n",
       "      <td>NaN</td>\n",
       "      <td>millbrook</td>\n",
       "      <td>al</td>\n",
       "    </tr>\n",
       "  </tbody>\n",
       "</table>\n",
       "</div>"
      ],
      "text/plain": [
       "   latitude  longitude   elevation        date  prcp  snow  snwd  tmax  tmin  \\\n",
       "0     32.55     -86.38  120.099998  2024-01-01  0.00   0.0   NaN   NaN   NaN   \n",
       "1     32.55     -86.38  120.099998  2024-01-02  0.00   0.0   NaN   NaN   NaN   \n",
       "2     32.55     -86.38  120.099998  2024-01-03  0.00   0.0   NaN   NaN   NaN   \n",
       "3     32.55     -86.38  120.099998  2024-01-04  0.21   NaN   NaN   NaN   NaN   \n",
       "4     32.55     -86.38  120.099998  2024-01-05  0.00   0.0   NaN   NaN   NaN   \n",
       "\n",
       "   tobs       city state_abbr  \n",
       "0   NaN  millbrook         al  \n",
       "1   NaN  millbrook         al  \n",
       "2   NaN  millbrook         al  \n",
       "3   NaN  millbrook         al  \n",
       "4   NaN  millbrook         al  "
      ]
     },
     "execution_count": 69,
     "metadata": {},
     "output_type": "execute_result"
    }
   ],
   "source": [
    "weather_data.head()"
   ]
  },
  {
   "cell_type": "code",
   "execution_count": 77,
   "id": "e6e8b243-1bc5-4761-99dc-4df439e367c4",
   "metadata": {},
   "outputs": [
    {
     "name": "stdout",
     "output_type": "stream",
     "text": [
      "Merging complete. Total merged rows: 146022\n"
     ]
    }
   ],
   "source": [
    "# Define chunk size for processing\n",
    "chunk_size = 25000  # Adjust this based on your memory capacity\n",
    "\n",
    "# Initialize an empty DataFrame to collect merged results\n",
    "merged_data = pd.DataFrame()\n",
    "\n",
    "# Process in chunks for the entire weather_data\n",
    "for i in range(0, len(weather_data), chunk_size):\n",
    "    chunk = weather_data.iloc[i:i + chunk_size]  # Create a chunk\n",
    "\n",
    "    # Merge each chunk with iata_data on latitude and longitude\n",
    "    merged_chunk = pd.merge(\n",
    "        chunk,\n",
    "        iata_data,\n",
    "        left_on=['latitude', 'longitude'],\n",
    "        right_on=['latitude', 'longitude'],\n",
    "        how='inner'\n",
    "    )\n",
    "    \n",
    "    # Append the merged chunk to the final DataFrame\n",
    "    merged_data = pd.concat([merged_data, merged_chunk], ignore_index=True)\n",
    "\n",
    "# Now merged_data contains the combined information from the entire dataset\n",
    "print(\"Merging complete. Total merged rows:\", len(merged_data))"
   ]
  },
  {
   "cell_type": "code",
   "execution_count": 79,
   "id": "d96a0570-8acf-4781-a8a9-302e3f0bbfc7",
   "metadata": {},
   "outputs": [
    {
     "name": "stdout",
     "output_type": "stream",
     "text": [
      "Number of unique airport names: 391\n"
     ]
    }
   ],
   "source": [
    "# Check the number of unique values in the airport_name column\n",
    "unique_airport_names_count = merged_data['airport_name'].nunique()\n",
    "\n",
    "# Print the result\n",
    "print(f\"Number of unique airport names: {unique_airport_names_count}\")\n"
   ]
  },
  {
   "cell_type": "code",
   "execution_count": 81,
   "id": "0dce0dce-bee8-49e6-80df-1467e5a58ea1",
   "metadata": {},
   "outputs": [
    {
     "data": {
      "text/html": [
       "<div>\n",
       "<style scoped>\n",
       "    .dataframe tbody tr th:only-of-type {\n",
       "        vertical-align: middle;\n",
       "    }\n",
       "\n",
       "    .dataframe tbody tr th {\n",
       "        vertical-align: top;\n",
       "    }\n",
       "\n",
       "    .dataframe thead th {\n",
       "        text-align: right;\n",
       "    }\n",
       "</style>\n",
       "<table border=\"1\" class=\"dataframe\">\n",
       "  <thead>\n",
       "    <tr style=\"text-align: right;\">\n",
       "      <th></th>\n",
       "      <th>latitude</th>\n",
       "      <th>longitude</th>\n",
       "      <th>elevation</th>\n",
       "      <th>date</th>\n",
       "      <th>prcp</th>\n",
       "      <th>snow</th>\n",
       "      <th>snwd</th>\n",
       "      <th>tmax</th>\n",
       "      <th>tmin</th>\n",
       "      <th>tobs</th>\n",
       "      <th>city</th>\n",
       "      <th>state_abbr_x</th>\n",
       "      <th>iata</th>\n",
       "      <th>airport_name</th>\n",
       "      <th>state_abbr_y</th>\n",
       "    </tr>\n",
       "  </thead>\n",
       "  <tbody>\n",
       "    <tr>\n",
       "      <th>0</th>\n",
       "      <td>31.95</td>\n",
       "      <td>-85.13</td>\n",
       "      <td>86.800003</td>\n",
       "      <td>2024-01-01</td>\n",
       "      <td>0.00</td>\n",
       "      <td>NaN</td>\n",
       "      <td>NaN</td>\n",
       "      <td>65.0</td>\n",
       "      <td>32.0</td>\n",
       "      <td>NaN</td>\n",
       "      <td>eufaula weedon field airport</td>\n",
       "      <td>al</td>\n",
       "      <td>euf</td>\n",
       "      <td>weedon field</td>\n",
       "      <td>al</td>\n",
       "    </tr>\n",
       "    <tr>\n",
       "      <th>1</th>\n",
       "      <td>31.95</td>\n",
       "      <td>-85.13</td>\n",
       "      <td>86.800003</td>\n",
       "      <td>2024-01-02</td>\n",
       "      <td>0.00</td>\n",
       "      <td>NaN</td>\n",
       "      <td>NaN</td>\n",
       "      <td>55.0</td>\n",
       "      <td>27.0</td>\n",
       "      <td>NaN</td>\n",
       "      <td>eufaula weedon field airport</td>\n",
       "      <td>al</td>\n",
       "      <td>euf</td>\n",
       "      <td>weedon field</td>\n",
       "      <td>al</td>\n",
       "    </tr>\n",
       "    <tr>\n",
       "      <th>2</th>\n",
       "      <td>31.95</td>\n",
       "      <td>-85.13</td>\n",
       "      <td>86.800003</td>\n",
       "      <td>2024-01-03</td>\n",
       "      <td>0.14</td>\n",
       "      <td>NaN</td>\n",
       "      <td>NaN</td>\n",
       "      <td>43.0</td>\n",
       "      <td>27.0</td>\n",
       "      <td>NaN</td>\n",
       "      <td>eufaula weedon field airport</td>\n",
       "      <td>al</td>\n",
       "      <td>euf</td>\n",
       "      <td>weedon field</td>\n",
       "      <td>al</td>\n",
       "    </tr>\n",
       "    <tr>\n",
       "      <th>3</th>\n",
       "      <td>31.95</td>\n",
       "      <td>-85.13</td>\n",
       "      <td>86.800003</td>\n",
       "      <td>2024-01-04</td>\n",
       "      <td>0.00</td>\n",
       "      <td>NaN</td>\n",
       "      <td>NaN</td>\n",
       "      <td>58.0</td>\n",
       "      <td>31.0</td>\n",
       "      <td>NaN</td>\n",
       "      <td>eufaula weedon field airport</td>\n",
       "      <td>al</td>\n",
       "      <td>euf</td>\n",
       "      <td>weedon field</td>\n",
       "      <td>al</td>\n",
       "    </tr>\n",
       "    <tr>\n",
       "      <th>4</th>\n",
       "      <td>31.95</td>\n",
       "      <td>-85.13</td>\n",
       "      <td>86.800003</td>\n",
       "      <td>2024-01-05</td>\n",
       "      <td>0.23</td>\n",
       "      <td>NaN</td>\n",
       "      <td>NaN</td>\n",
       "      <td>61.0</td>\n",
       "      <td>29.0</td>\n",
       "      <td>NaN</td>\n",
       "      <td>eufaula weedon field airport</td>\n",
       "      <td>al</td>\n",
       "      <td>euf</td>\n",
       "      <td>weedon field</td>\n",
       "      <td>al</td>\n",
       "    </tr>\n",
       "    <tr>\n",
       "      <th>...</th>\n",
       "      <td>...</td>\n",
       "      <td>...</td>\n",
       "      <td>...</td>\n",
       "      <td>...</td>\n",
       "      <td>...</td>\n",
       "      <td>...</td>\n",
       "      <td>...</td>\n",
       "      <td>...</td>\n",
       "      <td>...</td>\n",
       "      <td>...</td>\n",
       "      <td>...</td>\n",
       "      <td>...</td>\n",
       "      <td>...</td>\n",
       "      <td>...</td>\n",
       "      <td>...</td>\n",
       "    </tr>\n",
       "    <tr>\n",
       "      <th>146007</th>\n",
       "      <td>44.38</td>\n",
       "      <td>-106.72</td>\n",
       "      <td>1503.800049</td>\n",
       "      <td>2023-12-17</td>\n",
       "      <td>0.00</td>\n",
       "      <td>NaN</td>\n",
       "      <td>NaN</td>\n",
       "      <td>45.0</td>\n",
       "      <td>27.0</td>\n",
       "      <td>NaN</td>\n",
       "      <td>buffalo johnson co airport</td>\n",
       "      <td>wy</td>\n",
       "      <td>byg</td>\n",
       "      <td>johnson county airport</td>\n",
       "      <td>wy</td>\n",
       "    </tr>\n",
       "    <tr>\n",
       "      <th>146008</th>\n",
       "      <td>44.38</td>\n",
       "      <td>-106.72</td>\n",
       "      <td>1503.800049</td>\n",
       "      <td>2023-12-18</td>\n",
       "      <td>0.00</td>\n",
       "      <td>NaN</td>\n",
       "      <td>NaN</td>\n",
       "      <td>56.0</td>\n",
       "      <td>24.0</td>\n",
       "      <td>NaN</td>\n",
       "      <td>buffalo johnson co airport</td>\n",
       "      <td>wy</td>\n",
       "      <td>byg</td>\n",
       "      <td>johnson county airport</td>\n",
       "      <td>wy</td>\n",
       "    </tr>\n",
       "    <tr>\n",
       "      <th>146009</th>\n",
       "      <td>44.38</td>\n",
       "      <td>-106.72</td>\n",
       "      <td>1503.800049</td>\n",
       "      <td>2023-12-19</td>\n",
       "      <td>0.00</td>\n",
       "      <td>NaN</td>\n",
       "      <td>NaN</td>\n",
       "      <td>55.0</td>\n",
       "      <td>34.0</td>\n",
       "      <td>NaN</td>\n",
       "      <td>buffalo johnson co airport</td>\n",
       "      <td>wy</td>\n",
       "      <td>byg</td>\n",
       "      <td>johnson county airport</td>\n",
       "      <td>wy</td>\n",
       "    </tr>\n",
       "    <tr>\n",
       "      <th>146010</th>\n",
       "      <td>44.38</td>\n",
       "      <td>-106.72</td>\n",
       "      <td>1503.800049</td>\n",
       "      <td>2023-12-20</td>\n",
       "      <td>0.00</td>\n",
       "      <td>NaN</td>\n",
       "      <td>NaN</td>\n",
       "      <td>54.0</td>\n",
       "      <td>36.0</td>\n",
       "      <td>NaN</td>\n",
       "      <td>buffalo johnson co airport</td>\n",
       "      <td>wy</td>\n",
       "      <td>byg</td>\n",
       "      <td>johnson county airport</td>\n",
       "      <td>wy</td>\n",
       "    </tr>\n",
       "    <tr>\n",
       "      <th>146011</th>\n",
       "      <td>44.38</td>\n",
       "      <td>-106.72</td>\n",
       "      <td>1503.800049</td>\n",
       "      <td>2023-12-21</td>\n",
       "      <td>0.00</td>\n",
       "      <td>NaN</td>\n",
       "      <td>NaN</td>\n",
       "      <td>53.0</td>\n",
       "      <td>33.0</td>\n",
       "      <td>NaN</td>\n",
       "      <td>buffalo johnson co airport</td>\n",
       "      <td>wy</td>\n",
       "      <td>byg</td>\n",
       "      <td>johnson county airport</td>\n",
       "      <td>wy</td>\n",
       "    </tr>\n",
       "  </tbody>\n",
       "</table>\n",
       "<p>146012 rows × 15 columns</p>\n",
       "</div>"
      ],
      "text/plain": [
       "        latitude  longitude    elevation        date  prcp  snow  snwd  tmax  \\\n",
       "0          31.95     -85.13    86.800003  2024-01-01  0.00   NaN   NaN  65.0   \n",
       "1          31.95     -85.13    86.800003  2024-01-02  0.00   NaN   NaN  55.0   \n",
       "2          31.95     -85.13    86.800003  2024-01-03  0.14   NaN   NaN  43.0   \n",
       "3          31.95     -85.13    86.800003  2024-01-04  0.00   NaN   NaN  58.0   \n",
       "4          31.95     -85.13    86.800003  2024-01-05  0.23   NaN   NaN  61.0   \n",
       "...          ...        ...          ...         ...   ...   ...   ...   ...   \n",
       "146007     44.38    -106.72  1503.800049  2023-12-17  0.00   NaN   NaN  45.0   \n",
       "146008     44.38    -106.72  1503.800049  2023-12-18  0.00   NaN   NaN  56.0   \n",
       "146009     44.38    -106.72  1503.800049  2023-12-19  0.00   NaN   NaN  55.0   \n",
       "146010     44.38    -106.72  1503.800049  2023-12-20  0.00   NaN   NaN  54.0   \n",
       "146011     44.38    -106.72  1503.800049  2023-12-21  0.00   NaN   NaN  53.0   \n",
       "\n",
       "        tmin  tobs                          city state_abbr_x iata  \\\n",
       "0       32.0   NaN  eufaula weedon field airport           al  euf   \n",
       "1       27.0   NaN  eufaula weedon field airport           al  euf   \n",
       "2       27.0   NaN  eufaula weedon field airport           al  euf   \n",
       "3       31.0   NaN  eufaula weedon field airport           al  euf   \n",
       "4       29.0   NaN  eufaula weedon field airport           al  euf   \n",
       "...      ...   ...                           ...          ...  ...   \n",
       "146007  27.0   NaN    buffalo johnson co airport           wy  byg   \n",
       "146008  24.0   NaN    buffalo johnson co airport           wy  byg   \n",
       "146009  34.0   NaN    buffalo johnson co airport           wy  byg   \n",
       "146010  36.0   NaN    buffalo johnson co airport           wy  byg   \n",
       "146011  33.0   NaN    buffalo johnson co airport           wy  byg   \n",
       "\n",
       "                  airport_name state_abbr_y  \n",
       "0                 weedon field           al  \n",
       "1                 weedon field           al  \n",
       "2                 weedon field           al  \n",
       "3                 weedon field           al  \n",
       "4                 weedon field           al  \n",
       "...                        ...          ...  \n",
       "146007  johnson county airport           wy  \n",
       "146008  johnson county airport           wy  \n",
       "146009  johnson county airport           wy  \n",
       "146010  johnson county airport           wy  \n",
       "146011  johnson county airport           wy  \n",
       "\n",
       "[146012 rows x 15 columns]"
      ]
     },
     "execution_count": 81,
     "metadata": {},
     "output_type": "execute_result"
    }
   ],
   "source": [
    "merged_data.head(-10)"
   ]
  },
  {
   "cell_type": "code",
   "execution_count": 83,
   "id": "ea7c7ff6-8638-440c-9154-1d191cebf487",
   "metadata": {},
   "outputs": [
    {
     "name": "stdout",
     "output_type": "stream",
     "text": [
      "Number of unique airport names: 391\n"
     ]
    }
   ],
   "source": [
    "# Check the number of unique values in the airport_name column\n",
    "unique_airport_names_count = merged_data['airport_name'].nunique()\n",
    "\n",
    "# Print the result\n",
    "print(f\"Number of unique airport names: {unique_airport_names_count}\")"
   ]
  },
  {
   "cell_type": "code",
   "execution_count": 85,
   "id": "ff79f8fd-520b-4ee9-978c-790aeec7d742",
   "metadata": {},
   "outputs": [],
   "source": [
    "# Check for null or empty values in latitude and longitude columns\n",
    "null_latitude_count = weather_data['latitude'].isnull().sum()\n",
    "null_longitude_count = weather_data['longitude'].isnull().sum()"
   ]
  },
  {
   "cell_type": "code",
   "execution_count": 87,
   "id": "b61956c5-93b6-4ec8-8297-2690788d9b7c",
   "metadata": {},
   "outputs": [],
   "source": [
    "# Check for null or empty values in latitude and longitude columns\n",
    "null_latitude_count = iata_data['latitude'].isnull().sum()\n",
    "null_longitude_count = iata_data['longitude'].isnull().sum()"
   ]
  },
  {
   "cell_type": "code",
   "execution_count": 91,
   "id": "b6fa1211-6677-46e8-bf46-09bfdbdefb18",
   "metadata": {},
   "outputs": [],
   "source": [
    "# # Truncate latitude and longitude to 0 decimal places for matching\n",
    "# weather_data['lat_truncated'] = weather_data['latitude'].apply(lambda x: int(x))\n",
    "# weather_data['lon_truncated'] = weather_data['longitude'].apply(lambda x: int(x))\n",
    "\n",
    "# iata_data['lat_truncated'] = iata_data['latitude'].apply(lambda x: int(x))\n",
    "# iata_data['lon_truncated'] = iata_data['longitude'].apply(lambda x: int(x))\n",
    "\n",
    "# # Now merge on the truncated columns\n",
    "# merged_data = pd.merge(\n",
    "#     weather_data,\n",
    "#     iata_data,\n",
    "#     left_on=['lat_truncated', 'lon_truncated'],\n",
    "#     right_on=['lat_truncated', 'lon_truncated'],\n",
    "#     how='inner'\n",
    "# )\n",
    "\n",
    "# # Drop the temporary truncated columns if needed\n",
    "# merged_data = merged_data.drop(columns=['lat_truncated', 'lon_truncated'])\n",
    "\n",
    "# # Now merged_data contains the combined information based on latitude and longitude"
   ]
  },
  {
   "cell_type": "code",
   "execution_count": 89,
   "id": "72753d55-6eab-40c2-82d0-40efe75c1f64",
   "metadata": {},
   "outputs": [
    {
     "data": {
      "text/plain": [
       "(146022, 15)"
      ]
     },
     "execution_count": 89,
     "metadata": {},
     "output_type": "execute_result"
    }
   ],
   "source": [
    "merged_data.shape"
   ]
  },
  {
   "cell_type": "code",
   "execution_count": 95,
   "id": "5ff0981c-1e5e-457e-af1c-e81fbd6234d3",
   "metadata": {},
   "outputs": [
    {
     "data": {
      "text/plain": [
       "(2029, 5)"
      ]
     },
     "execution_count": 95,
     "metadata": {},
     "output_type": "execute_result"
    }
   ],
   "source": [
    "iata_data.shape"
   ]
  },
  {
   "cell_type": "code",
   "execution_count": 97,
   "id": "96fa217c-c917-4538-8023-391083ed140f",
   "metadata": {},
   "outputs": [
    {
     "data": {
      "text/plain": [
       "(9109888, 12)"
      ]
     },
     "execution_count": 97,
     "metadata": {},
     "output_type": "execute_result"
    }
   ],
   "source": [
    "weather_data.shape"
   ]
  },
  {
   "cell_type": "code",
   "execution_count": 99,
   "id": "82a607d5-27dc-4d1d-8d4f-ecf96842cb78",
   "metadata": {},
   "outputs": [],
   "source": [
    "# Save the merged_data DataFrame to a CSV file\n",
    "merged_data.to_csv('weather_iata.csv', index=False)"
   ]
  }
 ],
 "metadata": {
  "kernelspec": {
   "display_name": "Python 3 (ipykernel)",
   "language": "python",
   "name": "python3"
  },
  "language_info": {
   "codemirror_mode": {
    "name": "ipython",
    "version": 3
   },
   "file_extension": ".py",
   "mimetype": "text/x-python",
   "name": "python",
   "nbconvert_exporter": "python",
   "pygments_lexer": "ipython3",
   "version": "3.12.4"
  }
 },
 "nbformat": 4,
 "nbformat_minor": 5
}
