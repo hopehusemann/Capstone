{
 "cells": [
  {
   "cell_type": "code",
   "execution_count": 1,
   "id": "0c121457-c485-4237-be9d-646c68aa9471",
   "metadata": {},
   "outputs": [],
   "source": [
    "import pandas as pd\n",
    "import numpy as np\n",
    "import seaborn as sns\n",
    "from scipy import stats\n",
    "from scipy.sparse import load_npz\n",
    "from sklearn.model_selection import train_test_split\n",
    "from sklearn.linear_model import LogisticRegression"
   ]
  },
  {
   "cell_type": "markdown",
   "id": "9c482e4d-1681-458f-9c99-38e35240df9c",
   "metadata": {},
   "source": [
    "Overview of Notebook: \n",
    "\n",
    "Use pre-processed flight/airport/weather data to fit using machine learning to create a predictor of flight delays.\n",
    "Loaded and finalized any preprocessing steps (target variable delay_minutes is pre-scaled), updating data types as needed.\n",
    "Apply label encoding to each categorical column\n",
    "Perform One-Hot Encoding on binary categorical features\n",
    "Feature Selecture: Removed all features that were too highly correlated per correlation analysis in preprocessing. \n",
    "Then run the following regressors to try to fit the data.\n",
    "\n",
    "Delay is Continuous (Regression Problem):\n",
    "\n",
    "Linear Regression: A simple starting point.\n",
    "\n",
    "Random Forest Regressor: Non-linear model that performs well in many cases.\n",
    "\n",
    "Gradient Boosting: Powerful algorithms like XGBoost, LightGBM, or CatBoost can often outperform random forests.\n",
    "77"
   ]
  },
  {
   "cell_type": "markdown",
   "id": "21351764-789f-4ff9-b0e1-0de5367cfac8",
   "metadata": {},
   "source": [
    "Compared all RMSE, MAE, and R^2 values.  \n",
    "Ultimately Random Forest Regression performed best, as outlined below. \n",
    "Hypertuned parameters on RFR, tested, trained, and used it to test new data with the current final outcome below.\n",
    "\n",
    "MAE: 0.0029990546079890273\n",
    "MSE: 0.00111529610502451\n",
    "R²: 0.9996975678399977\n",
    "\n"
   ]
  },
  {
   "cell_type": "code",
   "execution_count": 2,
   "id": "0fb824d4-498e-4465-bf44-164086051e4b",
   "metadata": {},
   "outputs": [],
   "source": [
    "# Load preprocessed data\n",
    "\n",
    "df = pd.read_csv(r'C:\\Users\\hopeh\\Desktop\\data_science_bootcamp\\flight_times_capstone\\preprocessed_data_week.csv', low_memory=False)\n"
   ]
  },
  {
   "cell_type": "code",
   "execution_count": 3,
   "id": "1ebb4c89-9454-4c9d-90e4-c0f4b5a52625",
   "metadata": {},
   "outputs": [
    {
     "data": {
      "text/plain": [
       "Index(['day_of_week', 'timestamp', 'op_unique_carrier', 'op_carrier_fl_num',\n",
       "       'origin_iata', 'dest_iata', 'crs_dep_time', 'dep_time', 'taxi_out',\n",
       "       'wheels_off', 'wheels_on', 'taxi_in', 'crs_arr_time', 'arr_time',\n",
       "       'crs_elapsed_time', 'actual_elapsed_time', 'air_time', 'flights',\n",
       "       'distance', 'origin_state', 'dest_state', 'origin_latitude',\n",
       "       'origin_longitude', 'dest_latitude', 'dest_longitude',\n",
       "       'type_of_airport', 'elevation_ft', 'length_ft', 'width_ft', 'surface',\n",
       "       'lighted', 'latitude_orig', 'longitude_orig', 'elevation_orig',\n",
       "       'tmax_orig', 'tmin_orig', 'weather_indicator', 'total_delay_time',\n",
       "       'is_weekend', 'arrival_delay', 'departure_delay', 'airline_name',\n",
       "       'nfl_game', 'delay_columns', 'latitude_dest', 'longitude_dest',\n",
       "       'elevation_dest', 'tmax_dest', 'tmin_dest', 'flight_delay_category',\n",
       "       'delay_minutes'],\n",
       "      dtype='object')"
      ]
     },
     "execution_count": 3,
     "metadata": {},
     "output_type": "execute_result"
    }
   ],
   "source": [
    "df.columns"
   ]
  },
  {
   "cell_type": "code",
   "execution_count": 4,
   "id": "d5fcab3b-2923-41ed-a633-7e55b5707f36",
   "metadata": {},
   "outputs": [
    {
     "data": {
      "text/plain": [
       "0    1.0\n",
       "1    1.0\n",
       "2    1.0\n",
       "3    1.0\n",
       "4    1.0\n",
       "Name: flights, dtype: float64"
      ]
     },
     "execution_count": 4,
     "metadata": {},
     "output_type": "execute_result"
    }
   ],
   "source": [
    "df['flights'].head()"
   ]
  },
  {
   "cell_type": "code",
   "execution_count": 5,
   "id": "c78290c8-0153-4989-bead-37fae08eae75",
   "metadata": {},
   "outputs": [
    {
     "data": {
      "text/plain": [
       "Index(['day_of_week', 'timestamp', 'op_unique_carrier', 'op_carrier_fl_num',\n",
       "       'origin_iata', 'dest_iata', 'crs_dep_time', 'dep_time', 'taxi_out',\n",
       "       'wheels_off', 'wheels_on', 'taxi_in', 'crs_arr_time', 'arr_time',\n",
       "       'crs_elapsed_time', 'actual_elapsed_time', 'air_time', 'flights',\n",
       "       'distance', 'origin_state', 'dest_state', 'origin_latitude',\n",
       "       'origin_longitude', 'dest_latitude', 'dest_longitude',\n",
       "       'type_of_airport', 'elevation_ft', 'length_ft', 'width_ft', 'surface',\n",
       "       'lighted', 'latitude_orig', 'longitude_orig', 'elevation_orig',\n",
       "       'tmax_orig', 'tmin_orig', 'weather_indicator', 'total_delay_time',\n",
       "       'is_weekend', 'arrival_delay', 'departure_delay', 'airline_name',\n",
       "       'nfl_game', 'delay_columns', 'latitude_dest', 'longitude_dest',\n",
       "       'elevation_dest', 'tmax_dest', 'tmin_dest', 'flight_delay_category',\n",
       "       'delay_minutes'],\n",
       "      dtype='object')"
      ]
     },
     "execution_count": 5,
     "metadata": {},
     "output_type": "execute_result"
    }
   ],
   "source": [
    "df.columns"
   ]
  },
  {
   "cell_type": "code",
   "execution_count": 6,
   "id": "8717efe1-225d-4507-a749-d4678dc3afa8",
   "metadata": {},
   "outputs": [
    {
     "name": "stdout",
     "output_type": "stream",
     "text": [
      "Index(['day_of_week', 'op_unique_carrier', 'op_carrier_fl_num', 'origin_iata',\n",
      "       'dest_iata', 'crs_dep_time', 'dep_time', 'arr_time',\n",
      "       'actual_elapsed_time', 'air_time', 'distance', 'origin_state',\n",
      "       'dest_state', 'length_ft', 'width_ft', 'surface', 'lighted',\n",
      "       'elevation_orig', 'tmax_orig', 'tmin_orig', 'weather_indicator',\n",
      "       'is_weekend', 'departure_delay', 'airline_name', 'nfl_game',\n",
      "       'delay_columns', 'elevation_dest', 'tmax_dest', 'tmin_dest',\n",
      "       'delay_minutes'],\n",
      "      dtype='object')\n"
     ]
    }
   ],
   "source": [
    "# Drop columns\n",
    "# Remove arrival_delay: Since it has a perfect correlation with delay_minutes, \n",
    "# it’s likely capturing the same information and should be removed to avoid leakage.\n",
    "\n",
    "\n",
    "# Drop columns correctly\n",
    "df = df.drop(columns=['taxi_out', 'wheels_off', 'wheels_on', 'taxi_in', 'crs_elapsed_time', \n",
    "                      'origin_latitude', 'origin_longitude', 'dest_latitude', 'dest_longitude', \n",
    "                      'type_of_airport', 'latitude_orig', 'longitude_orig', 'elevation_ft', \n",
    "                      'latitude_dest', 'longitude_dest', 'total_delay_time', 'flight_delay_category', \n",
    "                      'arrival_delay', 'flights', 'crs_arr_time', 'timestamp'], axis=1)\n",
    "\n",
    "# Check the columns after dropping\n",
    "print(df.columns)\n"
   ]
  },
  {
   "cell_type": "code",
   "execution_count": 7,
   "id": "0624c313-cd50-4c7b-9a4b-78d3208b084d",
   "metadata": {},
   "outputs": [
    {
     "data": {
      "text/html": [
       "<div>\n",
       "<style scoped>\n",
       "    .dataframe tbody tr th:only-of-type {\n",
       "        vertical-align: middle;\n",
       "    }\n",
       "\n",
       "    .dataframe tbody tr th {\n",
       "        vertical-align: top;\n",
       "    }\n",
       "\n",
       "    .dataframe thead th {\n",
       "        text-align: right;\n",
       "    }\n",
       "</style>\n",
       "<table border=\"1\" class=\"dataframe\">\n",
       "  <thead>\n",
       "    <tr style=\"text-align: right;\">\n",
       "      <th></th>\n",
       "      <th>day_of_week</th>\n",
       "      <th>op_unique_carrier</th>\n",
       "      <th>op_carrier_fl_num</th>\n",
       "      <th>origin_iata</th>\n",
       "      <th>dest_iata</th>\n",
       "      <th>crs_dep_time</th>\n",
       "      <th>dep_time</th>\n",
       "      <th>arr_time</th>\n",
       "      <th>actual_elapsed_time</th>\n",
       "      <th>air_time</th>\n",
       "      <th>...</th>\n",
       "      <th>weather_indicator</th>\n",
       "      <th>is_weekend</th>\n",
       "      <th>departure_delay</th>\n",
       "      <th>airline_name</th>\n",
       "      <th>nfl_game</th>\n",
       "      <th>delay_columns</th>\n",
       "      <th>elevation_dest</th>\n",
       "      <th>tmax_dest</th>\n",
       "      <th>tmin_dest</th>\n",
       "      <th>delay_minutes</th>\n",
       "    </tr>\n",
       "  </thead>\n",
       "  <tbody>\n",
       "    <tr>\n",
       "      <th>0</th>\n",
       "      <td>1</td>\n",
       "      <td>ua</td>\n",
       "      <td>2155</td>\n",
       "      <td>lax</td>\n",
       "      <td>ewr</td>\n",
       "      <td>450</td>\n",
       "      <td>443.0</td>\n",
       "      <td>1200.0</td>\n",
       "      <td>124.0</td>\n",
       "      <td>98.0</td>\n",
       "      <td>...</td>\n",
       "      <td>0.0</td>\n",
       "      <td>0</td>\n",
       "      <td>-7.0</td>\n",
       "      <td>united airlines</td>\n",
       "      <td>no</td>\n",
       "      <td>0.0</td>\n",
       "      <td>125.0</td>\n",
       "      <td>84.0</td>\n",
       "      <td>66.0</td>\n",
       "      <td>2.623514</td>\n",
       "    </tr>\n",
       "    <tr>\n",
       "      <th>1</th>\n",
       "      <td>1</td>\n",
       "      <td>ua</td>\n",
       "      <td>2155</td>\n",
       "      <td>lax</td>\n",
       "      <td>ewr</td>\n",
       "      <td>450</td>\n",
       "      <td>443.0</td>\n",
       "      <td>1200.0</td>\n",
       "      <td>124.0</td>\n",
       "      <td>98.0</td>\n",
       "      <td>...</td>\n",
       "      <td>0.0</td>\n",
       "      <td>0</td>\n",
       "      <td>-7.0</td>\n",
       "      <td>united airlines</td>\n",
       "      <td>no</td>\n",
       "      <td>0.0</td>\n",
       "      <td>125.0</td>\n",
       "      <td>84.0</td>\n",
       "      <td>66.0</td>\n",
       "      <td>2.623514</td>\n",
       "    </tr>\n",
       "    <tr>\n",
       "      <th>2</th>\n",
       "      <td>1</td>\n",
       "      <td>ua</td>\n",
       "      <td>438</td>\n",
       "      <td>cle</td>\n",
       "      <td>iad</td>\n",
       "      <td>1188</td>\n",
       "      <td>1286.0</td>\n",
       "      <td>1356.0</td>\n",
       "      <td>70.0</td>\n",
       "      <td>46.0</td>\n",
       "      <td>...</td>\n",
       "      <td>0.0</td>\n",
       "      <td>0</td>\n",
       "      <td>98.0</td>\n",
       "      <td>united airlines</td>\n",
       "      <td>no</td>\n",
       "      <td>94.0</td>\n",
       "      <td>791.0</td>\n",
       "      <td>84.0</td>\n",
       "      <td>66.0</td>\n",
       "      <td>0.863516</td>\n",
       "    </tr>\n",
       "    <tr>\n",
       "      <th>3</th>\n",
       "      <td>1</td>\n",
       "      <td>ua</td>\n",
       "      <td>438</td>\n",
       "      <td>cle</td>\n",
       "      <td>iad</td>\n",
       "      <td>1188</td>\n",
       "      <td>1286.0</td>\n",
       "      <td>1356.0</td>\n",
       "      <td>70.0</td>\n",
       "      <td>46.0</td>\n",
       "      <td>...</td>\n",
       "      <td>0.0</td>\n",
       "      <td>0</td>\n",
       "      <td>98.0</td>\n",
       "      <td>united airlines</td>\n",
       "      <td>no</td>\n",
       "      <td>94.0</td>\n",
       "      <td>791.0</td>\n",
       "      <td>84.0</td>\n",
       "      <td>66.0</td>\n",
       "      <td>0.863516</td>\n",
       "    </tr>\n",
       "    <tr>\n",
       "      <th>4</th>\n",
       "      <td>1</td>\n",
       "      <td>ua</td>\n",
       "      <td>438</td>\n",
       "      <td>cle</td>\n",
       "      <td>iad</td>\n",
       "      <td>1188</td>\n",
       "      <td>1286.0</td>\n",
       "      <td>1356.0</td>\n",
       "      <td>70.0</td>\n",
       "      <td>46.0</td>\n",
       "      <td>...</td>\n",
       "      <td>0.0</td>\n",
       "      <td>0</td>\n",
       "      <td>98.0</td>\n",
       "      <td>united airlines</td>\n",
       "      <td>no</td>\n",
       "      <td>94.0</td>\n",
       "      <td>791.0</td>\n",
       "      <td>84.0</td>\n",
       "      <td>66.0</td>\n",
       "      <td>0.863516</td>\n",
       "    </tr>\n",
       "  </tbody>\n",
       "</table>\n",
       "<p>5 rows × 30 columns</p>\n",
       "</div>"
      ],
      "text/plain": [
       "   day_of_week op_unique_carrier  op_carrier_fl_num origin_iata dest_iata  \\\n",
       "0            1                ua               2155         lax       ewr   \n",
       "1            1                ua               2155         lax       ewr   \n",
       "2            1                ua                438         cle       iad   \n",
       "3            1                ua                438         cle       iad   \n",
       "4            1                ua                438         cle       iad   \n",
       "\n",
       "   crs_dep_time  dep_time  arr_time  actual_elapsed_time  air_time  ...  \\\n",
       "0           450     443.0    1200.0                124.0      98.0  ...   \n",
       "1           450     443.0    1200.0                124.0      98.0  ...   \n",
       "2          1188    1286.0    1356.0                 70.0      46.0  ...   \n",
       "3          1188    1286.0    1356.0                 70.0      46.0  ...   \n",
       "4          1188    1286.0    1356.0                 70.0      46.0  ...   \n",
       "\n",
       "   weather_indicator is_weekend departure_delay     airline_name  nfl_game  \\\n",
       "0                0.0          0            -7.0  united airlines        no   \n",
       "1                0.0          0            -7.0  united airlines        no   \n",
       "2                0.0          0            98.0  united airlines        no   \n",
       "3                0.0          0            98.0  united airlines        no   \n",
       "4                0.0          0            98.0  united airlines        no   \n",
       "\n",
       "  delay_columns  elevation_dest  tmax_dest  tmin_dest  delay_minutes  \n",
       "0           0.0           125.0       84.0       66.0       2.623514  \n",
       "1           0.0           125.0       84.0       66.0       2.623514  \n",
       "2          94.0           791.0       84.0       66.0       0.863516  \n",
       "3          94.0           791.0       84.0       66.0       0.863516  \n",
       "4          94.0           791.0       84.0       66.0       0.863516  \n",
       "\n",
       "[5 rows x 30 columns]"
      ]
     },
     "execution_count": 7,
     "metadata": {},
     "output_type": "execute_result"
    }
   ],
   "source": [
    "df.head()"
   ]
  },
  {
   "cell_type": "code",
   "execution_count": 8,
   "id": "178700ed-2644-4ee2-9ac7-eb3c46fea800",
   "metadata": {},
   "outputs": [
    {
     "name": "stdout",
     "output_type": "stream",
     "text": [
      "Index(['op_unique_carrier', 'origin_iata', 'dest_iata', 'origin_state',\n",
      "       'dest_state', 'surface', 'airline_name', 'nfl_game'],\n",
      "      dtype='object')\n"
     ]
    }
   ],
   "source": [
    "# To select and display only columns with object (string) data type\n",
    "object_columns = df.select_dtypes(include='object').columns\n",
    "print(object_columns)\n"
   ]
  },
  {
   "cell_type": "code",
   "execution_count": 9,
   "id": "13dbb82d-99c1-4e32-9f47-216fc91590c2",
   "metadata": {},
   "outputs": [],
   "source": [
    "# Convert all object columns to category type\n",
    "df[df.select_dtypes(include='object').columns] = df.select_dtypes(include='object').astype('category')\n"
   ]
  },
  {
   "cell_type": "code",
   "execution_count": 10,
   "id": "f7e0da44-e134-48fb-9115-11e93f43ac94",
   "metadata": {},
   "outputs": [
    {
     "name": "stdout",
     "output_type": "stream",
     "text": [
      "day_of_week               int64\n",
      "op_unique_carrier      category\n",
      "op_carrier_fl_num         int64\n",
      "origin_iata            category\n",
      "dest_iata              category\n",
      "crs_dep_time              int64\n",
      "dep_time                float64\n",
      "arr_time                float64\n",
      "actual_elapsed_time     float64\n",
      "air_time                float64\n",
      "distance                float64\n",
      "origin_state           category\n",
      "dest_state             category\n",
      "length_ft               float64\n",
      "width_ft                float64\n",
      "surface                category\n",
      "lighted                   int64\n",
      "elevation_orig          float64\n",
      "tmax_orig               float64\n",
      "tmin_orig               float64\n",
      "weather_indicator       float64\n",
      "is_weekend                int64\n",
      "departure_delay         float64\n",
      "airline_name           category\n",
      "nfl_game               category\n",
      "delay_columns           float64\n",
      "elevation_dest          float64\n",
      "tmax_dest               float64\n",
      "tmin_dest               float64\n",
      "delay_minutes           float64\n",
      "dtype: object\n"
     ]
    }
   ],
   "source": [
    "# Verify the data types after conversion\n",
    "print(df.dtypes)\n"
   ]
  },
  {
   "cell_type": "markdown",
   "id": "10621b40-908a-476a-8665-6008acda67f4",
   "metadata": {},
   "source": [
    "day_of_week: The day of the week (likely encoded as integers, e.g., 0 = Sunday, 1 = Monday, etc.).\n",
    "op_unique_carrier: The carrier code for the airline operating the flight.\n",
    "op_carrier_fl_num: The unique flight number assigned by the airline.\n",
    "origin_iata: IATA code for the origin airport.\n",
    "dest_iata: IATA code for the destination airport.\n",
    "crs_dep_time: The scheduled departure time (in minutes, probably in HHMM format).\n",
    "dep_time: The actual departure time.\n",
    "crs_arr_time: The scheduled arrival time (again, probably in HHMM format).\n",
    "arr_time: The actual arrival time.\n",
    "actual_elapsed_time: The actual elapsed time of the flight (in minutes).\n",
    "air_time: The time spent in the air, excluding any ground time.\n",
    "distance: The distance traveled during the flight (likely in miles or kilometers).\n",
    "origin_state: The state where the origin airport is located.\n",
    "dest_state: The state where the destination airport is located.\n",
    "length_ft: Length of the aircraft (in feet).\n",
    "width_ft: Width of the aircraft (in feet).\n",
    "surface: The surface type of the runway (e.g., asphalt, concrete).\n",
    "lighted: Indicates if the airport runway is lighted (1 = yes, 0 = no).\n",
    "elevation_orig: The elevation (in feet or meters) of the origin airport.\n",
    "tmax_orig: The maximum temperature (likely in degrees Fahrenheit or Celsius) at the origin airport on the day of the flight.\n",
    "tmin_orig: The minimum temperature at the origin airport on the day of the flight.\n",
    "weather_indicator: A numerical value representing weather conditions (could be coded or indexed).\n",
    "is_weekend: Indicates whether the flight was on a weekend (1 = yes, 0 = no).\n",
    "departure_delay: The delay (in minutes) in the flight's departure.\n",
    "airline_name: The full name of the airline.\n",
    "nfl_game: Indicates if there was an NFL game related to the flight (likely categorical: yes/no).\n",
    "delay_columns: A numerical representation of flight delays (could be related to various factors).\n",
    "elevation_dest: The elevation (in feet or meters) of the destination airport.\n",
    "tmax_dest: The maximum temperature at the destination airport.\n",
    "tmin_dest: The minimum temperature at the destination airport.\n",
    "delay_minutes: Total delay time in minutes, possibly aggregating both departure and arrival delays."
   ]
  },
  {
   "cell_type": "code",
   "execution_count": 12,
   "id": "abdc7f93-464f-4d2b-8760-862d6d98f10f",
   "metadata": {},
   "outputs": [
    {
     "data": {
      "text/plain": [
       "0    con\n",
       "1    con\n",
       "2    con\n",
       "3    con\n",
       "4    con\n",
       "Name: surface, dtype: category\n",
       "Categories (15, object): ['asp', 'asph', 'asph-f', 'asph-g', ..., 'gvl', 'pem', 'per', 'water']"
      ]
     },
     "execution_count": 12,
     "metadata": {},
     "output_type": "execute_result"
    }
   ],
   "source": [
    "df['surface'].head()"
   ]
  },
  {
   "cell_type": "code",
   "execution_count": 13,
   "id": "267d3876-ecf2-4692-b993-98575c38528f",
   "metadata": {},
   "outputs": [
    {
     "data": {
      "text/plain": [
       "day_of_week               int64\n",
       "op_unique_carrier      category\n",
       "op_carrier_fl_num         int64\n",
       "origin_iata            category\n",
       "dest_iata              category\n",
       "crs_dep_time              int64\n",
       "dep_time                float64\n",
       "arr_time                float64\n",
       "actual_elapsed_time     float64\n",
       "air_time                float64\n",
       "distance                float64\n",
       "origin_state           category\n",
       "dest_state             category\n",
       "length_ft               float64\n",
       "width_ft                float64\n",
       "surface                category\n",
       "lighted                   int64\n",
       "elevation_orig          float64\n",
       "tmax_orig               float64\n",
       "tmin_orig               float64\n",
       "weather_indicator       float64\n",
       "is_weekend                int64\n",
       "departure_delay         float64\n",
       "airline_name           category\n",
       "nfl_game               category\n",
       "delay_columns           float64\n",
       "elevation_dest          float64\n",
       "tmax_dest               float64\n",
       "tmin_dest               float64\n",
       "delay_minutes           float64\n",
       "dtype: object"
      ]
     },
     "execution_count": 13,
     "metadata": {},
     "output_type": "execute_result"
    }
   ],
   "source": [
    "df.dtypes"
   ]
  },
  {
   "cell_type": "code",
   "execution_count": 14,
   "id": "08276ecb-8d33-420f-a2eb-4d7bd29876d5",
   "metadata": {},
   "outputs": [],
   "source": [
    "from sklearn.preprocessing import LabelEncoder\n",
    "\n",
    "# Initialize label encoder\n",
    "label_encoder = LabelEncoder()\n",
    "\n",
    "# Apply label encoding to each categorical column\n",
    "df['day_of_week'] = label_encoder.fit_transform(df['day_of_week'])\n",
    "df['op_carrier_fl_num'] = label_encoder.fit_transform(df['op_carrier_fl_num'])\n",
    "df['op_unique_carrier'] = label_encoder.fit_transform(df['op_unique_carrier'])\n",
    "df['origin_iata'] = label_encoder.fit_transform(df['origin_iata'])\n",
    "df['dest_iata'] = label_encoder.fit_transform(df['dest_iata'])\n",
    "df['origin_state'] = label_encoder.fit_transform(df['origin_state'])\n",
    "df['dest_state'] = label_encoder.fit_transform(df['dest_state'])\n",
    "df['airline_name'] = label_encoder.fit_transform(df['airline_name'])\n",
    "df['nfl_game'] = label_encoder.fit_transform(df['nfl_game'])\n",
    "df['surface'] = label_encoder.fit_transform(df['surface'])"
   ]
  },
  {
   "cell_type": "code",
   "execution_count": 15,
   "id": "fa6abcaa-d30b-49a3-be4e-f43788b0cc04",
   "metadata": {},
   "outputs": [],
   "source": [
    "# Perform One-Hot Encoding on binary categorical features\n",
    "df = pd.get_dummies(df, columns=['lighted', 'is_weekend'])\n"
   ]
  },
  {
   "cell_type": "code",
   "execution_count": 16,
   "id": "802c22e2-b428-4e26-b9ba-80b5449dc57e",
   "metadata": {},
   "outputs": [],
   "source": [
    "# Convert categorical variables to dummy variables\n",
    "# df_encoded = pd.get_dummies(df, drop_first=True)\n"
   ]
  },
  {
   "cell_type": "code",
   "execution_count": 17,
   "id": "70149c0f-6909-459d-86c9-d43db636a452",
   "metadata": {},
   "outputs": [],
   "source": [
    "pd.set_option('display.max_rows', 500)\n",
    "pd.set_option('display.max_columns', 500)\n",
    "pd.set_option('display.width', 1000)"
   ]
  },
  {
   "cell_type": "code",
   "execution_count": 18,
   "id": "1313b3ac-1f85-4174-b831-528cebe05140",
   "metadata": {},
   "outputs": [],
   "source": [
    "# Convert categorical columns to numeric to review correlation matrix"
   ]
  },
  {
   "cell_type": "code",
   "execution_count": 19,
   "id": "31976b97-baba-41d6-9d0b-e13740adf9c2",
   "metadata": {},
   "outputs": [
    {
     "name": "stdout",
     "output_type": "stream",
     "text": [
      "delay_minutes          1.000000\n",
      "delay_columns          0.324469\n",
      "arr_time               0.098257\n",
      "dep_time               0.053221\n",
      "departure_delay        0.045177\n",
      "length_ft              0.022759\n",
      "is_weekend_0           0.019506\n",
      "crs_dep_time           0.018744\n",
      "origin_iata            0.017833\n",
      "distance               0.014690\n",
      "lighted_1              0.014499\n",
      "dest_state             0.011264\n",
      "width_ft               0.010603\n",
      "op_carrier_fl_num      0.002309\n",
      "elevation_dest        -0.003640\n",
      "airline_name          -0.006250\n",
      "day_of_week           -0.007303\n",
      "surface               -0.007428\n",
      "weather_indicator     -0.008232\n",
      "origin_state          -0.013678\n",
      "op_unique_carrier     -0.014235\n",
      "lighted_0             -0.014499\n",
      "elevation_orig        -0.015865\n",
      "dest_iata             -0.017985\n",
      "is_weekend_1          -0.019506\n",
      "tmin_orig             -0.021999\n",
      "tmin_dest             -0.021999\n",
      "air_time              -0.025870\n",
      "actual_elapsed_time   -0.032596\n",
      "tmax_orig             -0.032756\n",
      "tmax_dest             -0.032756\n",
      "nfl_game                    NaN\n",
      "Name: delay_minutes, dtype: float64\n"
     ]
    }
   ],
   "source": [
    "from sklearn.preprocessing import LabelEncoder\n",
    "\n",
    "# Initialize label encoder\n",
    "label_encoder = LabelEncoder()\n",
    "\n",
    "# Apply label encoding to each categorical column\n",
    "for column in df.select_dtypes(include=['category']).columns:\n",
    "    df[column] = label_encoder.fit_transform(df[column])\n",
    "\n",
    "# Now calculate the correlation matrix\n",
    "correlation_matrix = df.corr()\n",
    "\n",
    "# Print the sorted correlation values with respect to 'delay_minutes'\n",
    "print(correlation_matrix['delay_minutes'].sort_values(ascending=False))\n"
   ]
  },
  {
   "cell_type": "code",
   "execution_count": 20,
   "id": "720990cb-2715-40fd-98e5-162296d91e19",
   "metadata": {},
   "outputs": [],
   "source": [
    "from sklearn.model_selection import train_test_split\n",
    "X = df.drop('delay_minutes', axis=1)  # Features\n",
    "y = df['delay_minutes']  # Target variable\n",
    "X_train, X_test, y_train, y_test = train_test_split(X, y, test_size=0.2, random_state=42)\n"
   ]
  },
  {
   "cell_type": "code",
   "execution_count": 21,
   "id": "937bcfdb-edeb-4d9c-bc0f-cb9cc8847a4e",
   "metadata": {},
   "outputs": [
    {
     "name": "stdout",
     "output_type": "stream",
     "text": [
      "Index(['day_of_week', 'op_unique_carrier', 'op_carrier_fl_num', 'origin_iata', 'dest_iata', 'crs_dep_time', 'dep_time', 'arr_time', 'actual_elapsed_time', 'air_time', 'distance', 'origin_state', 'dest_state', 'length_ft', 'width_ft', 'surface', 'elevation_orig', 'tmax_orig', 'tmin_orig', 'weather_indicator', 'departure_delay', 'airline_name', 'nfl_game', 'delay_columns', 'elevation_dest', 'tmax_dest', 'tmin_dest', 'lighted_0', 'lighted_1', 'is_weekend_0', 'is_weekend_1'], dtype='object')\n"
     ]
    }
   ],
   "source": [
    "print(X_train.columns)"
   ]
  },
  {
   "cell_type": "code",
   "execution_count": 22,
   "id": "dc225a66-de61-474a-bed0-bb9ab0c10641",
   "metadata": {},
   "outputs": [
    {
     "name": "stdout",
     "output_type": "stream",
     "text": [
      "Index(['day_of_week', 'op_unique_carrier', 'op_carrier_fl_num', 'origin_iata', 'dest_iata', 'crs_dep_time', 'dep_time', 'arr_time', 'actual_elapsed_time', 'air_time', 'distance', 'origin_state', 'dest_state', 'length_ft', 'width_ft', 'surface', 'elevation_orig', 'tmax_orig', 'tmin_orig', 'weather_indicator', 'departure_delay', 'airline_name', 'nfl_game', 'delay_columns', 'elevation_dest', 'tmax_dest', 'tmin_dest', 'lighted_0', 'lighted_1', 'is_weekend_0', 'is_weekend_1'], dtype='object')\n"
     ]
    }
   ],
   "source": [
    "print(X_test.columns)"
   ]
  },
  {
   "cell_type": "code",
   "execution_count": 23,
   "id": "ad123e35-d2c5-402f-ba4d-08c8237bb92b",
   "metadata": {},
   "outputs": [
    {
     "data": {
      "text/plain": [
       "day_of_week              int64\n",
       "op_unique_carrier        int32\n",
       "op_carrier_fl_num        int64\n",
       "origin_iata              int32\n",
       "dest_iata                int32\n",
       "crs_dep_time             int64\n",
       "dep_time               float64\n",
       "arr_time               float64\n",
       "actual_elapsed_time    float64\n",
       "air_time               float64\n",
       "distance               float64\n",
       "origin_state             int32\n",
       "dest_state               int32\n",
       "length_ft              float64\n",
       "width_ft               float64\n",
       "surface                  int32\n",
       "elevation_orig         float64\n",
       "tmax_orig              float64\n",
       "tmin_orig              float64\n",
       "weather_indicator      float64\n",
       "departure_delay        float64\n",
       "airline_name             int32\n",
       "nfl_game                 int32\n",
       "delay_columns          float64\n",
       "elevation_dest         float64\n",
       "tmax_dest              float64\n",
       "tmin_dest              float64\n",
       "lighted_0                 bool\n",
       "lighted_1                 bool\n",
       "is_weekend_0              bool\n",
       "is_weekend_1              bool\n",
       "dtype: object"
      ]
     },
     "execution_count": 23,
     "metadata": {},
     "output_type": "execute_result"
    }
   ],
   "source": [
    "X_test.dtypes"
   ]
  },
  {
   "cell_type": "code",
   "execution_count": 24,
   "id": "3d98d842-4b3f-4001-8d35-829483cd05c8",
   "metadata": {},
   "outputs": [],
   "source": [
    "# # Columns to convert\n",
    "# columns_to_convert = ['day_of_week', 'op_carrier_fl_num', 'is_weekend']\n",
    "\n",
    "# # Convert columns in X_train\n",
    "# X_train[columns_to_convert] = X_train[columns_to_convert].astype('object')\n",
    "# # \n",
    "# # Convert columns in X_test\n",
    "# X_test[columns_to_convert] = X_test[columns_to_convert].astype('object')\n"
   ]
  },
  {
   "cell_type": "code",
   "execution_count": 25,
   "id": "1dfa3a0a-cc72-4290-ba8e-bf9848a413c8",
   "metadata": {},
   "outputs": [
    {
     "name": "stdout",
     "output_type": "stream",
     "text": [
      "day_of_week              int64\n",
      "op_unique_carrier        int32\n",
      "op_carrier_fl_num        int64\n",
      "origin_iata              int32\n",
      "dest_iata                int32\n",
      "crs_dep_time             int64\n",
      "dep_time               float64\n",
      "arr_time               float64\n",
      "actual_elapsed_time    float64\n",
      "air_time               float64\n",
      "distance               float64\n",
      "origin_state             int32\n",
      "dest_state               int32\n",
      "length_ft              float64\n",
      "width_ft               float64\n",
      "surface                  int32\n",
      "elevation_orig         float64\n",
      "tmax_orig              float64\n",
      "tmin_orig              float64\n",
      "weather_indicator      float64\n",
      "departure_delay        float64\n",
      "airline_name             int32\n",
      "nfl_game                 int32\n",
      "delay_columns          float64\n",
      "elevation_dest         float64\n",
      "tmax_dest              float64\n",
      "tmin_dest              float64\n",
      "lighted_0                 bool\n",
      "lighted_1                 bool\n",
      "is_weekend_0              bool\n",
      "is_weekend_1              bool\n",
      "dtype: object\n"
     ]
    }
   ],
   "source": [
    "# Check the datatypes of your features\n",
    "print(X.dtypes)\n"
   ]
  },
  {
   "cell_type": "code",
   "execution_count": 26,
   "id": "2294ea82-c3d5-4663-a683-cc0e624f0ec1",
   "metadata": {},
   "outputs": [
    {
     "name": "stdout",
     "output_type": "stream",
     "text": [
      "Index(['day_of_week', 'op_unique_carrier', 'op_carrier_fl_num', 'origin_iata', 'dest_iata', 'crs_dep_time', 'dep_time', 'arr_time', 'actual_elapsed_time', 'air_time', 'distance', 'origin_state', 'dest_state', 'length_ft', 'width_ft', 'surface', 'elevation_orig', 'tmax_orig', 'tmin_orig', 'weather_indicator', 'departure_delay', 'airline_name', 'nfl_game', 'delay_columns', 'elevation_dest', 'tmax_dest', 'tmin_dest', 'lighted_0', 'lighted_1', 'is_weekend_0', 'is_weekend_1'], dtype='object')\n",
      "Index(['day_of_week', 'op_unique_carrier', 'op_carrier_fl_num', 'origin_iata', 'dest_iata', 'crs_dep_time', 'dep_time', 'arr_time', 'actual_elapsed_time', 'air_time', 'distance', 'origin_state', 'dest_state', 'length_ft', 'width_ft', 'surface', 'elevation_orig', 'tmax_orig', 'tmin_orig', 'weather_indicator', 'departure_delay', 'airline_name', 'nfl_game', 'delay_columns', 'elevation_dest', 'tmax_dest', 'tmin_dest', 'lighted_0', 'lighted_1', 'is_weekend_0', 'is_weekend_1'], dtype='object')\n"
     ]
    }
   ],
   "source": [
    "print(X.columns)\n",
    "print(X_train.columns)"
   ]
  },
  {
   "cell_type": "code",
   "execution_count": 27,
   "id": "f4afe208-346a-4afd-80ca-74b597650cbd",
   "metadata": {},
   "outputs": [
    {
     "name": "stdout",
     "output_type": "stream",
     "text": [
      "day_of_week              int64\n",
      "op_unique_carrier        int32\n",
      "op_carrier_fl_num        int64\n",
      "origin_iata              int32\n",
      "dest_iata                int32\n",
      "crs_dep_time             int64\n",
      "dep_time               float64\n",
      "arr_time               float64\n",
      "actual_elapsed_time    float64\n",
      "air_time               float64\n",
      "distance               float64\n",
      "origin_state             int32\n",
      "dest_state               int32\n",
      "length_ft              float64\n",
      "width_ft               float64\n",
      "surface                  int32\n",
      "elevation_orig         float64\n",
      "tmax_orig              float64\n",
      "tmin_orig              float64\n",
      "weather_indicator      float64\n",
      "departure_delay        float64\n",
      "airline_name             int32\n",
      "nfl_game                 int32\n",
      "delay_columns          float64\n",
      "elevation_dest         float64\n",
      "tmax_dest              float64\n",
      "tmin_dest              float64\n",
      "lighted_0                 bool\n",
      "lighted_1                 bool\n",
      "is_weekend_0              bool\n",
      "is_weekend_1              bool\n",
      "dtype: object\n"
     ]
    }
   ],
   "source": [
    "X.select_dtypes(include='object').columns\n",
    "print(X.dtypes)"
   ]
  },
  {
   "cell_type": "code",
   "execution_count": 28,
   "id": "a32a5c1e-45d9-4927-9564-f27e92ee48f5",
   "metadata": {},
   "outputs": [],
   "source": [
    "# # using Binary Encoding for categorical columns\n",
    "# # useful when you have a large number of categories. compact representation but still want to avoid one-hot encoding’s high dimensionality.\n",
    "# import category_encoders as ce\n",
    "# encoder = ce.BinaryEncoder(cols=['carrier_code', 'origin_iata', 'dest_iata', 'origin_state', 'dest_state', 'surface', 'lighted', 'airline_name', 'nfl_game', 'day_of_week', 'op_carrier_fl_num', 'is_weekend'])\n",
    "\n",
    "# X_train = encoder.fit_transform(X_train)\n",
    "# X_test = encoder.transform(X_test)\n"
   ]
  },
  {
   "cell_type": "markdown",
   "id": "88837731-ecb0-44df-a196-2befd2e9d37c",
   "metadata": {},
   "source": [
    "Delay is Continuous (Regression Problem):\n",
    "\n",
    "Linear Regression: A simple starting point.\n",
    "\n",
    "Random Forest Regressor: Non-linear model that performs well in many cases.\n",
    "\n",
    "Gradient Boosting: Powerful algorithms like XGBoost, LightGBM, or CatBoost can often outperform random forests.\n",
    "\n",
    "\n",
    "If Delay is Categorical (Classification Problem) (e.g., delayed or not delayed):\n",
    "\n",
    "Logistic Regression: Simple but effective for binary classification.\n",
    "\n",
    "Random Forest Classifier: Good for high-dimensional datasets.\n",
    "\n",
    "XGBoost / LightGBM: Perform well on classification tasks with large datasets."
   ]
  },
  {
   "cell_type": "markdown",
   "id": "6e57e96e-9c74-4740-816a-9523d707570b",
   "metadata": {},
   "source": [
    "## Regression"
   ]
  },
  {
   "cell_type": "code",
   "execution_count": 31,
   "id": "2ec3a65e-8ea3-4394-8d08-da0af4b23018",
   "metadata": {},
   "outputs": [
    {
     "name": "stdout",
     "output_type": "stream",
     "text": [
      "Linear Regression MSE: 3.327248960038534\n"
     ]
    }
   ],
   "source": [
    "# Linear Regression\n",
    "from sklearn.linear_model import LinearRegression\n",
    "from sklearn.metrics import mean_squared_error\n",
    "\n",
    "# Initialize and train the model\n",
    "lr_model = LinearRegression()\n",
    "lr_model.fit(X_train, y_train)\n",
    "\n",
    "# Predict and evaluate\n",
    "y_pred_linear = lr_model.predict(X_test)\n",
    "mse_linear = mean_squared_error(y_test, y_pred_linear)\n",
    "print(f\"Linear Regression MSE: {mse_linear}\")\n"
   ]
  },
  {
   "cell_type": "code",
   "execution_count": 102,
   "id": "217d808f-f653-4a7d-84da-381d55dc69d3",
   "metadata": {},
   "outputs": [
    {
     "name": "stdout",
     "output_type": "stream",
     "text": [
      "RMSE: 1.8240748230372936\n",
      "MAE: 0.708766058029163\n",
      "R-squared (R²): 0.13200046462198867\n"
     ]
    }
   ],
   "source": [
    "from sklearn.metrics import mean_squared_error, mean_absolute_error, r2_score\n",
    "import numpy as np\n",
    "\n",
    "# Generate predictions using your linear regression model\n",
    "y_pred = lr_model.predict(X_test)\n",
    "\n",
    "# Calculate MSE (Mean Squared Error)\n",
    "mse = mean_squared_error(y_test, y_pred)\n",
    "\n",
    "# Calculate RMSE (Root Mean Squared Error)\n",
    "rmse = np.sqrt(mse)\n",
    "print(f\"RMSE: {rmse}\")\n",
    "\n",
    "# Calculate MAE (Mean Absolute Error)\n",
    "mae = mean_absolute_error(y_test, y_pred)\n",
    "print(f\"MAE: {mae}\")\n",
    "\n",
    "# Calculate R-squared (R²)\n",
    "r2 = r2_score(y_test, y_pred)\n",
    "print(f\"R-squared (R²): {r2}\")\n"
   ]
  },
  {
   "cell_type": "markdown",
   "id": "4ed97e56-9129-45a1-9059-092be8a709e7",
   "metadata": {},
   "source": [
    "RMSE (1.82): This indicates that, on average, the predictions differ from the actual values by approximately 1.82 minutes.\n",
    "\n",
    "MAE (0.71): This shows that the average absolute error is around 0.71 minutes. MAE is generally lower than RMSE because it doesn’t square the errors, so it provides a more straightforward view of the average error magnitude.\n",
    "\n",
    "R-squared (0.13): An R² of 0.13 suggests that only 13% of the variance in the target variable is explained by the model, which is quite low. This typically indicates that the model is not capturing much of the underlying pattern in the data."
   ]
  },
  {
   "cell_type": "markdown",
   "id": "cc2f9469-76b6-49c9-9d68-3902de590075",
   "metadata": {},
   "source": [
    "After Revisions: Indicates poor performance, meaning the model's predictions are far from the true values."
   ]
  },
  {
   "cell_type": "markdown",
   "id": "b2b452bd-dd52-460e-aa72-7d78067e76ec",
   "metadata": {},
   "source": [
    "Original: An MSE of 1.2033458030242233e-29 for linear regression is extremely low, almost suggesting that your model has an almost perfect fit on the test set, which is unusual in real-world scenarios and may indicate one of the following:\n",
    "\n",
    "Data Leakage: There might be information in the test data that the model has already seen in the training phase. For instance, if some columns in X_train or X_test have direct or indirect relationships to the target variable (delay), this can lead to artificially high accuracy.\n",
    "\n",
    "Target Variable Leakage: If the target variable (delay) itself or a proxy of it is inadvertently included in the feature set, this would also lead to a near-perfect prediction.\n",
    "\n",
    "Numerical Precision or Model Fit: Since linear regression minimizes MSE by design, it could theoretically achieve such a low value if the data points fall almost perfectly on a linear line. Unlikely."
   ]
  },
  {
   "cell_type": "code",
   "execution_count": 34,
   "id": "0a1bfeff-a8c4-48c6-9ec1-f87b483ce591",
   "metadata": {},
   "outputs": [
    {
     "name": "stdout",
     "output_type": "stream",
     "text": [
      "MAE: 0.005705639221173121\n"
     ]
    }
   ],
   "source": [
    "# Random Forest Regression\n",
    "from sklearn.ensemble import RandomForestRegressor\n",
    "from sklearn.metrics import mean_absolute_error\n",
    "\n",
    "rfr_model = RandomForestRegressor(random_state=42)\n",
    "rfr_model.fit(X_train, y_train)\n",
    "\n",
    "# Predict on the test set\n",
    "y_pred = rfr_model.predict(X_test)\n",
    "\n",
    "# Evaluate model\n",
    "print(\"MAE:\", mean_absolute_error(y_test, y_pred))\n"
   ]
  },
  {
   "cell_type": "markdown",
   "id": "d11c3d93-b005-4076-b992-d9d444424424",
   "metadata": {},
   "source": [
    "The fact that I have a low MAE (very close to zero) but a high MSE suggests that the model might be performing well on average but struggling with a few outliers. I can confirm this by plotting the residuals (the differences between actual and predicted values) to check for any patterns or extreme outliers."
   ]
  },
  {
   "cell_type": "code",
   "execution_count": 36,
   "id": "e73f5505-cabe-4161-9c1b-e03b3a8d8d83",
   "metadata": {},
   "outputs": [
    {
     "data": {
      "image/png": "[encoded data removed]",
      "text/plain": [
       "<Figure size 800x600 with 1 Axes>"
      ]
     },
     "metadata": {},
     "output_type": "display_data"
    },
    {
     "data": {
      "image/png": "[encoded data removed]",
      "text/plain": [
       "<Figure size 800x600 with 1 Axes>"
      ]
     },
     "metadata": {},
     "output_type": "display_data"
    },
    {
     "data": {
      "image/png": "[encoded data removed]",
      "text/plain": [
       "<Figure size 800x600 with 1 Axes>"
      ]
     },
     "metadata": {},
     "output_type": "display_data"
    }
   ],
   "source": [
    "# Plot the residuals\n",
    "\n",
    "import matplotlib.pyplot as plt\n",
    "import seaborn as sns\n",
    "import numpy as np\n",
    "\n",
    "\n",
    "y_true = df['delay_minutes'] \n",
    "y_pred = rfr_model.predict(df.drop('delay_minutes', axis=1)) \n",
    "# 1. Calculate residuals\n",
    "residuals = y_true - y_pred\n",
    "\n",
    "# 2. Residuals vs. Fitted Values plot\n",
    "plt.figure(figsize=(8, 6))\n",
    "plt.scatter(y_pred, residuals, color='blue', alpha=0.5)\n",
    "plt.axhline(0, color='red', linestyle='--', lw=2)  # Add a horizontal line at 0\n",
    "plt.title('Residuals vs Fitted Values')\n",
    "plt.xlabel('Fitted values (predictions)')\n",
    "plt.ylabel('Residuals')\n",
    "plt.show()\n",
    "\n",
    "# 3. Histogram of residuals\n",
    "plt.figure(figsize=(8, 6))\n",
    "sns.histplot(residuals, kde=True, bins=30)\n",
    "plt.title('Histogram of Residuals')\n",
    "plt.xlabel('Residuals')\n",
    "plt.ylabel('Frequency')\n",
    "plt.show()\n",
    "\n",
    "# 4. Q-Q Plot\n",
    "import scipy.stats as stats\n",
    "\n",
    "plt.figure(figsize=(8, 6))\n",
    "stats.probplot(residuals, dist=\"norm\", plot=plt)\n",
    "plt.title('Q-Q Plot of Residuals')\n",
    "plt.show()\n"
   ]
  },
  {
   "cell_type": "code",
   "execution_count": 37,
   "id": "361d83cf-0b76-444e-ba9b-48a2ff0ca8aa",
   "metadata": {},
   "outputs": [
    {
     "name": "stdout",
     "output_type": "stream",
     "text": [
      "XGBoost MSE: 0.00646188324127791\n"
     ]
    }
   ],
   "source": [
    "# Gradient Boosting Model\n",
    "\n",
    "from xgboost import XGBRegressor\n",
    "\n",
    "# Initialize and train the model\n",
    "xgb_model = XGBRegressor(random_state=42)\n",
    "xgb_model.fit(X_train, y_train)\n",
    "\n",
    "# Predict and evaluate\n",
    "y_pred_xgb = xgb_model.predict(X_test)\n",
    "mse_xgb = mean_squared_error(y_test, y_pred_xgb)\n",
    "print(f\"XGBoost MSE: {mse_xgb}\")\n"
   ]
  },
  {
   "cell_type": "code",
   "execution_count": 100,
   "id": "4a2b3fa9-0ba3-49bc-aeae-47db2732feef",
   "metadata": {},
   "outputs": [
    {
     "name": "stdout",
     "output_type": "stream",
     "text": [
      "MSE: 0.00646188324127791\n",
      "RMSE: 0.08038583980576373\n",
      "R-squared (R²): 0.9983142494840449\n",
      "MAE: 0.010784823386826802\n"
     ]
    }
   ],
   "source": [
    "import numpy as np\n",
    "from sklearn.metrics import mean_squared_error, mean_absolute_error, r2_score\n",
    "\n",
    "# Generate predictions using your XGBoost model\n",
    "y_pred = xgb_model.predict(X_test)\n",
    "\n",
    "# Calculate MSE\n",
    "mse = mean_squared_error(y_test, y_pred)\n",
    "print(f\"MSE: {mse}\")\n",
    "\n",
    "# Calculate RMSE\n",
    "rmse = np.sqrt(mse)\n",
    "print(f\"RMSE: {rmse}\")\n",
    "\n",
    "# Calculate R-squared\n",
    "r2 = r2_score(y_test, y_pred)\n",
    "print(f\"R-squared (R²): {r2}\")\n",
    "\n",
    "# Calculate MAE\n",
    "mae = mean_absolute_error(y_test, y_pred)\n",
    "print(f\"MAE: {mae}\")\n"
   ]
  },
  {
   "cell_type": "markdown",
   "id": "f1e51723-3aa9-45c6-b614-a9be80309406",
   "metadata": {},
   "source": [
    "Final XGBoost MSE of 0.00646 is average error of about 0.08"
   ]
  },
  {
   "cell_type": "markdown",
   "id": "e90c84d3-ddd0-4389-833e-dc21e90e438a",
   "metadata": {},
   "source": [
    "Initial runthrough indicated that there was likely some data leakage. After review, went back to the original df to remove some of the highly correlated features. After removing arrival_delay, I re-trained the models and checked the MSE and MAE to see if they now show more typical values. Unfortunately, instead of getting closer to one, all the MSE values got even closer to zero.\n",
    "\n",
    "Need to investigate further."
   ]
  },
  {
   "cell_type": "code",
   "execution_count": 40,
   "id": "db65e9ae-1d4f-4021-9a6d-4e6d3a019472",
   "metadata": {},
   "outputs": [],
   "source": [
    "# from sklearn.metrics import mean_squared_error, mean_absolute_error\n",
    "# from sklearn.model_selection import train_test_split\n",
    "# from sklearn.linear_model import LinearRegression\n",
    "# from sklearn.ensemble import RandomForestRegressor\n",
    "\n",
    "# # List of potentially leaking columns\n",
    "# potential_leakage_columns = ['dep_time', 'arr_time', 'departure_delay', \n",
    "#                              'actual_elapsed_time', 'air_time', 'delay_columns']\n",
    "\n",
    "# # Original features and target split\n",
    "# X = df.drop(columns=['delay_minutes'])\n",
    "# y = df['delay_minutes']\n",
    "\n",
    "# # Perform train-test split once on the original data\n",
    "# X_train, X_test, y_train, y_test = train_test_split(X, y, test_size=0.2, random_state=42)\n",
    "\n",
    "\n",
    "# # Columns to convert\n",
    "# columns_to_convert = ['day_of_week', 'op_carrier_fl_num']\n",
    "\n",
    "# # Convert columns in X_train\n",
    "# X_train[columns_to_convert] = X_train[columns_to_convert].astype('object')\n",
    "\n",
    "# # Convert columns in X_test\n",
    "# X_test[columns_to_convert] = X_test[columns_to_convert].astype('object')\n",
    "\n",
    "# # using Binary Encoding for categorical columns\n",
    "# # useful when you have a large number of categories. compact representation but still want to avoid one-hot encoding’s high dimensionality.\n",
    "# import category_encoders as ce\n",
    "# encoder = ce.BinaryEncoder(cols=['op_unique_carrier', 'origin_iata', 'dest_iata', 'origin_state', 'dest_state', 'surface', 'lighted', 'airline_name', 'nfl_game', 'day_of_week', 'op_carrier_fl_num', 'is_weekend'])\n",
    "# X_train = encoder.fit_transform(X_train)\n",
    "# X_test = encoder.transform(X_test)\n",
    "\n",
    "# # Iteratively remove columns and evaluate\n",
    "# for col in potential_leakage_columns:\n",
    "#     print(f\"\\nResults after removing {col}:\")\n",
    "    \n",
    "#     # Drop the column from X_train and X_test for this iteration\n",
    "#     X_train_temp = X_train.drop(columns=[col], errors='ignore')\n",
    "#     X_test_temp = X_test.drop(columns=[col], errors='ignore')\n",
    "    \n",
    "#     # Linear Regression\n",
    "#     linear_model = LinearRegression()\n",
    "#     linear_model.fit(X_train_temp, y_train)\n",
    "#     y_pred_linear = linear_model.predict(X_test_temp)\n",
    "#     mse_linear = mean_squared_error(y_test, y_pred_linear)\n",
    "#     mae_linear = mean_absolute_error(y_test, y_pred_linear)\n",
    "#     print(f\"Linear Regression - MSE: {mse_linear}, MAE: {mae_linear}\")\n",
    "    \n",
    "#     # Random Forest Regressor\n",
    "#     rf_model = RandomForestRegressor(random_state=42)\n",
    "#     rf_model.fit(X_train_temp, y_train)\n",
    "#     y_pred_rf = rf_model.predict(X_test_temp)\n",
    "#     mse_rf = mean_squared_error(y_test, y_pred_rf)\n",
    "#     mae_rf = mean_absolute_error(y_test, y_pred_rf)\n",
    "#     print(f\"Random Forest Regressor - MSE: {mse_rf}, MAE: {mae_rf}\")\n"
   ]
  },
  {
   "cell_type": "code",
   "execution_count": 41,
   "id": "0d87689e-7b42-4038-b299-739a5911fe87",
   "metadata": {},
   "outputs": [],
   "source": [
    "# Remove 'is_weekend' per notes from above results. "
   ]
  },
  {
   "cell_type": "markdown",
   "id": "775c9b40-94be-43d7-b60d-4de02dfeee4a",
   "metadata": {},
   "source": [
    "Linear Regression Results:\n",
    "\n",
    "Extremely low MSE and MAE values (close to zero) after removing certain features like dep_time, departure_delay, actual_elapsed_time, and air_time suggest that the model may have become too \"overfitted\" or is suffering from data leakage. Specifically, values close to zero for MSE and MAE indicate that the model is predicting very well (or almost too well), to the point where it may be memorizing the training data rather than generalizing to unseen data.\n",
    "The extremely low MSE and MAE values after removing some columns (e.g., departure_delay and dep_time) could suggest that these columns were either perfectly correlated with the target variable or were directly leading to overfitting.\n",
    "\n",
    "\n",
    "Random Forest Regressor Results:\n",
    "\n",
    "MSE and MAE values are significantly higher than Linear Regression but still within a reasonable range. Random Forest seems to handle the feature removal better and does not show the same extreme overfitting behavior.\n",
    "Even though the values for MSE and MAE decrease somewhat as you remove more columns (e.g., after removing delay_columns), the changes are more typical compared to the linear model. Random Forest is more robust to overfitting, likely because it doesn't rely on a single linear relationship but rather uses an ensemble of decision trees to make predictions."
   ]
  },
  {
   "cell_type": "markdown",
   "id": "ce8875cf-9677-4214-8f9d-dfa689baebc5",
   "metadata": {},
   "source": [
    "## Check for Multicollinearity:\n",
    "Use a correlation matrix or Variance Inflation Factor (VIF) analysis to check for multicollinearity between the features. Features like dep_time, arr_time, and departure_delay may be highly correlated with each other and with the target, causing issues with model stability."
   ]
  },
  {
   "cell_type": "code",
   "execution_count": 44,
   "id": "ea88cff7-655f-42c1-aa63-d7e0ee903c68",
   "metadata": {},
   "outputs": [],
   "source": [
    "from sklearn.model_selection import cross_val_score\n",
    "from sklearn.linear_model import LinearRegression\n",
    "from sklearn.ensemble import RandomForestRegressor\n",
    "import numpy as np\n",
    "\n",
    "\n",
    "# Perform 10-fold cross-validation for Linear Regression\n",
    "lr_cv_scores = cross_val_score(lr_model, X, y, cv=10, scoring='neg_mean_squared_error')\n",
    "lr_cv_mae_scores = cross_val_score(lr_model, X, y, cv=10, scoring='neg_mean_absolute_error')\n"
   ]
  },
  {
   "cell_type": "code",
   "execution_count": 45,
   "id": "feecf0f5-7bd5-4cf7-8edd-9f2da824f42b",
   "metadata": {},
   "outputs": [
    {
     "name": "stdout",
     "output_type": "stream",
     "text": [
      "Linear Regression - MSE (cross-validation): 3.1926736232626816\n",
      "Linear Regression - MAE (cross-validation): 0.705418115634638\n"
     ]
    }
   ],
   "source": [
    "# Print the results\n",
    "print(\"Linear Regression - MSE (cross-validation):\", -np.mean(lr_cv_scores))\n",
    "print(\"Linear Regression - MAE (cross-validation):\", -np.mean(lr_cv_mae_scores))"
   ]
  },
  {
   "cell_type": "code",
   "execution_count": 46,
   "id": "27128015-053b-401b-bbd1-87a58b098515",
   "metadata": {},
   "outputs": [],
   "source": [
    "\n",
    "# Perform 5-fold cross-validation for Random Forest Regressor\n",
    "rf_cv_scores = cross_val_score(rfr_model, X, y, cv=5, scoring='neg_mean_squared_error')\n",
    "rf_cv_mae_scores = cross_val_score(rfr_model, X, y, cv=5, scoring='neg_mean_absolute_error')\n"
   ]
  },
  {
   "cell_type": "code",
   "execution_count": 47,
   "id": "a0b85bbe-954e-4bd6-987b-c0fd153f610b",
   "metadata": {},
   "outputs": [
    {
     "name": "stdout",
     "output_type": "stream",
     "text": [
      "Random Forest Regressor - MSE (cross-validation): 0.11053518556349476\n",
      "Random Forest Regressor - MAE (cross-validation): 0.03363549378690449\n"
     ]
    }
   ],
   "source": [
    "# Print the results\n",
    "print(\"Random Forest Regressor - MSE (cross-validation):\", -np.mean(rf_cv_scores))\n",
    "print(\"Random Forest Regressor - MAE (cross-validation):\", -np.mean(rf_cv_mae_scores))\n"
   ]
  },
  {
   "cell_type": "code",
   "execution_count": 48,
   "id": "0f123045-2027-455d-aaec-e7260d363406",
   "metadata": {},
   "outputs": [],
   "source": [
    "# Perform 10-fold cross-validation for xgb model\n",
    "xgb_cv_scores = cross_val_score(xgb_model, X, y, cv=10, scoring='neg_mean_squared_error')\n",
    "xgb_cv_mae_scores = cross_val_score(xgb_model, X, y, cv=10, scoring='neg_mean_absolute_error')\n"
   ]
  },
  {
   "cell_type": "code",
   "execution_count": 49,
   "id": "7ecf23c0-38a4-4878-a549-58a2410d757c",
   "metadata": {},
   "outputs": [
    {
     "name": "stdout",
     "output_type": "stream",
     "text": [
      "XGBoost - MSE (cross-validation): 0.09865724672050843\n",
      "XGBoost - MAE (cross-validation): 0.04456917307010892\n"
     ]
    }
   ],
   "source": [
    "# Print the results\n",
    "print(\"XGBoost - MSE (cross-validation):\", -np.mean(xgb_cv_scores))\n",
    "print(\"XGBoost - MAE (cross-validation):\", -np.mean(xgb_cv_mae_scores))\n"
   ]
  },
  {
   "cell_type": "markdown",
   "id": "f89919af-2642-4bd2-8a50-4a83f5ca004a",
   "metadata": {},
   "source": [
    "Random Forest and XGB perform better because they can capture non-linear relationships. XGB has built in regularization helping it avoid overfitting and giving it more flexibility to model complex patterns."
   ]
  },
  {
   "cell_type": "markdown",
   "id": "37665100-90f7-4d81-8f56-358e81bb0412",
   "metadata": {},
   "source": [
    "Linear Regression - MSE (10 fold cross-validation): 3.1926736232626816 \n",
    "Linear Regression - MAE (3 fold cross-validation because of memory errors): 0.705418115634638  Random Forest Regressor - MSE (cross-validation): 0.11458538479634506 \n",
    "Random Forest Regressor - MAE (10 fold cross-validation): 0.03521936256910644  XGBoost - MSE (cross-validation): 0.09865724672050843 \n",
    "XGBoost - MAE (cross-validation): 0.04456917307010892"
   ]
  },
  {
   "cell_type": "markdown",
   "id": "84bbf3b9-3e0b-47f6-b842-88b4c3931cf1",
   "metadata": {},
   "source": [
    "XGBoost and Random Forest are providing very similar results, with Random Forest slightly edging out XGBoost in terms of MAE.\n",
    "Linear Regression is underperforming here, which might be because the data has complex, non-linear patterns that are not well captured by a simple linear model."
   ]
  },
  {
   "cell_type": "markdown",
   "id": "7beddbf9-e817-4fd1-8605-8ec15565b9eb",
   "metadata": {},
   "source": [
    "## \n",
    "Hyperparameter Tuning for Random Forest Forest Model\n",
    "\n",
    "Considering: \n",
    "\n",
    "    1. n_estimators: The number of trees in the forest. Increasing this can improve performance but will also increase computation time.\n",
    "\n",
    "    2. max_depth: The maximum depth of each tree. Limiting the depth can help prevent overfitting.\n",
    "\n",
    "    3. min_samples_split: The minimum number of samples required to split an internal node. Increasing this value can prevent overfitting.\n",
    "\n",
    "    4. min_samples_leaf: The minimum number of samples required to be at a leaf node. This also helps control overfitting.\n",
    "\n",
    "    5. max_features: The number of features to consider when looking for the best split. A lower value reduces variance and can make the model more robust.\n",
    "\n",
    "    6. bootstrap: Whether or not bootstrap samples are used when building trees. The default is True, but setting it to False can sometimes improve performance on smaller datasets."
   ]
  },
  {
   "cell_type": "code",
   "execution_count": 54,
   "id": "1cfc73d5-2f0d-4a22-80d3-d9441795e33c",
   "metadata": {},
   "outputs": [],
   "source": [
    "from sklearn.ensemble import RandomForestRegressor\n",
    "from sklearn.metrics import mean_absolute_error\n",
    "\n",
    "# Initialize Random Forest Regressor with hyperparameters\n",
    "best_rfr_model = RandomForestRegressor(random_state=42, n_estimators=150, min_samples_split=3)\n",
    "\n",
    "# Train the model\n",
    "best_rfr_model.fit(X_train, y_train)\n",
    "\n",
    "# Predict on the test set\n",
    "y_pred = best_rfr_model.predict(X_test)\n"
   ]
  },
  {
   "cell_type": "code",
   "execution_count": 55,
   "id": "19f8ef3c-abae-44bb-9561-fff8e0e4b179",
   "metadata": {},
   "outputs": [],
   "source": [
    "## Evaluate the Tuned Random Forest Regressor Model"
   ]
  },
  {
   "cell_type": "code",
   "execution_count": 56,
   "id": "d79e8165-34a1-4d68-97e0-8bc1040ebaa0",
   "metadata": {},
   "outputs": [
    {
     "name": "stdout",
     "output_type": "stream",
     "text": [
      "Tuned Random Forest - MSE: 0.0029124356653181713\n",
      "Tuned Random Forest - MAE: 0.005820256287389215\n"
     ]
    }
   ],
   "source": [
    "from sklearn.metrics import mean_squared_error, mean_absolute_error\n",
    "\n",
    "# Predict using the best model found by GridSearchCV\n",
    "y_pred = best_rfr_model.predict(X_test)\n",
    "\n",
    "# Calculate MSE and MAE\n",
    "mse_best = mean_squared_error(y_test, y_pred)\n",
    "mae_best = mean_absolute_error(y_test, y_pred)\n",
    "\n",
    "print(f\"Tuned Random Forest - MSE: {mse_best}\")\n",
    "print(f\"Tuned Random Forest - MAE: {mae_best}\")\n"
   ]
  },
  {
   "cell_type": "markdown",
   "id": "a5518b1b-337c-41b0-8c43-2ba5ce1636d3",
   "metadata": {},
   "source": [
    "Both MSE and MAE are quite low, indicating that the model is making accurate predictions.\n",
    "Given the low error values, this tuned Random Forest model is performing well for this regression task. I am ready for the next steps, such as testing on new data."
   ]
  },
  {
   "cell_type": "code",
   "execution_count": 58,
   "id": "b2d3a3b2-e976-4eda-9fad-c5428ff31e29",
   "metadata": {},
   "outputs": [
    {
     "data": {
      "image/png": "[encoded data removed]",
      "text/plain": [
       "<Figure size 1000x600 with 1 Axes>"
      ]
     },
     "metadata": {},
     "output_type": "display_data"
    }
   ],
   "source": [
    "# Feature Importance of Tuned-model\n",
    "\n",
    "import matplotlib.pyplot as plt\n",
    "\n",
    "# Get feature importances\n",
    "importances = best_rfr_model.feature_importances_\n",
    "# Sort them in descending order\n",
    "indices = importances.argsort()[::-1]\n",
    "\n",
    "# Plot the feature importances\n",
    "plt.figure(figsize=(10, 6))\n",
    "plt.title(\"Feature Importances (Tuned Random Forest)\")\n",
    "plt.barh(range(X.shape[1]), importances[indices], align=\"center\")\n",
    "plt.yticks(range(X.shape[1]), [X.columns[i] for i in indices])\n",
    "plt.xlabel(\"Relative Importance\")\n",
    "plt.show()\n"
   ]
  },
  {
   "cell_type": "code",
   "execution_count": 59,
   "id": "7cd4410a-deda-4268-87d8-b49bd0964fd8",
   "metadata": {},
   "outputs": [
    {
     "name": "stdout",
     "output_type": "stream",
     "text": [
      "Cross-Validation MSE (5-fold): 0.10824332818204123\n",
      "Cross-Validation MAE (5-fold): 0.03323078966826025\n"
     ]
    }
   ],
   "source": [
    "# Tuned-Model Validation with Cross-Validation\n",
    "\n",
    "from sklearn.model_selection import cross_val_score\n",
    "\n",
    "# Evaluate using 5-fold cross-validation\n",
    "cv_scores = cross_val_score(best_rfr_model, X, y, cv=5, scoring='neg_mean_squared_error')\n",
    "cv_mae_scores = cross_val_score(best_rfr_model, X, y, cv=5, scoring='neg_mean_absolute_error')\n",
    "\n",
    "print(f\"Cross-Validation MSE (5-fold): {-cv_scores.mean()}\")\n",
    "print(f\"Cross-Validation MAE (5-fold): {-cv_mae_scores.mean()}\")\n"
   ]
  },
  {
   "cell_type": "markdown",
   "id": "971a2484-006b-4d36-a613-2d940b72afb7",
   "metadata": {},
   "source": [
    "## Testing the tuned model\n",
    "\n",
    "Make Predictions on New Data: Use the trained model (best_rfr_model) to make predictions on new data (test data or future data)."
   ]
  },
  {
   "cell_type": "code",
   "execution_count": 61,
   "id": "72d053ef-b85c-4190-849c-3997aaf6b54b",
   "metadata": {},
   "outputs": [
    {
     "name": "stdout",
     "output_type": "stream",
     "text": [
      "      origin_iata  dest_iata  delay_minutes\n",
      "930            67         36      17.051444\n",
      "2108          173         12      16.970524\n",
      "1584          128         12      12.734393\n",
      "929            67         35      12.571398\n",
      "977            67        112      10.780190\n"
     ]
    }
   ],
   "source": [
    "# Group by origin_iata and dest_iata, and calculate the average delay\n",
    "delay_by_route = df.groupby(['origin_iata', 'dest_iata'])['delay_minutes'].mean().reset_index()\n",
    "\n",
    "# Sort by delay_minutes to find the routes with the highest average delays\n",
    "delay_by_route_sorted = delay_by_route.sort_values(by='delay_minutes', ascending=False)\n",
    "\n",
    "# Show the top routes with the highest average delays\n",
    "print(delay_by_route_sorted.head())\n"
   ]
  },
  {
   "cell_type": "markdown",
   "id": "596ca38d-05c3-47c3-8339-4fa0b79ae9c4",
   "metadata": {},
   "source": [
    "JFK, LAX, ORD are most likely to be late on arrival if you're departing from here. DFW, SFO, and MIA are most likely to be late on arrival if they are your destination airport."
   ]
  },
  {
   "cell_type": "code",
   "execution_count": 63,
   "id": "72e39db3-349d-4da0-9a9a-e9d9d3c46546",
   "metadata": {},
   "outputs": [
    {
     "name": "stderr",
     "output_type": "stream",
     "text": [
      "C:\\Users\\hopeh\\AppData\\Local\\Temp\\ipykernel_13212\\396641083.py:13: FutureWarning: The default of observed=False is deprecated and will be changed to True in a future version of pandas. Pass observed=False to retain current behavior or observed=True to adopt the future default and silence this warning.\n",
      "  delay_by_time_of_day = df.groupby('time_of_day')['delay_minutes'].mean().reset_index()\n"
     ]
    },
    {
     "data": {
      "image/png": "[encoded data removed]",
      "text/plain": [
       "<Figure size 800x500 with 1 Axes>"
      ]
     },
     "metadata": {},
     "output_type": "display_data"
    },
    {
     "name": "stdout",
     "output_type": "stream",
     "text": [
      "  time_of_day  delay_minutes\n",
      "0       Night       0.558512\n",
      "1     Morning       0.916216\n",
      "2   Afternoon       1.142897\n",
      "3     Evening            NaN\n"
     ]
    }
   ],
   "source": [
    "import pandas as pd\n",
    "import matplotlib.pyplot as plt\n",
    "\n",
    "# Step 1: Assuming arr_time is in 'hhmm' format (as an integer or float), let's convert it to hour of day\n",
    "df['arr_hour'] = df['arr_time'].astype(int) // 100  # Extract the hour (this assumes arr_time is in 'hhmm' format)\n",
    "\n",
    "# Step 2: Create categories for different times of the day (e.g., Morning, Afternoon, Evening)\n",
    "bins = [0, 6, 12, 18, 24]\n",
    "labels = ['Night', 'Morning', 'Afternoon', 'Evening']\n",
    "df['time_of_day'] = pd.cut(df['arr_hour'], bins=bins, labels=labels, right=False)\n",
    "\n",
    "# Step 3: Group by 'time_of_day' and calculate the average delay\n",
    "delay_by_time_of_day = df.groupby('time_of_day')['delay_minutes'].mean().reset_index()\n",
    "\n",
    "# Step 4: Plot the results\n",
    "plt.figure(figsize=(8, 5))\n",
    "plt.bar(delay_by_time_of_day['time_of_day'], delay_by_time_of_day['delay_minutes'], color='skyblue')\n",
    "plt.xlabel('Time of Day')\n",
    "plt.ylabel('Average Delay (Minutes)')\n",
    "plt.title('Average Flight Delay by Time of Day')\n",
    "plt.show()\n",
    "\n",
    "# Optional: Show the numeric results as well\n",
    "print(delay_by_time_of_day)\n"
   ]
  },
  {
   "cell_type": "code",
   "execution_count": 64,
   "id": "cc081a05-9973-4b2f-9b8c-e07fc611d167",
   "metadata": {},
   "outputs": [
    {
     "data": {
      "text/plain": [
       "Index(['day_of_week', 'op_unique_carrier', 'op_carrier_fl_num', 'origin_iata', 'dest_iata', 'crs_dep_time', 'dep_time', 'arr_time', 'actual_elapsed_time', 'air_time', 'distance', 'origin_state', 'dest_state', 'length_ft', 'width_ft', 'surface', 'elevation_orig', 'tmax_orig', 'tmin_orig', 'weather_indicator', 'departure_delay', 'airline_name', 'nfl_game', 'delay_columns', 'elevation_dest', 'tmax_dest', 'tmin_dest', 'delay_minutes', 'lighted_0', 'lighted_1', 'is_weekend_0', 'is_weekend_1', 'arr_hour', 'time_of_day'], dtype='object')"
      ]
     },
     "execution_count": 64,
     "metadata": {},
     "output_type": "execute_result"
    }
   ],
   "source": [
    "df.columns"
   ]
  },
  {
   "cell_type": "code",
   "execution_count": 65,
   "id": "e5772bc0-809e-4e4e-821d-f2b9d429557b",
   "metadata": {},
   "outputs": [],
   "source": [
    "# day_of_week  op_unique_carrier  op_carrier_fl_num  origin_iata  dest_iata  crs_dep_time  dep_time  arr_time  actual_elapsed_time  air_time  distance  origin_state  dest_state  length_ft  width_ft  surface  elevation_orig  tmax_orig  tmin_orig  weather_indicator  departure_delay  airline_name  nfl_game  delay_columns  elevation_dest  tmax_dest  tmin_dest  delay_minutes  lighted_0  lighted_1  is_weekend_0  is_weekend_1"
   ]
  },
  {
   "cell_type": "code",
   "execution_count": 66,
   "id": "df30d31d-fb0b-42aa-b8b9-f487ac6e4ce8",
   "metadata": {},
   "outputs": [
    {
     "data": {
      "text/plain": [
       "day_of_week               int64\n",
       "op_unique_carrier         int32\n",
       "op_carrier_fl_num         int64\n",
       "origin_iata               int32\n",
       "dest_iata                 int32\n",
       "crs_dep_time              int64\n",
       "dep_time                float64\n",
       "arr_time                float64\n",
       "actual_elapsed_time     float64\n",
       "air_time                float64\n",
       "distance                float64\n",
       "origin_state              int32\n",
       "dest_state                int32\n",
       "length_ft               float64\n",
       "width_ft                float64\n",
       "surface                   int32\n",
       "elevation_orig          float64\n",
       "tmax_orig               float64\n",
       "tmin_orig               float64\n",
       "weather_indicator       float64\n",
       "departure_delay         float64\n",
       "airline_name              int32\n",
       "nfl_game                  int32\n",
       "delay_columns           float64\n",
       "elevation_dest          float64\n",
       "tmax_dest               float64\n",
       "tmin_dest               float64\n",
       "delay_minutes           float64\n",
       "lighted_0                  bool\n",
       "lighted_1                  bool\n",
       "is_weekend_0               bool\n",
       "is_weekend_1               bool\n",
       "arr_hour                  int32\n",
       "time_of_day            category\n",
       "dtype: object"
      ]
     },
     "execution_count": 66,
     "metadata": {},
     "output_type": "execute_result"
    }
   ],
   "source": [
    "df.dtypes"
   ]
  },
  {
   "cell_type": "code",
   "execution_count": 67,
   "id": "03e6500d-e16f-498b-8809-3744c6a670ba",
   "metadata": {},
   "outputs": [],
   "source": [
    "# Prepare new data\n",
    "\n",
    "# Load the DataFrame from a CSV file\n",
    "new_df = pd.read_csv(r'C:\\Users\\hopeh\\Desktop\\data_science_bootcamp\\flight_times_capstone\\preprocessed_data_week.csv', low_memory=False)\n",
    "\n",
    "\n",
    "# clean new data as df above"
   ]
  },
  {
   "cell_type": "code",
   "execution_count": 68,
   "id": "5aa80bda-44b8-4812-bcdf-5071c2d65da4",
   "metadata": {},
   "outputs": [
    {
     "name": "stdout",
     "output_type": "stream",
     "text": [
      "Index(['day_of_week', 'timestamp', 'op_unique_carrier', 'op_carrier_fl_num', 'origin_iata', 'dest_iata', 'crs_dep_time', 'dep_time', 'taxi_out', 'wheels_off', 'wheels_on', 'taxi_in', 'crs_arr_time', 'arr_time', 'crs_elapsed_time', 'actual_elapsed_time', 'air_time', 'flights', 'distance', 'origin_state', 'dest_state', 'origin_latitude', 'origin_longitude', 'dest_latitude', 'dest_longitude', 'type_of_airport', 'elevation_ft', 'length_ft', 'width_ft', 'surface', 'lighted', 'latitude_orig', 'longitude_orig', 'elevation_orig', 'tmax_orig', 'tmin_orig', 'weather_indicator', 'total_delay_time', 'is_weekend', 'arrival_delay', 'departure_delay', 'airline_name', 'nfl_game', 'delay_columns', 'latitude_dest', 'longitude_dest', 'elevation_dest', 'tmax_dest', 'tmin_dest', 'flight_delay_category', 'delay_minutes'], dtype='object')\n"
     ]
    }
   ],
   "source": [
    "# Correct way to access column names\n",
    "print(new_df.columns)\n"
   ]
  },
  {
   "cell_type": "code",
   "execution_count": 69,
   "id": "3cd0f1b4-a6a9-414d-982e-adf504a2256c",
   "metadata": {},
   "outputs": [
    {
     "name": "stdout",
     "output_type": "stream",
     "text": [
      "Feature columns used during training: Index(['day_of_week', 'op_unique_carrier', 'op_carrier_fl_num', 'origin_iata', 'dest_iata', 'crs_dep_time', 'dep_time', 'arr_time', 'actual_elapsed_time', 'air_time', 'distance', 'origin_state', 'dest_state', 'length_ft', 'width_ft', 'surface', 'elevation_orig', 'tmax_orig', 'tmin_orig', 'weather_indicator', 'departure_delay', 'airline_name', 'nfl_game', 'delay_columns', 'elevation_dest', 'tmax_dest', 'tmin_dest', 'lighted_0', 'lighted_1', 'is_weekend_0', 'is_weekend_1'], dtype='object')\n"
     ]
    }
   ],
   "source": [
    "# Get the list of feature columns from the training data\n",
    "feature_columns = X_train.columns\n",
    "print(\"Feature columns used during training:\", feature_columns)\n"
   ]
  },
  {
   "cell_type": "code",
   "execution_count": 70,
   "id": "6de12660-7ec9-4cd9-8e7d-ddfb66643b37",
   "metadata": {},
   "outputs": [
    {
     "name": "stdout",
     "output_type": "stream",
     "text": [
      "Index(['day_of_week', 'timestamp', 'op_unique_carrier', 'op_carrier_fl_num', 'origin_iata', 'dest_iata', 'crs_dep_time', 'dep_time', 'taxi_out', 'wheels_off', 'wheels_on', 'taxi_in', 'crs_arr_time', 'arr_time', 'crs_elapsed_time', 'actual_elapsed_time', 'air_time', 'flights', 'distance', 'origin_state', 'dest_state', 'origin_latitude', 'origin_longitude', 'dest_latitude', 'dest_longitude', 'type_of_airport', 'elevation_ft', 'length_ft', 'width_ft', 'surface', 'lighted', 'latitude_orig', 'longitude_orig', 'elevation_orig', 'tmax_orig', 'tmin_orig', 'weather_indicator', 'total_delay_time', 'is_weekend', 'arrival_delay', 'departure_delay', 'airline_name', 'nfl_game', 'delay_columns', 'latitude_dest', 'longitude_dest', 'elevation_dest', 'tmax_dest', 'tmin_dest', 'flight_delay_category', 'delay_minutes'], dtype='object')\n"
     ]
    }
   ],
   "source": [
    "# Correct way to access column names\n",
    "print(new_df.columns)"
   ]
  },
  {
   "cell_type": "code",
   "execution_count": 71,
   "id": "1bb2361b-486d-46da-9808-4fccd49c54ac",
   "metadata": {},
   "outputs": [
    {
     "name": "stdout",
     "output_type": "stream",
     "text": [
      "Index(['day_of_week', 'op_unique_carrier', 'op_carrier_fl_num', 'origin_iata', 'dest_iata', 'crs_dep_time', 'dep_time', 'arr_time', 'actual_elapsed_time', 'air_time', 'distance', 'origin_state', 'dest_state', 'length_ft', 'width_ft', 'surface', 'lighted', 'elevation_orig', 'tmax_orig', 'tmin_orig', 'weather_indicator', 'is_weekend', 'departure_delay', 'airline_name', 'nfl_game', 'delay_columns', 'elevation_dest', 'tmax_dest', 'tmin_dest', 'delay_minutes'], dtype='object')\n"
     ]
    }
   ],
   "source": [
    "new_df = new_df.drop(columns=['taxi_out', 'wheels_off', 'wheels_on', 'taxi_in','crs_elapsed_time', 'origin_latitude', 'origin_longitude', 'dest_latitude', 'dest_longitude', 'type_of_airport', 'latitude_orig', 'longitude_orig', 'elevation_ft', 'latitude_dest', 'longitude_dest', 'total_delay_time', 'flight_delay_category', 'arrival_delay', 'flights', 'crs_arr_time', 'timestamp'], axis=1)\n",
    "\n",
    "print(new_df.columns)"
   ]
  },
  {
   "cell_type": "code",
   "execution_count": 72,
   "id": "541ea314-cf89-474a-838b-37bdd70c0574",
   "metadata": {},
   "outputs": [
    {
     "name": "stdout",
     "output_type": "stream",
     "text": [
      "day_of_week               int64\n",
      "op_unique_carrier      category\n",
      "op_carrier_fl_num         int64\n",
      "origin_iata            category\n",
      "dest_iata              category\n",
      "crs_dep_time              int64\n",
      "dep_time                float64\n",
      "arr_time                float64\n",
      "actual_elapsed_time     float64\n",
      "air_time                float64\n",
      "distance                float64\n",
      "origin_state           category\n",
      "dest_state             category\n",
      "length_ft               float64\n",
      "width_ft                float64\n",
      "surface                category\n",
      "lighted                   int64\n",
      "elevation_orig          float64\n",
      "tmax_orig               float64\n",
      "tmin_orig               float64\n",
      "weather_indicator       float64\n",
      "is_weekend                int64\n",
      "departure_delay         float64\n",
      "airline_name           category\n",
      "nfl_game               category\n",
      "delay_columns           float64\n",
      "elevation_dest          float64\n",
      "tmax_dest               float64\n",
      "tmin_dest               float64\n",
      "delay_minutes           float64\n",
      "dtype: object\n"
     ]
    }
   ],
   "source": [
    "# Select columns of 'object' type and convert them to 'category'\n",
    "object_columns = new_df.select_dtypes(include='object').columns\n",
    "new_df[object_columns] = new_df[object_columns].astype('category')\n",
    "\n",
    "# Verify the changes\n",
    "print(new_df.dtypes)\n"
   ]
  },
  {
   "cell_type": "code",
   "execution_count": 73,
   "id": "5c40a1d1-6c0f-4438-8635-727f47e1356b",
   "metadata": {},
   "outputs": [
    {
     "name": "stdout",
     "output_type": "stream",
     "text": [
      "day_of_week               int64\n",
      "op_unique_carrier      category\n",
      "op_carrier_fl_num         int64\n",
      "origin_iata            category\n",
      "dest_iata              category\n",
      "crs_dep_time              int64\n",
      "dep_time                float64\n",
      "arr_time                float64\n",
      "actual_elapsed_time     float64\n",
      "air_time                float64\n",
      "distance                float64\n",
      "origin_state           category\n",
      "dest_state             category\n",
      "length_ft               float64\n",
      "width_ft                float64\n",
      "surface                category\n",
      "lighted                   int64\n",
      "elevation_orig          float64\n",
      "tmax_orig               float64\n",
      "tmin_orig               float64\n",
      "weather_indicator       float64\n",
      "is_weekend                int64\n",
      "departure_delay         float64\n",
      "airline_name           category\n",
      "nfl_game               category\n",
      "delay_columns           float64\n",
      "elevation_dest          float64\n",
      "tmax_dest               float64\n",
      "tmin_dest               float64\n",
      "delay_minutes           float64\n",
      "dtype: object\n"
     ]
    }
   ],
   "source": [
    "print(new_df.dtypes)\n"
   ]
  },
  {
   "cell_type": "code",
   "execution_count": 74,
   "id": "8ab37582-7bf6-40ea-9746-0e98d3fa3124",
   "metadata": {},
   "outputs": [],
   "source": [
    "from sklearn.preprocessing import LabelEncoder\n",
    "\n",
    "# Initialize label encoder\n",
    "label_encoder = LabelEncoder()\n",
    "\n",
    "# Apply label encoding to each categorical column\n",
    "new_df['day_of_week'] = label_encoder.fit_transform(new_df['day_of_week'])\n",
    "new_df['op_carrier_fl_num'] = label_encoder.fit_transform(new_df['op_carrier_fl_num'])\n",
    "new_df['op_unique_carrier'] = label_encoder.fit_transform(new_df['op_unique_carrier'])\n",
    "new_df['origin_iata'] = label_encoder.fit_transform(new_df['origin_iata'])\n",
    "new_df['dest_iata'] = label_encoder.fit_transform(new_df['dest_iata'])\n",
    "new_df['origin_state'] = label_encoder.fit_transform(new_df['origin_state'])\n",
    "new_df['dest_state'] = label_encoder.fit_transform(new_df['dest_state'])\n",
    "new_df['airline_name'] = label_encoder.fit_transform(new_df['airline_name'])\n",
    "new_df['nfl_game'] = label_encoder.fit_transform(new_df['nfl_game'])\n",
    "new_df['surface'] = label_encoder.fit_transform(new_df['surface'])"
   ]
  },
  {
   "cell_type": "code",
   "execution_count": 75,
   "id": "82818d65-fd33-4208-9ac3-50782da25b71",
   "metadata": {},
   "outputs": [],
   "source": [
    "# Perform One-Hot Encoding on binary categorical features\n",
    "new_df = pd.get_dummies(new_df, columns=['lighted', 'is_weekend'])\n"
   ]
  },
  {
   "cell_type": "code",
   "execution_count": 76,
   "id": "9ef6feee-1bae-4c88-b726-9e6dd4b38a63",
   "metadata": {},
   "outputs": [
    {
     "data": {
      "text/plain": [
       "Index(['day_of_week', 'op_unique_carrier', 'op_carrier_fl_num', 'origin_iata', 'dest_iata', 'crs_dep_time', 'dep_time', 'arr_time', 'actual_elapsed_time', 'air_time', 'distance', 'origin_state', 'dest_state', 'length_ft', 'width_ft', 'surface', 'elevation_orig', 'tmax_orig', 'tmin_orig', 'weather_indicator', 'departure_delay', 'airline_name', 'nfl_game', 'delay_columns', 'elevation_dest', 'tmax_dest', 'tmin_dest', 'delay_minutes', 'lighted_0', 'lighted_1', 'is_weekend_0', 'is_weekend_1'], dtype='object')"
      ]
     },
     "execution_count": 76,
     "metadata": {},
     "output_type": "execute_result"
    }
   ],
   "source": [
    "new_df.columns"
   ]
  },
  {
   "cell_type": "code",
   "execution_count": 77,
   "id": "a528c064-5883-4dbd-a888-a007794a6b18",
   "metadata": {},
   "outputs": [
    {
     "name": "stdout",
     "output_type": "stream",
     "text": [
      "delay_minutes          1.000000\n",
      "delay_columns          0.324469\n",
      "arr_time               0.098257\n",
      "dep_time               0.053221\n",
      "departure_delay        0.045177\n",
      "length_ft              0.022759\n",
      "is_weekend_0           0.019506\n",
      "crs_dep_time           0.018744\n",
      "origin_iata            0.017833\n",
      "distance               0.014690\n",
      "lighted_1              0.014499\n",
      "dest_state             0.011264\n",
      "width_ft               0.010603\n",
      "op_carrier_fl_num      0.002309\n",
      "elevation_dest        -0.003640\n",
      "airline_name          -0.006250\n",
      "day_of_week           -0.007303\n",
      "surface               -0.007428\n",
      "weather_indicator     -0.008232\n",
      "origin_state          -0.013678\n",
      "op_unique_carrier     -0.014235\n",
      "lighted_0             -0.014499\n",
      "elevation_orig        -0.015865\n",
      "dest_iata             -0.017985\n",
      "is_weekend_1          -0.019506\n",
      "tmin_orig             -0.021999\n",
      "tmin_dest             -0.021999\n",
      "air_time              -0.025870\n",
      "actual_elapsed_time   -0.032596\n",
      "tmax_orig             -0.032756\n",
      "tmax_dest             -0.032756\n",
      "nfl_game                    NaN\n",
      "Name: delay_minutes, dtype: float64\n"
     ]
    }
   ],
   "source": [
    "from sklearn.preprocessing import LabelEncoder\n",
    "\n",
    "# Initialize label encoder\n",
    "label_encoder = LabelEncoder()\n",
    "\n",
    "# Apply label encoding to each categorical column\n",
    "for column in new_df.select_dtypes(include=['category']).columns:\n",
    "    new_df[column] = label_encoder.fit_transform(new_df[column])\n",
    "\n",
    "# Now calculate the correlation matrix\n",
    "correlation_matrix = new_df.corr()\n",
    "\n",
    "# Print the sorted correlation values with respect to 'delay_minutes'\n",
    "print(correlation_matrix['delay_minutes'].sort_values(ascending=False))"
   ]
  },
  {
   "cell_type": "code",
   "execution_count": 78,
   "id": "ca32a254-ff0f-4e4d-b4e1-ad99a2cd413c",
   "metadata": {},
   "outputs": [
    {
     "name": "stdout",
     "output_type": "stream",
     "text": [
      "Prediction for new data: [2.61797052 2.61935964 0.86351642 ... 0.22020714 0.22020714 0.22020714]\n"
     ]
    }
   ],
   "source": [
    "# Predict the target value using the trained model\n",
    "\n",
    "# \n",
    "X_new = new_df.drop(columns=['delay_minutes'])  # Drop the target column\n",
    "\n",
    "# Make predictions with the trained model\n",
    "prediction = best_rfr_model.predict(X_new)\n",
    "\n",
    "print(f\"Prediction for new data: {prediction}\")\n"
   ]
  },
  {
   "cell_type": "code",
   "execution_count": 79,
   "id": "cf7873c0-e985-4a4b-8a3a-b8415fd1807a",
   "metadata": {},
   "outputs": [],
   "source": [
    "# visualize the predictions compared to actual values "
   ]
  },
  {
   "cell_type": "code",
   "execution_count": 80,
   "id": "f3c8528a-1783-4fd3-8e70-2b403fb8d2f3",
   "metadata": {},
   "outputs": [
    {
     "name": "stdout",
     "output_type": "stream",
     "text": [
      "Index(['day_of_week', 'op_unique_carrier', 'op_carrier_fl_num', 'origin_iata', 'dest_iata', 'crs_dep_time', 'dep_time', 'arr_time', 'actual_elapsed_time', 'air_time', 'distance', 'origin_state', 'dest_state', 'length_ft', 'width_ft', 'surface', 'elevation_orig', 'tmax_orig', 'tmin_orig', 'weather_indicator', 'departure_delay', 'airline_name', 'nfl_game', 'delay_columns', 'elevation_dest', 'tmax_dest', 'tmin_dest', 'delay_minutes', 'lighted_0', 'lighted_1', 'is_weekend_0', 'is_weekend_1'], dtype='object')\n"
     ]
    }
   ],
   "source": [
    "print(new_df.columns)\n"
   ]
  },
  {
   "cell_type": "code",
   "execution_count": 84,
   "id": "e2b05081-60a2-4524-abef-9c0567de855a",
   "metadata": {},
   "outputs": [
    {
     "name": "stdout",
     "output_type": "stream",
     "text": [
      "Root Mean Squared Error (RMSE): 0.0333960492427549\n"
     ]
    }
   ],
   "source": [
    "from sklearn.metrics import mean_squared_error\n",
    "import numpy as np\n",
    "\n",
    "# Drop the 'delay_minutes' column from new_df, as it's the target variable\n",
    "X_new = new_df.drop(columns=['delay_minutes'])  # Drop the target column for prediction\n",
    "\n",
    "# Assuming 'X_train' is the training data used to fit the model,\n",
    "# ensure that the features in 'X_new' match the ones in 'X_train'\n",
    "# If necessary, apply any transformations to 'X_new' (e.g., scaling, encoding) \n",
    "# that were applied to the training data before making predictions.\n",
    "\n",
    "# Make predictions using the model\n",
    "y_pred = best_rfr_model.predict(X_new)\n",
    "\n",
    "# If 'delay_minutes' was your target variable, ensure you have it as the true values (y_true)\n",
    "y_true = new_df['delay_minutes']\n",
    "\n",
    "# Compute Mean Squared Error (MSE)\n",
    "mse = mean_squared_error(y_true, y_pred)\n",
    "\n",
    "# Compute Root Mean Squared Error (RMSE)\n",
    "rmse = np.sqrt(mse)\n",
    "\n",
    "print(f\"Root Mean Squared Error (RMSE): {rmse}\")\n"
   ]
  },
  {
   "cell_type": "code",
   "execution_count": 86,
   "id": "16dcd435-858d-453e-94ba-1e38c0cba593",
   "metadata": {},
   "outputs": [],
   "source": [
    "# Drop 'delay_minutes' in place\n",
    "#new_df.drop(['delay_minutes'], axis=1, inplace=True)\n"
   ]
  },
  {
   "cell_type": "code",
   "execution_count": 88,
   "id": "1fdfd608-72bd-4aa4-b915-fe4163c73cd7",
   "metadata": {},
   "outputs": [
    {
     "data": {
      "image/png": "[encoded data removed]",
      "text/plain": [
       "<Figure size 640x480 with 1 Axes>"
      ]
     },
     "metadata": {},
     "output_type": "display_data"
    }
   ],
   "source": [
    "import matplotlib.pyplot as plt\n",
    "\n",
    "# compare the predicted values with actual values\n",
    "plt.scatter(y_true, prediction, alpha=0.5)\n",
    "plt.xlabel('Actual Values')\n",
    "plt.ylabel('Predicted Values')\n",
    "plt.title('Actual vs Predicted')\n",
    "plt.show()\n"
   ]
  },
  {
   "cell_type": "code",
   "execution_count": 90,
   "id": "3a9ba374-638a-4590-a92f-65cd862049c0",
   "metadata": {},
   "outputs": [
    {
     "name": "stdout",
     "output_type": "stream",
     "text": [
      "MAE: 0.0029990546079890273\n",
      "MSE: 0.00111529610502451\n",
      "R²: 0.9996975678399977\n"
     ]
    }
   ],
   "source": [
    "# Evaluate Prediction Quality:\n",
    "\n",
    "\n",
    "from sklearn.metrics import mean_absolute_error, mean_squared_error, r2_score\n",
    "\n",
    "# Calculate evaluation metrics\n",
    "mae = mean_absolute_error(y_true, prediction)\n",
    "mse = mean_squared_error(y_true, prediction)\n",
    "r2 = r2_score(y_true, prediction)\n",
    "\n",
    "print(f\"MAE: {mae}\")\n",
    "print(f\"MSE: {mse}\")\n",
    "print(f\"R²: {r2}\")\n"
   ]
  },
  {
   "cell_type": "markdown",
   "id": "4b7aaecd-d418-41b8-b670-c4fb072024c5",
   "metadata": {},
   "source": [
    "Mean Absolute Error (MAE):\n",
    "\n",
    "0.003 (approx)\n",
    "This means that, on average, the model’s predictions are off by only 0.003 units of the target variable, delay_minutes. This is a very low error, indicating the model is making very precise predictions.\n",
    "\n",
    "\n",
    "Mean Squared Error (MSE):\n",
    "\n",
    "0.0011 (approx)\n",
    "The MSE is a measure of the squared difference between predicted and actual values. Given the very low value, it shows that the model has a very small variance in its predictions, which is a good sign of accurate performance.\n",
    "\n",
    "\n",
    "R² (Coefficient of Determination):\n",
    "\n",
    "0.9997\n",
    "This is extremely high. An R² value close to 1 means that the model is explaining almost all the variability in the target variable. In other words, the model is doing an excellent job of fitting the data, with just 0.03% of the variance unexplained."
   ]
  },
  {
   "cell_type": "code",
   "execution_count": 92,
   "id": "b16b862c-98b9-497c-9f55-fe860fc4a2bd",
   "metadata": {},
   "outputs": [],
   "source": [
    "# Drop the 'delay_minutes' column from new_df, as it's the target variable\n",
    "X_new = new_df.drop(columns=['delay_minutes'])  # Drop the target column for prediction\n",
    "\n",
    "# Assuming 'X_train' is the training data used to fit the model,\n",
    "# ensure that the features in 'X_new' match the ones in 'X_train'\n",
    "# If necessary, apply any transformations to 'X_new' (e.g., scaling, encoding) \n",
    "# that were applied to the training data before making predictions.\n",
    "\n",
    "# Make predictions using the model\n",
    "y_pred = best_rfr_model.predict(X_new)\n",
    "\n",
    "# If 'delay_minutes' was your target variable, ensure you have it as the true values (y_true)\n",
    "y_true = new_df['delay_minutes']"
   ]
  },
  {
   "cell_type": "markdown",
   "id": "4719880d-f385-4c2c-8b9c-fe88f11dd652",
   "metadata": {},
   "source": [
    "Deploy the Model: save the trained model using joblib for later use"
   ]
  },
  {
   "cell_type": "code",
   "execution_count": 105,
   "id": "9553fde6-d4f6-49f9-bb7f-72db3371ff1a",
   "metadata": {},
   "outputs": [],
   "source": [
    "import joblib\n",
    "# Save the model\n",
    "joblib.dump(best_rfr_model, 'best_random_forest_model.pkl')\n",
    "\n",
    "# Load the model\n",
    "loaded_model = joblib.load('best_random_forest_model.pkl')\n"
   ]
  },
  {
   "cell_type": "markdown",
   "id": "cb1ce9ea-432f-41a5-aa56-ca1215591965",
   "metadata": {},
   "source": [
    "Monitor Performance"
   ]
  },
  {
   "cell_type": "markdown",
   "id": "8b955ffb-279c-4ad1-94ce-64d754ac0d43",
   "metadata": {},
   "source": [
    "Move forward with deploying the model in a production environment, where it can make real-time predictions on new data.\n",
    "\n",
    "Monitor Performance:vAfter deployment, make sure to monitor the model's performance over time, as new data could lead to changes in the model’s predictive accuracy."
   ]
  }
 ],
 "metadata": {
  "kernelspec": {
   "display_name": "Python 3 (ipykernel)",
   "language": "python",
   "name": "python3"
  },
  "language_info": {
   "codemirror_mode": {
    "name": "ipython",
    "version": 3
   },
   "file_extension": ".py",
   "mimetype": "text/x-python",
   "name": "python",
   "nbconvert_exporter": "python",
   "pygments_lexer": "ipython3",
   "version": "3.12.4"
  }
 },
 "nbformat": 4,
 "nbformat_minor": 5
}
