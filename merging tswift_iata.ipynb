{
 "cells": [
  {
   "cell_type": "code",
   "execution_count": 485,
   "id": "e712af2e-c077-42ba-8afc-598578e1da09",
   "metadata": {},
   "outputs": [],
   "source": [
    "import pandas as pd\n",
    "import matplotlib.pyplot as plt\n",
    "from scipy.stats import pearsonr, spearmanr"
   ]
  },
  {
   "cell_type": "code",
   "execution_count": 486,
   "id": "937f2b71-9c1e-4405-93ab-4a5e2d402b36",
   "metadata": {},
   "outputs": [],
   "source": [
    "# Load the data\n",
    "flights_df = pd.read_csv(r\"C:\\Users\\hopeh\\Desktop\\data_science_bootcamp\\flight_times_capstone\\cleaned_combined_data_v2.csv\")"
   ]
  },
  {
   "cell_type": "code",
   "execution_count": 487,
   "id": "b4448423-e084-417e-b502-856d3b684f00",
   "metadata": {},
   "outputs": [],
   "source": [
    "tswift_df = pd.read_csv(r\"C:\\Users\\hopeh\\Desktop\\data_science_bootcamp\\flight_times_capstone\\extra_fun_data\\Taylor_Swift_Eras_Tour.csv\")\n"
   ]
  },
  {
   "cell_type": "code",
   "execution_count": 488,
   "id": "e1321705-05f1-443e-87f3-11eb4f84bd48",
   "metadata": {},
   "outputs": [
    {
     "data": {
      "text/html": [
       "<div>\n",
       "<style scoped>\n",
       "    .dataframe tbody tr th:only-of-type {\n",
       "        vertical-align: middle;\n",
       "    }\n",
       "\n",
       "    .dataframe tbody tr th {\n",
       "        vertical-align: top;\n",
       "    }\n",
       "\n",
       "    .dataframe thead th {\n",
       "        text-align: right;\n",
       "    }\n",
       "</style>\n",
       "<table border=\"1\" class=\"dataframe\">\n",
       "  <thead>\n",
       "    <tr style=\"text-align: right;\">\n",
       "      <th></th>\n",
       "      <th>Unnamed: 0</th>\n",
       "      <th>Unnamed: 1</th>\n",
       "      <th>Unnamed: 2</th>\n",
       "      <th>Unnamed: 3</th>\n",
       "      <th>Unnamed: 4</th>\n",
       "      <th>Unnamed: 5</th>\n",
       "      <th>Unnamed: 6</th>\n",
       "      <th>Unnamed: 7</th>\n",
       "      <th>Unnamed: 8</th>\n",
       "      <th>Unnamed: 9</th>\n",
       "      <th>Unnamed: 10</th>\n",
       "      <th>Unnamed: 11</th>\n",
       "    </tr>\n",
       "  </thead>\n",
       "  <tbody>\n",
       "    <tr>\n",
       "      <th>0</th>\n",
       "      <td>NaN</td>\n",
       "      <td>NaN</td>\n",
       "      <td>NaN</td>\n",
       "      <td>NaN</td>\n",
       "      <td>NaN</td>\n",
       "      <td>NaN</td>\n",
       "      <td>NaN</td>\n",
       "      <td>NaN</td>\n",
       "      <td>NaN</td>\n",
       "      <td>NaN</td>\n",
       "      <td>NaN</td>\n",
       "      <td>NaN</td>\n",
       "    </tr>\n",
       "    <tr>\n",
       "      <th>1</th>\n",
       "      <td>NaN</td>\n",
       "      <td>Tour Dates</td>\n",
       "      <td>NaN</td>\n",
       "      <td>NaN</td>\n",
       "      <td>NaN</td>\n",
       "      <td>NaN</td>\n",
       "      <td>NaN</td>\n",
       "      <td>NaN</td>\n",
       "      <td>NaN</td>\n",
       "      <td>NaN</td>\n",
       "      <td>NaN</td>\n",
       "      <td>NaN</td>\n",
       "    </tr>\n",
       "    <tr>\n",
       "      <th>2</th>\n",
       "      <td>NaN</td>\n",
       "      <td>Countdown!</td>\n",
       "      <td>Date</td>\n",
       "      <td>City</td>\n",
       "      <td>Stadium</td>\n",
       "      <td>Opener 1</td>\n",
       "      <td>Opener 2</td>\n",
       "      <td>Notes</td>\n",
       "      <td>NaN</td>\n",
       "      <td>NaN</td>\n",
       "      <td>NaN</td>\n",
       "      <td>NaN</td>\n",
       "    </tr>\n",
       "    <tr>\n",
       "      <th>3</th>\n",
       "      <td>NaN</td>\n",
       "      <td>NaN</td>\n",
       "      <td>Fri, Mar 17, 2023</td>\n",
       "      <td>Glendale, AZ</td>\n",
       "      <td>STATE FARM STADIUM</td>\n",
       "      <td>Paramore</td>\n",
       "      <td>GAYLE</td>\n",
       "      <td>Opening Night</td>\n",
       "      <td>NaN</td>\n",
       "      <td>NaN</td>\n",
       "      <td>NaN</td>\n",
       "      <td>NaN</td>\n",
       "    </tr>\n",
       "    <tr>\n",
       "      <th>4</th>\n",
       "      <td>NaN</td>\n",
       "      <td>NaN</td>\n",
       "      <td>Sat, Mar 18, 2023</td>\n",
       "      <td>NaN</td>\n",
       "      <td>NaN</td>\n",
       "      <td>Paramore</td>\n",
       "      <td>GAYLE</td>\n",
       "      <td>NaN</td>\n",
       "      <td>NaN</td>\n",
       "      <td>NaN</td>\n",
       "      <td>NaN</td>\n",
       "      <td>NaN</td>\n",
       "    </tr>\n",
       "  </tbody>\n",
       "</table>\n",
       "</div>"
      ],
      "text/plain": [
       "   Unnamed: 0  Unnamed: 1         Unnamed: 2    Unnamed: 3  \\\n",
       "0         NaN         NaN                NaN           NaN   \n",
       "1         NaN  Tour Dates                NaN           NaN   \n",
       "2         NaN  Countdown!               Date          City   \n",
       "3         NaN         NaN  Fri, Mar 17, 2023  Glendale, AZ   \n",
       "4         NaN         NaN  Sat, Mar 18, 2023           NaN   \n",
       "\n",
       "           Unnamed: 4 Unnamed: 5 Unnamed: 6     Unnamed: 7  Unnamed: 8  \\\n",
       "0                 NaN        NaN        NaN            NaN         NaN   \n",
       "1                 NaN        NaN        NaN            NaN         NaN   \n",
       "2             Stadium   Opener 1   Opener 2          Notes         NaN   \n",
       "3  STATE FARM STADIUM   Paramore      GAYLE  Opening Night         NaN   \n",
       "4                 NaN   Paramore      GAYLE            NaN         NaN   \n",
       "\n",
       "   Unnamed: 9  Unnamed: 10 Unnamed: 11  \n",
       "0         NaN          NaN         NaN  \n",
       "1         NaN          NaN         NaN  \n",
       "2         NaN          NaN         NaN  \n",
       "3         NaN          NaN         NaN  \n",
       "4         NaN          NaN         NaN  "
      ]
     },
     "execution_count": 488,
     "metadata": {},
     "output_type": "execute_result"
    }
   ],
   "source": [
    "tswift_df.head()"
   ]
  },
  {
   "cell_type": "code",
   "execution_count": 489,
   "id": "72e586d9-e337-4ca6-bc71-7e806bc229e9",
   "metadata": {},
   "outputs": [
    {
     "name": "stdout",
     "output_type": "stream",
     "text": [
      "['Unnamed: 0', 'Unnamed: 8', 'Unnamed: 9', 'Unnamed: 10']\n"
     ]
    }
   ],
   "source": [
    "nan_columns = tswift_df.columns[tswift_df.isna().all()].tolist()\n",
    "print(nan_columns)"
   ]
  },
  {
   "cell_type": "code",
   "execution_count": 490,
   "id": "2c7e799f-19e3-4856-8e49-75597d89c26d",
   "metadata": {},
   "outputs": [],
   "source": [
    "# Drop columns that are 100% NaN\n",
    "tswift_df = tswift_df.dropna(axis=1, how='all')\n",
    "\n",
    "# Drop rows that are 100% NaN\n",
    "tswift_df = tswift_df.dropna(axis=0, how='all')\n"
   ]
  },
  {
   "cell_type": "code",
   "execution_count": 491,
   "id": "f07bddd0-598f-4881-bab1-3794fed8c205",
   "metadata": {},
   "outputs": [
    {
     "name": "stdout",
     "output_type": "stream",
     "text": [
      "     Unnamed: 1         Unnamed: 2                            Unnamed: 3  \\\n",
      "1    Tour Dates                NaN                                   NaN   \n",
      "2    Countdown!               Date                                  City   \n",
      "125       #NUM!  Wed, Jul 24, 2024                                   NaN   \n",
      "126           0  Sat, Jul 27, 2024                       Munich, Germany   \n",
      "127           1  Sun, Jul 28, 2024                                   NaN   \n",
      "128           5   Thu, Aug 1, 2024                        Warsaw, Poland   \n",
      "129           6   Fri, Aug 2, 2024                                   NaN   \n",
      "130           7   Sat, Aug 3, 2024                                   NaN   \n",
      "131          12   Thu, Aug 8, 2024                       Vienna, Austria   \n",
      "132          13   Fri, Aug 9, 2024                                   NaN   \n",
      "133          14  Sat, Aug 10, 2024                                   NaN   \n",
      "134          19  Thu, Aug 15, 2024                London, United Kingdom   \n",
      "135          20  Fri, Aug 16, 2024                                   NaN   \n",
      "136          21  Sat, Aug 17, 2024                                   NaN   \n",
      "137          23  Mon, Aug 19, 2024                                   NaN   \n",
      "138          24  Tue, Aug 20, 2024                                   NaN   \n",
      "139          83  Fri, Oct 18, 2024                             Miami, FL   \n",
      "140          84  Sat, Oct 19, 2024                                   NaN   \n",
      "141          85  Sun, Oct 20, 2024                                   NaN   \n",
      "142          90  Fri, Oct 25, 2024                       New Orleans, LA   \n",
      "143          91  Sat, Oct 26, 2024                                   NaN   \n",
      "144          92  Sun, Oct 27, 2024                                   NaN   \n",
      "145          97   Fri, Nov 1, 2024                      Indianapolis, IN   \n",
      "146          98   Sat, Nov 2, 2024                                   NaN   \n",
      "147          99   Sun, Nov 3, 2024                                   NaN   \n",
      "148         110  Thu, Nov 14, 2024              Toronto, Ontario, Canada   \n",
      "149         111  Fri, Nov 15, 2024                                   NaN   \n",
      "150         112  Sat, Nov 16, 2024                                   NaN   \n",
      "151         117  Thu, Nov 21, 2024                                   NaN   \n",
      "152         118  Fri, Nov 22, 2024                                   NaN   \n",
      "153         119  Sat, Nov 23, 2024                                   NaN   \n",
      "154         132   Fri, Dec 6, 2024  Vancouver, British Coloumbia, Canada   \n",
      "155         133   Sat, Dec 7, 2024                                   NaN   \n",
      "156         134   Sun, Dec 8, 2024                                   NaN   \n",
      "\n",
      "               Unnamed: 4     Unnamed: 5 Unnamed: 6 Unnamed: 7 Unnamed: 11  \n",
      "1                     NaN            NaN        NaN        NaN         NaN  \n",
      "2                 Stadium       Opener 1   Opener 2      Notes         NaN  \n",
      "125                   NaN       Paramore        NaN        NaN         NaN  \n",
      "126        Olympiastadion       Paramore        NaN        NaN         NaN  \n",
      "127                   NaN       Paramore        NaN        NaN         NaN  \n",
      "128          PGE Narodowy       Paramore        NaN        NaN         NaN  \n",
      "129                   NaN       Paramore        NaN        NaN         NaN  \n",
      "130                   NaN       Paramore        NaN        NaN         NaN  \n",
      "131  Ernst-Happel-Stadion       Paramore        NaN        NaN         NaN  \n",
      "132                   NaN       Paramore        NaN        NaN         NaN  \n",
      "133                   NaN       Paramore        NaN        NaN         NaN  \n",
      "134       Wembley Stadium       Paramore        NaN        NaN         NaN  \n",
      "135                   NaN       Paramore        NaN        NaN         NaN  \n",
      "136                   NaN       Paramore        NaN        NaN         NaN  \n",
      "137                   NaN       Paramore        NaN        NaN         NaN  \n",
      "138                   NaN       Paramore        NaN        NaN         NaN  \n",
      "139     Hard Rock Stadium  Gracie Abrams        NaN        NaN         NaN  \n",
      "140                   NaN  Gracie Abrams        NaN        NaN         NaN  \n",
      "141                   NaN  Gracie Abrams        NaN        NaN         NaN  \n",
      "142    Caesar's Superdome  Gracie Abrams        NaN        NaN         NaN  \n",
      "143                   NaN  Gracie Abrams        NaN        NaN         NaN  \n",
      "144                   NaN  Gracie Abrams        NaN        NaN         NaN  \n",
      "145    Lucas Oil Stadium   Gracie Abrams        NaN        NaN         NaN  \n",
      "146                   NaN  Gracie Abrams        NaN        NaN         NaN  \n",
      "147                   NaN  Gracie Abrams        NaN        NaN         NaN  \n",
      "148        Roger's Centre  Gracie Abrams        NaN        NaN         NaN  \n",
      "149                   NaN  Gracie Abrams        NaN        NaN         NaN  \n",
      "150                   NaN  Gracie Abrams        NaN        NaN         NaN  \n",
      "151                   NaN  Gracie Abrams        NaN        NaN         NaN  \n",
      "152                   NaN  Gracie Abrams        NaN        NaN         NaN  \n",
      "153                   NaN  Gracie Abrams        NaN        NaN         NaN  \n",
      "154              BC Place  Gracie Abrams        NaN        NaN         NaN  \n",
      "155                   NaN  Gracie Abrams        NaN        NaN         NaN  \n",
      "156                   NaN  Gracie Abrams        NaN        NaN         NaN  \n"
     ]
    }
   ],
   "source": [
    "non_nan_rows = tswift_df[tswift_df['Unnamed: 1'].notna()]\n",
    "print(non_nan_rows)\n"
   ]
  },
  {
   "cell_type": "code",
   "execution_count": 492,
   "id": "685bea09-4c06-465d-8d35-6e2c39e9c3e8",
   "metadata": {},
   "outputs": [
    {
     "data": {
      "text/html": [
       "<div>\n",
       "<style scoped>\n",
       "    .dataframe tbody tr th:only-of-type {\n",
       "        vertical-align: middle;\n",
       "    }\n",
       "\n",
       "    .dataframe tbody tr th {\n",
       "        vertical-align: top;\n",
       "    }\n",
       "\n",
       "    .dataframe thead th {\n",
       "        text-align: right;\n",
       "    }\n",
       "</style>\n",
       "<table border=\"1\" class=\"dataframe\">\n",
       "  <thead>\n",
       "    <tr style=\"text-align: right;\">\n",
       "      <th></th>\n",
       "      <th>Unnamed: 1</th>\n",
       "      <th>Unnamed: 2</th>\n",
       "      <th>Unnamed: 3</th>\n",
       "      <th>Unnamed: 4</th>\n",
       "      <th>Unnamed: 5</th>\n",
       "      <th>Unnamed: 6</th>\n",
       "      <th>Unnamed: 7</th>\n",
       "      <th>Unnamed: 11</th>\n",
       "    </tr>\n",
       "  </thead>\n",
       "  <tbody>\n",
       "    <tr>\n",
       "      <th>1</th>\n",
       "      <td>Tour Dates</td>\n",
       "      <td>NaN</td>\n",
       "      <td>NaN</td>\n",
       "      <td>NaN</td>\n",
       "      <td>NaN</td>\n",
       "      <td>NaN</td>\n",
       "      <td>NaN</td>\n",
       "      <td>NaN</td>\n",
       "    </tr>\n",
       "    <tr>\n",
       "      <th>2</th>\n",
       "      <td>Countdown!</td>\n",
       "      <td>Date</td>\n",
       "      <td>City</td>\n",
       "      <td>Stadium</td>\n",
       "      <td>Opener 1</td>\n",
       "      <td>Opener 2</td>\n",
       "      <td>Notes</td>\n",
       "      <td>NaN</td>\n",
       "    </tr>\n",
       "    <tr>\n",
       "      <th>3</th>\n",
       "      <td>NaN</td>\n",
       "      <td>Fri, Mar 17, 2023</td>\n",
       "      <td>Glendale, AZ</td>\n",
       "      <td>STATE FARM STADIUM</td>\n",
       "      <td>Paramore</td>\n",
       "      <td>GAYLE</td>\n",
       "      <td>Opening Night</td>\n",
       "      <td>NaN</td>\n",
       "    </tr>\n",
       "    <tr>\n",
       "      <th>4</th>\n",
       "      <td>NaN</td>\n",
       "      <td>Sat, Mar 18, 2023</td>\n",
       "      <td>NaN</td>\n",
       "      <td>NaN</td>\n",
       "      <td>Paramore</td>\n",
       "      <td>GAYLE</td>\n",
       "      <td>NaN</td>\n",
       "      <td>NaN</td>\n",
       "    </tr>\n",
       "    <tr>\n",
       "      <th>5</th>\n",
       "      <td>NaN</td>\n",
       "      <td>Fri, Mar 24, 2023</td>\n",
       "      <td>Las Vegas, NV</td>\n",
       "      <td>ALLEGIANT STADIUM</td>\n",
       "      <td>beabadoobee</td>\n",
       "      <td>GAYLE</td>\n",
       "      <td>NaN</td>\n",
       "      <td>NaN</td>\n",
       "    </tr>\n",
       "  </tbody>\n",
       "</table>\n",
       "</div>"
      ],
      "text/plain": [
       "   Unnamed: 1         Unnamed: 2     Unnamed: 3          Unnamed: 4  \\\n",
       "1  Tour Dates                NaN            NaN                 NaN   \n",
       "2  Countdown!               Date           City             Stadium   \n",
       "3         NaN  Fri, Mar 17, 2023   Glendale, AZ  STATE FARM STADIUM   \n",
       "4         NaN  Sat, Mar 18, 2023            NaN                 NaN   \n",
       "5         NaN  Fri, Mar 24, 2023  Las Vegas, NV   ALLEGIANT STADIUM   \n",
       "\n",
       "    Unnamed: 5 Unnamed: 6     Unnamed: 7 Unnamed: 11  \n",
       "1          NaN        NaN            NaN         NaN  \n",
       "2     Opener 1   Opener 2          Notes         NaN  \n",
       "3     Paramore      GAYLE  Opening Night         NaN  \n",
       "4     Paramore      GAYLE            NaN         NaN  \n",
       "5  beabadoobee      GAYLE            NaN         NaN  "
      ]
     },
     "execution_count": 492,
     "metadata": {},
     "output_type": "execute_result"
    }
   ],
   "source": [
    "tswift_df.head()"
   ]
  },
  {
   "cell_type": "code",
   "execution_count": 493,
   "id": "bef4a107-033b-46d4-b8cd-a318c768ea6d",
   "metadata": {},
   "outputs": [
    {
     "name": "stdout",
     "output_type": "stream",
     "text": [
      "  Unnamed: 1         Unnamed: 2     Unnamed: 3          Unnamed: 4  \\\n",
      "0        NaN  Fri, Mar 17, 2023   Glendale, AZ  STATE FARM STADIUM   \n",
      "1        NaN  Sat, Mar 18, 2023            NaN                 NaN   \n",
      "2        NaN  Fri, Mar 24, 2023  Las Vegas, NV   ALLEGIANT STADIUM   \n",
      "3        NaN  Sat, Mar 25, 2023            NaN                 NaN   \n",
      "4        NaN  Fri, Mar 31, 2023  Arlington, TX        AT&T STADIUM   \n",
      "\n",
      "    Unnamed: 5 Unnamed: 6     Unnamed: 7 Unnamed: 11  \n",
      "0     Paramore      GAYLE  Opening Night         NaN  \n",
      "1     Paramore      GAYLE            NaN         NaN  \n",
      "2  beabadoobee      GAYLE            NaN         NaN  \n",
      "3  beabadoobee      GAYLE            NaN         NaN  \n",
      "4         MUNA      GAYLE            NaN         NaN  \n"
     ]
    }
   ],
   "source": [
    "\n",
    "# Drop the first two rows using iloc\n",
    "tswift_df = tswift_df.iloc[2:].reset_index(drop=True)\n",
    "\n",
    "# Display the updated DataFrame\n",
    "print(tswift_df.head())\n"
   ]
  },
  {
   "cell_type": "code",
   "execution_count": 494,
   "id": "ce1e5a25-c57d-466f-a03b-200494010d1a",
   "metadata": {},
   "outputs": [
    {
     "data": {
      "text/html": [
       "<div>\n",
       "<style scoped>\n",
       "    .dataframe tbody tr th:only-of-type {\n",
       "        vertical-align: middle;\n",
       "    }\n",
       "\n",
       "    .dataframe tbody tr th {\n",
       "        vertical-align: top;\n",
       "    }\n",
       "\n",
       "    .dataframe thead th {\n",
       "        text-align: right;\n",
       "    }\n",
       "</style>\n",
       "<table border=\"1\" class=\"dataframe\">\n",
       "  <thead>\n",
       "    <tr style=\"text-align: right;\">\n",
       "      <th></th>\n",
       "      <th>Unnamed: 1</th>\n",
       "      <th>Unnamed: 2</th>\n",
       "      <th>Unnamed: 3</th>\n",
       "      <th>Unnamed: 4</th>\n",
       "      <th>Unnamed: 5</th>\n",
       "      <th>Unnamed: 6</th>\n",
       "      <th>Unnamed: 7</th>\n",
       "      <th>Unnamed: 11</th>\n",
       "    </tr>\n",
       "  </thead>\n",
       "  <tbody>\n",
       "    <tr>\n",
       "      <th>0</th>\n",
       "      <td>NaN</td>\n",
       "      <td>Fri, Mar 17, 2023</td>\n",
       "      <td>Glendale, AZ</td>\n",
       "      <td>STATE FARM STADIUM</td>\n",
       "      <td>Paramore</td>\n",
       "      <td>GAYLE</td>\n",
       "      <td>Opening Night</td>\n",
       "      <td>NaN</td>\n",
       "    </tr>\n",
       "    <tr>\n",
       "      <th>1</th>\n",
       "      <td>NaN</td>\n",
       "      <td>Sat, Mar 18, 2023</td>\n",
       "      <td>NaN</td>\n",
       "      <td>NaN</td>\n",
       "      <td>Paramore</td>\n",
       "      <td>GAYLE</td>\n",
       "      <td>NaN</td>\n",
       "      <td>NaN</td>\n",
       "    </tr>\n",
       "    <tr>\n",
       "      <th>2</th>\n",
       "      <td>NaN</td>\n",
       "      <td>Fri, Mar 24, 2023</td>\n",
       "      <td>Las Vegas, NV</td>\n",
       "      <td>ALLEGIANT STADIUM</td>\n",
       "      <td>beabadoobee</td>\n",
       "      <td>GAYLE</td>\n",
       "      <td>NaN</td>\n",
       "      <td>NaN</td>\n",
       "    </tr>\n",
       "    <tr>\n",
       "      <th>3</th>\n",
       "      <td>NaN</td>\n",
       "      <td>Sat, Mar 25, 2023</td>\n",
       "      <td>NaN</td>\n",
       "      <td>NaN</td>\n",
       "      <td>beabadoobee</td>\n",
       "      <td>GAYLE</td>\n",
       "      <td>NaN</td>\n",
       "      <td>NaN</td>\n",
       "    </tr>\n",
       "    <tr>\n",
       "      <th>4</th>\n",
       "      <td>NaN</td>\n",
       "      <td>Fri, Mar 31, 2023</td>\n",
       "      <td>Arlington, TX</td>\n",
       "      <td>AT&amp;T STADIUM</td>\n",
       "      <td>MUNA</td>\n",
       "      <td>GAYLE</td>\n",
       "      <td>NaN</td>\n",
       "      <td>NaN</td>\n",
       "    </tr>\n",
       "  </tbody>\n",
       "</table>\n",
       "</div>"
      ],
      "text/plain": [
       "  Unnamed: 1         Unnamed: 2     Unnamed: 3          Unnamed: 4  \\\n",
       "0        NaN  Fri, Mar 17, 2023   Glendale, AZ  STATE FARM STADIUM   \n",
       "1        NaN  Sat, Mar 18, 2023            NaN                 NaN   \n",
       "2        NaN  Fri, Mar 24, 2023  Las Vegas, NV   ALLEGIANT STADIUM   \n",
       "3        NaN  Sat, Mar 25, 2023            NaN                 NaN   \n",
       "4        NaN  Fri, Mar 31, 2023  Arlington, TX        AT&T STADIUM   \n",
       "\n",
       "    Unnamed: 5 Unnamed: 6     Unnamed: 7 Unnamed: 11  \n",
       "0     Paramore      GAYLE  Opening Night         NaN  \n",
       "1     Paramore      GAYLE            NaN         NaN  \n",
       "2  beabadoobee      GAYLE            NaN         NaN  \n",
       "3  beabadoobee      GAYLE            NaN         NaN  \n",
       "4         MUNA      GAYLE            NaN         NaN  "
      ]
     },
     "execution_count": 494,
     "metadata": {},
     "output_type": "execute_result"
    }
   ],
   "source": [
    "tswift_df.head()"
   ]
  },
  {
   "cell_type": "code",
   "execution_count": 495,
   "id": "dae2e7be-2ba0-4baa-a22e-f731bee04418",
   "metadata": {},
   "outputs": [
    {
     "name": "stdout",
     "output_type": "stream",
     "text": [
      "  tour_date          tour_city   tour_stadium         tour_opener  \\\n",
      "0       NaN  Fri, Mar 17, 2023   Glendale, AZ  STATE FARM STADIUM   \n",
      "1       NaN  Sat, Mar 18, 2023            NaN                 NaN   \n",
      "2       NaN  Fri, Mar 24, 2023  Las Vegas, NV   ALLEGIANT STADIUM   \n",
      "3       NaN  Sat, Mar 25, 2023            NaN                 NaN   \n",
      "4       NaN  Fri, Mar 31, 2023  Arlington, TX        AT&T STADIUM   \n",
      "\n",
      "         notes Unnamed: 6     Unnamed: 7 Unnamed: 11  \n",
      "0     Paramore      GAYLE  Opening Night         NaN  \n",
      "1     Paramore      GAYLE            NaN         NaN  \n",
      "2  beabadoobee      GAYLE            NaN         NaN  \n",
      "3  beabadoobee      GAYLE            NaN         NaN  \n",
      "4         MUNA      GAYLE            NaN         NaN  \n"
     ]
    }
   ],
   "source": [
    "# Define the new column names\n",
    "new_column_names = ['tour_date', 'tour_city', 'tour_stadium', 'tour_opener', 'notes']\n",
    "\n",
    "# Replace the column names for the specified columns\n",
    "tswift_df.columns = new_column_names + list(tswift_df.columns[len(new_column_names):])\n",
    "\n",
    "# Display the updated DataFrame\n",
    "print(tswift_df.head())\n"
   ]
  },
  {
   "cell_type": "code",
   "execution_count": 496,
   "id": "28510bda-3114-42e0-976f-21a7fcb7e596",
   "metadata": {},
   "outputs": [
    {
     "name": "stdout",
     "output_type": "stream",
     "text": [
      "  tour_date          tour_city     tour_stadium     tour_opener     notes  \\\n",
      "0     #NUM!  Wed, Jul 24, 2024              NaN             NaN  Paramore   \n",
      "1         0  Sat, Jul 27, 2024  Munich, Germany  Olympiastadion  Paramore   \n",
      "2         1  Sun, Jul 28, 2024              NaN             NaN  Paramore   \n",
      "3         5   Thu, Aug 1, 2024   Warsaw, Poland    PGE Narodowy  Paramore   \n",
      "4         6   Fri, Aug 2, 2024              NaN             NaN  Paramore   \n",
      "\n",
      "  Unnamed: 6 Unnamed: 7 Unnamed: 11  \n",
      "0        NaN        NaN         NaN  \n",
      "1        NaN        NaN         NaN  \n",
      "2        NaN        NaN         NaN  \n",
      "3        NaN        NaN         NaN  \n",
      "4        NaN        NaN         NaN  \n"
     ]
    }
   ],
   "source": [
    "# Drop rows where 'Tour Dates' column has NaN values\n",
    "tswift_df = tswift_df.dropna(subset=['tour_date'])\n",
    "\n",
    "# Reset the index after dropping rows\n",
    "tswift_df.reset_index(drop=True, inplace=True)\n",
    "\n",
    "# Display the updated DataFrame\n",
    "print(tswift_df.head())\n"
   ]
  },
  {
   "cell_type": "code",
   "execution_count": 497,
   "id": "1df873e5-a9ee-4189-a891-de57c9adb4aa",
   "metadata": {},
   "outputs": [
    {
     "name": "stdout",
     "output_type": "stream",
     "text": [
      "           tour_city     tour_stadium     tour_opener     notes Unnamed: 6  \\\n",
      "0  Wed, Jul 24, 2024              NaN             NaN  Paramore        NaN   \n",
      "1  Sat, Jul 27, 2024  Munich, Germany  Olympiastadion  Paramore        NaN   \n",
      "2  Sun, Jul 28, 2024              NaN             NaN  Paramore        NaN   \n",
      "3   Thu, Aug 1, 2024   Warsaw, Poland    PGE Narodowy  Paramore        NaN   \n",
      "4   Fri, Aug 2, 2024              NaN             NaN  Paramore        NaN   \n",
      "\n",
      "  Unnamed: 7 Unnamed: 11  \n",
      "0        NaN         NaN  \n",
      "1        NaN         NaN  \n",
      "2        NaN         NaN  \n",
      "3        NaN         NaN  \n",
      "4        NaN         NaN  \n"
     ]
    }
   ],
   "source": [
    "# Drop the 'Tour Dates' column\n",
    "tswift_df = tswift_df.drop(columns=['tour_date'])\n",
    "\n",
    "# Display the updated DataFrame\n",
    "print(tswift_df.head())"
   ]
  },
  {
   "cell_type": "code",
   "execution_count": 498,
   "id": "5658166b-c5fc-4319-ac06-49fb1cd65b81",
   "metadata": {},
   "outputs": [
    {
     "name": "stdout",
     "output_type": "stream",
     "text": [
      "           tour_date        tour_city    tour_stadium tour_opener notes  \\\n",
      "0  Wed, Jul 24, 2024              NaN             NaN    Paramore   NaN   \n",
      "1  Sat, Jul 27, 2024  Munich, Germany  Olympiastadion    Paramore   NaN   \n",
      "2  Sun, Jul 28, 2024              NaN             NaN    Paramore   NaN   \n",
      "3   Thu, Aug 1, 2024   Warsaw, Poland    PGE Narodowy    Paramore   NaN   \n",
      "4   Fri, Aug 2, 2024              NaN             NaN    Paramore   NaN   \n",
      "\n",
      "  Unnamed: 7 Unnamed: 11  \n",
      "0        NaN         NaN  \n",
      "1        NaN         NaN  \n",
      "2        NaN         NaN  \n",
      "3        NaN         NaN  \n",
      "4        NaN         NaN  \n"
     ]
    }
   ],
   "source": [
    "# Define the new column names\n",
    "new_column_names = ['tour_date', 'tour_city', 'tour_stadium', 'tour_opener', 'notes']\n",
    "\n",
    "# Replace the column names for the specified columns\n",
    "tswift_df.columns = new_column_names + list(tswift_df.columns[len(new_column_names):])\n",
    "\n",
    "# Display the updated DataFrame\n",
    "print(tswift_df.head())\n"
   ]
  },
  {
   "cell_type": "code",
   "execution_count": 499,
   "id": "d6bf63c3-9906-40ab-8b78-7fc188af3e56",
   "metadata": {},
   "outputs": [
    {
     "name": "stdout",
     "output_type": "stream",
     "text": [
      "           tour_date        tour_city    tour_stadium tour_opener\n",
      "0  Wed, Jul 24, 2024              NaN             NaN    Paramore\n",
      "1  Sat, Jul 27, 2024  Munich, Germany  Olympiastadion    Paramore\n",
      "2  Sun, Jul 28, 2024              NaN             NaN    Paramore\n",
      "3   Thu, Aug 1, 2024   Warsaw, Poland    PGE Narodowy    Paramore\n",
      "4   Fri, Aug 2, 2024              NaN             NaN    Paramore\n"
     ]
    }
   ],
   "source": [
    "# Drop the specified columns\n",
    "tswift_df = tswift_df.drop(columns=['notes', 'Unnamed: 7', 'Unnamed: 11'])\n",
    "\n",
    "# Display the updated DataFrame\n",
    "print(tswift_df.head())\n"
   ]
  },
  {
   "cell_type": "code",
   "execution_count": 500,
   "id": "efdb3d37-d83c-4068-8470-4859087905e4",
   "metadata": {},
   "outputs": [
    {
     "name": "stdout",
     "output_type": "stream",
     "text": [
      "    tour_date                 tour_city          tour_stadium    tour_opener\n",
      "0  2024-07-24                       NaN                   NaN       Paramore\n",
      "1  2024-07-27           Munich, Germany        Olympiastadion       Paramore\n",
      "2  2024-07-28           Munich, Germany        Olympiastadion       Paramore\n",
      "3  2024-08-01            Warsaw, Poland          PGE Narodowy       Paramore\n",
      "4  2024-08-02            Warsaw, Poland          PGE Narodowy       Paramore\n",
      "5  2024-08-03            Warsaw, Poland          PGE Narodowy       Paramore\n",
      "6  2024-08-08           Vienna, Austria  Ernst-Happel-Stadion       Paramore\n",
      "7  2024-08-09           Vienna, Austria  Ernst-Happel-Stadion       Paramore\n",
      "8  2024-08-10           Vienna, Austria  Ernst-Happel-Stadion       Paramore\n",
      "9  2024-08-15    London, United Kingdom       Wembley Stadium       Paramore\n",
      "10 2024-08-16    London, United Kingdom       Wembley Stadium       Paramore\n",
      "11 2024-08-17    London, United Kingdom       Wembley Stadium       Paramore\n",
      "12 2024-08-19    London, United Kingdom       Wembley Stadium       Paramore\n",
      "13 2024-08-20    London, United Kingdom       Wembley Stadium       Paramore\n",
      "14 2024-10-18                 Miami, FL     Hard Rock Stadium  Gracie Abrams\n",
      "15 2024-10-19                 Miami, FL     Hard Rock Stadium  Gracie Abrams\n",
      "16 2024-10-20                 Miami, FL     Hard Rock Stadium  Gracie Abrams\n",
      "17 2024-10-25           New Orleans, LA    Caesar's Superdome  Gracie Abrams\n",
      "18 2024-10-26           New Orleans, LA    Caesar's Superdome  Gracie Abrams\n",
      "19 2024-10-27           New Orleans, LA    Caesar's Superdome  Gracie Abrams\n",
      "20 2024-11-01          Indianapolis, IN    Lucas Oil Stadium   Gracie Abrams\n",
      "21 2024-11-02          Indianapolis, IN    Lucas Oil Stadium   Gracie Abrams\n",
      "22 2024-11-03          Indianapolis, IN    Lucas Oil Stadium   Gracie Abrams\n",
      "23 2024-11-14  Toronto, Ontario, Canada        Roger's Centre  Gracie Abrams\n",
      "24 2024-11-15  Toronto, Ontario, Canada        Roger's Centre  Gracie Abrams\n",
      "25 2024-11-16  Toronto, Ontario, Canada        Roger's Centre  Gracie Abrams\n",
      "26 2024-11-21  Toronto, Ontario, Canada        Roger's Centre  Gracie Abrams\n"
     ]
    },
    {
     "name": "stderr",
     "output_type": "stream",
     "text": [
      "C:\\Users\\hopeh\\AppData\\Local\\Temp\\ipykernel_5900\\4071595525.py:8: FutureWarning: Series.fillna with 'method' is deprecated and will raise in a future version. Use obj.ffill() or obj.bfill() instead.\n",
      "  tswift_df['tour_city'] = tswift_df['tour_city'].fillna(method='ffill')\n",
      "C:\\Users\\hopeh\\AppData\\Local\\Temp\\ipykernel_5900\\4071595525.py:9: FutureWarning: Series.fillna with 'method' is deprecated and will raise in a future version. Use obj.ffill() or obj.bfill() instead.\n",
      "  tswift_df['tour_stadium'] = tswift_df['tour_stadium'].fillna(method='ffill')\n"
     ]
    }
   ],
   "source": [
    "# Ensure 'tour_date' is in datetime format for proper sorting\n",
    "tswift_df['tour_date'] = pd.to_datetime(tswift_df['tour_date'])\n",
    "\n",
    "# Sort the DataFrame by 'tour_date'\n",
    "tswift_df = tswift_df.sort_values(by='tour_date').reset_index(drop=True)\n",
    "\n",
    "# Fill NaN values in 'tour_city' with the nearest city name above it\n",
    "tswift_df['tour_city'] = tswift_df['tour_city'].fillna(method='ffill')\n",
    "tswift_df['tour_stadium'] = tswift_df['tour_stadium'].fillna(method='ffill')\n",
    "# Display the updated DataFrame\n",
    "print(tswift_df.head(-5))\n"
   ]
  },
  {
   "cell_type": "code",
   "execution_count": 501,
   "id": "e36eae51-4749-4636-92df-970792f01ca7",
   "metadata": {},
   "outputs": [
    {
     "name": "stdout",
     "output_type": "stream",
     "text": [
      "Empty DataFrame\n",
      "Columns: [tour_date, tour_city, tour_stadium, tour_opener]\n",
      "Index: []\n"
     ]
    }
   ],
   "source": [
    "# Ensure 'tour_date' is in datetime format\n",
    "tswift_df['tour_date'] = pd.to_datetime(tswift_df['tour_date'])\n",
    "\n",
    "# Define the date range\n",
    "start_date = '2023-05-01'\n",
    "end_date = '2024-04-30'\n",
    "\n",
    "# Filter the DataFrame for dates within the specified range\n",
    "filtered_df = tswift_df[(tswift_df['tour_date'] >= start_date) & (tswift_df['tour_date'] <= end_date)]\n",
    "\n",
    "# Reset the index for the filtered DataFrame\n",
    "filtered_df.reset_index(drop=True, inplace=True)\n",
    "\n",
    "# Display the filtered DataFrame\n",
    "print(filtered_df)\n"
   ]
  },
  {
   "cell_type": "code",
   "execution_count": 502,
   "id": "74be75cd-bc2c-4212-b4d5-fc9ee61d427e",
   "metadata": {},
   "outputs": [],
   "source": [
    "eras_tour = {\n",
    "    \"Date\": [\n",
    "        \"March 17\", \"March 18\", \"March 24\", \"March 25\", \"March 31\", \n",
    "        \"April 1\", \"April 2\", \"April 13\", \"April 14\", \"April 15\", \n",
    "        \"April 21\", \"April 22\", \"April 23\", \"April 28\", \"April 29\", \n",
    "        \"April 30\", \"May 5\", \"May 6\", \"May 7\", \"May 12\", \n",
    "        \"May 13\", \"May 14\", \"May 19\", \"May 20\", \"May 21\", \n",
    "        \"May 26\", \"May 27\", \"May 28\", \"June 2\", \"June 3\", \n",
    "        \"June 4\", \"June 9\", \"June 10\", \"June 16\", \"June 17\", \n",
    "        \"June 23\", \"June 24\", \"June 30\", \"July 1\", \"July 7\", \n",
    "        \"July 8\", \"July 14\", \"July 15\", \"July 22\", \"July 23\", \n",
    "        \"July 28\", \"July 29\", \"August 3\", \"August 4\", \"August 5\", \n",
    "        \"August 7\", \"August 8\", \"August 9\"\n",
    "\n",
    "    ],\n",
    "    \"City\": [\n",
    "        \"Glendale\", \"Glendale\", \"Paradise\", \"Paradise\", \"Arlington\", \n",
    "        \"Arlington\", \"Arlington\", \"Tampa\", \"Tampa\", \"Tampa\", \n",
    "        \"Houston\", \"Houston\", \"Houston\", \"Atlanta\", \"Atlanta\", \n",
    "        \"Atlanta\", \"Nashville\", \"Nashville\", \"Nashville\", \"Philadelphia\", \n",
    "        \"Philadelphia\", \"Philadelphia\", \"Foxborough\", \"Foxborough\", \n",
    "        \"Foxborough\", \"East Rutherford\", \"East Rutherford\", \n",
    "        \"East Rutherford\", \"Chicago\", \"Chicago\", \"Chicago\", \n",
    "        \"Detroit\", \"Detroit\", \"Pittsburgh\", \"Pittsburgh\", \"Minneapolis\", \n",
    "        \"Minneapolis\", \"Cincinnati\", \"Cincinnati\", \"Kansas City\", \n",
    "        \"Kansas City\", \"Denver\", \"Denver\", \"Seattle\", \"Seattle\", \n",
    "        \"Santa Clara\", \"Santa Clara\", \"Inglewood\", \"Inglewood\", \n",
    "        \"Inglewood\", \"Inglewood\", \"Inglewood\", \"Inglewood\", \n",
    "    ],\n",
    "}"
   ]
  },
  {
   "cell_type": "code",
   "execution_count": 503,
   "id": "012441be-47d9-4e72-83ce-efc264b42958",
   "metadata": {},
   "outputs": [
    {
     "name": "stdout",
     "output_type": "stream",
     "text": [
      "Lengths of eras_tour columns:\n",
      "Date: 53\n",
      "City: 53\n"
     ]
    }
   ],
   "source": [
    "# Check lengths of lists in eras_tour\n",
    "print(\"Lengths of eras_tour columns:\")\n",
    "for key, value in eras_tour.items():\n",
    "    print(f\"{key}: {len(value)}\")\n"
   ]
  },
  {
   "cell_type": "code",
   "execution_count": 504,
   "id": "ef37c608-63c8-43a7-bd76-59bfa1cc5344",
   "metadata": {},
   "outputs": [],
   "source": [
    "\n",
    "# Creating DataFrames\n",
    "eras_tour = pd.DataFrame(eras_tour)\n"
   ]
  },
  {
   "cell_type": "code",
   "execution_count": 505,
   "id": "e0d37b3e-7dc4-471a-89c0-c26212ea7d73",
   "metadata": {},
   "outputs": [
    {
     "data": {
      "text/html": [
       "<div>\n",
       "<style scoped>\n",
       "    .dataframe tbody tr th:only-of-type {\n",
       "        vertical-align: middle;\n",
       "    }\n",
       "\n",
       "    .dataframe tbody tr th {\n",
       "        vertical-align: top;\n",
       "    }\n",
       "\n",
       "    .dataframe thead th {\n",
       "        text-align: right;\n",
       "    }\n",
       "</style>\n",
       "<table border=\"1\" class=\"dataframe\">\n",
       "  <thead>\n",
       "    <tr style=\"text-align: right;\">\n",
       "      <th></th>\n",
       "      <th>Date</th>\n",
       "      <th>City</th>\n",
       "    </tr>\n",
       "  </thead>\n",
       "  <tbody>\n",
       "    <tr>\n",
       "      <th>0</th>\n",
       "      <td>March 17</td>\n",
       "      <td>Glendale</td>\n",
       "    </tr>\n",
       "    <tr>\n",
       "      <th>1</th>\n",
       "      <td>March 18</td>\n",
       "      <td>Glendale</td>\n",
       "    </tr>\n",
       "    <tr>\n",
       "      <th>2</th>\n",
       "      <td>March 24</td>\n",
       "      <td>Paradise</td>\n",
       "    </tr>\n",
       "    <tr>\n",
       "      <th>3</th>\n",
       "      <td>March 25</td>\n",
       "      <td>Paradise</td>\n",
       "    </tr>\n",
       "    <tr>\n",
       "      <th>4</th>\n",
       "      <td>March 31</td>\n",
       "      <td>Arlington</td>\n",
       "    </tr>\n",
       "    <tr>\n",
       "      <th>5</th>\n",
       "      <td>April 1</td>\n",
       "      <td>Arlington</td>\n",
       "    </tr>\n",
       "    <tr>\n",
       "      <th>6</th>\n",
       "      <td>April 2</td>\n",
       "      <td>Arlington</td>\n",
       "    </tr>\n",
       "    <tr>\n",
       "      <th>7</th>\n",
       "      <td>April 13</td>\n",
       "      <td>Tampa</td>\n",
       "    </tr>\n",
       "    <tr>\n",
       "      <th>8</th>\n",
       "      <td>April 14</td>\n",
       "      <td>Tampa</td>\n",
       "    </tr>\n",
       "    <tr>\n",
       "      <th>9</th>\n",
       "      <td>April 15</td>\n",
       "      <td>Tampa</td>\n",
       "    </tr>\n",
       "    <tr>\n",
       "      <th>10</th>\n",
       "      <td>April 21</td>\n",
       "      <td>Houston</td>\n",
       "    </tr>\n",
       "    <tr>\n",
       "      <th>11</th>\n",
       "      <td>April 22</td>\n",
       "      <td>Houston</td>\n",
       "    </tr>\n",
       "  </tbody>\n",
       "</table>\n",
       "</div>"
      ],
      "text/plain": [
       "        Date       City\n",
       "0   March 17   Glendale\n",
       "1   March 18   Glendale\n",
       "2   March 24   Paradise\n",
       "3   March 25   Paradise\n",
       "4   March 31  Arlington\n",
       "5    April 1  Arlington\n",
       "6    April 2  Arlington\n",
       "7   April 13      Tampa\n",
       "8   April 14      Tampa\n",
       "9   April 15      Tampa\n",
       "10  April 21    Houston\n",
       "11  April 22    Houston"
      ]
     },
     "execution_count": 505,
     "metadata": {},
     "output_type": "execute_result"
    }
   ],
   "source": [
    "eras_tour.head(12)"
   ]
  },
  {
   "cell_type": "code",
   "execution_count": 506,
   "id": "b3ab6c9e-5ab7-4556-a222-1c7917a0d370",
   "metadata": {},
   "outputs": [],
   "source": [
    "# Mapping of cities to IATA codes for the nearest large airports\n",
    "iata_mapping = {\n",
    "    \"Glendale\": \"PHX\",          # Phoenix Sky Harbor International Airport\n",
    "    \"Paradise\": \"LAS\",          # Harry Reid International Airport (Las Vegas)\n",
    "    \"Arlington\": \"DFW\",         # Dallas/Fort Worth International Airport\n",
    "    \"Tampa\": \"TPA\",             # Tampa International Airport\n",
    "    \"Houston\": \"IAH\",           # George Bush Intercontinental Airport\n",
    "    \"Atlanta\": \"ATL\",           # Hartsfield-Jackson Atlanta International Airport\n",
    "    \"Nashville\": \"BNA\",         # Nashville International Airport\n",
    "    \"Philadelphia\": \"PHL\",      # Philadelphia International Airport\n",
    "    \"Foxborough\": \"BOS\",        # Logan International Airport (Boston)\n",
    "    \"East Rutherford\": \"EWR\",   # Newark Liberty International Airport\n",
    "    \"Chicago\": \"ORD\",           # O'Hare International Airport\n",
    "    \"Detroit\": \"DTW\",           # Detroit Metropolitan Airport\n",
    "    \"Pittsburgh\": \"PIT\",        # Pittsburgh International Airport\n",
    "    \"Minneapolis\": \"MSP\",       # Minneapolis–Saint Paul International Airport\n",
    "    \"Cincinnati\": \"CVG\",        # Cincinnati/Northern Kentucky International Airport\n",
    "    \"Kansas City\": \"MCI\",       # Kansas City International Airport\n",
    "    \"Denver\": \"DEN\",            # Denver International Airport\n",
    "    \"Seattle\": \"SEA\",           # Seattle–Tacoma International Airport\n",
    "    \"Santa Clara\": \"SJC\",       # San Jose International Airport\n",
    "    \"Inglewood\": \"LAX\",         # Los Angeles International Airport\n",
    "    \"Mexico City\": \"MEX\",       # Mexico City International Airport\n",
    "    \"Buenos Aires\": \"EZE\",      # Ministro Pistarini International Airport\n",
    "    \"Rio de Janeiro\": \"GIG\",    # Rio de Janeiro/Galeão International Airport\n",
    "    \"São Paulo\": \"GRU\",         # São Paulo/Guarulhos–Governador André Franco Montoro International Airport\n",
    "    \"Tokyo\": \"NRT\",             # Narita International Airport\n",
    "    \"Melbourne\": \"MEL\",         # Melbourne Airport\n",
    "    \"Sydney\": \"SYD\",            # Sydney Kingsford Smith Airport\n",
    "    \"Singapore\": \"SIN\",         # Singapore Changi Airport\n",
    "}\n",
    "\n",
    "# Use this mapping to create a new column \n"
   ]
  },
  {
   "cell_type": "code",
   "execution_count": 507,
   "id": "ae2871fc-4435-4d6b-a96a-690fe6a3517f",
   "metadata": {},
   "outputs": [
    {
     "name": "stdout",
     "output_type": "stream",
     "text": [
      "        Date             City IATA\n",
      "0   March 17         Glendale  PHX\n",
      "1   March 18         Glendale  PHX\n",
      "2   March 24         Paradise  LAS\n",
      "3   March 25         Paradise  LAS\n",
      "4   March 31        Arlington  DFW\n",
      "5    April 1        Arlington  DFW\n",
      "6    April 2        Arlington  DFW\n",
      "7   April 13            Tampa  TPA\n",
      "8   April 14            Tampa  TPA\n",
      "9   April 15            Tampa  TPA\n",
      "10  April 21          Houston  IAH\n",
      "11  April 22          Houston  IAH\n",
      "12  April 23          Houston  IAH\n",
      "13  April 28          Atlanta  ATL\n",
      "14  April 29          Atlanta  ATL\n",
      "15  April 30          Atlanta  ATL\n",
      "16     May 5        Nashville  BNA\n",
      "17     May 6        Nashville  BNA\n",
      "18     May 7        Nashville  BNA\n",
      "19    May 12     Philadelphia  PHL\n",
      "20    May 13     Philadelphia  PHL\n",
      "21    May 14     Philadelphia  PHL\n",
      "22    May 19       Foxborough  BOS\n",
      "23    May 20       Foxborough  BOS\n",
      "24    May 21       Foxborough  BOS\n",
      "25    May 26  East Rutherford  EWR\n",
      "26    May 27  East Rutherford  EWR\n",
      "27    May 28  East Rutherford  EWR\n",
      "28    June 2          Chicago  ORD\n",
      "29    June 3          Chicago  ORD\n",
      "30    June 4          Chicago  ORD\n",
      "31    June 9          Detroit  DTW\n",
      "32   June 10          Detroit  DTW\n",
      "33   June 16       Pittsburgh  PIT\n",
      "34   June 17       Pittsburgh  PIT\n",
      "35   June 23      Minneapolis  MSP\n",
      "36   June 24      Minneapolis  MSP\n",
      "37   June 30       Cincinnati  CVG\n",
      "38    July 1       Cincinnati  CVG\n",
      "39    July 7      Kansas City  MCI\n",
      "40    July 8      Kansas City  MCI\n",
      "41   July 14           Denver  DEN\n",
      "42   July 15           Denver  DEN\n",
      "43   July 22          Seattle  SEA\n",
      "44   July 23          Seattle  SEA\n",
      "45   July 28      Santa Clara  SJC\n",
      "46   July 29      Santa Clara  SJC\n",
      "47  August 3        Inglewood  LAX\n",
      "48  August 4        Inglewood  LAX\n",
      "49  August 5        Inglewood  LAX\n",
      "50  August 7        Inglewood  LAX\n",
      "51  August 8        Inglewood  LAX\n",
      "52  August 9        Inglewood  LAX\n"
     ]
    }
   ],
   "source": [
    "# Function to map city to IATA code\n",
    "def get_iata_code(city):\n",
    "    return iata_mapping.get(city, None)\n",
    "\n",
    "# Create a new column for IATA codes\n",
    "eras_tour['IATA'] = eras_tour['City'].apply(get_iata_code)\n",
    "\n",
    "# Display the updated DataFrame\n",
    "print(eras_tour)"
   ]
  },
  {
   "cell_type": "code",
   "execution_count": 508,
   "id": "2a026e69-189b-44c4-9321-3e3d255ae757",
   "metadata": {},
   "outputs": [
    {
     "name": "stdout",
     "output_type": "stream",
     "text": [
      "         Date             City IATA\n",
      "0  2023-03-17         Glendale  PHX\n",
      "1  2023-03-18         Glendale  PHX\n",
      "2  2023-03-24         Paradise  LAS\n",
      "3  2023-03-25         Paradise  LAS\n",
      "4  2023-03-31        Arlington  DFW\n",
      "5  2023-04-01        Arlington  DFW\n",
      "6  2023-04-02        Arlington  DFW\n",
      "7  2023-04-13            Tampa  TPA\n",
      "8  2023-04-14            Tampa  TPA\n",
      "9  2023-04-15            Tampa  TPA\n",
      "10 2023-04-21          Houston  IAH\n",
      "11 2023-04-22          Houston  IAH\n",
      "12 2023-04-23          Houston  IAH\n",
      "13 2023-04-28          Atlanta  ATL\n",
      "14 2023-04-29          Atlanta  ATL\n",
      "15 2023-04-30          Atlanta  ATL\n",
      "16 2023-05-05        Nashville  BNA\n",
      "17 2023-05-06        Nashville  BNA\n",
      "18 2023-05-07        Nashville  BNA\n",
      "19 2023-05-12     Philadelphia  PHL\n",
      "20 2023-05-13     Philadelphia  PHL\n",
      "21 2023-05-14     Philadelphia  PHL\n",
      "22 2023-05-19       Foxborough  BOS\n",
      "23 2023-05-20       Foxborough  BOS\n",
      "24 2023-05-21       Foxborough  BOS\n",
      "25 2023-05-26  East Rutherford  EWR\n",
      "26 2023-05-27  East Rutherford  EWR\n",
      "27 2023-05-28  East Rutherford  EWR\n",
      "28 2023-06-02          Chicago  ORD\n",
      "29 2023-06-03          Chicago  ORD\n",
      "30 2023-06-04          Chicago  ORD\n",
      "31 2023-06-09          Detroit  DTW\n",
      "32 2023-06-10          Detroit  DTW\n",
      "33 2023-06-16       Pittsburgh  PIT\n",
      "34 2023-06-17       Pittsburgh  PIT\n",
      "35 2023-06-23      Minneapolis  MSP\n",
      "36 2023-06-24      Minneapolis  MSP\n",
      "37 2023-06-30       Cincinnati  CVG\n",
      "38 2023-07-01       Cincinnati  CVG\n",
      "39 2023-07-07      Kansas City  MCI\n",
      "40 2023-07-08      Kansas City  MCI\n",
      "41 2023-07-14           Denver  DEN\n",
      "42 2023-07-15           Denver  DEN\n",
      "43 2023-07-22          Seattle  SEA\n",
      "44 2023-07-23          Seattle  SEA\n",
      "45 2023-07-28      Santa Clara  SJC\n",
      "46 2023-07-29      Santa Clara  SJC\n",
      "47 2023-08-03        Inglewood  LAX\n",
      "48 2023-08-04        Inglewood  LAX\n",
      "49 2023-08-05        Inglewood  LAX\n",
      "50 2023-08-07        Inglewood  LAX\n",
      "51 2023-08-08        Inglewood  LAX\n",
      "52 2023-08-09        Inglewood  LAX\n"
     ]
    }
   ],
   "source": [
    "\n",
    "# Convert the 'Date' column to datetime format using the year 2023\n",
    "eras_tour['Date'] = pd.to_datetime(eras_tour['Date'] + ' 2023', format='%B %d %Y')\n",
    "\n",
    "# Review the updated DataFrame\n",
    "print(eras_tour)"
   ]
  },
  {
   "cell_type": "code",
   "execution_count": 509,
   "id": "fc30b304-d935-4124-a525-428196ba1f6c",
   "metadata": {},
   "outputs": [],
   "source": [
    "eras_tour['eras_tour'] = \"Tour Date\""
   ]
  },
  {
   "cell_type": "code",
   "execution_count": 510,
   "id": "5fa9cf02-0560-4197-9a41-8efd3f79b230",
   "metadata": {},
   "outputs": [
    {
     "data": {
      "text/html": [
       "<div>\n",
       "<style scoped>\n",
       "    .dataframe tbody tr th:only-of-type {\n",
       "        vertical-align: middle;\n",
       "    }\n",
       "\n",
       "    .dataframe tbody tr th {\n",
       "        vertical-align: top;\n",
       "    }\n",
       "\n",
       "    .dataframe thead th {\n",
       "        text-align: right;\n",
       "    }\n",
       "</style>\n",
       "<table border=\"1\" class=\"dataframe\">\n",
       "  <thead>\n",
       "    <tr style=\"text-align: right;\">\n",
       "      <th></th>\n",
       "      <th>Date</th>\n",
       "      <th>City</th>\n",
       "      <th>IATA</th>\n",
       "      <th>eras_tour</th>\n",
       "    </tr>\n",
       "  </thead>\n",
       "  <tbody>\n",
       "    <tr>\n",
       "      <th>0</th>\n",
       "      <td>2023-03-17</td>\n",
       "      <td>Glendale</td>\n",
       "      <td>PHX</td>\n",
       "      <td>Tour Date</td>\n",
       "    </tr>\n",
       "    <tr>\n",
       "      <th>1</th>\n",
       "      <td>2023-03-18</td>\n",
       "      <td>Glendale</td>\n",
       "      <td>PHX</td>\n",
       "      <td>Tour Date</td>\n",
       "    </tr>\n",
       "    <tr>\n",
       "      <th>2</th>\n",
       "      <td>2023-03-24</td>\n",
       "      <td>Paradise</td>\n",
       "      <td>LAS</td>\n",
       "      <td>Tour Date</td>\n",
       "    </tr>\n",
       "    <tr>\n",
       "      <th>3</th>\n",
       "      <td>2023-03-25</td>\n",
       "      <td>Paradise</td>\n",
       "      <td>LAS</td>\n",
       "      <td>Tour Date</td>\n",
       "    </tr>\n",
       "    <tr>\n",
       "      <th>4</th>\n",
       "      <td>2023-03-31</td>\n",
       "      <td>Arlington</td>\n",
       "      <td>DFW</td>\n",
       "      <td>Tour Date</td>\n",
       "    </tr>\n",
       "    <tr>\n",
       "      <th>5</th>\n",
       "      <td>2023-04-01</td>\n",
       "      <td>Arlington</td>\n",
       "      <td>DFW</td>\n",
       "      <td>Tour Date</td>\n",
       "    </tr>\n",
       "    <tr>\n",
       "      <th>6</th>\n",
       "      <td>2023-04-02</td>\n",
       "      <td>Arlington</td>\n",
       "      <td>DFW</td>\n",
       "      <td>Tour Date</td>\n",
       "    </tr>\n",
       "    <tr>\n",
       "      <th>7</th>\n",
       "      <td>2023-04-13</td>\n",
       "      <td>Tampa</td>\n",
       "      <td>TPA</td>\n",
       "      <td>Tour Date</td>\n",
       "    </tr>\n",
       "    <tr>\n",
       "      <th>8</th>\n",
       "      <td>2023-04-14</td>\n",
       "      <td>Tampa</td>\n",
       "      <td>TPA</td>\n",
       "      <td>Tour Date</td>\n",
       "    </tr>\n",
       "    <tr>\n",
       "      <th>9</th>\n",
       "      <td>2023-04-15</td>\n",
       "      <td>Tampa</td>\n",
       "      <td>TPA</td>\n",
       "      <td>Tour Date</td>\n",
       "    </tr>\n",
       "    <tr>\n",
       "      <th>10</th>\n",
       "      <td>2023-04-21</td>\n",
       "      <td>Houston</td>\n",
       "      <td>IAH</td>\n",
       "      <td>Tour Date</td>\n",
       "    </tr>\n",
       "    <tr>\n",
       "      <th>11</th>\n",
       "      <td>2023-04-22</td>\n",
       "      <td>Houston</td>\n",
       "      <td>IAH</td>\n",
       "      <td>Tour Date</td>\n",
       "    </tr>\n",
       "    <tr>\n",
       "      <th>12</th>\n",
       "      <td>2023-04-23</td>\n",
       "      <td>Houston</td>\n",
       "      <td>IAH</td>\n",
       "      <td>Tour Date</td>\n",
       "    </tr>\n",
       "    <tr>\n",
       "      <th>13</th>\n",
       "      <td>2023-04-28</td>\n",
       "      <td>Atlanta</td>\n",
       "      <td>ATL</td>\n",
       "      <td>Tour Date</td>\n",
       "    </tr>\n",
       "    <tr>\n",
       "      <th>14</th>\n",
       "      <td>2023-04-29</td>\n",
       "      <td>Atlanta</td>\n",
       "      <td>ATL</td>\n",
       "      <td>Tour Date</td>\n",
       "    </tr>\n",
       "    <tr>\n",
       "      <th>15</th>\n",
       "      <td>2023-04-30</td>\n",
       "      <td>Atlanta</td>\n",
       "      <td>ATL</td>\n",
       "      <td>Tour Date</td>\n",
       "    </tr>\n",
       "    <tr>\n",
       "      <th>16</th>\n",
       "      <td>2023-05-05</td>\n",
       "      <td>Nashville</td>\n",
       "      <td>BNA</td>\n",
       "      <td>Tour Date</td>\n",
       "    </tr>\n",
       "    <tr>\n",
       "      <th>17</th>\n",
       "      <td>2023-05-06</td>\n",
       "      <td>Nashville</td>\n",
       "      <td>BNA</td>\n",
       "      <td>Tour Date</td>\n",
       "    </tr>\n",
       "    <tr>\n",
       "      <th>18</th>\n",
       "      <td>2023-05-07</td>\n",
       "      <td>Nashville</td>\n",
       "      <td>BNA</td>\n",
       "      <td>Tour Date</td>\n",
       "    </tr>\n",
       "    <tr>\n",
       "      <th>19</th>\n",
       "      <td>2023-05-12</td>\n",
       "      <td>Philadelphia</td>\n",
       "      <td>PHL</td>\n",
       "      <td>Tour Date</td>\n",
       "    </tr>\n",
       "    <tr>\n",
       "      <th>20</th>\n",
       "      <td>2023-05-13</td>\n",
       "      <td>Philadelphia</td>\n",
       "      <td>PHL</td>\n",
       "      <td>Tour Date</td>\n",
       "    </tr>\n",
       "    <tr>\n",
       "      <th>21</th>\n",
       "      <td>2023-05-14</td>\n",
       "      <td>Philadelphia</td>\n",
       "      <td>PHL</td>\n",
       "      <td>Tour Date</td>\n",
       "    </tr>\n",
       "    <tr>\n",
       "      <th>22</th>\n",
       "      <td>2023-05-19</td>\n",
       "      <td>Foxborough</td>\n",
       "      <td>BOS</td>\n",
       "      <td>Tour Date</td>\n",
       "    </tr>\n",
       "    <tr>\n",
       "      <th>23</th>\n",
       "      <td>2023-05-20</td>\n",
       "      <td>Foxborough</td>\n",
       "      <td>BOS</td>\n",
       "      <td>Tour Date</td>\n",
       "    </tr>\n",
       "    <tr>\n",
       "      <th>24</th>\n",
       "      <td>2023-05-21</td>\n",
       "      <td>Foxborough</td>\n",
       "      <td>BOS</td>\n",
       "      <td>Tour Date</td>\n",
       "    </tr>\n",
       "    <tr>\n",
       "      <th>25</th>\n",
       "      <td>2023-05-26</td>\n",
       "      <td>East Rutherford</td>\n",
       "      <td>EWR</td>\n",
       "      <td>Tour Date</td>\n",
       "    </tr>\n",
       "    <tr>\n",
       "      <th>26</th>\n",
       "      <td>2023-05-27</td>\n",
       "      <td>East Rutherford</td>\n",
       "      <td>EWR</td>\n",
       "      <td>Tour Date</td>\n",
       "    </tr>\n",
       "    <tr>\n",
       "      <th>27</th>\n",
       "      <td>2023-05-28</td>\n",
       "      <td>East Rutherford</td>\n",
       "      <td>EWR</td>\n",
       "      <td>Tour Date</td>\n",
       "    </tr>\n",
       "    <tr>\n",
       "      <th>28</th>\n",
       "      <td>2023-06-02</td>\n",
       "      <td>Chicago</td>\n",
       "      <td>ORD</td>\n",
       "      <td>Tour Date</td>\n",
       "    </tr>\n",
       "    <tr>\n",
       "      <th>29</th>\n",
       "      <td>2023-06-03</td>\n",
       "      <td>Chicago</td>\n",
       "      <td>ORD</td>\n",
       "      <td>Tour Date</td>\n",
       "    </tr>\n",
       "    <tr>\n",
       "      <th>30</th>\n",
       "      <td>2023-06-04</td>\n",
       "      <td>Chicago</td>\n",
       "      <td>ORD</td>\n",
       "      <td>Tour Date</td>\n",
       "    </tr>\n",
       "    <tr>\n",
       "      <th>31</th>\n",
       "      <td>2023-06-09</td>\n",
       "      <td>Detroit</td>\n",
       "      <td>DTW</td>\n",
       "      <td>Tour Date</td>\n",
       "    </tr>\n",
       "    <tr>\n",
       "      <th>32</th>\n",
       "      <td>2023-06-10</td>\n",
       "      <td>Detroit</td>\n",
       "      <td>DTW</td>\n",
       "      <td>Tour Date</td>\n",
       "    </tr>\n",
       "    <tr>\n",
       "      <th>33</th>\n",
       "      <td>2023-06-16</td>\n",
       "      <td>Pittsburgh</td>\n",
       "      <td>PIT</td>\n",
       "      <td>Tour Date</td>\n",
       "    </tr>\n",
       "    <tr>\n",
       "      <th>34</th>\n",
       "      <td>2023-06-17</td>\n",
       "      <td>Pittsburgh</td>\n",
       "      <td>PIT</td>\n",
       "      <td>Tour Date</td>\n",
       "    </tr>\n",
       "    <tr>\n",
       "      <th>35</th>\n",
       "      <td>2023-06-23</td>\n",
       "      <td>Minneapolis</td>\n",
       "      <td>MSP</td>\n",
       "      <td>Tour Date</td>\n",
       "    </tr>\n",
       "    <tr>\n",
       "      <th>36</th>\n",
       "      <td>2023-06-24</td>\n",
       "      <td>Minneapolis</td>\n",
       "      <td>MSP</td>\n",
       "      <td>Tour Date</td>\n",
       "    </tr>\n",
       "    <tr>\n",
       "      <th>37</th>\n",
       "      <td>2023-06-30</td>\n",
       "      <td>Cincinnati</td>\n",
       "      <td>CVG</td>\n",
       "      <td>Tour Date</td>\n",
       "    </tr>\n",
       "    <tr>\n",
       "      <th>38</th>\n",
       "      <td>2023-07-01</td>\n",
       "      <td>Cincinnati</td>\n",
       "      <td>CVG</td>\n",
       "      <td>Tour Date</td>\n",
       "    </tr>\n",
       "    <tr>\n",
       "      <th>39</th>\n",
       "      <td>2023-07-07</td>\n",
       "      <td>Kansas City</td>\n",
       "      <td>MCI</td>\n",
       "      <td>Tour Date</td>\n",
       "    </tr>\n",
       "    <tr>\n",
       "      <th>40</th>\n",
       "      <td>2023-07-08</td>\n",
       "      <td>Kansas City</td>\n",
       "      <td>MCI</td>\n",
       "      <td>Tour Date</td>\n",
       "    </tr>\n",
       "    <tr>\n",
       "      <th>41</th>\n",
       "      <td>2023-07-14</td>\n",
       "      <td>Denver</td>\n",
       "      <td>DEN</td>\n",
       "      <td>Tour Date</td>\n",
       "    </tr>\n",
       "    <tr>\n",
       "      <th>42</th>\n",
       "      <td>2023-07-15</td>\n",
       "      <td>Denver</td>\n",
       "      <td>DEN</td>\n",
       "      <td>Tour Date</td>\n",
       "    </tr>\n",
       "    <tr>\n",
       "      <th>43</th>\n",
       "      <td>2023-07-22</td>\n",
       "      <td>Seattle</td>\n",
       "      <td>SEA</td>\n",
       "      <td>Tour Date</td>\n",
       "    </tr>\n",
       "    <tr>\n",
       "      <th>44</th>\n",
       "      <td>2023-07-23</td>\n",
       "      <td>Seattle</td>\n",
       "      <td>SEA</td>\n",
       "      <td>Tour Date</td>\n",
       "    </tr>\n",
       "    <tr>\n",
       "      <th>45</th>\n",
       "      <td>2023-07-28</td>\n",
       "      <td>Santa Clara</td>\n",
       "      <td>SJC</td>\n",
       "      <td>Tour Date</td>\n",
       "    </tr>\n",
       "    <tr>\n",
       "      <th>46</th>\n",
       "      <td>2023-07-29</td>\n",
       "      <td>Santa Clara</td>\n",
       "      <td>SJC</td>\n",
       "      <td>Tour Date</td>\n",
       "    </tr>\n",
       "    <tr>\n",
       "      <th>47</th>\n",
       "      <td>2023-08-03</td>\n",
       "      <td>Inglewood</td>\n",
       "      <td>LAX</td>\n",
       "      <td>Tour Date</td>\n",
       "    </tr>\n",
       "    <tr>\n",
       "      <th>48</th>\n",
       "      <td>2023-08-04</td>\n",
       "      <td>Inglewood</td>\n",
       "      <td>LAX</td>\n",
       "      <td>Tour Date</td>\n",
       "    </tr>\n",
       "    <tr>\n",
       "      <th>49</th>\n",
       "      <td>2023-08-05</td>\n",
       "      <td>Inglewood</td>\n",
       "      <td>LAX</td>\n",
       "      <td>Tour Date</td>\n",
       "    </tr>\n",
       "    <tr>\n",
       "      <th>50</th>\n",
       "      <td>2023-08-07</td>\n",
       "      <td>Inglewood</td>\n",
       "      <td>LAX</td>\n",
       "      <td>Tour Date</td>\n",
       "    </tr>\n",
       "    <tr>\n",
       "      <th>51</th>\n",
       "      <td>2023-08-08</td>\n",
       "      <td>Inglewood</td>\n",
       "      <td>LAX</td>\n",
       "      <td>Tour Date</td>\n",
       "    </tr>\n",
       "    <tr>\n",
       "      <th>52</th>\n",
       "      <td>2023-08-09</td>\n",
       "      <td>Inglewood</td>\n",
       "      <td>LAX</td>\n",
       "      <td>Tour Date</td>\n",
       "    </tr>\n",
       "  </tbody>\n",
       "</table>\n",
       "</div>"
      ],
      "text/plain": [
       "         Date             City IATA  eras_tour\n",
       "0  2023-03-17         Glendale  PHX  Tour Date\n",
       "1  2023-03-18         Glendale  PHX  Tour Date\n",
       "2  2023-03-24         Paradise  LAS  Tour Date\n",
       "3  2023-03-25         Paradise  LAS  Tour Date\n",
       "4  2023-03-31        Arlington  DFW  Tour Date\n",
       "5  2023-04-01        Arlington  DFW  Tour Date\n",
       "6  2023-04-02        Arlington  DFW  Tour Date\n",
       "7  2023-04-13            Tampa  TPA  Tour Date\n",
       "8  2023-04-14            Tampa  TPA  Tour Date\n",
       "9  2023-04-15            Tampa  TPA  Tour Date\n",
       "10 2023-04-21          Houston  IAH  Tour Date\n",
       "11 2023-04-22          Houston  IAH  Tour Date\n",
       "12 2023-04-23          Houston  IAH  Tour Date\n",
       "13 2023-04-28          Atlanta  ATL  Tour Date\n",
       "14 2023-04-29          Atlanta  ATL  Tour Date\n",
       "15 2023-04-30          Atlanta  ATL  Tour Date\n",
       "16 2023-05-05        Nashville  BNA  Tour Date\n",
       "17 2023-05-06        Nashville  BNA  Tour Date\n",
       "18 2023-05-07        Nashville  BNA  Tour Date\n",
       "19 2023-05-12     Philadelphia  PHL  Tour Date\n",
       "20 2023-05-13     Philadelphia  PHL  Tour Date\n",
       "21 2023-05-14     Philadelphia  PHL  Tour Date\n",
       "22 2023-05-19       Foxborough  BOS  Tour Date\n",
       "23 2023-05-20       Foxborough  BOS  Tour Date\n",
       "24 2023-05-21       Foxborough  BOS  Tour Date\n",
       "25 2023-05-26  East Rutherford  EWR  Tour Date\n",
       "26 2023-05-27  East Rutherford  EWR  Tour Date\n",
       "27 2023-05-28  East Rutherford  EWR  Tour Date\n",
       "28 2023-06-02          Chicago  ORD  Tour Date\n",
       "29 2023-06-03          Chicago  ORD  Tour Date\n",
       "30 2023-06-04          Chicago  ORD  Tour Date\n",
       "31 2023-06-09          Detroit  DTW  Tour Date\n",
       "32 2023-06-10          Detroit  DTW  Tour Date\n",
       "33 2023-06-16       Pittsburgh  PIT  Tour Date\n",
       "34 2023-06-17       Pittsburgh  PIT  Tour Date\n",
       "35 2023-06-23      Minneapolis  MSP  Tour Date\n",
       "36 2023-06-24      Minneapolis  MSP  Tour Date\n",
       "37 2023-06-30       Cincinnati  CVG  Tour Date\n",
       "38 2023-07-01       Cincinnati  CVG  Tour Date\n",
       "39 2023-07-07      Kansas City  MCI  Tour Date\n",
       "40 2023-07-08      Kansas City  MCI  Tour Date\n",
       "41 2023-07-14           Denver  DEN  Tour Date\n",
       "42 2023-07-15           Denver  DEN  Tour Date\n",
       "43 2023-07-22          Seattle  SEA  Tour Date\n",
       "44 2023-07-23          Seattle  SEA  Tour Date\n",
       "45 2023-07-28      Santa Clara  SJC  Tour Date\n",
       "46 2023-07-29      Santa Clara  SJC  Tour Date\n",
       "47 2023-08-03        Inglewood  LAX  Tour Date\n",
       "48 2023-08-04        Inglewood  LAX  Tour Date\n",
       "49 2023-08-05        Inglewood  LAX  Tour Date\n",
       "50 2023-08-07        Inglewood  LAX  Tour Date\n",
       "51 2023-08-08        Inglewood  LAX  Tour Date\n",
       "52 2023-08-09        Inglewood  LAX  Tour Date"
      ]
     },
     "execution_count": 510,
     "metadata": {},
     "output_type": "execute_result"
    }
   ],
   "source": [
    "eras_tour"
   ]
  },
  {
   "cell_type": "code",
   "execution_count": 511,
   "id": "91ea7087-d358-485a-9136-5ad9799fbac5",
   "metadata": {},
   "outputs": [],
   "source": [
    "# Save the eras_tour DataFrame to a CSV file\n",
    "eras_tour.to_csv(r'C:\\Users\\hopeh\\Desktop\\data_science_bootcamp\\flight_times_capstone\\eras_tour_data.csv', index=False)\n"
   ]
  },
  {
   "cell_type": "code",
   "execution_count": 512,
   "id": "007f5359-514b-44cf-809b-1c25a275bbbf",
   "metadata": {},
   "outputs": [],
   "source": [
    "import pandas as pd\n",
    "\n",
    "# Load the data\n",
    "eras_tour_df = pd.read_csv(r'C:\\Users\\hopeh\\Desktop\\data_science_bootcamp\\flight_times_capstone\\eras_tour_data.csv')\n",
    "combined_data = pd.read_csv(r'C:\\Users\\hopeh\\Desktop\\data_science_bootcamp\\flight_times_capstone\\cleaned_combined_data_v1.csv')\n"
   ]
  },
  {
   "cell_type": "code",
   "execution_count": 513,
   "id": "663a1dcf-2698-49cd-b5c4-25ce08851bc7",
   "metadata": {},
   "outputs": [
    {
     "name": "stdout",
     "output_type": "stream",
     "text": [
      "<DatetimeArray>\n",
      "['2023-05-01 00:00:00', '2023-05-02 00:00:00', '2023-05-03 00:00:00',\n",
      " '2023-05-04 00:00:00', '2023-05-05 00:00:00', '2023-05-06 00:00:00',\n",
      " '2023-05-07 00:00:00', '2023-05-08 00:00:00', '2023-05-09 00:00:00',\n",
      " '2023-05-10 00:00:00',\n",
      " ...\n",
      " '2024-04-21 00:00:00', '2024-04-22 00:00:00', '2024-04-23 00:00:00',\n",
      " '2024-04-24 00:00:00', '2024-04-25 00:00:00', '2024-04-26 00:00:00',\n",
      " '2024-04-27 00:00:00', '2024-04-28 00:00:00', '2024-04-29 00:00:00',\n",
      " '2024-04-30 00:00:00']\n",
      "Length: 366, dtype: datetime64[ns]\n",
      "<DatetimeArray>\n",
      "['2023-03-17 00:00:00', '2023-03-18 00:00:00', '2023-03-24 00:00:00',\n",
      " '2023-03-25 00:00:00', '2023-03-31 00:00:00', '2023-04-01 00:00:00',\n",
      " '2023-04-02 00:00:00', '2023-04-13 00:00:00', '2023-04-14 00:00:00',\n",
      " '2023-04-15 00:00:00', '2023-04-21 00:00:00', '2023-04-22 00:00:00',\n",
      " '2023-04-23 00:00:00', '2023-04-28 00:00:00', '2023-04-29 00:00:00',\n",
      " '2023-04-30 00:00:00', '2023-05-05 00:00:00', '2023-05-06 00:00:00',\n",
      " '2023-05-07 00:00:00', '2023-05-12 00:00:00', '2023-05-13 00:00:00',\n",
      " '2023-05-14 00:00:00', '2023-05-19 00:00:00', '2023-05-20 00:00:00',\n",
      " '2023-05-21 00:00:00', '2023-05-26 00:00:00', '2023-05-27 00:00:00',\n",
      " '2023-05-28 00:00:00', '2023-06-02 00:00:00', '2023-06-03 00:00:00',\n",
      " '2023-06-04 00:00:00', '2023-06-09 00:00:00', '2023-06-10 00:00:00',\n",
      " '2023-06-16 00:00:00', '2023-06-17 00:00:00', '2023-06-23 00:00:00',\n",
      " '2023-06-24 00:00:00', '2023-06-30 00:00:00', '2023-07-01 00:00:00',\n",
      " '2023-07-07 00:00:00', '2023-07-08 00:00:00', '2023-07-14 00:00:00',\n",
      " '2023-07-15 00:00:00', '2023-07-22 00:00:00', '2023-07-23 00:00:00',\n",
      " '2023-07-28 00:00:00', '2023-07-29 00:00:00', '2023-08-03 00:00:00',\n",
      " '2023-08-04 00:00:00', '2023-08-05 00:00:00', '2023-08-07 00:00:00',\n",
      " '2023-08-08 00:00:00', '2023-08-09 00:00:00']\n",
      "Length: 53, dtype: datetime64[ns]\n",
      "['cvg' 'dsm' 'myr' 'mke' 'ind' 'ric' 'cho' 'bgr' 'buf' 'roc' 'cle' 'ith'\n",
      " 'atl' 'evv' 'mdt' 'cae' 'avl' 'bhm' 'chs' 'ilm' 'cha' 'gtr' 'rdu' 'mbs'\n",
      " 'mqt' 'azo' 'btr' 'xna' 'sgf' 'orh' 'gso' 'iad' 'alb' 'syr' 'tys' 'bqk'\n",
      " 'fay' 'hsv' 'sav' 'btv' 'dlh' 'mci' 'csg' 'roa' 'pwm' 'bgm' 'cmh' 'clt'\n",
      " 'tri' 'lan' 'lex' 'eyw' 'aex' 'vld' 'dhn' 'day' 'grr' 'mem' 'lse' 'mlu'\n",
      " 'ags' 'gsp' 'lax' 'dfw' 'elp' 'ict' 'sat' 'pit' 'tpa' 'phl' 'vps' 'pns'\n",
      " 'bna' 'sna' 'fll' 'avp' 'mia' 'ont' 'pbi' 'sdf' 'mco' 'boi' 'pdx' 'smf'\n",
      " 'den' 'san' 'psp' 'fat' 'iah' 'msy' 'cos' 'rno' 'oma' 'lih' 'ama' 'rsw'\n",
      " 'msn' 'eug' 'cid' 'sbp' 'dab' 'sba' 'mry' 'bfl' 'mtj' 'jac' 'ege' 'tul'\n",
      " 'lbb' 'geg' 'fai' 'jnu' 'pae' 'bzn' 'rdm' 'psc' 'dal' 'cdv' 'ome' 'bet'\n",
      " 'brw' 'sts' 'ktn' 'scc' 'sit' 'adq' 'otz' 'psg' 'wrg' 'hpn' 'hou' 'fca'\n",
      " 'tvc' 'bil' 'mlb' 'mso' 'gnv' 'hrl' 'far' 'bis' 'tlh' 'mob' 'gpt' 'jan'\n",
      " 'oaj' 'atw' 'rst' 'isp' 'ttn' 'pgd' 'mli' 'psm' 'pie' 'usa' 'fnt' 'lck'\n",
      " 'sfb' 'pia' 'aza' 'shv' 'tol' 'sbn' 'iag' 'blv' 'cak' 'owb' 'pbg' 'pvu'\n",
      " 'stc' 'fwa' 'hts' 'ckb' 'gfk' 'elm' 'spi' 'rap' 'mfr' 'bli' 'mot' 'gtf'\n",
      " 'ito' 'crp' 'bmi' 'bro' 'lft' 'cou' 'abi' 'fsm' 'maf' 'grk' 'sjt' 'mhk'\n",
      " 'hhh' 'cll' 'mht' 'acy' 'lbe' 'crw' 'mgm' 'ewn' 'acv' 'dro' 'hdn' 'lnk'\n",
      " 'oth' 'rdd' 'prc' 'mei' 'sun' 'hln' 'lws' 'jms' 'jln' 'bji' 'cmx' 'apn'\n",
      " 'pln' 'pib' 'cpr' 'rhi' 'cny' 'twf' 'btm' 'saf' 'lrd' 'tyr' 'row' 'gck'\n",
      " 'bpt' 'ggg' 'sps' 'vct' 'flg' 'ase' 'law' 'act' 'gri' 'txk' 'lch' 'sln'\n",
      " 'bff' 'inl' 'eko' 'shr' 'gcc' 'jst' 'dec' 'ddc' 'lbl' 'pih' 'cdc' 'abr'\n",
      " 'lbf' 'lar' 'rks' 'riw' 'smx' 'wys' 'ack' 'dlg' 'alw' 'hya' 'mvy' 'gst'\n",
      " 'bih' 'cod' 'cys' 'phf']\n",
      "['msp' 'lga' 'jfk' 'atl' 'dtw' 'tys' 'mdt' 'cae' 'gtr' 'ewr' 'btr' 'xna'\n",
      " 'vld' 'dca' 'cho' 'cha' 'evv' 'bqk' 'fay' 'csg' 'aby' 'sgf' 'roa' 'tri'\n",
      " 'mlu' 'lex' 'aex' 'eyw' 'dhn' 'ags' 'aus' 'ilm' 'day' 'bos' 'elp' 'dfw'\n",
      " 'ict' 'bhm' 'cid' 'cmh' 'clt' 'sav' 'pit' 'sat' 'phl' 'rdu' 'tpa' 'okc'\n",
      " 'roc' 'vps' 'stl' 'pns' 'bna' 'avp' 'ric' 'myr' 'ont' 'gso' 'chs' 'lax'\n",
      " 'slc' 'pbi' 'alb' 'gsp' 'orf' 'iad' 'phx' 'jax' 'cvg' 'mco' 'las' 'fll'\n",
      " 'mia' 'sfo' 'tus' 'den' 'smf' 'psp' 'ord' 'sea' 'ind' 'pdx' 'fat' 'mem'\n",
      " 'san' 'pvd' 'pwm' 'cle' 'mci' 'msy' 'rno' 'bdl' 'cos' 'sna' 'sjc' 'iah'\n",
      " 'bwi' 'abq' 'hnl' 'lih' 'ogg' 'koa' 'sdf' 'ama' 'lbb' 'grr' 'ecp' 'rsw'\n",
      " 'buf' 'syr' 'msn' 'srq' 'mke' 'dsm' 'dab' 'sbp' 'fsd' 'sba' 'avl' 'lit'\n",
      " 'mry' 'bfl' 'mtj' 'jac' 'ege' 'tul' 'bur' 'oma' 'mfe' 'geg' 'boi' 'anc'\n",
      " 'rdm' 'yak' 'jnu' 'sit' 'ktn' 'otz' 'psg' 'wrg' 'hpn' 'orh' 'bqn' 'bzn'\n",
      " 'hou' 'mdw' 'dal' 'gnv' 'mlb' 'mob' 'hsv' 'tlh' 'grb' 'gpt' 'jan' 'btv'\n",
      " 'oaj' 'atw' 'isp' 'ttn' 'psm' 'pgd' 'mli' 'pie' 'usa' 'swf' 'fnt' 'lck'\n",
      " 'sfb' 'pia' 'tvc' 'rfd' 'sbn' 'tol' 'iag' 'abe' 'hgr' 'cak' 'bgr' 'owb'\n",
      " 'pbg' 'pvu' 'aza' 'stc' 'blv' 'fwa' 'ida' 'hts' 'ckb' 'gfk' 'elm' 'spi'\n",
      " 'rap' 'gjt' 'bis' 'oak' 'bli' 'far' 'crp' 'bmi' 'cou' 'bro' 'mhk' 'shv'\n",
      " 'lft' 'maf' 'hrl' 'abi' 'grk' 'sjt' 'fsm' 'bil' 'sts' 'hhh' 'mso' 'cll'\n",
      " 'cmi' 'mht' 'acy' 'lbe' 'mgm' 'ewn' 'pgv' 'crw' 'dro' 'psc' 'mfr' 'hdn'\n",
      " 'acv' 'gtf' 'eug' 'vel' 'jms' 'dvl' 'jln' 'shr' 'apn' 'pib' 'gcc' 'lws'\n",
      " 'cpr' 'lrd' 'tyr' 'gck' 'sun' 'ggg' 'fca' 'row' 'sps' 'mei' 'dik' 'sgu'\n",
      " 'flg' 'ase' 'swo' 'law' 'bpt' 'saf' 'txk' 'lch' 'act' 'yum' 'gri' 'guc'\n",
      " 'rks' 'bff' 'hib' 'riw' 'vct' 'rdd' 'jst' 'lbl' 'ddc' 'sux' 'sln' 'hys'\n",
      " 'xwa' 'cny' 'lar' 'hln' 'lbf' 'prc' 'dec' 'lgb' 'mot' 'oth' 'mvy' 'ack'\n",
      " 'gst' 'wys' 'cod' 'cys' 'sce' 'lnk' 'pae' 'phf' 'bih' 'ome' 'brw']\n",
      "['PHX' 'LAS' 'DFW' 'TPA' 'IAH' 'ATL' 'BNA' 'PHL' 'BOS' 'EWR' 'ORD' 'DTW'\n",
      " 'PIT' 'MSP' 'CVG' 'MCI' 'DEN' 'SEA' 'SJC' 'LAX']\n"
     ]
    }
   ],
   "source": [
    "# Ensure both date columns are in the same format (if necessary)\n",
    "combined_data['date'] = pd.to_datetime(combined_data['date'])\n",
    "eras_tour_df['Date'] = pd.to_datetime(eras_tour_df['Date'])\n",
    "\n",
    "print(combined_data['date'].unique())\n",
    "print(eras_tour_df['Date'].unique())\n",
    "print(combined_data['origin_iata'].unique())\n",
    "print(combined_data['dest_iata'].unique())\n",
    "print(eras_tour_df['IATA'].unique())\n"
   ]
  },
  {
   "cell_type": "code",
   "execution_count": 514,
   "id": "d46612b1-4310-42ab-88c3-82de61a5854d",
   "metadata": {},
   "outputs": [
    {
     "name": "stdout",
     "output_type": "stream",
     "text": [
      "         Date             City IATA  eras_tour\n",
      "0  2023-03-17         glendale  phx  tour date\n",
      "1  2023-03-18         glendale  phx  tour date\n",
      "2  2023-03-24         paradise  las  tour date\n",
      "3  2023-03-25         paradise  las  tour date\n",
      "4  2023-03-31        arlington  dfw  tour date\n",
      "5  2023-04-01        arlington  dfw  tour date\n",
      "6  2023-04-02        arlington  dfw  tour date\n",
      "7  2023-04-13            tampa  tpa  tour date\n",
      "8  2023-04-14            tampa  tpa  tour date\n",
      "9  2023-04-15            tampa  tpa  tour date\n",
      "10 2023-04-21          houston  iah  tour date\n",
      "11 2023-04-22          houston  iah  tour date\n",
      "12 2023-04-23          houston  iah  tour date\n",
      "13 2023-04-28          atlanta  atl  tour date\n",
      "14 2023-04-29          atlanta  atl  tour date\n",
      "15 2023-04-30          atlanta  atl  tour date\n",
      "16 2023-05-05        nashville  bna  tour date\n",
      "17 2023-05-06        nashville  bna  tour date\n",
      "18 2023-05-07        nashville  bna  tour date\n",
      "19 2023-05-12     philadelphia  phl  tour date\n",
      "20 2023-05-13     philadelphia  phl  tour date\n",
      "21 2023-05-14     philadelphia  phl  tour date\n",
      "22 2023-05-19       foxborough  bos  tour date\n",
      "23 2023-05-20       foxborough  bos  tour date\n",
      "24 2023-05-21       foxborough  bos  tour date\n",
      "25 2023-05-26  east rutherford  ewr  tour date\n",
      "26 2023-05-27  east rutherford  ewr  tour date\n",
      "27 2023-05-28  east rutherford  ewr  tour date\n",
      "28 2023-06-02          chicago  ord  tour date\n",
      "29 2023-06-03          chicago  ord  tour date\n",
      "30 2023-06-04          chicago  ord  tour date\n",
      "31 2023-06-09          detroit  dtw  tour date\n",
      "32 2023-06-10          detroit  dtw  tour date\n",
      "33 2023-06-16       pittsburgh  pit  tour date\n",
      "34 2023-06-17       pittsburgh  pit  tour date\n",
      "35 2023-06-23      minneapolis  msp  tour date\n",
      "36 2023-06-24      minneapolis  msp  tour date\n",
      "37 2023-06-30       cincinnati  cvg  tour date\n",
      "38 2023-07-01       cincinnati  cvg  tour date\n",
      "39 2023-07-07      kansas city  mci  tour date\n",
      "40 2023-07-08      kansas city  mci  tour date\n",
      "41 2023-07-14           denver  den  tour date\n",
      "42 2023-07-15           denver  den  tour date\n",
      "43 2023-07-22          seattle  sea  tour date\n",
      "44 2023-07-23          seattle  sea  tour date\n",
      "45 2023-07-28      santa clara  sjc  tour date\n",
      "46 2023-07-29      santa clara  sjc  tour date\n",
      "47 2023-08-03        inglewood  lax  tour date\n",
      "48 2023-08-04        inglewood  lax  tour date\n",
      "49 2023-08-05        inglewood  lax  tour date\n",
      "50 2023-08-07        inglewood  lax  tour date\n",
      "51 2023-08-08        inglewood  lax  tour date\n",
      "52 2023-08-09        inglewood  lax  tour date\n"
     ]
    },
    {
     "name": "stderr",
     "output_type": "stream",
     "text": [
      "C:\\Users\\hopeh\\AppData\\Local\\Temp\\ipykernel_5900\\3042409787.py:2: FutureWarning: DataFrame.applymap has been deprecated. Use DataFrame.map instead.\n",
      "  eras_tour_df = eras_tour_df.applymap(lambda x: x.strip().lower() if isinstance(x, str) else x)\n"
     ]
    }
   ],
   "source": [
    "\n",
    "# Standardize datasets, applying to strings only\n",
    "eras_tour_df = eras_tour_df.applymap(lambda x: x.strip().lower() if isinstance(x, str) else x)\n",
    "\n",
    "# Check the changes\n",
    "print(eras_tour_df)\n"
   ]
  },
  {
   "cell_type": "code",
   "execution_count": 515,
   "id": "a1b6c7ee-34a8-40f4-b823-baaf5266665d",
   "metadata": {},
   "outputs": [],
   "source": [
    "\n",
    "\n",
    "\n",
    "# Perform a merge to find matches\n",
    "merged_data = pd.merge(combined_data, eras_tour_df, how='left', left_on=['date', 'origin_iata'], right_on=['Date', 'IATA'])\n",
    "merged_data = pd.merge(merged_data, eras_tour_df, how='left', left_on=['date', 'dest_iata'], right_on=['Date', 'IATA'], suffixes=('', '_dest'))\n",
    "\n",
    "# Update 'era_tour' based on the matches found\n",
    "combined_data['eras_tour'] = merged_data.apply(lambda x: 'tour_date' if x['Date'] is not pd.NaT else '', axis=1)\n",
    "\n",
    "# Drop any unnecessary columns if needed\n"
   ]
  },
  {
   "cell_type": "code",
   "execution_count": 516,
   "id": "a7d108e9-c36e-4573-a3f8-bf7e28b63fdd",
   "metadata": {},
   "outputs": [
    {
     "name": "stdout",
     "output_type": "stream",
     "text": [
      "Number of rows with 'tour_date' set: 14642\n"
     ]
    }
   ],
   "source": [
    "# Count the number of rows where 'tour_date' is not empty\n",
    "tour_date_count = combined_data['eras_tour'].value_counts().get('tour_date', 0)\n",
    "\n",
    "print(f\"Number of rows with 'tour_date' set: {tour_date_count}\")\n"
   ]
  },
  {
   "cell_type": "code",
   "execution_count": 517,
   "id": "1f528ccc-9be2-4cf8-b75d-50ccc1b3e3eb",
   "metadata": {},
   "outputs": [
    {
     "data": {
      "text/plain": [
       "Index(['day_of_week', 'date', 'op_unique_carrier', 'tail_num',\n",
       "       'origin_latitude', 'origin_longitude', 'op_carrier_fl_num',\n",
       "       'origin_iata', 'origin_city', 'dest_iata', 'dest_latitude',\n",
       "       'dest_longitude', 'dest_city', 'crs_dep_time', 'dep_time', 'taxi_out',\n",
       "       'wheels_off', 'origin_state', 'dest_state', 'wheels_on', 'taxi_in',\n",
       "       'crs_arr_time', 'arr_time', 'cancelled', 'diverted', 'crs_elapsed_time',\n",
       "       'actual_elapsed_time', 'air_time', 'flights', 'distance',\n",
       "       'carrier_delay', 'weather_delay', 'nas_delay', 'security_delay',\n",
       "       'late_aircraft_delay', 'total_delay_time', 'is_weekend',\n",
       "       'arrival_delay', 'departure_delay', 'airline_name', 'elevation', 'prcp',\n",
       "       'snow', 'snwd', 'tmax', 'tmin', 'delay', 'eras_tour'],\n",
       "      dtype='object')"
      ]
     },
     "execution_count": 517,
     "metadata": {},
     "output_type": "execute_result"
    }
   ],
   "source": [
    "combined_data.columns"
   ]
  },
  {
   "cell_type": "code",
   "execution_count": 518,
   "id": "b910f92c-62ba-4698-8dbb-5211cde058e7",
   "metadata": {},
   "outputs": [],
   "source": [
    "#SAVE TO CSV \n",
    "combined_data.to_csv(r'C:\\Users\\hopeh\\Desktop\\data_science_bootcamp\\flight_times_capstone\\all_combined_data.csv', index=False)\n"
   ]
  },
  {
   "cell_type": "code",
   "execution_count": 519,
   "id": "e5c0e565-895b-4343-8b0b-89494b6bf9fd",
   "metadata": {},
   "outputs": [
    {
     "data": {
      "text/html": [
       "<div>\n",
       "<style scoped>\n",
       "    .dataframe tbody tr th:only-of-type {\n",
       "        vertical-align: middle;\n",
       "    }\n",
       "\n",
       "    .dataframe tbody tr th {\n",
       "        vertical-align: top;\n",
       "    }\n",
       "\n",
       "    .dataframe thead th {\n",
       "        text-align: right;\n",
       "    }\n",
       "</style>\n",
       "<table border=\"1\" class=\"dataframe\">\n",
       "  <thead>\n",
       "    <tr style=\"text-align: right;\">\n",
       "      <th></th>\n",
       "      <th>day_of_week</th>\n",
       "      <th>date</th>\n",
       "      <th>op_unique_carrier</th>\n",
       "      <th>tail_num</th>\n",
       "      <th>origin_latitude</th>\n",
       "      <th>origin_longitude</th>\n",
       "      <th>op_carrier_fl_num</th>\n",
       "      <th>origin_iata</th>\n",
       "      <th>origin_city</th>\n",
       "      <th>dest_iata</th>\n",
       "      <th>...</th>\n",
       "      <th>departure_delay</th>\n",
       "      <th>airline_name</th>\n",
       "      <th>elevation</th>\n",
       "      <th>prcp</th>\n",
       "      <th>snow</th>\n",
       "      <th>snwd</th>\n",
       "      <th>tmax</th>\n",
       "      <th>tmin</th>\n",
       "      <th>delay</th>\n",
       "      <th>eras_tour</th>\n",
       "    </tr>\n",
       "  </thead>\n",
       "  <tbody>\n",
       "    <tr>\n",
       "      <th>0</th>\n",
       "      <td>Monday</td>\n",
       "      <td>2023-05-01</td>\n",
       "      <td>9e</td>\n",
       "      <td>n131ev</td>\n",
       "      <td>39.0488</td>\n",
       "      <td>-84.6678</td>\n",
       "      <td>4888</td>\n",
       "      <td>cvg</td>\n",
       "      <td>cincinnati</td>\n",
       "      <td>msp</td>\n",
       "      <td>...</td>\n",
       "      <td>-9.0</td>\n",
       "      <td>Envoy Air</td>\n",
       "      <td>236.800003</td>\n",
       "      <td>0.00</td>\n",
       "      <td>NaN</td>\n",
       "      <td>NaN</td>\n",
       "      <td>68.0</td>\n",
       "      <td>49.0</td>\n",
       "      <td>-22.0</td>\n",
       "      <td></td>\n",
       "    </tr>\n",
       "    <tr>\n",
       "      <th>1</th>\n",
       "      <td>Monday</td>\n",
       "      <td>2023-05-01</td>\n",
       "      <td>9e</td>\n",
       "      <td>n131ev</td>\n",
       "      <td>41.5340</td>\n",
       "      <td>-93.6631</td>\n",
       "      <td>5128</td>\n",
       "      <td>dsm</td>\n",
       "      <td>des moines</td>\n",
       "      <td>msp</td>\n",
       "      <td>...</td>\n",
       "      <td>-6.0</td>\n",
       "      <td>Envoy Air</td>\n",
       "      <td>6.100000</td>\n",
       "      <td>0.00</td>\n",
       "      <td>NaN</td>\n",
       "      <td>NaN</td>\n",
       "      <td>77.0</td>\n",
       "      <td>59.0</td>\n",
       "      <td>-5.0</td>\n",
       "      <td></td>\n",
       "    </tr>\n",
       "    <tr>\n",
       "      <th>2</th>\n",
       "      <td>Monday</td>\n",
       "      <td>2023-05-01</td>\n",
       "      <td>9e</td>\n",
       "      <td>n131ev</td>\n",
       "      <td>39.0488</td>\n",
       "      <td>-84.6678</td>\n",
       "      <td>5283</td>\n",
       "      <td>cvg</td>\n",
       "      <td>cincinnati</td>\n",
       "      <td>msp</td>\n",
       "      <td>...</td>\n",
       "      <td>3.0</td>\n",
       "      <td>Envoy Air</td>\n",
       "      <td>236.800003</td>\n",
       "      <td>0.00</td>\n",
       "      <td>NaN</td>\n",
       "      <td>NaN</td>\n",
       "      <td>68.0</td>\n",
       "      <td>49.0</td>\n",
       "      <td>-14.0</td>\n",
       "      <td></td>\n",
       "    </tr>\n",
       "    <tr>\n",
       "      <th>3</th>\n",
       "      <td>Monday</td>\n",
       "      <td>2023-05-01</td>\n",
       "      <td>9e</td>\n",
       "      <td>n132ev</td>\n",
       "      <td>33.6797</td>\n",
       "      <td>-78.9283</td>\n",
       "      <td>4906</td>\n",
       "      <td>myr</td>\n",
       "      <td>myrtle beach</td>\n",
       "      <td>lga</td>\n",
       "      <td>...</td>\n",
       "      <td>-5.0</td>\n",
       "      <td>Envoy Air</td>\n",
       "      <td>11.800000</td>\n",
       "      <td>0.00</td>\n",
       "      <td>NaN</td>\n",
       "      <td>NaN</td>\n",
       "      <td>78.0</td>\n",
       "      <td>58.0</td>\n",
       "      <td>-10.0</td>\n",
       "      <td></td>\n",
       "    </tr>\n",
       "    <tr>\n",
       "      <th>4</th>\n",
       "      <td>Monday</td>\n",
       "      <td>2023-05-01</td>\n",
       "      <td>9e</td>\n",
       "      <td>n132ev</td>\n",
       "      <td>42.9472</td>\n",
       "      <td>-87.8966</td>\n",
       "      <td>5243</td>\n",
       "      <td>mke</td>\n",
       "      <td>milwaukee</td>\n",
       "      <td>lga</td>\n",
       "      <td>...</td>\n",
       "      <td>-7.0</td>\n",
       "      <td>Envoy Air</td>\n",
       "      <td>203.300003</td>\n",
       "      <td>0.26</td>\n",
       "      <td>0.0</td>\n",
       "      <td>0.0</td>\n",
       "      <td>48.0</td>\n",
       "      <td>38.0</td>\n",
       "      <td>1.0</td>\n",
       "      <td></td>\n",
       "    </tr>\n",
       "  </tbody>\n",
       "</table>\n",
       "<p>5 rows × 48 columns</p>\n",
       "</div>"
      ],
      "text/plain": [
       "  day_of_week       date op_unique_carrier tail_num  origin_latitude  \\\n",
       "0      Monday 2023-05-01                9e   n131ev          39.0488   \n",
       "1      Monday 2023-05-01                9e   n131ev          41.5340   \n",
       "2      Monday 2023-05-01                9e   n131ev          39.0488   \n",
       "3      Monday 2023-05-01                9e   n132ev          33.6797   \n",
       "4      Monday 2023-05-01                9e   n132ev          42.9472   \n",
       "\n",
       "   origin_longitude  op_carrier_fl_num origin_iata   origin_city dest_iata  \\\n",
       "0          -84.6678               4888         cvg    cincinnati       msp   \n",
       "1          -93.6631               5128         dsm    des moines       msp   \n",
       "2          -84.6678               5283         cvg    cincinnati       msp   \n",
       "3          -78.9283               4906         myr  myrtle beach       lga   \n",
       "4          -87.8966               5243         mke     milwaukee       lga   \n",
       "\n",
       "   ...  departure_delay  airline_name   elevation  prcp  snow  snwd  tmax  \\\n",
       "0  ...             -9.0     Envoy Air  236.800003  0.00   NaN   NaN  68.0   \n",
       "1  ...             -6.0     Envoy Air    6.100000  0.00   NaN   NaN  77.0   \n",
       "2  ...              3.0     Envoy Air  236.800003  0.00   NaN   NaN  68.0   \n",
       "3  ...             -5.0     Envoy Air   11.800000  0.00   NaN   NaN  78.0   \n",
       "4  ...             -7.0     Envoy Air  203.300003  0.26   0.0   0.0  48.0   \n",
       "\n",
       "   tmin delay  eras_tour  \n",
       "0  49.0 -22.0             \n",
       "1  59.0  -5.0             \n",
       "2  49.0 -14.0             \n",
       "3  58.0 -10.0             \n",
       "4  38.0   1.0             \n",
       "\n",
       "[5 rows x 48 columns]"
      ]
     },
     "execution_count": 519,
     "metadata": {},
     "output_type": "execute_result"
    }
   ],
   "source": [
    "combined_data.head()"
   ]
  },
  {
   "cell_type": "code",
   "execution_count": 520,
   "id": "31470545-3b2b-4cdd-8152-8cdd1377765b",
   "metadata": {},
   "outputs": [],
   "source": [
    "import matplotlib.pyplot as plt\n",
    "import seaborn as sns"
   ]
  },
  {
   "cell_type": "code",
   "execution_count": 521,
   "id": "bfddf88e-1863-479d-ae03-bf996d6fd441",
   "metadata": {},
   "outputs": [
    {
     "data": {
      "text/plain": [
       "Index(['day_of_week', 'date', 'op_unique_carrier', 'tail_num',\n",
       "       'origin_latitude', 'origin_longitude', 'op_carrier_fl_num',\n",
       "       'origin_iata', 'origin_city', 'dest_iata', 'dest_latitude',\n",
       "       'dest_longitude', 'dest_city', 'crs_dep_time', 'dep_time', 'taxi_out',\n",
       "       'wheels_off', 'origin_state', 'dest_state', 'wheels_on', 'taxi_in',\n",
       "       'crs_arr_time', 'arr_time', 'cancelled', 'diverted', 'crs_elapsed_time',\n",
       "       'actual_elapsed_time', 'air_time', 'flights', 'distance',\n",
       "       'carrier_delay', 'weather_delay', 'nas_delay', 'security_delay',\n",
       "       'late_aircraft_delay', 'total_delay_time', 'is_weekend',\n",
       "       'arrival_delay', 'departure_delay', 'airline_name', 'elevation', 'prcp',\n",
       "       'snow', 'snwd', 'tmax', 'tmin', 'delay', 'eras_tour'],\n",
       "      dtype='object')"
      ]
     },
     "execution_count": 521,
     "metadata": {},
     "output_type": "execute_result"
    }
   ],
   "source": [
    "combined_data.columns\n"
   ]
  },
  {
   "cell_type": "markdown",
   "id": "975d3a7a-cad7-48f0-b203-6778de824e4d",
   "metadata": {},
   "source": [
    "Key Columns for Analysis\n",
    "\n",
    "Date and Time Columns:\n",
    "\n",
    "date: The date of the flight, useful for temporal analysis.\n",
    "day_of_week: To analyze patterns based on the day of the week.\n",
    "Delay Information:\n",
    "\n",
    "total_delay_time: Total delay time for the flight, essential for understanding delay patterns.\n",
    "\n",
    "arrival_delay and departure_delay: Specific arrival and departure delays for deeper insights.\n",
    "\n",
    "Delay reasons: carrier_delay, weather_delay, nas_delay, security_delay, late_aircraft_delay can provide insight into what might be causing delays on tour dates.\n",
    "\n",
    "    \n",
    "Flight Characteristics:\n",
    "\n",
    "op_unique_carrier: Carrier information, which can help determine if certain airlines were more affected.\n",
    "origin_iata and dest_iata: To see if certain routes are more impacted.\n",
    "\n",
    "Geospatial Information:\n",
    "\n",
    "origin_latitude, origin_longitude, dest_latitude, dest_longitude: Useful for visualizing delays geographically.\n",
    "origin_city and dest_city: Helpful for identifying specific cities involved in the analysis.\n",
    "\n",
    "\n",
    "Weather Information:\n",
    "\n",
    "prcp, snow, snwd, tmax, tmin: Weather data can provide context on whether delays were influenced by weather conditions.\n",
    "Tour Indicators:\n",
    "\n",
    "tour_date: Indicates if the flight is on a tour date.\n",
    "\n",
    "eras_tour: If this column is set, it can signify the specific tour event impacting the flight."
   ]
  },
  {
   "cell_type": "code",
   "execution_count": 523,
   "id": "a8d8a645-c49e-4382-8fe5-e02013ab48b8",
   "metadata": {},
   "outputs": [
    {
     "name": "stdout",
     "output_type": "stream",
     "text": [
      "Columns after removing duplicate columns:\n",
      "Index(['day_of_week', 'date', 'op_unique_carrier', 'tail_num',\n",
      "       'origin_latitude', 'origin_longitude', 'op_carrier_fl_num',\n",
      "       'origin_iata', 'origin_city', 'dest_iata', 'dest_latitude',\n",
      "       'dest_longitude', 'dest_city', 'crs_dep_time', 'dep_time', 'taxi_out',\n",
      "       'wheels_off', 'origin_state', 'dest_state', 'wheels_on', 'taxi_in',\n",
      "       'crs_arr_time', 'arr_time', 'cancelled', 'diverted', 'crs_elapsed_time',\n",
      "       'actual_elapsed_time', 'air_time', 'flights', 'distance',\n",
      "       'carrier_delay', 'weather_delay', 'nas_delay', 'security_delay',\n",
      "       'late_aircraft_delay', 'total_delay_time', 'is_weekend',\n",
      "       'arrival_delay', 'departure_delay', 'airline_name', 'elevation', 'prcp',\n",
      "       'snow', 'snwd', 'tmax', 'tmin', 'delay', 'eras_tour'],\n",
      "      dtype='object')\n"
     ]
    }
   ],
   "source": [
    "# Initialize an empty list to hold unique columns\n",
    "unique_columns = []\n",
    "\n",
    "# Set to track seen columns\n",
    "seen = set()\n",
    "\n",
    "# Process columns in chunks\n",
    "chunk_size = 100  # Adjust this size based on your memory and performance\n",
    "for start in range(0, combined_data.shape[1], chunk_size):\n",
    "    end = min(start + chunk_size, combined_data.shape[1])\n",
    "    chunk = combined_data.iloc[:, start:end]\n",
    "    \n",
    "    # Identify duplicates in the current chunk\n",
    "    for col in chunk.columns:\n",
    "        if col not in seen:\n",
    "            unique_columns.append(col)\n",
    "            seen.add(col)\n",
    "\n",
    "# Create a new DataFrame with only unique columns\n",
    "combined_data_cleaned = combined_data[unique_columns]\n",
    "\n",
    "# Display the cleaned DataFrame's columns\n",
    "print(\"Columns after removing duplicate columns:\")\n",
    "print(combined_data_cleaned.columns)"
   ]
  },
  {
   "cell_type": "code",
   "execution_count": 524,
   "id": "4634cf50-0140-4465-a1f0-e62df40d62f7",
   "metadata": {},
   "outputs": [
    {
     "data": {
      "text/html": [
       "<div>\n",
       "<style scoped>\n",
       "    .dataframe tbody tr th:only-of-type {\n",
       "        vertical-align: middle;\n",
       "    }\n",
       "\n",
       "    .dataframe tbody tr th {\n",
       "        vertical-align: top;\n",
       "    }\n",
       "\n",
       "    .dataframe thead th {\n",
       "        text-align: right;\n",
       "    }\n",
       "</style>\n",
       "<table border=\"1\" class=\"dataframe\">\n",
       "  <thead>\n",
       "    <tr style=\"text-align: right;\">\n",
       "      <th></th>\n",
       "      <th>day_of_week</th>\n",
       "      <th>date</th>\n",
       "      <th>op_unique_carrier</th>\n",
       "      <th>tail_num</th>\n",
       "      <th>origin_latitude</th>\n",
       "      <th>origin_longitude</th>\n",
       "      <th>op_carrier_fl_num</th>\n",
       "      <th>origin_iata</th>\n",
       "      <th>origin_city</th>\n",
       "      <th>dest_iata</th>\n",
       "      <th>...</th>\n",
       "      <th>departure_delay</th>\n",
       "      <th>airline_name</th>\n",
       "      <th>elevation</th>\n",
       "      <th>prcp</th>\n",
       "      <th>snow</th>\n",
       "      <th>snwd</th>\n",
       "      <th>tmax</th>\n",
       "      <th>tmin</th>\n",
       "      <th>delay</th>\n",
       "      <th>eras_tour</th>\n",
       "    </tr>\n",
       "  </thead>\n",
       "  <tbody>\n",
       "    <tr>\n",
       "      <th>0</th>\n",
       "      <td>Monday</td>\n",
       "      <td>2023-05-01</td>\n",
       "      <td>9e</td>\n",
       "      <td>n131ev</td>\n",
       "      <td>39.0488</td>\n",
       "      <td>-84.6678</td>\n",
       "      <td>4888</td>\n",
       "      <td>cvg</td>\n",
       "      <td>cincinnati</td>\n",
       "      <td>msp</td>\n",
       "      <td>...</td>\n",
       "      <td>-9.0</td>\n",
       "      <td>Envoy Air</td>\n",
       "      <td>236.800003</td>\n",
       "      <td>0.00</td>\n",
       "      <td>NaN</td>\n",
       "      <td>NaN</td>\n",
       "      <td>68.0</td>\n",
       "      <td>49.0</td>\n",
       "      <td>-22.0</td>\n",
       "      <td></td>\n",
       "    </tr>\n",
       "    <tr>\n",
       "      <th>1</th>\n",
       "      <td>Monday</td>\n",
       "      <td>2023-05-01</td>\n",
       "      <td>9e</td>\n",
       "      <td>n131ev</td>\n",
       "      <td>41.5340</td>\n",
       "      <td>-93.6631</td>\n",
       "      <td>5128</td>\n",
       "      <td>dsm</td>\n",
       "      <td>des moines</td>\n",
       "      <td>msp</td>\n",
       "      <td>...</td>\n",
       "      <td>-6.0</td>\n",
       "      <td>Envoy Air</td>\n",
       "      <td>6.100000</td>\n",
       "      <td>0.00</td>\n",
       "      <td>NaN</td>\n",
       "      <td>NaN</td>\n",
       "      <td>77.0</td>\n",
       "      <td>59.0</td>\n",
       "      <td>-5.0</td>\n",
       "      <td></td>\n",
       "    </tr>\n",
       "    <tr>\n",
       "      <th>2</th>\n",
       "      <td>Monday</td>\n",
       "      <td>2023-05-01</td>\n",
       "      <td>9e</td>\n",
       "      <td>n131ev</td>\n",
       "      <td>39.0488</td>\n",
       "      <td>-84.6678</td>\n",
       "      <td>5283</td>\n",
       "      <td>cvg</td>\n",
       "      <td>cincinnati</td>\n",
       "      <td>msp</td>\n",
       "      <td>...</td>\n",
       "      <td>3.0</td>\n",
       "      <td>Envoy Air</td>\n",
       "      <td>236.800003</td>\n",
       "      <td>0.00</td>\n",
       "      <td>NaN</td>\n",
       "      <td>NaN</td>\n",
       "      <td>68.0</td>\n",
       "      <td>49.0</td>\n",
       "      <td>-14.0</td>\n",
       "      <td></td>\n",
       "    </tr>\n",
       "    <tr>\n",
       "      <th>3</th>\n",
       "      <td>Monday</td>\n",
       "      <td>2023-05-01</td>\n",
       "      <td>9e</td>\n",
       "      <td>n132ev</td>\n",
       "      <td>33.6797</td>\n",
       "      <td>-78.9283</td>\n",
       "      <td>4906</td>\n",
       "      <td>myr</td>\n",
       "      <td>myrtle beach</td>\n",
       "      <td>lga</td>\n",
       "      <td>...</td>\n",
       "      <td>-5.0</td>\n",
       "      <td>Envoy Air</td>\n",
       "      <td>11.800000</td>\n",
       "      <td>0.00</td>\n",
       "      <td>NaN</td>\n",
       "      <td>NaN</td>\n",
       "      <td>78.0</td>\n",
       "      <td>58.0</td>\n",
       "      <td>-10.0</td>\n",
       "      <td></td>\n",
       "    </tr>\n",
       "    <tr>\n",
       "      <th>4</th>\n",
       "      <td>Monday</td>\n",
       "      <td>2023-05-01</td>\n",
       "      <td>9e</td>\n",
       "      <td>n132ev</td>\n",
       "      <td>42.9472</td>\n",
       "      <td>-87.8966</td>\n",
       "      <td>5243</td>\n",
       "      <td>mke</td>\n",
       "      <td>milwaukee</td>\n",
       "      <td>lga</td>\n",
       "      <td>...</td>\n",
       "      <td>-7.0</td>\n",
       "      <td>Envoy Air</td>\n",
       "      <td>203.300003</td>\n",
       "      <td>0.26</td>\n",
       "      <td>0.0</td>\n",
       "      <td>0.0</td>\n",
       "      <td>48.0</td>\n",
       "      <td>38.0</td>\n",
       "      <td>1.0</td>\n",
       "      <td></td>\n",
       "    </tr>\n",
       "  </tbody>\n",
       "</table>\n",
       "<p>5 rows × 48 columns</p>\n",
       "</div>"
      ],
      "text/plain": [
       "  day_of_week       date op_unique_carrier tail_num  origin_latitude  \\\n",
       "0      Monday 2023-05-01                9e   n131ev          39.0488   \n",
       "1      Monday 2023-05-01                9e   n131ev          41.5340   \n",
       "2      Monday 2023-05-01                9e   n131ev          39.0488   \n",
       "3      Monday 2023-05-01                9e   n132ev          33.6797   \n",
       "4      Monday 2023-05-01                9e   n132ev          42.9472   \n",
       "\n",
       "   origin_longitude  op_carrier_fl_num origin_iata   origin_city dest_iata  \\\n",
       "0          -84.6678               4888         cvg    cincinnati       msp   \n",
       "1          -93.6631               5128         dsm    des moines       msp   \n",
       "2          -84.6678               5283         cvg    cincinnati       msp   \n",
       "3          -78.9283               4906         myr  myrtle beach       lga   \n",
       "4          -87.8966               5243         mke     milwaukee       lga   \n",
       "\n",
       "   ...  departure_delay  airline_name   elevation  prcp  snow  snwd  tmax  \\\n",
       "0  ...             -9.0     Envoy Air  236.800003  0.00   NaN   NaN  68.0   \n",
       "1  ...             -6.0     Envoy Air    6.100000  0.00   NaN   NaN  77.0   \n",
       "2  ...              3.0     Envoy Air  236.800003  0.00   NaN   NaN  68.0   \n",
       "3  ...             -5.0     Envoy Air   11.800000  0.00   NaN   NaN  78.0   \n",
       "4  ...             -7.0     Envoy Air  203.300003  0.26   0.0   0.0  48.0   \n",
       "\n",
       "   tmin delay  eras_tour  \n",
       "0  49.0 -22.0             \n",
       "1  59.0  -5.0             \n",
       "2  49.0 -14.0             \n",
       "3  58.0 -10.0             \n",
       "4  38.0   1.0             \n",
       "\n",
       "[5 rows x 48 columns]"
      ]
     },
     "execution_count": 524,
     "metadata": {},
     "output_type": "execute_result"
    }
   ],
   "source": [
    "combined_data_cleaned.head()"
   ]
  },
  {
   "cell_type": "code",
   "execution_count": 525,
   "id": "ea65932d-b02e-452f-a955-2e023505f355",
   "metadata": {},
   "outputs": [
    {
     "name": "stdout",
     "output_type": "stream",
     "text": [
      "day_of_week                  0\n",
      "date                         0\n",
      "op_unique_carrier            0\n",
      "tail_num                     0\n",
      "origin_latitude              0\n",
      "origin_longitude             0\n",
      "op_carrier_fl_num            0\n",
      "origin_iata                  0\n",
      "origin_city                  0\n",
      "dest_iata                    0\n",
      "dest_latitude                0\n",
      "dest_longitude               0\n",
      "dest_city                    0\n",
      "crs_dep_time                 0\n",
      "dep_time                     0\n",
      "taxi_out                     0\n",
      "wheels_off                   0\n",
      "origin_state                 0\n",
      "dest_state                   0\n",
      "wheels_on                    0\n",
      "taxi_in                      0\n",
      "crs_arr_time                 0\n",
      "arr_time                     0\n",
      "cancelled                    0\n",
      "diverted                     0\n",
      "crs_elapsed_time             0\n",
      "actual_elapsed_time          0\n",
      "air_time                     0\n",
      "flights                      0\n",
      "distance                     0\n",
      "carrier_delay          6431294\n",
      "weather_delay          6431294\n",
      "nas_delay              6431294\n",
      "security_delay         6431294\n",
      "late_aircraft_delay    6431294\n",
      "total_delay_time        112068\n",
      "is_weekend                   0\n",
      "arrival_delay            95084\n",
      "departure_delay          89309\n",
      "airline_name                 0\n",
      "elevation                    0\n",
      "prcp                         0\n",
      "snow                   7131482\n",
      "snwd                   7223634\n",
      "tmax                         0\n",
      "tmin                         0\n",
      "delay                        0\n",
      "eras_tour                    0\n",
      "dtype: int64\n"
     ]
    }
   ],
   "source": [
    "print(combined_data_cleaned.isnull().sum())\n"
   ]
  },
  {
   "cell_type": "markdown",
   "id": "7de40d73-9b6b-48de-9301-2d103b98537e",
   "metadata": {},
   "source": [
    "Flight Count on Tour Dates vs. Non-Tour Dates:\n",
    "\n",
    "Analyze how many flights occurred on tour dates compared to non-tour dates.\n",
    "Delay Patterns:\n",
    "\n",
    "Calculate average, median, and total delays for flights on tour dates versus non-tour dates.\n",
    "Visualize the distribution of delays with box plots.\n",
    "Impact by Airline:\n",
    "\n",
    "Investigate if certain carriers experienced more delays on tour dates.\n",
    "Weather Analysis:\n",
    "\n",
    "Examine whether weather conditions during tour dates contributed to delays.\n",
    "Time Series Analysis:\n",
    "\n",
    "Look at how delays varied over time, especially around tour dates."
   ]
  },
  {
   "cell_type": "code",
   "execution_count": 527,
   "id": "1b11db0c-0576-4402-b278-6f6d05edccc7",
   "metadata": {},
   "outputs": [
    {
     "name": "stdout",
     "output_type": "stream",
     "text": [
      "eras_tour\n",
      "             8015580\n",
      "tour_date      14642\n",
      "Name: op_unique_carrier, dtype: int64\n"
     ]
    }
   ],
   "source": [
    "# Count of flights on tour dates vs non-tour dates\n",
    "flight_counts = combined_data.groupby('eras_tour')['op_unique_carrier'].count()\n",
    "print(flight_counts)"
   ]
  },
  {
   "cell_type": "code",
   "execution_count": 528,
   "id": "c8c26484-684b-477a-8562-1ac01893973f",
   "metadata": {},
   "outputs": [
    {
     "name": "stdout",
     "output_type": "stream",
     "text": [
      "               count      mean        std    min   25%  50%  75%    max\n",
      "eras_tour                                                              \n",
      "           7903768.0 -5.316532  13.381961 -688.0 -13.0 -7.0  0.0  418.0\n",
      "tour_date    14386.0 -7.668775  14.632019  -61.0 -16.0 -9.0 -1.0  148.0\n"
     ]
    }
   ],
   "source": [
    "# Summary statistics for delays\n",
    "delay_stats = combined_data.groupby('eras_tour')['total_delay_time'].describe()\n",
    "print(delay_stats)"
   ]
  },
  {
   "cell_type": "code",
   "execution_count": 529,
   "id": "c8a96f6b-9fd4-4db1-b269-03b08cad7adc",
   "metadata": {
    "scrolled": true
   },
   "outputs": [
    {
     "data": {
      "image/png": "[encoded data removed]",
      "text/plain": [
       "<Figure size 1200x600 with 1 Axes>"
      ]
     },
     "metadata": {},
     "output_type": "display_data"
    }
   ],
   "source": [
    "# Visualization of delay distributions\n",
    "plt.figure(figsize=(12, 6))\n",
    "sns.boxplot(x='eras_tour', y='total_delay_time', data=combined_data)\n",
    "plt.xticks([0, 1], ['Non-Tour Dates', 'Tour Dates'])\n",
    "plt.title('Flight Delays on Tour Dates vs Non-Tour Dates')\n",
    "plt.show()"
   ]
  },
  {
   "cell_type": "code",
   "execution_count": 530,
   "id": "9f0642a3-756b-4b27-a259-f2375635f0d8",
   "metadata": {},
   "outputs": [
    {
     "data": {
      "image/png": "[encoded data removed]",
      "text/plain": [
       "<Figure size 1200x600 with 1 Axes>"
      ]
     },
     "metadata": {},
     "output_type": "display_data"
    }
   ],
   "source": [
    "# Time series analysis of average delays\n",
    "avg_delay_time = combined_data.groupby('date')['total_delay_time'].mean()\n",
    "avg_delay_time.plot(figsize=(12, 6), title='Average Flight Delay Over Time')\n",
    "plt.axvline(x='2023-05-05', color='red', linestyle='--')  # Example tour date\n",
    "plt.show()"
   ]
  },
  {
   "cell_type": "code",
   "execution_count": 531,
   "id": "7d6dbc9f-ec53-40e6-b335-83d944b2c500",
   "metadata": {},
   "outputs": [],
   "source": [
    "# Convert Negative Delays to Zero\n",
    "# \n",
    "combined_data_cleaned['adjusted_delay_time'] = combined_data_cleaned['total_delay_time'].clip(lower=0)\n"
   ]
  },
  {
   "cell_type": "code",
   "execution_count": 532,
   "id": "df51bc1d-cbe1-467a-a8d2-e2580f1b1d2c",
   "metadata": {},
   "outputs": [
    {
     "name": "stdout",
     "output_type": "stream",
     "text": [
      "[0 1]\n"
     ]
    },
    {
     "name": "stderr",
     "output_type": "stream",
     "text": [
      "C:\\Users\\hopeh\\AppData\\Local\\Temp\\ipykernel_5900\\3270098957.py:2: FutureWarning: Downcasting behavior in `replace` is deprecated and will be removed in a future version. To retain the old behavior, explicitly call `result.infer_objects(copy=False)`. To opt-in to the future behavior, set `pd.set_option('future.no_silent_downcasting', True)`\n",
      "  combined_data_cleaned['eras_tour'] = combined_data_cleaned['eras_tour'].replace({'tour_date': 1, '': 0})\n"
     ]
    }
   ],
   "source": [
    "# Step 1: Clean the 'eras_tour' column\n",
    "combined_data_cleaned['eras_tour'] = combined_data_cleaned['eras_tour'].replace({'tour_date': 1, '': 0})\n",
    "\n",
    "# Step 2: Verify the unique values again\n",
    "print(combined_data_cleaned['eras_tour'].unique())\n"
   ]
  },
  {
   "cell_type": "code",
   "execution_count": 534,
   "id": "73c92e7d-f9c6-4431-b012-fad9cfa30fc9",
   "metadata": {},
   "outputs": [],
   "source": [
    "# Step 3: Define tour and non-tour dates\n",
    "tour_flights = combined_data_cleaned[combined_data_cleaned['eras_tour'] == 1]\n",
    "non_tour_flights = combined_data_cleaned[combined_data_cleaned['eras_tour'] == 0]\n"
   ]
  },
  {
   "cell_type": "code",
   "execution_count": 538,
   "id": "bdd2a411-c304-4d51-9794-7f6a4bd8922f",
   "metadata": {},
   "outputs": [
    {
     "name": "stdout",
     "output_type": "stream",
     "text": [
      "Tour flights shape: (14642, 50)\n",
      "Non-tour flights shape: (8015580, 50)\n",
      "                Average Delay  Median Delay   Total Delay\n",
      "Tour Dates         162.093908         138.0  2.373379e+06\n",
      "Non-Tour Dates     133.240327         120.0  1.067998e+09\n"
     ]
    }
   ],
   "source": [
    "\n",
    "# Check the shapes of filtered DataFrames\n",
    "print(f'Tour flights shape: {tour_flights.shape}')\n",
    "print(f'Non-tour flights shape: {non_tour_flights.shape}')\n",
    "\n",
    "# Ensure there is data before proceeding with calculations\n",
    "if not tour_flights.empty and not non_tour_flights.empty:\n",
    "    # Step 4: Adjust delays to be non-negative\n",
    "    combined_data_cleaned['adjusted_elapsed_time'] = combined_data_cleaned['actual_elapsed_time'].clip(lower=0)\n",
    "\n",
    "    # Calculate delay metrics\n",
    "    delay_metrics = {\n",
    "        'Tour Dates': {\n",
    "            'Average Delay': tour_flights['adjusted_elapsed_time'].mean(),\n",
    "            'Median Delay': tour_flights['adjusted_elapsed_time'].median(),\n",
    "            'Total Delay': tour_flights['adjusted_elapsed_time'].sum()\n",
    "        },\n",
    "        'Non-Tour Dates': {\n",
    "            'Average Delay': non_tour_flights['adjusted_elapsed_time'].mean(),\n",
    "            'Median Delay': non_tour_flights['adjusted_elapsed_time'].median(),\n",
    "            'Total Delay': non_tour_flights['adjusted_elapsed_time'].sum()\n",
    "        }\n",
    "    }\n",
    "\n",
    "    # Display delay metrics\n",
    "    delay_df = pd.DataFrame(delay_metrics).T\n",
    "    print(delay_df)\n",
    "else:\n",
    "    print(\"No data found for either tour or non-tour dates.\")\n"
   ]
  },
  {
   "cell_type": "code",
   "execution_count": 542,
   "id": "85be9885-25b7-4876-9d0d-21f47a3b1769",
   "metadata": {},
   "outputs": [
    {
     "name": "stdout",
     "output_type": "stream",
     "text": [
      "                Average Delay  Median Delay   Total Delay\n",
      "Tour Dates         162.093908         138.0  2.373379e+06\n",
      "Non-Tour Dates     133.240327         120.0  1.067998e+09\n"
     ]
    },
    {
     "name": "stderr",
     "output_type": "stream",
     "text": [
      "C:\\Users\\hopeh\\AppData\\Local\\Temp\\ipykernel_5900\\949622301.py:12: UserWarning: The palette list has more values (2) than needed (1), which may not be intended.\n",
      "  sns.boxplot(data=[tour_flights['adjusted_elapsed_time'], non_tour_flights['adjusted_elapsed_time']],\n"
     ]
    },
    {
     "data": {
      "image/png": "[encoded data removed]",
      "text/plain": [
       "<Figure size 1200x600 with 1 Axes>"
      ]
     },
     "metadata": {},
     "output_type": "display_data"
    },
    {
     "data": {
      "image/png": "[encoded data removed]",
      "text/plain": [
       "<Figure size 1400x700 with 1 Axes>"
      ]
     },
     "metadata": {},
     "output_type": "display_data"
    },
    {
     "name": "stderr",
     "output_type": "stream",
     "text": [
      "C:\\Users\\hopeh\\AppData\\Local\\Temp\\ipykernel_5900\\949622301.py:36: FutureWarning: \n",
      "\n",
      "Passing `palette` without assigning `hue` is deprecated and will be removed in v0.14.0. Assign the `x` variable to `hue` and set `legend=False` for the same effect.\n",
      "\n",
      "  sns.barplot(data=weather_impact, x='eras_tour', y='mean', palette='coolwarm')\n"
     ]
    },
    {
     "data": {
      "image/png": "[encoded data removed]",
      "text/plain": [
       "<Figure size 1000x500 with 1 Axes>"
      ]
     },
     "metadata": {},
     "output_type": "display_data"
    },
    {
     "name": "stderr",
     "output_type": "stream",
     "text": [
      "C:\\Users\\hopeh\\AppData\\Local\\Temp\\ipykernel_5900\\949622301.py:48: FutureWarning: \n",
      "\n",
      "The `ci` parameter is deprecated. Use `errorbar=None` for the same effect.\n",
      "\n",
      "  sns.lineplot(data=combined_data_cleaned, x='date', y='adjusted_elapsed_time', hue='eras_tour', estimator='mean', ci=None)\n"
     ]
    },
    {
     "data": {
      "image/png": "[encoded data removed]",
      "text/plain": [
       "<Figure size 1400x700 with 1 Axes>"
      ]
     },
     "metadata": {},
     "output_type": "display_data"
    }
   ],
   "source": [
    "import pandas as pd\n",
    "import matplotlib.pyplot as plt\n",
    "import seaborn as sns\n",
    "\n",
    "# A\n",
    "# Display delay metrics\n",
    "delay_df = pd.DataFrame(delay_metrics).T\n",
    "print(delay_df)\n",
    "\n",
    "# Step 4: Visualize delay distributions\n",
    "plt.figure(figsize=(12, 6))\n",
    "sns.boxplot(data=[tour_flights['adjusted_elapsed_time'], non_tour_flights['adjusted_elapsed_time']], \n",
    "            palette=[\"lightblue\", \"lightgreen\"])\n",
    "plt.xticks([0, 1], ['Tour Dates', 'Non-Tour Dates'])\n",
    "plt.title('Distribution of Adjusted Actual Elapsed Time')\n",
    "plt.ylabel('Adjusted Actual Elapsed Time (in minutes)')\n",
    "plt.show()\n",
    "\n",
    "# Step 5: Analyze impact by airline\n",
    "airline_delays = combined_data_cleaned.groupby(['op_unique_carrier', 'eras_tour'])['adjusted_elapsed_time'].agg(['mean', 'median', 'sum']).reset_index()\n",
    "\n",
    "plt.figure(figsize=(14, 7))\n",
    "sns.barplot(data=airline_delays, x='op_unique_carrier', y='mean', hue='eras_tour', palette='pastel')\n",
    "plt.title('Average Adjusted Delay by Airline on Tour vs Non-Tour Dates')\n",
    "plt.ylabel('Average Adjusted Delay (in minutes)')\n",
    "plt.xlabel('Airline Carrier')\n",
    "plt.legend(title='Tour Date', labels=['Non-Tour', 'Tour'])\n",
    "plt.xticks(rotation=45)\n",
    "plt.show()\n",
    "\n",
    "# Step 6: Weather Analysis\n",
    "# Assuming `weather_delay` indicates weather-related delays\n",
    "weather_impact = combined_data_cleaned.groupby('eras_tour')['weather_delay'].agg(['mean', 'median', 'sum']).reset_index()\n",
    "\n",
    "plt.figure(figsize=(10, 5))\n",
    "sns.barplot(data=weather_impact, x='eras_tour', y='mean', palette='coolwarm')\n",
    "plt.title('Average Weather Delay on Tour vs Non-Tour Dates')\n",
    "plt.ylabel('Average Weather Delay (in minutes)')\n",
    "plt.xticks(ticks=[0, 1], labels=['Non-Tour', 'Tour'])\n",
    "plt.show()\n",
    "\n",
    "# Step 7: Time Series Analysis\n",
    "# Convert 'date' to datetime if not already\n",
    "combined_data_cleaned['date'] = pd.to_datetime(combined_data_cleaned['date'])\n",
    "\n",
    "# Plot adjusted delays over time\n",
    "plt.figure(figsize=(14, 7))\n",
    "sns.lineplot(data=combined_data_cleaned, x='date', y='adjusted_elapsed_time', hue='eras_tour', estimator='mean', ci=None)\n",
    "plt.title('Average Adjusted Delay Over Time by Tour Dates')\n",
    "plt.ylabel('Average Adjusted Delay (in minutes)')\n",
    "plt.xlabel('Date')\n",
    "plt.xticks(rotation=45)\n",
    "plt.legend(title='Tour Date', labels=['Non-Tour', 'Tour'])\n",
    "plt.show()\n"
   ]
  },
  {
   "cell_type": "markdown",
   "id": "675fc0fd-8129-4818-aff4-c3f3012aeb5a",
   "metadata": {},
   "source": [
    "The standard deviations are relatively high, suggesting considerable variability in delay times."
   ]
  },
  {
   "cell_type": "code",
   "execution_count": 544,
   "id": "39d0fc26-b070-4e8b-bfe2-7495ec1e69d3",
   "metadata": {},
   "outputs": [
    {
     "name": "stdout",
     "output_type": "stream",
     "text": [
      "(14642, 50)\n",
      "(8015580, 50)\n"
     ]
    }
   ],
   "source": [
    "print(tour_flights.shape)\n",
    "print(non_tour_flights.shape)\n"
   ]
  },
  {
   "cell_type": "code",
   "execution_count": 545,
   "id": "e7ce9ce5-5148-4776-b930-84653b485ac6",
   "metadata": {},
   "outputs": [
    {
     "name": "stdout",
     "output_type": "stream",
     "text": [
      "[0 1]\n"
     ]
    }
   ],
   "source": [
    "print(combined_data_cleaned['eras_tour'].unique())\n"
   ]
  },
  {
   "cell_type": "code",
   "execution_count": 546,
   "id": "3fd0976e-5633-4193-a3d9-e5f7fc431fd3",
   "metadata": {},
   "outputs": [
    {
     "name": "stdout",
     "output_type": "stream",
     "text": [
      "First Tour Date: 2023-05-05 00:00:00\n",
      "One Month Prior Date: 2023-04-05 00:00:00\n",
      "Filtered Data Shape: (108565, 50)\n"
     ]
    }
   ],
   "source": [
    "# Step 1: Convert 'date' to datetime if not already done\n",
    "combined_data_cleaned['date'] = pd.to_datetime(combined_data_cleaned['date'])\n",
    "\n",
    "# Step 2: Find the first tour date\n",
    "first_tour_date = combined_data_cleaned.loc[combined_data_cleaned['eras_tour'] == 1, 'date'].min()\n",
    "print(\"First Tour Date:\", first_tour_date)\n",
    "\n",
    "# Step 3: Calculate one month prior to the first tour date\n",
    "one_month_prior = first_tour_date - pd.DateOffset(months=1)\n",
    "print(\"One Month Prior Date:\", one_month_prior)\n",
    "\n",
    "# Step 4: Filter the DataFrame for this date range\n",
    "filtered_data = combined_data_cleaned[(combined_data_cleaned['date'] >= one_month_prior) & \n",
    "                                      (combined_data_cleaned['date'] <= first_tour_date)]\n",
    "\n",
    "# Display the shape of the filtered DataFrame\n",
    "print(\"Filtered Data Shape:\", filtered_data.shape)\n"
   ]
  },
  {
   "cell_type": "code",
   "execution_count": 547,
   "id": "4acfbb05-5fcb-41e7-b7c8-aa8ab90b4a81",
   "metadata": {},
   "outputs": [
    {
     "name": "stdout",
     "output_type": "stream",
     "text": [
      "                Average Delay  Median Delay  Total Delay\n",
      "Tour Dates         123.503704         111.0      66692.0\n",
      "Non-Tour Dates     130.189836         117.0   14063757.0\n"
     ]
    }
   ],
   "source": [
    "# Step 1: Define tour and non-tour flights in the filtered data\n",
    "tour_flights_filtered = filtered_data[filtered_data['eras_tour'] == 1]\n",
    "non_tour_flights_filtered = filtered_data[filtered_data['eras_tour'] == 0]\n",
    "\n",
    "# Step 2: Calculate delay metrics\n",
    "delay_metrics_filtered = {\n",
    "    'Tour Dates': {\n",
    "        'Average Delay': tour_flights_filtered['adjusted_elapsed_time'].mean(),\n",
    "        'Median Delay': tour_flights_filtered['adjusted_elapsed_time'].median(),\n",
    "        'Total Delay': tour_flights_filtered['adjusted_elapsed_time'].sum()\n",
    "    },\n",
    "    'Non-Tour Dates': {\n",
    "        'Average Delay': non_tour_flights_filtered['adjusted_elapsed_time'].mean(),\n",
    "        'Median Delay': non_tour_flights_filtered['adjusted_elapsed_time'].median(),\n",
    "        'Total Delay': non_tour_flights_filtered['adjusted_elapsed_time'].sum()\n",
    "    }\n",
    "}\n",
    "\n",
    "# Display the delay metrics\n",
    "delay_df_filtered = pd.DataFrame(delay_metrics_filtered).T\n",
    "print(delay_df_filtered)\n"
   ]
  },
  {
   "cell_type": "markdown",
   "id": "cc73227a-09c0-4940-ab02-c3c71493b0ec",
   "metadata": {},
   "source": [
    "Observations:\n",
    "Average Delay: Non-tour dates have a slightly higher average delay compared to tour dates.\n",
    "Total Delay: The total delay for non-tour dates is significantly higher, which may be due to the larger volume of flights on those dates."
   ]
  },
  {
   "cell_type": "code",
   "execution_count": 549,
   "id": "71bbdea2-68bb-4bc5-bc62-145aec1145f5",
   "metadata": {},
   "outputs": [
    {
     "name": "stderr",
     "output_type": "stream",
     "text": [
      "C:\\Users\\hopeh\\AppData\\Local\\Temp\\ipykernel_5900\\4217268459.py:6: FutureWarning: \n",
      "\n",
      "Passing `palette` without assigning `hue` is deprecated and will be removed in v0.14.0. Assign the `x` variable to `hue` and set `legend=False` for the same effect.\n",
      "\n",
      "  sns.barplot(x=delay_df_filtered.index, y='Average Delay', data=delay_df_filtered, palette='pastel')\n"
     ]
    },
    {
     "data": {
      "image/png": "[encoded data removed]",
      "text/plain": [
       "<Figure size 800x500 with 1 Axes>"
      ]
     },
     "metadata": {},
     "output_type": "display_data"
    }
   ],
   "source": [
    "import matplotlib.pyplot as plt\n",
    "import seaborn as sns\n",
    "\n",
    "# Visualization of Average Delay\n",
    "plt.figure(figsize=(8, 5))\n",
    "sns.barplot(x=delay_df_filtered.index, y='Average Delay', data=delay_df_filtered, palette='pastel')\n",
    "plt.title('Average Delay on Tour vs Non-Tour Dates (Filtered Data)')\n",
    "plt.ylabel('Average Delay (in minutes)')\n",
    "plt.xlabel('Date Type')\n",
    "plt.xticks(rotation=45)\n",
    "plt.show()\n"
   ]
  },
  {
   "cell_type": "code",
   "execution_count": 550,
   "id": "c6674f23-73d6-4ab2-973b-b50f3c069af7",
   "metadata": {},
   "outputs": [
    {
     "name": "stdout",
     "output_type": "stream",
     "text": [
      "Delay Metrics for Tour Dates ±3 Days:\n",
      "{'Average Delay': 130.27186583003746, 'Median Delay': 117.0, 'Total Delay': 11231910.0}\n"
     ]
    }
   ],
   "source": [
    "# Step 1: Identify the tour dates\n",
    "tour_dates = filtered_data[filtered_data['eras_tour'] == 1]['date'].unique()\n",
    "\n",
    "# Step 2: Create a list to hold the date ranges\n",
    "date_ranges = []\n",
    "for tour_date in tour_dates:\n",
    "    # Create a date range for ±3 days around each tour date\n",
    "    start_date = tour_date - pd.DateOffset(days=3)\n",
    "    end_date = tour_date + pd.DateOffset(days=3)\n",
    "    date_ranges.append((start_date, end_date))\n",
    "\n",
    "# Step 3: Filter the data for these date ranges\n",
    "filtered_tour_delay_data = filtered_data[filtered_data['date'].isin(pd.date_range(start=min(start for start, end in date_ranges), end=max(end for start, end in date_ranges)))]\n",
    "\n",
    "# Step 4: Calculate delay metrics for this new filtered data\n",
    "tour_delay_metrics = {\n",
    "    'Average Delay': filtered_tour_delay_data['adjusted_elapsed_time'].mean(),\n",
    "    'Median Delay': filtered_tour_delay_data['adjusted_elapsed_time'].median(),\n",
    "    'Total Delay': filtered_tour_delay_data['adjusted_elapsed_time'].sum()\n",
    "}\n",
    "\n",
    "# Display the delay metrics\n",
    "print(\"Delay Metrics for Tour Dates ±3 Days:\")\n",
    "print(tour_delay_metrics)\n"
   ]
  },
  {
   "cell_type": "markdown",
   "id": "eccebd31-ead8-4a23-b40f-e5658bb96e31",
   "metadata": {},
   "source": [
    "Delay Metrics:\n",
    "Average Delay: ~130.27 minutes\n",
    "Median Delay: 117.0 minutes\n",
    "Total Delay: ~11,231,910 minutes\n",
    "Observations:\n",
    "The average delay for this range is similar to the average delay for non-tour dates calculated earlier, indicating that delays around the tour dates are substantial.\n",
    "The total delay is quite significant, reflecting a large number of flights impacted during this period."
   ]
  },
  {
   "cell_type": "code",
   "execution_count": 552,
   "id": "818ecccb-2742-4b00-9dad-c22b49d6bee1",
   "metadata": {},
   "outputs": [
    {
     "name": "stderr",
     "output_type": "stream",
     "text": [
      "C:\\Users\\hopeh\\AppData\\Local\\Temp\\ipykernel_5900\\1969955064.py:10: FutureWarning: \n",
      "\n",
      "Passing `palette` without assigning `hue` is deprecated and will be removed in v0.14.0. Assign the `x` variable to `hue` and set `legend=False` for the same effect.\n",
      "\n",
      "  sns.barplot(x='Period', y='Average Delay', data=visualization_df, palette='pastel')\n"
     ]
    },
    {
     "data": {
      "image/png": "[encoded data removed]",
      "text/plain": [
       "<Figure size 800x500 with 1 Axes>"
      ]
     },
     "metadata": {},
     "output_type": "display_data"
    }
   ],
   "source": [
    "visualization_data = {\n",
    "    'Period': ['Tour Dates ±3 Days'],\n",
    "    'Average Delay': [tour_delay_metrics['Average Delay']],\n",
    "}\n",
    "\n",
    "visualization_df = pd.DataFrame(visualization_data)\n",
    "\n",
    "# Visualization\n",
    "plt.figure(figsize=(8, 5))\n",
    "sns.barplot(x='Period', y='Average Delay', data=visualization_df, palette='pastel')\n",
    "plt.title('Average Delay Around Tour Dates ±3 Days')\n",
    "plt.ylabel('Average Delay (in minutes)')\n",
    "plt.xlabel('Period')\n",
    "plt.show()"
   ]
  },
  {
   "cell_type": "code",
   "execution_count": 561,
   "id": "f96ad0f8-46a6-4b27-9378-0b7b04c2d44c",
   "metadata": {},
   "outputs": [
    {
     "name": "stdout",
     "output_type": "stream",
     "text": [
      "Pearson Correlation: 0.0036000418641348167, p-value: 0.2355530786654542\n",
      "Spearman Correlation: 0.002139940631469467, p-value: 0.4807566695074095\n"
     ]
    },
    {
     "name": "stderr",
     "output_type": "stream",
     "text": [
      "C:\\Users\\hopeh\\AppData\\Local\\Temp\\ipykernel_5900\\1437519800.py:3: SettingWithCopyWarning: \n",
      "A value is trying to be set on a copy of a slice from a DataFrame.\n",
      "Try using .loc[row_indexer,col_indexer] = value instead\n",
      "\n",
      "See the caveats in the documentation: https://pandas.pydata.org/pandas-docs/stable/user_guide/indexing.html#returning-a-view-versus-a-copy\n",
      "  filtered_data['is_tour_window'] = filtered_data['date'].apply(\n",
      "C:\\Users\\hopeh\\AppData\\Local\\Temp\\ipykernel_5900\\1437519800.py:8: SettingWithCopyWarning: \n",
      "A value is trying to be set on a copy of a slice from a DataFrame.\n",
      "Try using .loc[row_indexer,col_indexer] = value instead\n",
      "\n",
      "See the caveats in the documentation: https://pandas.pydata.org/pandas-docs/stable/user_guide/indexing.html#returning-a-view-versus-a-copy\n",
      "  filtered_data['is_tour_window'] = filtered_data['is_tour_window'].astype(int)\n"
     ]
    }
   ],
   "source": [
    "# Prepare the data\n",
    "# Create a new column to indicate if a flight is within the ±3 days of tour dates\n",
    "filtered_data['is_tour_window'] = filtered_data['date'].apply(\n",
    "    lambda x: any(start <= x <= end for start, end in date_ranges)\n",
    ")\n",
    "\n",
    "# Step 2: Convert boolean to int (1 for True, 0 for False)\n",
    "filtered_data['is_tour_window'] = filtered_data['is_tour_window'].astype(int)\n",
    "\n",
    "# Step 3: Calculate correlation coefficients\n",
    "# Calculate the Pearson correlation coefficient\n",
    "pearson_corr, pearson_p_value = pearsonr(filtered_data['is_tour_window'], filtered_data['adjusted_elapsed_time'])\n",
    "\n",
    "# Calculate the Spearman correlation coefficient\n",
    "spearman_corr, spearman_p_value = spearmanr(filtered_data['is_tour_window'], filtered_data['adjusted_elapsed_time'])\n",
    "\n",
    "# Step 4: Display the results\n",
    "print(f\"Pearson Correlation: {pearson_corr}, p-value: {pearson_p_value}\")\n",
    "print(f\"Spearman Correlation: {spearman_corr}, p-value: {spearman_p_value}\")"
   ]
  },
  {
   "cell_type": "markdown",
   "id": "96218a68-412c-4303-a86f-f46eed5a13d3",
   "metadata": {},
   "source": [
    "Pearson Correlation: 0.0036, p-value: 0.236\n",
    "Spearman Correlation: 0.0021, p-value: 0.481"
   ]
  },
  {
   "cell_type": "markdown",
   "id": "debd20e5-f113-430d-859a-9f5e98522619",
   "metadata": {},
   "source": [
    "Both correlation coefficients are very close to zero, indicating a negligible relationship between being within the ±3-day window of tour dates and the adjusted elapsed time for delays."
   ]
  },
  {
   "cell_type": "markdown",
   "id": "06b30b09-971d-4149-af60-be63081bfbd6",
   "metadata": {},
   "source": [
    "The p-values are above the typical significance threshold of 0.05, suggesting that the correlations observed are not statistically significant. In other words, we do not have enough evidence to conclude that there's a meaningful correlation between tour dates and delays."
   ]
  },
  {
   "cell_type": "code",
   "execution_count": 581,
   "id": "975c8310-bf80-4a2e-a09e-a585faf4137b",
   "metadata": {},
   "outputs": [
    {
     "name": "stderr",
     "output_type": "stream",
     "text": [
      "C:\\Users\\hopeh\\AppData\\Local\\Temp\\ipykernel_5900\\2861761301.py:5: FutureWarning: Setting an item of incompatible dtype is deprecated and will raise in a future error of pandas. Value '[False False False ...  True  True  True]' has dtype incompatible with int32, please explicitly cast to a compatible dtype first.\n",
      "  filtered_data.loc[:, 'is_tour_window'] = filtered_data['date'].apply(\n",
      "C:\\Users\\hopeh\\AppData\\Local\\Temp\\ipykernel_5900\\2861761301.py:10: FutureWarning: Setting an item of incompatible dtype is deprecated and will raise in a future error of pandas. Value '[0 0 0 ... 1 1 1]' has dtype incompatible with bool, please explicitly cast to a compatible dtype first.\n",
      "  filtered_data.loc[:, 'is_tour_window'] = filtered_data['is_tour_window'].astype(int)\n"
     ]
    }
   ],
   "source": [
    "# Regression Analysis:\n",
    "\n",
    "# Assuming filtered_data is the DataFrame where you've already defined your tour dates\n",
    "# Create a new column to indicate if a flight is within the ±3 days of tour dates\n",
    "filtered_data.loc[:, 'is_tour_window'] = filtered_data['date'].apply(\n",
    "    lambda x: any(start <= x <= end for start, end in date_ranges)\n",
    ")\n",
    "\n",
    "# Convert boolean to int (1 for True, 0 for False)\n",
    "filtered_data.loc[:, 'is_tour_window'] = filtered_data['is_tour_window'].astype(int)\n"
   ]
  },
  {
   "cell_type": "code",
   "execution_count": 583,
   "id": "aa2dfa39-9e1c-42aa-a679-35153250f6e1",
   "metadata": {},
   "outputs": [
    {
     "ename": "ValueError",
     "evalue": "Pandas data cast to numpy dtype of object. Check input data with np.asarray(data).",
     "output_type": "error",
     "traceback": [
      "\u001b[1;31m---------------------------------------------------------------------------\u001b[0m",
      "\u001b[1;31mValueError\u001b[0m                                Traceback (most recent call last)",
      "Cell \u001b[1;32mIn[583], line 17\u001b[0m\n\u001b[0;32m     14\u001b[0m X \u001b[38;5;241m=\u001b[39m sm\u001b[38;5;241m.\u001b[39madd_constant(X)\n\u001b[0;32m     16\u001b[0m \u001b[38;5;66;03m# Fit the regression model\u001b[39;00m\n\u001b[1;32m---> 17\u001b[0m model \u001b[38;5;241m=\u001b[39m sm\u001b[38;5;241m.\u001b[39mOLS(y, X)\u001b[38;5;241m.\u001b[39mfit()\n\u001b[0;32m     19\u001b[0m \u001b[38;5;66;03m# Print the summary\u001b[39;00m\n\u001b[0;32m     20\u001b[0m \u001b[38;5;28mprint\u001b[39m(model\u001b[38;5;241m.\u001b[39msummary())\n",
      "File \u001b[1;32m~\\anaconda3\\Lib\\site-packages\\statsmodels\\regression\\linear_model.py:924\u001b[0m, in \u001b[0;36mOLS.__init__\u001b[1;34m(self, endog, exog, missing, hasconst, **kwargs)\u001b[0m\n\u001b[0;32m    921\u001b[0m     msg \u001b[38;5;241m=\u001b[39m (\u001b[38;5;124m\"\u001b[39m\u001b[38;5;124mWeights are not supported in OLS and will be ignored\u001b[39m\u001b[38;5;124m\"\u001b[39m\n\u001b[0;32m    922\u001b[0m            \u001b[38;5;124m\"\u001b[39m\u001b[38;5;124mAn exception will be raised in the next version.\u001b[39m\u001b[38;5;124m\"\u001b[39m)\n\u001b[0;32m    923\u001b[0m     warnings\u001b[38;5;241m.\u001b[39mwarn(msg, ValueWarning)\n\u001b[1;32m--> 924\u001b[0m \u001b[38;5;28msuper\u001b[39m()\u001b[38;5;241m.\u001b[39m\u001b[38;5;21m__init__\u001b[39m(endog, exog, missing\u001b[38;5;241m=\u001b[39mmissing,\n\u001b[0;32m    925\u001b[0m                           hasconst\u001b[38;5;241m=\u001b[39mhasconst, \u001b[38;5;241m*\u001b[39m\u001b[38;5;241m*\u001b[39mkwargs)\n\u001b[0;32m    926\u001b[0m \u001b[38;5;28;01mif\u001b[39;00m \u001b[38;5;124m\"\u001b[39m\u001b[38;5;124mweights\u001b[39m\u001b[38;5;124m\"\u001b[39m \u001b[38;5;129;01min\u001b[39;00m \u001b[38;5;28mself\u001b[39m\u001b[38;5;241m.\u001b[39m_init_keys:\n\u001b[0;32m    927\u001b[0m     \u001b[38;5;28mself\u001b[39m\u001b[38;5;241m.\u001b[39m_init_keys\u001b[38;5;241m.\u001b[39mremove(\u001b[38;5;124m\"\u001b[39m\u001b[38;5;124mweights\u001b[39m\u001b[38;5;124m\"\u001b[39m)\n",
      "File \u001b[1;32m~\\anaconda3\\Lib\\site-packages\\statsmodels\\regression\\linear_model.py:749\u001b[0m, in \u001b[0;36mWLS.__init__\u001b[1;34m(self, endog, exog, weights, missing, hasconst, **kwargs)\u001b[0m\n\u001b[0;32m    747\u001b[0m \u001b[38;5;28;01melse\u001b[39;00m:\n\u001b[0;32m    748\u001b[0m     weights \u001b[38;5;241m=\u001b[39m weights\u001b[38;5;241m.\u001b[39msqueeze()\n\u001b[1;32m--> 749\u001b[0m \u001b[38;5;28msuper\u001b[39m()\u001b[38;5;241m.\u001b[39m\u001b[38;5;21m__init__\u001b[39m(endog, exog, missing\u001b[38;5;241m=\u001b[39mmissing,\n\u001b[0;32m    750\u001b[0m                           weights\u001b[38;5;241m=\u001b[39mweights, hasconst\u001b[38;5;241m=\u001b[39mhasconst, \u001b[38;5;241m*\u001b[39m\u001b[38;5;241m*\u001b[39mkwargs)\n\u001b[0;32m    751\u001b[0m nobs \u001b[38;5;241m=\u001b[39m \u001b[38;5;28mself\u001b[39m\u001b[38;5;241m.\u001b[39mexog\u001b[38;5;241m.\u001b[39mshape[\u001b[38;5;241m0\u001b[39m]\n\u001b[0;32m    752\u001b[0m weights \u001b[38;5;241m=\u001b[39m \u001b[38;5;28mself\u001b[39m\u001b[38;5;241m.\u001b[39mweights\n",
      "File \u001b[1;32m~\\anaconda3\\Lib\\site-packages\\statsmodels\\regression\\linear_model.py:203\u001b[0m, in \u001b[0;36mRegressionModel.__init__\u001b[1;34m(self, endog, exog, **kwargs)\u001b[0m\n\u001b[0;32m    202\u001b[0m \u001b[38;5;28;01mdef\u001b[39;00m \u001b[38;5;21m__init__\u001b[39m(\u001b[38;5;28mself\u001b[39m, endog, exog, \u001b[38;5;241m*\u001b[39m\u001b[38;5;241m*\u001b[39mkwargs):\n\u001b[1;32m--> 203\u001b[0m     \u001b[38;5;28msuper\u001b[39m()\u001b[38;5;241m.\u001b[39m\u001b[38;5;21m__init__\u001b[39m(endog, exog, \u001b[38;5;241m*\u001b[39m\u001b[38;5;241m*\u001b[39mkwargs)\n\u001b[0;32m    204\u001b[0m     \u001b[38;5;28mself\u001b[39m\u001b[38;5;241m.\u001b[39mpinv_wexog: Float64Array \u001b[38;5;241m|\u001b[39m \u001b[38;5;28;01mNone\u001b[39;00m \u001b[38;5;241m=\u001b[39m \u001b[38;5;28;01mNone\u001b[39;00m\n\u001b[0;32m    205\u001b[0m     \u001b[38;5;28mself\u001b[39m\u001b[38;5;241m.\u001b[39m_data_attr\u001b[38;5;241m.\u001b[39mextend([\u001b[38;5;124m'\u001b[39m\u001b[38;5;124mpinv_wexog\u001b[39m\u001b[38;5;124m'\u001b[39m, \u001b[38;5;124m'\u001b[39m\u001b[38;5;124mwendog\u001b[39m\u001b[38;5;124m'\u001b[39m, \u001b[38;5;124m'\u001b[39m\u001b[38;5;124mwexog\u001b[39m\u001b[38;5;124m'\u001b[39m, \u001b[38;5;124m'\u001b[39m\u001b[38;5;124mweights\u001b[39m\u001b[38;5;124m'\u001b[39m])\n",
      "File \u001b[1;32m~\\anaconda3\\Lib\\site-packages\\statsmodels\\base\\model.py:270\u001b[0m, in \u001b[0;36mLikelihoodModel.__init__\u001b[1;34m(self, endog, exog, **kwargs)\u001b[0m\n\u001b[0;32m    269\u001b[0m \u001b[38;5;28;01mdef\u001b[39;00m \u001b[38;5;21m__init__\u001b[39m(\u001b[38;5;28mself\u001b[39m, endog, exog\u001b[38;5;241m=\u001b[39m\u001b[38;5;28;01mNone\u001b[39;00m, \u001b[38;5;241m*\u001b[39m\u001b[38;5;241m*\u001b[39mkwargs):\n\u001b[1;32m--> 270\u001b[0m     \u001b[38;5;28msuper\u001b[39m()\u001b[38;5;241m.\u001b[39m\u001b[38;5;21m__init__\u001b[39m(endog, exog, \u001b[38;5;241m*\u001b[39m\u001b[38;5;241m*\u001b[39mkwargs)\n\u001b[0;32m    271\u001b[0m     \u001b[38;5;28mself\u001b[39m\u001b[38;5;241m.\u001b[39minitialize()\n",
      "File \u001b[1;32m~\\anaconda3\\Lib\\site-packages\\statsmodels\\base\\model.py:95\u001b[0m, in \u001b[0;36mModel.__init__\u001b[1;34m(self, endog, exog, **kwargs)\u001b[0m\n\u001b[0;32m     93\u001b[0m missing \u001b[38;5;241m=\u001b[39m kwargs\u001b[38;5;241m.\u001b[39mpop(\u001b[38;5;124m'\u001b[39m\u001b[38;5;124mmissing\u001b[39m\u001b[38;5;124m'\u001b[39m, \u001b[38;5;124m'\u001b[39m\u001b[38;5;124mnone\u001b[39m\u001b[38;5;124m'\u001b[39m)\n\u001b[0;32m     94\u001b[0m hasconst \u001b[38;5;241m=\u001b[39m kwargs\u001b[38;5;241m.\u001b[39mpop(\u001b[38;5;124m'\u001b[39m\u001b[38;5;124mhasconst\u001b[39m\u001b[38;5;124m'\u001b[39m, \u001b[38;5;28;01mNone\u001b[39;00m)\n\u001b[1;32m---> 95\u001b[0m \u001b[38;5;28mself\u001b[39m\u001b[38;5;241m.\u001b[39mdata \u001b[38;5;241m=\u001b[39m \u001b[38;5;28mself\u001b[39m\u001b[38;5;241m.\u001b[39m_handle_data(endog, exog, missing, hasconst,\n\u001b[0;32m     96\u001b[0m                               \u001b[38;5;241m*\u001b[39m\u001b[38;5;241m*\u001b[39mkwargs)\n\u001b[0;32m     97\u001b[0m \u001b[38;5;28mself\u001b[39m\u001b[38;5;241m.\u001b[39mk_constant \u001b[38;5;241m=\u001b[39m \u001b[38;5;28mself\u001b[39m\u001b[38;5;241m.\u001b[39mdata\u001b[38;5;241m.\u001b[39mk_constant\n\u001b[0;32m     98\u001b[0m \u001b[38;5;28mself\u001b[39m\u001b[38;5;241m.\u001b[39mexog \u001b[38;5;241m=\u001b[39m \u001b[38;5;28mself\u001b[39m\u001b[38;5;241m.\u001b[39mdata\u001b[38;5;241m.\u001b[39mexog\n",
      "File \u001b[1;32m~\\anaconda3\\Lib\\site-packages\\statsmodels\\base\\model.py:135\u001b[0m, in \u001b[0;36mModel._handle_data\u001b[1;34m(self, endog, exog, missing, hasconst, **kwargs)\u001b[0m\n\u001b[0;32m    134\u001b[0m \u001b[38;5;28;01mdef\u001b[39;00m \u001b[38;5;21m_handle_data\u001b[39m(\u001b[38;5;28mself\u001b[39m, endog, exog, missing, hasconst, \u001b[38;5;241m*\u001b[39m\u001b[38;5;241m*\u001b[39mkwargs):\n\u001b[1;32m--> 135\u001b[0m     data \u001b[38;5;241m=\u001b[39m handle_data(endog, exog, missing, hasconst, \u001b[38;5;241m*\u001b[39m\u001b[38;5;241m*\u001b[39mkwargs)\n\u001b[0;32m    136\u001b[0m     \u001b[38;5;66;03m# kwargs arrays could have changed, easier to just attach here\u001b[39;00m\n\u001b[0;32m    137\u001b[0m     \u001b[38;5;28;01mfor\u001b[39;00m key \u001b[38;5;129;01min\u001b[39;00m kwargs:\n",
      "File \u001b[1;32m~\\anaconda3\\Lib\\site-packages\\statsmodels\\base\\data.py:675\u001b[0m, in \u001b[0;36mhandle_data\u001b[1;34m(endog, exog, missing, hasconst, **kwargs)\u001b[0m\n\u001b[0;32m    672\u001b[0m     exog \u001b[38;5;241m=\u001b[39m np\u001b[38;5;241m.\u001b[39masarray(exog)\n\u001b[0;32m    674\u001b[0m klass \u001b[38;5;241m=\u001b[39m handle_data_class_factory(endog, exog)\n\u001b[1;32m--> 675\u001b[0m \u001b[38;5;28;01mreturn\u001b[39;00m klass(endog, exog\u001b[38;5;241m=\u001b[39mexog, missing\u001b[38;5;241m=\u001b[39mmissing, hasconst\u001b[38;5;241m=\u001b[39mhasconst,\n\u001b[0;32m    676\u001b[0m              \u001b[38;5;241m*\u001b[39m\u001b[38;5;241m*\u001b[39mkwargs)\n",
      "File \u001b[1;32m~\\anaconda3\\Lib\\site-packages\\statsmodels\\base\\data.py:84\u001b[0m, in \u001b[0;36mModelData.__init__\u001b[1;34m(self, endog, exog, missing, hasconst, **kwargs)\u001b[0m\n\u001b[0;32m     82\u001b[0m     \u001b[38;5;28mself\u001b[39m\u001b[38;5;241m.\u001b[39morig_endog \u001b[38;5;241m=\u001b[39m endog\n\u001b[0;32m     83\u001b[0m     \u001b[38;5;28mself\u001b[39m\u001b[38;5;241m.\u001b[39morig_exog \u001b[38;5;241m=\u001b[39m exog\n\u001b[1;32m---> 84\u001b[0m     \u001b[38;5;28mself\u001b[39m\u001b[38;5;241m.\u001b[39mendog, \u001b[38;5;28mself\u001b[39m\u001b[38;5;241m.\u001b[39mexog \u001b[38;5;241m=\u001b[39m \u001b[38;5;28mself\u001b[39m\u001b[38;5;241m.\u001b[39m_convert_endog_exog(endog, exog)\n\u001b[0;32m     86\u001b[0m \u001b[38;5;28mself\u001b[39m\u001b[38;5;241m.\u001b[39mconst_idx \u001b[38;5;241m=\u001b[39m \u001b[38;5;28;01mNone\u001b[39;00m\n\u001b[0;32m     87\u001b[0m \u001b[38;5;28mself\u001b[39m\u001b[38;5;241m.\u001b[39mk_constant \u001b[38;5;241m=\u001b[39m \u001b[38;5;241m0\u001b[39m\n",
      "File \u001b[1;32m~\\anaconda3\\Lib\\site-packages\\statsmodels\\base\\data.py:509\u001b[0m, in \u001b[0;36mPandasData._convert_endog_exog\u001b[1;34m(self, endog, exog)\u001b[0m\n\u001b[0;32m    507\u001b[0m exog \u001b[38;5;241m=\u001b[39m exog \u001b[38;5;28;01mif\u001b[39;00m exog \u001b[38;5;129;01mis\u001b[39;00m \u001b[38;5;28;01mNone\u001b[39;00m \u001b[38;5;28;01melse\u001b[39;00m np\u001b[38;5;241m.\u001b[39masarray(exog)\n\u001b[0;32m    508\u001b[0m \u001b[38;5;28;01mif\u001b[39;00m endog\u001b[38;5;241m.\u001b[39mdtype \u001b[38;5;241m==\u001b[39m \u001b[38;5;28mobject\u001b[39m \u001b[38;5;129;01mor\u001b[39;00m exog \u001b[38;5;129;01mis\u001b[39;00m \u001b[38;5;129;01mnot\u001b[39;00m \u001b[38;5;28;01mNone\u001b[39;00m \u001b[38;5;129;01mand\u001b[39;00m exog\u001b[38;5;241m.\u001b[39mdtype \u001b[38;5;241m==\u001b[39m \u001b[38;5;28mobject\u001b[39m:\n\u001b[1;32m--> 509\u001b[0m     \u001b[38;5;28;01mraise\u001b[39;00m \u001b[38;5;167;01mValueError\u001b[39;00m(\u001b[38;5;124m\"\u001b[39m\u001b[38;5;124mPandas data cast to numpy dtype of object. \u001b[39m\u001b[38;5;124m\"\u001b[39m\n\u001b[0;32m    510\u001b[0m                      \u001b[38;5;124m\"\u001b[39m\u001b[38;5;124mCheck input data with np.asarray(data).\u001b[39m\u001b[38;5;124m\"\u001b[39m)\n\u001b[0;32m    511\u001b[0m \u001b[38;5;28;01mreturn\u001b[39;00m \u001b[38;5;28msuper\u001b[39m()\u001b[38;5;241m.\u001b[39m_convert_endog_exog(endog, exog)\n",
      "\u001b[1;31mValueError\u001b[0m: Pandas data cast to numpy dtype of object. Check input data with np.asarray(data)."
     ]
    }
   ],
   "source": [
    "\n",
    "import statsmodels.api as sm\n",
    "import pandas as pd\n",
    "\n",
    "# Ensure 'is_tour_window' is already created in filtered_data\n",
    "# Prepare the data for regression analysis\n",
    "X = filtered_data[['is_tour_window', 'weather_delay', 'op_unique_carrier']]  # Include independent variables\n",
    "\n",
    "# Perform one-hot encoding for 'op_unique_carrier'\n",
    "X = pd.get_dummies(X, columns=['op_unique_carrier'], drop_first=True)\n",
    "\n",
    "y = filtered_data['adjusted_elapsed_time']  # Ensure this is present\n",
    "\n",
    "# Add a constant to the model (intercept)\n",
    "X = sm.add_constant(X)\n",
    "\n",
    "# Fit the regression model\n",
    "model = sm.OLS(y, X).fit()\n",
    "\n",
    "# Print the summary\n",
    "print(model.summary())\n",
    "\n"
   ]
  },
  {
   "cell_type": "code",
   "execution_count": 587,
   "id": "4a527593-bf58-4c81-907b-6f7ac8c3863f",
   "metadata": {},
   "outputs": [
    {
     "name": "stdout",
     "output_type": "stream",
     "text": [
      "const                   float64\n",
      "is_tour_window            int32\n",
      "weather_delay           float64\n",
      "op_unique_carrier_aa       bool\n",
      "op_unique_carrier_as       bool\n",
      "op_unique_carrier_b6       bool\n",
      "op_unique_carrier_dl       bool\n",
      "op_unique_carrier_f9       bool\n",
      "op_unique_carrier_g4       bool\n",
      "op_unique_carrier_ha       bool\n",
      "op_unique_carrier_mq       bool\n",
      "op_unique_carrier_nk       bool\n",
      "op_unique_carrier_oh       bool\n",
      "op_unique_carrier_oo       bool\n",
      "op_unique_carrier_ua       bool\n",
      "op_unique_carrier_wn       bool\n",
      "op_unique_carrier_yx       bool\n",
      "dtype: object\n",
      "float64\n"
     ]
    }
   ],
   "source": [
    "print(X.dtypes)\n",
    "print(y.dtypes)\n"
   ]
  },
  {
   "cell_type": "code",
   "execution_count": 589,
   "id": "8e455629-0471-40fe-81c1-69f63cfbed60",
   "metadata": {},
   "outputs": [
    {
     "name": "stdout",
     "output_type": "stream",
     "text": [
      "0\n"
     ]
    }
   ],
   "source": [
    "print(y.isnull().sum())\n"
   ]
  },
  {
   "cell_type": "code",
   "execution_count": 591,
   "id": "ef5e39a8-3964-4387-a1f4-51e79ea25ec0",
   "metadata": {},
   "outputs": [],
   "source": [
    "y = pd.to_numeric(filtered_data['adjusted_elapsed_time'], errors='coerce')\n"
   ]
  },
  {
   "cell_type": "code",
   "execution_count": 593,
   "id": "02a7d2b6-1528-48dc-93a0-b1e6b569dd19",
   "metadata": {},
   "outputs": [
    {
     "name": "stdout",
     "output_type": "stream",
     "text": [
      "0\n"
     ]
    }
   ],
   "source": [
    "print(y.isnull().sum())\n"
   ]
  },
  {
   "cell_type": "code",
   "execution_count": 595,
   "id": "c661f21b-e5e5-43f5-8cf2-568e1818107c",
   "metadata": {},
   "outputs": [],
   "source": [
    "combined_data = pd.concat([X, y], axis=1).dropna()\n",
    "X = combined_data.drop(columns=[y.name])\n",
    "y = combined_data[y.name]\n"
   ]
  },
  {
   "cell_type": "code",
   "execution_count": 597,
   "id": "4a548e55-dc19-489c-a68f-65ba10d2c63a",
   "metadata": {},
   "outputs": [
    {
     "name": "stdout",
     "output_type": "stream",
     "text": [
      "0\n"
     ]
    },
    {
     "ename": "ValueError",
     "evalue": "Pandas data cast to numpy dtype of object. Check input data with np.asarray(data).",
     "output_type": "error",
     "traceback": [
      "\u001b[1;31m---------------------------------------------------------------------------\u001b[0m",
      "\u001b[1;31mValueError\u001b[0m                                Traceback (most recent call last)",
      "Cell \u001b[1;32mIn[597], line 26\u001b[0m\n\u001b[0;32m     23\u001b[0m X \u001b[38;5;241m=\u001b[39m sm\u001b[38;5;241m.\u001b[39madd_constant(X)\n\u001b[0;32m     25\u001b[0m \u001b[38;5;66;03m# Fit the regression model\u001b[39;00m\n\u001b[1;32m---> 26\u001b[0m model \u001b[38;5;241m=\u001b[39m sm\u001b[38;5;241m.\u001b[39mOLS(y, X)\u001b[38;5;241m.\u001b[39mfit()\n\u001b[0;32m     28\u001b[0m \u001b[38;5;66;03m# Print the summary\u001b[39;00m\n\u001b[0;32m     29\u001b[0m \u001b[38;5;28mprint\u001b[39m(model\u001b[38;5;241m.\u001b[39msummary())\n",
      "File \u001b[1;32m~\\anaconda3\\Lib\\site-packages\\statsmodels\\regression\\linear_model.py:924\u001b[0m, in \u001b[0;36mOLS.__init__\u001b[1;34m(self, endog, exog, missing, hasconst, **kwargs)\u001b[0m\n\u001b[0;32m    921\u001b[0m     msg \u001b[38;5;241m=\u001b[39m (\u001b[38;5;124m\"\u001b[39m\u001b[38;5;124mWeights are not supported in OLS and will be ignored\u001b[39m\u001b[38;5;124m\"\u001b[39m\n\u001b[0;32m    922\u001b[0m            \u001b[38;5;124m\"\u001b[39m\u001b[38;5;124mAn exception will be raised in the next version.\u001b[39m\u001b[38;5;124m\"\u001b[39m)\n\u001b[0;32m    923\u001b[0m     warnings\u001b[38;5;241m.\u001b[39mwarn(msg, ValueWarning)\n\u001b[1;32m--> 924\u001b[0m \u001b[38;5;28msuper\u001b[39m()\u001b[38;5;241m.\u001b[39m\u001b[38;5;21m__init__\u001b[39m(endog, exog, missing\u001b[38;5;241m=\u001b[39mmissing,\n\u001b[0;32m    925\u001b[0m                           hasconst\u001b[38;5;241m=\u001b[39mhasconst, \u001b[38;5;241m*\u001b[39m\u001b[38;5;241m*\u001b[39mkwargs)\n\u001b[0;32m    926\u001b[0m \u001b[38;5;28;01mif\u001b[39;00m \u001b[38;5;124m\"\u001b[39m\u001b[38;5;124mweights\u001b[39m\u001b[38;5;124m\"\u001b[39m \u001b[38;5;129;01min\u001b[39;00m \u001b[38;5;28mself\u001b[39m\u001b[38;5;241m.\u001b[39m_init_keys:\n\u001b[0;32m    927\u001b[0m     \u001b[38;5;28mself\u001b[39m\u001b[38;5;241m.\u001b[39m_init_keys\u001b[38;5;241m.\u001b[39mremove(\u001b[38;5;124m\"\u001b[39m\u001b[38;5;124mweights\u001b[39m\u001b[38;5;124m\"\u001b[39m)\n",
      "File \u001b[1;32m~\\anaconda3\\Lib\\site-packages\\statsmodels\\regression\\linear_model.py:749\u001b[0m, in \u001b[0;36mWLS.__init__\u001b[1;34m(self, endog, exog, weights, missing, hasconst, **kwargs)\u001b[0m\n\u001b[0;32m    747\u001b[0m \u001b[38;5;28;01melse\u001b[39;00m:\n\u001b[0;32m    748\u001b[0m     weights \u001b[38;5;241m=\u001b[39m weights\u001b[38;5;241m.\u001b[39msqueeze()\n\u001b[1;32m--> 749\u001b[0m \u001b[38;5;28msuper\u001b[39m()\u001b[38;5;241m.\u001b[39m\u001b[38;5;21m__init__\u001b[39m(endog, exog, missing\u001b[38;5;241m=\u001b[39mmissing,\n\u001b[0;32m    750\u001b[0m                           weights\u001b[38;5;241m=\u001b[39mweights, hasconst\u001b[38;5;241m=\u001b[39mhasconst, \u001b[38;5;241m*\u001b[39m\u001b[38;5;241m*\u001b[39mkwargs)\n\u001b[0;32m    751\u001b[0m nobs \u001b[38;5;241m=\u001b[39m \u001b[38;5;28mself\u001b[39m\u001b[38;5;241m.\u001b[39mexog\u001b[38;5;241m.\u001b[39mshape[\u001b[38;5;241m0\u001b[39m]\n\u001b[0;32m    752\u001b[0m weights \u001b[38;5;241m=\u001b[39m \u001b[38;5;28mself\u001b[39m\u001b[38;5;241m.\u001b[39mweights\n",
      "File \u001b[1;32m~\\anaconda3\\Lib\\site-packages\\statsmodels\\regression\\linear_model.py:203\u001b[0m, in \u001b[0;36mRegressionModel.__init__\u001b[1;34m(self, endog, exog, **kwargs)\u001b[0m\n\u001b[0;32m    202\u001b[0m \u001b[38;5;28;01mdef\u001b[39;00m \u001b[38;5;21m__init__\u001b[39m(\u001b[38;5;28mself\u001b[39m, endog, exog, \u001b[38;5;241m*\u001b[39m\u001b[38;5;241m*\u001b[39mkwargs):\n\u001b[1;32m--> 203\u001b[0m     \u001b[38;5;28msuper\u001b[39m()\u001b[38;5;241m.\u001b[39m\u001b[38;5;21m__init__\u001b[39m(endog, exog, \u001b[38;5;241m*\u001b[39m\u001b[38;5;241m*\u001b[39mkwargs)\n\u001b[0;32m    204\u001b[0m     \u001b[38;5;28mself\u001b[39m\u001b[38;5;241m.\u001b[39mpinv_wexog: Float64Array \u001b[38;5;241m|\u001b[39m \u001b[38;5;28;01mNone\u001b[39;00m \u001b[38;5;241m=\u001b[39m \u001b[38;5;28;01mNone\u001b[39;00m\n\u001b[0;32m    205\u001b[0m     \u001b[38;5;28mself\u001b[39m\u001b[38;5;241m.\u001b[39m_data_attr\u001b[38;5;241m.\u001b[39mextend([\u001b[38;5;124m'\u001b[39m\u001b[38;5;124mpinv_wexog\u001b[39m\u001b[38;5;124m'\u001b[39m, \u001b[38;5;124m'\u001b[39m\u001b[38;5;124mwendog\u001b[39m\u001b[38;5;124m'\u001b[39m, \u001b[38;5;124m'\u001b[39m\u001b[38;5;124mwexog\u001b[39m\u001b[38;5;124m'\u001b[39m, \u001b[38;5;124m'\u001b[39m\u001b[38;5;124mweights\u001b[39m\u001b[38;5;124m'\u001b[39m])\n",
      "File \u001b[1;32m~\\anaconda3\\Lib\\site-packages\\statsmodels\\base\\model.py:270\u001b[0m, in \u001b[0;36mLikelihoodModel.__init__\u001b[1;34m(self, endog, exog, **kwargs)\u001b[0m\n\u001b[0;32m    269\u001b[0m \u001b[38;5;28;01mdef\u001b[39;00m \u001b[38;5;21m__init__\u001b[39m(\u001b[38;5;28mself\u001b[39m, endog, exog\u001b[38;5;241m=\u001b[39m\u001b[38;5;28;01mNone\u001b[39;00m, \u001b[38;5;241m*\u001b[39m\u001b[38;5;241m*\u001b[39mkwargs):\n\u001b[1;32m--> 270\u001b[0m     \u001b[38;5;28msuper\u001b[39m()\u001b[38;5;241m.\u001b[39m\u001b[38;5;21m__init__\u001b[39m(endog, exog, \u001b[38;5;241m*\u001b[39m\u001b[38;5;241m*\u001b[39mkwargs)\n\u001b[0;32m    271\u001b[0m     \u001b[38;5;28mself\u001b[39m\u001b[38;5;241m.\u001b[39minitialize()\n",
      "File \u001b[1;32m~\\anaconda3\\Lib\\site-packages\\statsmodels\\base\\model.py:95\u001b[0m, in \u001b[0;36mModel.__init__\u001b[1;34m(self, endog, exog, **kwargs)\u001b[0m\n\u001b[0;32m     93\u001b[0m missing \u001b[38;5;241m=\u001b[39m kwargs\u001b[38;5;241m.\u001b[39mpop(\u001b[38;5;124m'\u001b[39m\u001b[38;5;124mmissing\u001b[39m\u001b[38;5;124m'\u001b[39m, \u001b[38;5;124m'\u001b[39m\u001b[38;5;124mnone\u001b[39m\u001b[38;5;124m'\u001b[39m)\n\u001b[0;32m     94\u001b[0m hasconst \u001b[38;5;241m=\u001b[39m kwargs\u001b[38;5;241m.\u001b[39mpop(\u001b[38;5;124m'\u001b[39m\u001b[38;5;124mhasconst\u001b[39m\u001b[38;5;124m'\u001b[39m, \u001b[38;5;28;01mNone\u001b[39;00m)\n\u001b[1;32m---> 95\u001b[0m \u001b[38;5;28mself\u001b[39m\u001b[38;5;241m.\u001b[39mdata \u001b[38;5;241m=\u001b[39m \u001b[38;5;28mself\u001b[39m\u001b[38;5;241m.\u001b[39m_handle_data(endog, exog, missing, hasconst,\n\u001b[0;32m     96\u001b[0m                               \u001b[38;5;241m*\u001b[39m\u001b[38;5;241m*\u001b[39mkwargs)\n\u001b[0;32m     97\u001b[0m \u001b[38;5;28mself\u001b[39m\u001b[38;5;241m.\u001b[39mk_constant \u001b[38;5;241m=\u001b[39m \u001b[38;5;28mself\u001b[39m\u001b[38;5;241m.\u001b[39mdata\u001b[38;5;241m.\u001b[39mk_constant\n\u001b[0;32m     98\u001b[0m \u001b[38;5;28mself\u001b[39m\u001b[38;5;241m.\u001b[39mexog \u001b[38;5;241m=\u001b[39m \u001b[38;5;28mself\u001b[39m\u001b[38;5;241m.\u001b[39mdata\u001b[38;5;241m.\u001b[39mexog\n",
      "File \u001b[1;32m~\\anaconda3\\Lib\\site-packages\\statsmodels\\base\\model.py:135\u001b[0m, in \u001b[0;36mModel._handle_data\u001b[1;34m(self, endog, exog, missing, hasconst, **kwargs)\u001b[0m\n\u001b[0;32m    134\u001b[0m \u001b[38;5;28;01mdef\u001b[39;00m \u001b[38;5;21m_handle_data\u001b[39m(\u001b[38;5;28mself\u001b[39m, endog, exog, missing, hasconst, \u001b[38;5;241m*\u001b[39m\u001b[38;5;241m*\u001b[39mkwargs):\n\u001b[1;32m--> 135\u001b[0m     data \u001b[38;5;241m=\u001b[39m handle_data(endog, exog, missing, hasconst, \u001b[38;5;241m*\u001b[39m\u001b[38;5;241m*\u001b[39mkwargs)\n\u001b[0;32m    136\u001b[0m     \u001b[38;5;66;03m# kwargs arrays could have changed, easier to just attach here\u001b[39;00m\n\u001b[0;32m    137\u001b[0m     \u001b[38;5;28;01mfor\u001b[39;00m key \u001b[38;5;129;01min\u001b[39;00m kwargs:\n",
      "File \u001b[1;32m~\\anaconda3\\Lib\\site-packages\\statsmodels\\base\\data.py:675\u001b[0m, in \u001b[0;36mhandle_data\u001b[1;34m(endog, exog, missing, hasconst, **kwargs)\u001b[0m\n\u001b[0;32m    672\u001b[0m     exog \u001b[38;5;241m=\u001b[39m np\u001b[38;5;241m.\u001b[39masarray(exog)\n\u001b[0;32m    674\u001b[0m klass \u001b[38;5;241m=\u001b[39m handle_data_class_factory(endog, exog)\n\u001b[1;32m--> 675\u001b[0m \u001b[38;5;28;01mreturn\u001b[39;00m klass(endog, exog\u001b[38;5;241m=\u001b[39mexog, missing\u001b[38;5;241m=\u001b[39mmissing, hasconst\u001b[38;5;241m=\u001b[39mhasconst,\n\u001b[0;32m    676\u001b[0m              \u001b[38;5;241m*\u001b[39m\u001b[38;5;241m*\u001b[39mkwargs)\n",
      "File \u001b[1;32m~\\anaconda3\\Lib\\site-packages\\statsmodels\\base\\data.py:84\u001b[0m, in \u001b[0;36mModelData.__init__\u001b[1;34m(self, endog, exog, missing, hasconst, **kwargs)\u001b[0m\n\u001b[0;32m     82\u001b[0m     \u001b[38;5;28mself\u001b[39m\u001b[38;5;241m.\u001b[39morig_endog \u001b[38;5;241m=\u001b[39m endog\n\u001b[0;32m     83\u001b[0m     \u001b[38;5;28mself\u001b[39m\u001b[38;5;241m.\u001b[39morig_exog \u001b[38;5;241m=\u001b[39m exog\n\u001b[1;32m---> 84\u001b[0m     \u001b[38;5;28mself\u001b[39m\u001b[38;5;241m.\u001b[39mendog, \u001b[38;5;28mself\u001b[39m\u001b[38;5;241m.\u001b[39mexog \u001b[38;5;241m=\u001b[39m \u001b[38;5;28mself\u001b[39m\u001b[38;5;241m.\u001b[39m_convert_endog_exog(endog, exog)\n\u001b[0;32m     86\u001b[0m \u001b[38;5;28mself\u001b[39m\u001b[38;5;241m.\u001b[39mconst_idx \u001b[38;5;241m=\u001b[39m \u001b[38;5;28;01mNone\u001b[39;00m\n\u001b[0;32m     87\u001b[0m \u001b[38;5;28mself\u001b[39m\u001b[38;5;241m.\u001b[39mk_constant \u001b[38;5;241m=\u001b[39m \u001b[38;5;241m0\u001b[39m\n",
      "File \u001b[1;32m~\\anaconda3\\Lib\\site-packages\\statsmodels\\base\\data.py:509\u001b[0m, in \u001b[0;36mPandasData._convert_endog_exog\u001b[1;34m(self, endog, exog)\u001b[0m\n\u001b[0;32m    507\u001b[0m exog \u001b[38;5;241m=\u001b[39m exog \u001b[38;5;28;01mif\u001b[39;00m exog \u001b[38;5;129;01mis\u001b[39;00m \u001b[38;5;28;01mNone\u001b[39;00m \u001b[38;5;28;01melse\u001b[39;00m np\u001b[38;5;241m.\u001b[39masarray(exog)\n\u001b[0;32m    508\u001b[0m \u001b[38;5;28;01mif\u001b[39;00m endog\u001b[38;5;241m.\u001b[39mdtype \u001b[38;5;241m==\u001b[39m \u001b[38;5;28mobject\u001b[39m \u001b[38;5;129;01mor\u001b[39;00m exog \u001b[38;5;129;01mis\u001b[39;00m \u001b[38;5;129;01mnot\u001b[39;00m \u001b[38;5;28;01mNone\u001b[39;00m \u001b[38;5;129;01mand\u001b[39;00m exog\u001b[38;5;241m.\u001b[39mdtype \u001b[38;5;241m==\u001b[39m \u001b[38;5;28mobject\u001b[39m:\n\u001b[1;32m--> 509\u001b[0m     \u001b[38;5;28;01mraise\u001b[39;00m \u001b[38;5;167;01mValueError\u001b[39;00m(\u001b[38;5;124m\"\u001b[39m\u001b[38;5;124mPandas data cast to numpy dtype of object. \u001b[39m\u001b[38;5;124m\"\u001b[39m\n\u001b[0;32m    510\u001b[0m                      \u001b[38;5;124m\"\u001b[39m\u001b[38;5;124mCheck input data with np.asarray(data).\u001b[39m\u001b[38;5;124m\"\u001b[39m)\n\u001b[0;32m    511\u001b[0m \u001b[38;5;28;01mreturn\u001b[39;00m \u001b[38;5;28msuper\u001b[39m()\u001b[38;5;241m.\u001b[39m_convert_endog_exog(endog, exog)\n",
      "\u001b[1;31mValueError\u001b[0m: Pandas data cast to numpy dtype of object. Check input data with np.asarray(data)."
     ]
    }
   ],
   "source": [
    "import statsmodels.api as sm\n",
    "import pandas as pd\n",
    "\n",
    "# Prepare the data for regression analysis\n",
    "X = filtered_data[['is_tour_window', 'weather_delay', 'op_unique_carrier']]  # Include independent variables\n",
    "\n",
    "# Perform one-hot encoding for 'op_unique_carrier'\n",
    "X = pd.get_dummies(X, columns=['op_unique_carrier'], drop_first=True)\n",
    "\n",
    "# Ensure all variables are in the correct format\n",
    "X['weather_delay'] = pd.to_numeric(X['weather_delay'], errors='coerce')\n",
    "y = pd.to_numeric(filtered_data['adjusted_elapsed_time'], errors='coerce')\n",
    "\n",
    "# Check for NaN values in y\n",
    "print(y.isnull().sum())\n",
    "\n",
    "# Drop NaN values\n",
    "combined_data = pd.concat([X, y], axis=1).dropna()\n",
    "X = combined_data.drop(columns=[y.name])\n",
    "y = combined_data[y.name]\n",
    "\n",
    "# Add a constant to the model (intercept)\n",
    "X = sm.add_constant(X)\n",
    "\n",
    "# Fit the regression model\n",
    "model = sm.OLS(y, X).fit()\n",
    "\n",
    "# Print the summary\n",
    "print(model.summary())\n"
   ]
  },
  {
   "cell_type": "code",
   "execution_count": 599,
   "id": "f0fcade4-94e1-4a78-8e60-35e03f143bd7",
   "metadata": {},
   "outputs": [
    {
     "name": "stdout",
     "output_type": "stream",
     "text": [
      "const                   float64\n",
      "is_tour_window            int32\n",
      "weather_delay           float64\n",
      "op_unique_carrier_aa       bool\n",
      "op_unique_carrier_as       bool\n",
      "op_unique_carrier_b6       bool\n",
      "op_unique_carrier_dl       bool\n",
      "op_unique_carrier_f9       bool\n",
      "op_unique_carrier_g4       bool\n",
      "op_unique_carrier_ha       bool\n",
      "op_unique_carrier_mq       bool\n",
      "op_unique_carrier_nk       bool\n",
      "op_unique_carrier_oh       bool\n",
      "op_unique_carrier_oo       bool\n",
      "op_unique_carrier_ua       bool\n",
      "op_unique_carrier_wn       bool\n",
      "op_unique_carrier_yx       bool\n",
      "dtype: object\n",
      "float64\n"
     ]
    }
   ],
   "source": [
    "print(X.dtypes)\n",
    "print(y.dtypes)\n"
   ]
  },
  {
   "cell_type": "code",
   "execution_count": 601,
   "id": "8bec2f2d-c784-478a-8bc2-9678882e4f66",
   "metadata": {},
   "outputs": [],
   "source": [
    "X = X.astype(int)\n"
   ]
  },
  {
   "cell_type": "code",
   "execution_count": 603,
   "id": "d1e18ff4-bdea-4648-ba86-4d79d6f17da1",
   "metadata": {},
   "outputs": [
    {
     "name": "stdout",
     "output_type": "stream",
     "text": [
      "const                   0\n",
      "is_tour_window          0\n",
      "weather_delay           0\n",
      "op_unique_carrier_aa    0\n",
      "op_unique_carrier_as    0\n",
      "op_unique_carrier_b6    0\n",
      "op_unique_carrier_dl    0\n",
      "op_unique_carrier_f9    0\n",
      "op_unique_carrier_g4    0\n",
      "op_unique_carrier_ha    0\n",
      "op_unique_carrier_mq    0\n",
      "op_unique_carrier_nk    0\n",
      "op_unique_carrier_oh    0\n",
      "op_unique_carrier_oo    0\n",
      "op_unique_carrier_ua    0\n",
      "op_unique_carrier_wn    0\n",
      "op_unique_carrier_yx    0\n",
      "dtype: int64\n",
      "0\n"
     ]
    }
   ],
   "source": [
    "print(X.isnull().sum())\n",
    "print(y.isnull().sum())\n"
   ]
  },
  {
   "cell_type": "code",
   "execution_count": 605,
   "id": "b0f7ac2a-7288-4935-9667-65ce7ce94f2c",
   "metadata": {},
   "outputs": [
    {
     "name": "stdout",
     "output_type": "stream",
     "text": [
      "is_tour_window              0\n",
      "weather_delay           92345\n",
      "op_unique_carrier_aa        0\n",
      "op_unique_carrier_as        0\n",
      "op_unique_carrier_b6        0\n",
      "op_unique_carrier_dl        0\n",
      "op_unique_carrier_f9        0\n",
      "op_unique_carrier_g4        0\n",
      "op_unique_carrier_ha        0\n",
      "op_unique_carrier_mq        0\n",
      "op_unique_carrier_nk        0\n",
      "op_unique_carrier_oh        0\n",
      "op_unique_carrier_oo        0\n",
      "op_unique_carrier_ua        0\n",
      "op_unique_carrier_wn        0\n",
      "op_unique_carrier_yx        0\n",
      "dtype: int64\n",
      "0\n",
      "is_tour_window          0\n",
      "weather_delay           0\n",
      "op_unique_carrier_aa    0\n",
      "op_unique_carrier_as    0\n",
      "op_unique_carrier_b6    0\n",
      "op_unique_carrier_dl    0\n",
      "op_unique_carrier_f9    0\n",
      "op_unique_carrier_g4    0\n",
      "op_unique_carrier_ha    0\n",
      "op_unique_carrier_mq    0\n",
      "op_unique_carrier_nk    0\n",
      "op_unique_carrier_oh    0\n",
      "op_unique_carrier_oo    0\n",
      "op_unique_carrier_ua    0\n",
      "op_unique_carrier_wn    0\n",
      "op_unique_carrier_yx    0\n",
      "dtype: int64\n",
      "0\n",
      "                              OLS Regression Results                             \n",
      "=================================================================================\n",
      "Dep. Variable:     adjusted_elapsed_time   R-squared:                       0.114\n",
      "Model:                               OLS   Adj. R-squared:                  0.113\n",
      "Method:                    Least Squares   F-statistic:                     130.6\n",
      "Date:                   Sat, 02 Nov 2024   Prob (F-statistic):               0.00\n",
      "Time:                           23:26:45   Log-Likelihood:                -89196.\n",
      "No. Observations:                  16220   AIC:                         1.784e+05\n",
      "Df Residuals:                      16203   BIC:                         1.786e+05\n",
      "Df Model:                             16                                         \n",
      "Covariance Type:               nonrobust                                         \n",
      "========================================================================================\n",
      "                           coef    std err          t      P>|t|      [0.025      0.975]\n",
      "----------------------------------------------------------------------------------------\n",
      "const                  101.7768      3.882     26.218      0.000      94.168     109.386\n",
      "is_tour_window           2.7664      1.084      2.551      0.011       0.641       4.892\n",
      "weather_delay           -0.0907      0.039     -2.298      0.022      -0.168      -0.013\n",
      "op_unique_carrier_aa    41.4418      3.928     10.549      0.000      33.742      49.142\n",
      "op_unique_carrier_as    91.8996      5.164     17.795      0.000      81.777     102.023\n",
      "op_unique_carrier_b6    72.9019      4.408     16.539      0.000      64.262      81.542\n",
      "op_unique_carrier_dl    34.6292      4.064      8.521      0.000      26.664      42.595\n",
      "op_unique_carrier_f9    58.8568      4.448     13.231      0.000      50.138      67.576\n",
      "op_unique_carrier_g4    46.0980      4.631      9.955      0.000      37.021      55.175\n",
      "op_unique_carrier_ha    13.9291      5.883      2.368      0.018       2.398      25.461\n",
      "op_unique_carrier_mq     9.9715      4.710      2.117      0.034       0.740      19.203\n",
      "op_unique_carrier_nk    52.9848      4.186     12.658      0.000      44.780      61.190\n",
      "op_unique_carrier_oh     5.9688      4.661      1.281      0.200      -3.166      15.104\n",
      "op_unique_carrier_oo     2.2609      4.126      0.548      0.584      -5.827      10.349\n",
      "op_unique_carrier_ua    57.9020      4.084     14.178      0.000      49.897      65.907\n",
      "op_unique_carrier_wn    17.0668      3.963      4.306      0.000       9.298      24.835\n",
      "op_unique_carrier_yx    24.6484      5.036      4.895      0.000      14.778      34.519\n",
      "==============================================================================\n",
      "Omnibus:                     3268.335   Durbin-Watson:                   1.628\n",
      "Prob(Omnibus):                  0.000   Jarque-Bera (JB):             6746.979\n",
      "Skew:                           1.194   Prob(JB):                         0.00\n",
      "Kurtosis:                       5.068   Cond. No.                         382.\n",
      "==============================================================================\n",
      "\n",
      "Notes:\n",
      "[1] Standard Errors assume that the covariance matrix of the errors is correctly specified.\n"
     ]
    }
   ],
   "source": [
    "import statsmodels.api as sm\n",
    "import pandas as pd\n",
    "\n",
    "# Prepare the data for regression analysis\n",
    "X = filtered_data[['is_tour_window', 'weather_delay', 'op_unique_carrier']]  # Include independent variables\n",
    "\n",
    "# Perform one-hot encoding for 'op_unique_carrier'\n",
    "X = pd.get_dummies(X, columns=['op_unique_carrier'], drop_first=True)\n",
    "\n",
    "# Check for NaN values\n",
    "print(X.isnull().sum())\n",
    "print(y.isnull().sum())\n",
    "\n",
    "# Drop or fill NaN values\n",
    "X = X.dropna()  # Alternatively, you can use X = X.fillna(0)\n",
    "\n",
    "# Align y with the cleaned X\n",
    "y = pd.to_numeric(filtered_data['adjusted_elapsed_time'], errors='coerce')\n",
    "y = y[X.index]  # Ensure y corresponds to the rows kept in X\n",
    "\n",
    "# Check for NaN values again\n",
    "print(X.isnull().sum())\n",
    "print(y.isnull().sum())\n",
    "\n",
    "# Convert to integers after handling NaNs\n",
    "X = X.astype(int)\n",
    "\n",
    "# Add a constant to the model (intercept)\n",
    "X = sm.add_constant(X)\n",
    "\n",
    "# Fit the regression model\n",
    "model = sm.OLS(y, X).fit()\n",
    "\n",
    "# Print the summary\n",
    "print(model.summary())\n"
   ]
  },
  {
   "cell_type": "markdown",
   "id": "22783e25-ad2b-4583-87cb-6d21ce6f440b",
   "metadata": {},
   "source": [
    "Model Summary:\n",
    "R-squared: 0.114\n",
    "This means that approximately 11.4% of the variance in adjusted_elapsed_time can be explained by the model. This is relatively low, indicating that other factors not included in the model may influence the delays.\n",
    "F-statistic: 130.6 (p-value: 0.00)\n",
    "The overall model is statistically significant, indicating that at least one of the predictors is significantly related to the response variable."
   ]
  },
  {
   "cell_type": "markdown",
   "id": "8564f7d6-2da4-4f60-9370-2efa51b22240",
   "metadata": {},
   "source": [
    "Coefficients Interpretation:\n",
    "is_tour_window: Coefficient = 2.7664 (p-value = 0.011)\n",
    "\n",
    "The positive coefficient suggests that being within the tour window is associated with an increase in adjusted elapsed time by about 2.77 minutes on average, which is statistically significant.\n",
    "weather_delay: Coefficient = -0.0907 (p-value = 0.022)\n",
    "\n",
    "This negative coefficient implies that for each additional minute of weather delay, the adjusted elapsed time decreases by about 0.09 minutes. This might seem counterintuitive but could indicate how weather-related delays are factored in or reported.\n",
    "Airline Coefficients: Various airlines show different effects on the adjusted elapsed time:\n",
    "\n",
    "For example, op_unique_carrier_aa has a coefficient of 41.44, meaning flights from American Airlines tend to have longer adjusted elapsed times compared to the baseline carrier."
   ]
  },
  {
   "cell_type": "code",
   "execution_count": 609,
   "id": "a569430b-77ce-49bb-a02d-dcea760e42ee",
   "metadata": {},
   "outputs": [
    {
     "name": "stdout",
     "output_type": "stream",
     "text": [
      "['day_of_week', 'date', 'op_unique_carrier', 'tail_num', 'origin_latitude', 'origin_longitude', 'op_carrier_fl_num', 'origin_iata', 'origin_city', 'dest_iata', 'dest_latitude', 'dest_longitude', 'dest_city', 'crs_dep_time', 'dep_time', 'taxi_out', 'wheels_off', 'origin_state', 'dest_state', 'wheels_on', 'taxi_in', 'crs_arr_time', 'arr_time', 'cancelled', 'diverted', 'crs_elapsed_time', 'actual_elapsed_time', 'air_time', 'flights', 'distance', 'carrier_delay', 'weather_delay', 'nas_delay', 'security_delay', 'late_aircraft_delay', 'total_delay_time', 'is_weekend', 'arrival_delay', 'departure_delay', 'airline_name', 'elevation', 'prcp', 'snow', 'snwd', 'tmax', 'tmin', 'delay', 'eras_tour', 'adjusted_delay_time', 'adjusted_elapsed_time', 'is_tour_window']\n"
     ]
    }
   ],
   "source": [
    "print(filtered_data.columns.tolist())\n"
   ]
  },
  {
   "cell_type": "code",
   "execution_count": 611,
   "id": "adf3dec9-0a08-4b61-82f2-dccd7b087fbc",
   "metadata": {},
   "outputs": [
    {
     "name": "stdout",
     "output_type": "stream",
     "text": [
      "ANOVA F-statistic: 101821.39122657895, p-value: 0.0\n"
     ]
    }
   ],
   "source": [
    "from scipy.stats import f_oneway\n",
    "\n",
    "# Group delays by airline carrier\n",
    "grouped_delays = [group['adjusted_elapsed_time'].values for name, group in combined_data_cleaned.groupby('op_unique_carrier')]\n",
    "\n",
    "# Perform one-way ANOVA\n",
    "anova_result = f_oneway(*grouped_delays)\n",
    "\n",
    "# Print the results\n",
    "print(f\"ANOVA F-statistic: {anova_result.statistic}, p-value: {anova_result.pvalue}\")\n"
   ]
  },
  {
   "cell_type": "markdown",
   "id": "92b03b75-c746-4547-bbc4-cdbd3f122f1a",
   "metadata": {},
   "source": [
    "F-statistic: A large F-statistic indicates that the variability explained by your model is significantly greater than the variability unexplained (the residual variance). This suggests that the model fits the data well.\n",
    "p-value: A p-value of 0.0 (essentially) means that the null hypothesis (which states that all coefficients are equal to zero) can be rejected. This suggests that at least one of your predictors is significantly related to the delays.\n",
    "Review Coefficients: Look at the individual coefficients from your regression output to see which predictors are significant and how they influence the dependent variable.\n",
    "Model Improvement: Consider adding or transforming additional predictors based on your analysis of significance and model fit.\n",
    "Residual Analysis: Continue examining residuals for any patterns to ensure model assumptions are met.\n",
    "Further Testing: Test for interaction effects or more complex models if there are theoretical reasons to believe that relationships may not be linear."
   ]
  },
  {
   "cell_type": "code",
   "execution_count": 613,
   "id": "ef975799-1c9a-4737-a9d5-2352870563ae",
   "metadata": {},
   "outputs": [
    {
     "name": "stdout",
     "output_type": "stream",
     "text": [
      "                              OLS Regression Results                             \n",
      "=================================================================================\n",
      "Dep. Variable:     adjusted_elapsed_time   R-squared:                       0.864\n",
      "Model:                               OLS   Adj. R-squared:                  0.863\n",
      "Method:                    Least Squares   F-statistic:                     2659.\n",
      "Date:                   Sat, 02 Nov 2024   Prob (F-statistic):               0.00\n",
      "Time:                           23:26:56   Log-Likelihood:                -5435.3\n",
      "No. Observations:                   1263   AIC:                         1.088e+04\n",
      "Df Residuals:                       1259   BIC:                         1.090e+04\n",
      "Df Model:                              3                                         \n",
      "Covariance Type:               nonrobust                                         \n",
      "==================================================================================\n",
      "                     coef    std err          t      P>|t|      [0.025      0.975]\n",
      "----------------------------------------------------------------------------------\n",
      "const             48.0038      1.375     34.902      0.000      45.306      50.702\n",
      "is_tour_window     1.2541      1.166      1.075      0.282      -1.034       3.542\n",
      "weather_delay     -0.0513      0.058     -0.884      0.377      -0.165       0.063\n",
      "distance           0.1135      0.001     89.290      0.000       0.111       0.116\n",
      "==============================================================================\n",
      "Omnibus:                      247.634   Durbin-Watson:                   1.571\n",
      "Prob(Omnibus):                  0.000   Jarque-Bera (JB):              494.236\n",
      "Skew:                           1.140   Prob(JB):                    4.77e-108\n",
      "Kurtosis:                       5.047   Cond. No.                     2.70e+03\n",
      "==============================================================================\n",
      "\n",
      "Notes:\n",
      "[1] Standard Errors assume that the covariance matrix of the errors is correctly specified.\n",
      "[2] The condition number is large, 2.7e+03. This might indicate that there are\n",
      "strong multicollinearity or other numerical problems.\n"
     ]
    },
    {
     "ename": "AttributeError",
     "evalue": "'PandasData' object has no attribute 'design_info'",
     "output_type": "error",
     "traceback": [
      "\u001b[1;31m---------------------------------------------------------------------------\u001b[0m",
      "\u001b[1;31mAttributeError\u001b[0m                            Traceback (most recent call last)",
      "Cell \u001b[1;32mIn[613], line 24\u001b[0m\n\u001b[0;32m     22\u001b[0m \u001b[38;5;66;03m# Conduct ANOVA\u001b[39;00m\n\u001b[0;32m     23\u001b[0m \u001b[38;5;28;01mfrom\u001b[39;00m \u001b[38;5;21;01mstatsmodels\u001b[39;00m\u001b[38;5;21;01m.\u001b[39;00m\u001b[38;5;21;01mstats\u001b[39;00m\u001b[38;5;21;01m.\u001b[39;00m\u001b[38;5;21;01manova\u001b[39;00m \u001b[38;5;28;01mimport\u001b[39;00m anova_lm\n\u001b[1;32m---> 24\u001b[0m anova_results \u001b[38;5;241m=\u001b[39m anova_lm(model)\n\u001b[0;32m     25\u001b[0m \u001b[38;5;28mprint\u001b[39m(anova_results)\n",
      "File \u001b[1;32m~\\anaconda3\\Lib\\site-packages\\statsmodels\\stats\\anova.py:353\u001b[0m, in \u001b[0;36manova_lm\u001b[1;34m(*args, **kwargs)\u001b[0m\n\u001b[0;32m    351\u001b[0m \u001b[38;5;28;01mif\u001b[39;00m \u001b[38;5;28mlen\u001b[39m(args) \u001b[38;5;241m==\u001b[39m \u001b[38;5;241m1\u001b[39m:\n\u001b[0;32m    352\u001b[0m     model \u001b[38;5;241m=\u001b[39m args[\u001b[38;5;241m0\u001b[39m]\n\u001b[1;32m--> 353\u001b[0m     \u001b[38;5;28;01mreturn\u001b[39;00m anova_single(model, \u001b[38;5;241m*\u001b[39m\u001b[38;5;241m*\u001b[39mkwargs)\n\u001b[0;32m    355\u001b[0m \u001b[38;5;28;01mif\u001b[39;00m typ \u001b[38;5;129;01mnot\u001b[39;00m \u001b[38;5;129;01min\u001b[39;00m [\u001b[38;5;241m1\u001b[39m, \u001b[38;5;124m\"\u001b[39m\u001b[38;5;124mI\u001b[39m\u001b[38;5;124m\"\u001b[39m]:\n\u001b[0;32m    356\u001b[0m     \u001b[38;5;28;01mraise\u001b[39;00m \u001b[38;5;167;01mValueError\u001b[39;00m(\u001b[38;5;124m\"\u001b[39m\u001b[38;5;124mMultiple models only supported for type I. \u001b[39m\u001b[38;5;124m\"\u001b[39m\n\u001b[0;32m    357\u001b[0m                      \u001b[38;5;124m\"\u001b[39m\u001b[38;5;124mGot type \u001b[39m\u001b[38;5;132;01m%s\u001b[39;00m\u001b[38;5;124m\"\u001b[39m \u001b[38;5;241m%\u001b[39m \u001b[38;5;28mstr\u001b[39m(typ))\n",
      "File \u001b[1;32m~\\anaconda3\\Lib\\site-packages\\statsmodels\\stats\\anova.py:70\u001b[0m, in \u001b[0;36manova_single\u001b[1;34m(model, **kwargs)\u001b[0m\n\u001b[0;32m     67\u001b[0m nobs \u001b[38;5;241m=\u001b[39m exog\u001b[38;5;241m.\u001b[39mshape[\u001b[38;5;241m0\u001b[39m]\n\u001b[0;32m     69\u001b[0m response_name \u001b[38;5;241m=\u001b[39m model\u001b[38;5;241m.\u001b[39mmodel\u001b[38;5;241m.\u001b[39mendog_names\n\u001b[1;32m---> 70\u001b[0m design_info \u001b[38;5;241m=\u001b[39m model\u001b[38;5;241m.\u001b[39mmodel\u001b[38;5;241m.\u001b[39mdata\u001b[38;5;241m.\u001b[39mdesign_info\n\u001b[0;32m     71\u001b[0m exog_names \u001b[38;5;241m=\u001b[39m model\u001b[38;5;241m.\u001b[39mmodel\u001b[38;5;241m.\u001b[39mexog_names\n\u001b[0;32m     72\u001b[0m \u001b[38;5;66;03m# +1 for resids\u001b[39;00m\n",
      "\u001b[1;31mAttributeError\u001b[0m: 'PandasData' object has no attribute 'design_info'"
     ]
    }
   ],
   "source": [
    "import pandas as pd\n",
    "import statsmodels.api as sm\n",
    "from statsmodels.formula.api import ols\n",
    "\n",
    "# Clean the data\n",
    "filtered_data = filtered_data.dropna()  # or use fillna() as needed\n",
    "\n",
    "# Prepare the data\n",
    "X = filtered_data[['is_tour_window', 'weather_delay', 'distance']]  # Add more predictors if necessary\n",
    "X = pd.get_dummies(X, drop_first=True)  # One-hot encoding for categorical variables\n",
    "y = filtered_data['adjusted_elapsed_time']  # Dependent variable\n",
    "\n",
    "# Add a constant to the model (intercept)\n",
    "X = sm.add_constant(X)\n",
    "\n",
    "# Fit the model\n",
    "model = sm.OLS(y, X).fit()\n",
    "\n",
    "# Print the regression summary\n",
    "print(model.summary())\n",
    "\n",
    "# Conduct ANOVA\n",
    "from statsmodels.stats.anova import anova_lm\n",
    "anova_results = anova_lm(model)\n",
    "print(anova_results)\n"
   ]
  },
  {
   "cell_type": "markdown",
   "id": "d6be250b-f585-41cc-b5f8-516802ef3f49",
   "metadata": {},
   "source": [
    "R-squared and Adjusted R-squared:\n",
    "\n",
    "R-squared: 0.864 suggests that approximately 86.4% of the variability in the adjusted_elapsed_time can be explained by the model. This is a strong indicator of a good fit.\n",
    "Adjusted R-squared: 0.863 adjusts for the number of predictors in the model, indicating that adding or removing predictors doesn't lead to overfitting.\n",
    "\n",
    "Coefficients:\n",
    "\n",
    "Intercept (const): 48.0038 suggests the baseline time when all predictors are zero.\n",
    "is_tour_window: The coefficient is 1.2541, but with a p-value of 0.282, it's not statistically significant at the 0.05 level. This means being in a tour window does not have a statistically significant effect on the adjusted elapsed time in this model.\n",
    "weather_delay: The coefficient is -0.0513, also not statistically significant (p = 0.377), indicating that weather delays do not have a meaningful impact on elapsed time in this context.\n",
    "distance: The coefficient of 0.1135 is highly significant (p < 0.001), meaning that for every unit increase in distance, the adjusted elapsed time increases significantly. This aligns with intuitive expectations that longer flights take more time.\n",
    "\n",
    "Statistical Significance:\n",
    "\n",
    "Only distance shows strong significance, while the other predictors do not.\n",
    "Model Fit and Assumptions:\n",
    "\n",
    "The F-statistic is very high (2659) with a p-value of 0.00, indicating that at least one predictor is significantly related to the response variable.\n",
    "Normality of Residuals: The Omnibus test, Jarque-Bera test, and the skewness indicate possible deviations from normality. This could suggest a need to inspect residuals further for patterns or outliers.\n",
    "Durbin-Watson statistic: Close to 2 indicates little autocorrelation in residuals, which is a good sign.\n",
    "\n",
    "Multicollinearity:\n",
    "\n",
    "The warning about a large condition number (2.70e+03) suggests potential multicollinearity among your predictors. Check the Variance Inflation Factor (VIF) for your predictors to assess multicollinearity:"
   ]
  },
  {
   "cell_type": "code",
   "execution_count": 636,
   "id": "e082f928-95e4-4e1a-b91f-5a43758ad75e",
   "metadata": {},
   "outputs": [
    {
     "name": "stdout",
     "output_type": "stream",
     "text": [
      "          feature       VIF\n",
      "0           const  7.436670\n",
      "1  is_tour_window  1.000996\n",
      "2   weather_delay  1.001065\n",
      "3        distance  1.000227\n"
     ]
    }
   ],
   "source": [
    "from statsmodels.stats.outliers_influence import variance_inflation_factor\n",
    "\n",
    "# Calculate VIF for each predictor\n",
    "vif_data = pd.DataFrame()\n",
    "vif_data[\"feature\"] = X.columns\n",
    "vif_data[\"VIF\"] = [variance_inflation_factor(X.values, i) for i in range(X.shape[1])]\n",
    "\n",
    "print(vif_data)\n"
   ]
  },
  {
   "cell_type": "markdown",
   "id": "613a2e5b-5c53-4d62-a3cc-49fff57fb159",
   "metadata": {},
   "source": [
    "Since all the VIF values forpredictors (excluding the constant) are around 1, this suggests that there are no issues with multicollinearity among them. I can confidently interpret the coefficients without concern for inflated standard errors."
   ]
  },
  {
   "cell_type": "code",
   "execution_count": 639,
   "id": "b9500e74-31bc-4bed-9eff-83fcf9770488",
   "metadata": {},
   "outputs": [
    {
     "data": {
      "image/png": "[encoded data removed]",
      "text/plain": [
       "<Figure size 1000x600 with 1 Axes>"
      ]
     },
     "metadata": {},
     "output_type": "display_data"
    }
   ],
   "source": [
    "# Calculate residuals\n",
    "residuals = model.resid\n",
    "\n",
    "# residual plot\n",
    "import matplotlib.pyplot as plt\n",
    "import seaborn as sns\n",
    "\n",
    "# Residual plot\n",
    "plt.figure(figsize=(10, 6))\n",
    "sns.scatterplot(x=model.fittedvalues, y=residuals)\n",
    "plt.axhline(0, color='red', linestyle='--')\n",
    "plt.title('Residuals vs Fitted Values')\n",
    "plt.xlabel('Fitted Values')\n",
    "plt.ylabel('Residuals')\n",
    "plt.show()\n",
    "\n"
   ]
  },
  {
   "cell_type": "code",
   "execution_count": 641,
   "id": "3e8e4d97-fbdd-46b1-8464-b4db4051e82b",
   "metadata": {},
   "outputs": [
    {
     "data": {
      "image/png": "[encoded data removed]",
      "text/plain": [
       "<Figure size 800x800 with 1 Axes>"
      ]
     },
     "metadata": {},
     "output_type": "display_data"
    }
   ],
   "source": [
    "import statsmodels.api as sm\n",
    "\n",
    "# Q-Q plot\n",
    "plt.figure(figsize=(8, 8))\n",
    "sm.qqplot(residuals, line='s', ax=plt.gca())\n",
    "plt.title('Q-Q Plot of Residuals')\n",
    "plt.show()\n"
   ]
  },
  {
   "cell_type": "markdown",
   "id": "7d27ff22-17fc-494a-b56b-819394d451c0",
   "metadata": {},
   "source": [
    "# Q-Q Plot: Check how closely the points follow the diagonal line. Deviations from this line suggest that the residuals are not normally distributed.\n",
    "\n",
    "Next Steps non-normality, consider transformations of the dependent variable or adding interaction terms or polynomial features.\n",
    "You can also apply statistical tests for normality (like the Shapiro-Wilk test) or homoscedasticity (like Breusch-Pagan test) for a more formal assessment."
   ]
  },
  {
   "cell_type": "code",
   "execution_count": 644,
   "id": "1c8e0639-1bd4-463d-9c80-7063e870c06c",
   "metadata": {},
   "outputs": [],
   "source": [
    "# Log Transformation: Useful for positively skewed data.\n",
    "import numpy as np\n",
    "\n",
    "# Apply log transformation to the dependent variable\n",
    "combined_data_cleaned['log_adjusted_elapsed_time'] = np.log(combined_data_cleaned['adjusted_elapsed_time'])\n"
   ]
  },
  {
   "cell_type": "code",
   "execution_count": 646,
   "id": "09689817-aeba-4884-b328-e1d8f90e72c0",
   "metadata": {},
   "outputs": [],
   "source": [
    "# square root transformation\n",
    "combined_data_cleaned['sqrt_adjusted_elapsed_time'] = np.sqrt(combined_data_cleaned['adjusted_elapsed_time'])\n"
   ]
  },
  {
   "cell_type": "code",
   "execution_count": 648,
   "id": "a0fb0e4b-5074-4649-b4c5-9ee6fea01f1e",
   "metadata": {},
   "outputs": [],
   "source": [
    "# Box-Cox transformation\n",
    "from scipy import stats\n",
    "\n",
    "combined_data_cleaned['boxcox_adjusted_elapsed_time'], _ = stats.boxcox(combined_data_cleaned['adjusted_elapsed_time'] + 1)  # Add 1 to avoid zeros\n"
   ]
  },
  {
   "cell_type": "code",
   "execution_count": 649,
   "id": "20b8e06d-1ba9-4d59-8582-843945e42cd6",
   "metadata": {},
   "outputs": [
    {
     "name": "stdout",
     "output_type": "stream",
     "text": [
      "is_tour_window          0\n",
      "weather_delay           0\n",
      "op_unique_carrier_aa    0\n",
      "op_unique_carrier_as    0\n",
      "op_unique_carrier_b6    0\n",
      "op_unique_carrier_dl    0\n",
      "op_unique_carrier_f9    0\n",
      "op_unique_carrier_g4    0\n",
      "op_unique_carrier_mq    0\n",
      "op_unique_carrier_nk    0\n",
      "op_unique_carrier_oh    0\n",
      "op_unique_carrier_oo    0\n",
      "op_unique_carrier_ua    0\n",
      "op_unique_carrier_wn    0\n",
      "op_unique_carrier_yx    0\n",
      "dtype: int64\n",
      "0\n",
      "is_tour_window          0\n",
      "weather_delay           0\n",
      "op_unique_carrier_aa    0\n",
      "op_unique_carrier_as    0\n",
      "op_unique_carrier_b6    0\n",
      "op_unique_carrier_dl    0\n",
      "op_unique_carrier_f9    0\n",
      "op_unique_carrier_g4    0\n",
      "op_unique_carrier_mq    0\n",
      "op_unique_carrier_nk    0\n",
      "op_unique_carrier_oh    0\n",
      "op_unique_carrier_oo    0\n",
      "op_unique_carrier_ua    0\n",
      "op_unique_carrier_wn    0\n",
      "op_unique_carrier_yx    0\n",
      "dtype: int64\n",
      "0\n",
      "                              OLS Regression Results                             \n",
      "=================================================================================\n",
      "Dep. Variable:     adjusted_elapsed_time   R-squared:                       0.171\n",
      "Model:                               OLS   Adj. R-squared:                  0.161\n",
      "Method:                    Least Squares   F-statistic:                     17.12\n",
      "Date:                   Sat, 02 Nov 2024   Prob (F-statistic):           1.74e-41\n",
      "Time:                           23:29:06   Log-Likelihood:                -6575.5\n",
      "No. Observations:                   1263   AIC:                         1.318e+04\n",
      "Df Residuals:                       1247   BIC:                         1.327e+04\n",
      "Df Model:                             15                                         \n",
      "Covariance Type:               nonrobust                                         \n",
      "========================================================================================\n",
      "                           coef    std err          t      P>|t|      [0.025      0.975]\n",
      "----------------------------------------------------------------------------------------\n",
      "const                  102.4832      5.318     19.271      0.000      92.050     112.916\n",
      "is_tour_window           1.9094      2.919      0.654      0.513      -3.818       7.637\n",
      "weather_delay            0.0029      0.145      0.020      0.984      -0.281       0.287\n",
      "op_unique_carrier_aa    22.4644      5.641      3.982      0.000      11.397      33.532\n",
      "op_unique_carrier_as    42.4646     17.490      2.428      0.015       8.151      76.778\n",
      "op_unique_carrier_b6    57.9790      6.524      8.887      0.000      45.180      70.778\n",
      "op_unique_carrier_dl    16.9083      6.477      2.611      0.009       4.202      29.615\n",
      "op_unique_carrier_f9    55.8931      7.705      7.254      0.000      40.777      71.009\n",
      "op_unique_carrier_g4    38.9444      6.321      6.162      0.000      26.544      51.345\n",
      "op_unique_carrier_mq    21.1443     10.844      1.950      0.051      -0.131      42.419\n",
      "op_unique_carrier_nk    59.4624      7.842      7.583      0.000      44.078      74.846\n",
      "op_unique_carrier_oh    -0.5386      7.777     -0.069      0.945     -15.796      14.718\n",
      "op_unique_carrier_oo    -0.7476      6.467     -0.116      0.908     -13.435      11.940\n",
      "op_unique_carrier_ua    59.8339      6.988      8.563      0.000      46.125      73.543\n",
      "op_unique_carrier_wn    23.2341      5.860      3.965      0.000      11.738      34.730\n",
      "op_unique_carrier_yx    25.7574      7.759      3.320      0.001      10.536      40.979\n",
      "==============================================================================\n",
      "Omnibus:                       97.299   Durbin-Watson:                   1.763\n",
      "Prob(Omnibus):                  0.000   Jarque-Bera (JB):              118.971\n",
      "Skew:                           0.713   Prob(JB):                     1.47e-26\n",
      "Kurtosis:                       3.474   Cond. No.                         140.\n",
      "==============================================================================\n",
      "\n",
      "Notes:\n",
      "[1] Standard Errors assume that the covariance matrix of the errors is correctly specified.\n"
     ]
    }
   ],
   "source": [
    "import statsmodels.api as sm\n",
    "import pandas as pd\n",
    "\n",
    "# Prepare the data for regression analysis\n",
    "X = filtered_data[['is_tour_window', 'weather_delay', 'op_unique_carrier']]  # Include independent variables\n",
    "\n",
    "# Perform one-hot encoding for 'op_unique_carrier'\n",
    "X = pd.get_dummies(X, columns=['op_unique_carrier'], drop_first=True)\n",
    "\n",
    "# Check for NaN values\n",
    "print(X.isnull().sum())\n",
    "print(y.isnull().sum())\n",
    "\n",
    "# Drop or fill NaN values\n",
    "X = X.dropna()  # Alternatively, you can use X = X.fillna(0)\n",
    "\n",
    "# Align y with the cleaned X\n",
    "y = pd.to_numeric(filtered_data['adjusted_elapsed_time'], errors='coerce')\n",
    "y = y[X.index]  # Ensure y corresponds to the rows kept in X\n",
    "\n",
    "# Check for NaN values again\n",
    "print(X.isnull().sum())\n",
    "print(y.isnull().sum())\n",
    "\n",
    "# Convert to integers after handling NaNs\n",
    "X = X.astype(int)\n",
    "\n",
    "# Add a constant to the model (intercept)\n",
    "X = sm.add_constant(X)\n",
    "\n",
    "# Fit the regression model\n",
    "model = sm.OLS(y, X).fit()\n",
    "\n",
    "# Print the summary\n",
    "print(model.summary())\n"
   ]
  },
  {
   "cell_type": "markdown",
   "id": "494cb209-808c-4491-ba2f-3b7fece0433c",
   "metadata": {},
   "source": [
    "R-squared Value: The R-squared value has increased to around 0.171, which indicates that the model explains about 17.1% of the variance in the adjusted elapsed time. While this is an improvement, it still suggests that there might be other important predictors not included in the model. Adj. R-squared: 0.161\n",
    "This value adjusts for the number of predictors in the model, providing a more accurate measure when comparing models with different numbers of predictors.\n",
    "\n",
    "F-statistic: 17.12\n",
    "\n",
    "The associated p-value (1.74e-41) indicates that the model as a whole is statistically significant, meaning at least one of the predictors is significantly related to the response variable.\n",
    "\n",
    "\n",
    "Significant Predictors: Look closely at the coefficients and their p-values. For instance, the variables op_unique_carrier_b6, op_unique_carrier_f9, and others show significant coefficients (p < 0.05). This suggests they contribute meaningfully to the model.  \n",
    "\n",
    "Coefficients:\n",
    "\n",
    "The const (intercept) is approximately 102.48, meaning that when all predictors are zero, the estimated adjusted elapsed time is about 102.48 minutes.\n",
    "The coefficients for the independent variables tell you how much the adjusted elapsed time is expected to increase (or decrease) with a one-unit increase in each predictor, holding all other predictors constant.\n",
    "Key Predictors:\n",
    "\n",
    "op_unique_carrier_aa: 22.46 (p < 0.001)\n",
    "op_unique_carrier_b6: 57.98 (p < 0.001)\n",
    "op_unique_carrier_nk: 59.46 (p < 0.001)\n",
    "weather_delay: 0.0029 (p = 0.984)\n",
    "The weather delay variable is not statistically significant, indicating that it does not contribute to explaining variations in adjusted elapsed time.\n",
    "Airline Effects:\n",
    "\n",
    "Several airlines (like B6, NK, and UA) show significant positive coefficients, suggesting that flights operated by these airlines tend to have longer delays compared to the reference category (which was dropped during one-hot encoding)."
   ]
  },
  {
   "cell_type": "markdown",
   "id": "06c13d63-d018-40b3-9805-ff166f377415",
   "metadata": {},
   "source": [
    " Check for Multicollinearity\n",
    "Although your VIF results from previous models showed no severe multicollinearity, keep an eye on the correlation between the one-hot encoded variables. High correlation could still affect the model.\n",
    "Continue analyzing the residuals to check for homoscedasticity and normality. You previously mentioned using Q-Q plots; you can also employ residual plots to visualize the fit:"
   ]
  },
  {
   "cell_type": "code",
   "execution_count": 652,
   "id": "50fe7141-004a-41b5-ac5b-6caf98400a90",
   "metadata": {},
   "outputs": [
    {
     "data": {
      "image/png": "[encoded data removed]",
      "text/plain": [
       "<Figure size 1200x600 with 2 Axes>"
      ]
     },
     "metadata": {},
     "output_type": "display_data"
    }
   ],
   "source": [
    "plt.figure(figsize=(12, 6))\n",
    "plt.subplot(1, 2, 1)\n",
    "plt.scatter(model.fittedvalues, model.resid)\n",
    "plt.axhline(0, color='red', linestyle='--')\n",
    "plt.title('Residuals vs Fitted')\n",
    "plt.xlabel('Fitted Values')\n",
    "plt.ylabel('Residuals')\n",
    "\n",
    "plt.subplot(1, 2, 2)\n",
    "sm.qqplot(model.resid, line='s', ax=plt.gca())\n",
    "plt.title('Q-Q Plot of Residuals')\n",
    "plt.show()\n"
   ]
  },
  {
   "cell_type": "code",
   "execution_count": 653,
   "id": "51c28d14-0cc5-4bc4-bf9a-385bacbbf526",
   "metadata": {},
   "outputs": [
    {
     "name": "stdout",
     "output_type": "stream",
     "text": [
      "                 feature        VIF\n",
      "0                  const  18.102460\n",
      "1         is_tour_window   1.021211\n",
      "2          weather_delay   1.016268\n",
      "3   op_unique_carrier_aa   3.105286\n",
      "4   op_unique_carrier_as   1.079236\n",
      "5   op_unique_carrier_b6   2.058613\n",
      "6   op_unique_carrier_dl   2.082072\n",
      "7   op_unique_carrier_f9   1.582763\n",
      "8   op_unique_carrier_g4   2.198773\n",
      "9   op_unique_carrier_mq   1.230786\n",
      "10  op_unique_carrier_nk   1.553775\n",
      "11  op_unique_carrier_oh   1.584407\n",
      "12  op_unique_carrier_oo   2.093469\n",
      "13  op_unique_carrier_ua   1.811078\n",
      "14  op_unique_carrier_wn   2.710682\n",
      "15  op_unique_carrier_yx   1.577022\n"
     ]
    }
   ],
   "source": [
    "# Calculate VIF for each predictor\n",
    "vif_data = pd.DataFrame()\n",
    "vif_data[\"feature\"] = X.columns\n",
    "vif_data[\"VIF\"] = [variance_inflation_factor(X.values, i) for i in range(X.shape[1])]\n",
    "\n",
    "print(vif_data)\n"
   ]
  },
  {
   "cell_type": "markdown",
   "id": "e2837f73-5297-47e5-b63d-118a2d96a51d",
   "metadata": {},
   "source": [
    "High VIF:\n",
    "The constant term has a high VIF (18.10), which is expected, as it's a result of being included in the model.\n",
    "The variable op_unique_carrier_aa shows a VIF of 3.11, which is still within acceptable limits but worth monitoring."
   ]
  },
  {
   "cell_type": "code",
   "execution_count": 655,
   "id": "0949c8bd-0d7e-4d93-9792-01330707f3da",
   "metadata": {},
   "outputs": [],
   "source": [
    "import numpy as np\n",
    "\n",
    "# Apply log transformation\n",
    "combined_data_cleaned['log_adjusted_elapsed_time'] = np.log(combined_data_cleaned['adjusted_elapsed_time'])\n"
   ]
  },
  {
   "cell_type": "code",
   "execution_count": 656,
   "id": "08b712d9-a643-41d0-a9cd-b26e46b31d14",
   "metadata": {},
   "outputs": [],
   "source": [
    "from scipy import stats\n",
    "\n",
    "# Apply Box-Cox transformation (ensure there are no zero or negative values)\n",
    "combined_data_cleaned['boxcox_adjusted_elapsed_time'], _ = stats.boxcox(combined_data_cleaned['adjusted_elapsed_time'] + 1)  # Adding 1 to avoid zero\n"
   ]
  },
  {
   "cell_type": "code",
   "execution_count": 664,
   "id": "7496c6ea-e414-48ce-b92b-15f307dbb059",
   "metadata": {},
   "outputs": [
    {
     "name": "stdout",
     "output_type": "stream",
     "text": [
      "Index(['day_of_week', 'date', 'op_unique_carrier', 'tail_num',\n",
      "       'origin_latitude', 'origin_longitude', 'op_carrier_fl_num',\n",
      "       'origin_iata', 'origin_city', 'dest_iata', 'dest_latitude',\n",
      "       'dest_longitude', 'dest_city', 'crs_dep_time', 'dep_time', 'taxi_out',\n",
      "       'wheels_off', 'origin_state', 'dest_state', 'wheels_on', 'taxi_in',\n",
      "       'crs_arr_time', 'arr_time', 'cancelled', 'diverted', 'crs_elapsed_time',\n",
      "       'actual_elapsed_time', 'air_time', 'flights', 'distance',\n",
      "       'carrier_delay', 'weather_delay', 'nas_delay', 'security_delay',\n",
      "       'late_aircraft_delay', 'total_delay_time', 'is_weekend',\n",
      "       'arrival_delay', 'departure_delay', 'airline_name', 'elevation', 'prcp',\n",
      "       'snow', 'snwd', 'tmax', 'tmin', 'delay', 'eras_tour',\n",
      "       'adjusted_delay_time', 'adjusted_elapsed_time',\n",
      "       'log_adjusted_elapsed_time', 'sqrt_adjusted_elapsed_time',\n",
      "       'boxcox_adjusted_elapsed_time'],\n",
      "      dtype='object')\n"
     ]
    }
   ],
   "source": [
    "print(combined_data_cleaned.columns)\n"
   ]
  },
  {
   "cell_type": "code",
   "execution_count": 666,
   "id": "174a52d7-e48b-4abd-90ed-75ee58cba364",
   "metadata": {},
   "outputs": [
    {
     "ename": "NameError",
     "evalue": "name 'filtered_' is not defined",
     "output_type": "error",
     "traceback": [
      "\u001b[1;31m---------------------------------------------------------------------------\u001b[0m",
      "\u001b[1;31mNameError\u001b[0m                                 Traceback (most recent call last)",
      "Cell \u001b[1;32mIn[666], line 3\u001b[0m\n\u001b[0;32m      1\u001b[0m \u001b[38;5;66;03m# Prepare the data for regression analysis\u001b[39;00m\n\u001b[0;32m      2\u001b[0m y \u001b[38;5;241m=\u001b[39m combined_data_cleaned[\u001b[38;5;124m'\u001b[39m\u001b[38;5;124mlog_adjusted_elapsed_time\u001b[39m\u001b[38;5;124m'\u001b[39m]\n\u001b[1;32m----> 3\u001b[0m X \u001b[38;5;241m=\u001b[39m filtered_[[\u001b[38;5;124m'\u001b[39m\u001b[38;5;124mis_tour_window\u001b[39m\u001b[38;5;124m'\u001b[39m, \u001b[38;5;124m'\u001b[39m\u001b[38;5;124mweather_delay\u001b[39m\u001b[38;5;124m'\u001b[39m, \u001b[38;5;124m'\u001b[39m\u001b[38;5;124mop_unique_carrier\u001b[39m\u001b[38;5;124m'\u001b[39m]]\n",
      "\u001b[1;31mNameError\u001b[0m: name 'filtered_' is not defined"
     ]
    }
   ],
   "source": [
    "# Prepare the data for regression analysis\n",
    "y = combined_data_cleaned['log_adjusted_elapsed_time']\n",
    "X = filtered_[['is_tour_window', 'weather_delay', 'op_unique_carrier']]\n"
   ]
  },
  {
   "cell_type": "code",
   "execution_count": 668,
   "id": "d7010c34-178b-4d20-90d5-a527d55e45fd",
   "metadata": {},
   "outputs": [
    {
     "ename": "KeyError",
     "evalue": "\"None of [Index(['op_unique_carrier'], dtype='object')] are in the [columns]\"",
     "output_type": "error",
     "traceback": [
      "\u001b[1;31m---------------------------------------------------------------------------\u001b[0m",
      "\u001b[1;31mKeyError\u001b[0m                                  Traceback (most recent call last)",
      "Cell \u001b[1;32mIn[668], line 2\u001b[0m\n\u001b[0;32m      1\u001b[0m \u001b[38;5;66;03m# One-hot encoding for 'op_unique_carrier'\u001b[39;00m\n\u001b[1;32m----> 2\u001b[0m X \u001b[38;5;241m=\u001b[39m pd\u001b[38;5;241m.\u001b[39mget_dummies(X, columns\u001b[38;5;241m=\u001b[39m[\u001b[38;5;124m'\u001b[39m\u001b[38;5;124mop_unique_carrier\u001b[39m\u001b[38;5;124m'\u001b[39m], drop_first\u001b[38;5;241m=\u001b[39m\u001b[38;5;28;01mTrue\u001b[39;00m)\n\u001b[0;32m      4\u001b[0m \u001b[38;5;66;03m# Drop any rows with NaN values\u001b[39;00m\n\u001b[0;32m      5\u001b[0m X \u001b[38;5;241m=\u001b[39m X\u001b[38;5;241m.\u001b[39mdropna()\n",
      "File \u001b[1;32m~\\anaconda3\\Lib\\site-packages\\pandas\\core\\reshape\\encoding.py:169\u001b[0m, in \u001b[0;36mget_dummies\u001b[1;34m(data, prefix, prefix_sep, dummy_na, columns, sparse, drop_first, dtype)\u001b[0m\n\u001b[0;32m    167\u001b[0m     \u001b[38;5;28;01mraise\u001b[39;00m \u001b[38;5;167;01mTypeError\u001b[39;00m(\u001b[38;5;124m\"\u001b[39m\u001b[38;5;124mInput must be a list-like for parameter `columns`\u001b[39m\u001b[38;5;124m\"\u001b[39m)\n\u001b[0;32m    168\u001b[0m \u001b[38;5;28;01melse\u001b[39;00m:\n\u001b[1;32m--> 169\u001b[0m     data_to_encode \u001b[38;5;241m=\u001b[39m data[columns]\n\u001b[0;32m    171\u001b[0m \u001b[38;5;66;03m# validate prefixes and separator to avoid silently dropping cols\u001b[39;00m\n\u001b[0;32m    172\u001b[0m \u001b[38;5;28;01mdef\u001b[39;00m \u001b[38;5;21mcheck_len\u001b[39m(item, name: \u001b[38;5;28mstr\u001b[39m):\n",
      "File \u001b[1;32m~\\anaconda3\\Lib\\site-packages\\pandas\\core\\frame.py:4108\u001b[0m, in \u001b[0;36mDataFrame.__getitem__\u001b[1;34m(self, key)\u001b[0m\n\u001b[0;32m   4106\u001b[0m     \u001b[38;5;28;01mif\u001b[39;00m is_iterator(key):\n\u001b[0;32m   4107\u001b[0m         key \u001b[38;5;241m=\u001b[39m \u001b[38;5;28mlist\u001b[39m(key)\n\u001b[1;32m-> 4108\u001b[0m     indexer \u001b[38;5;241m=\u001b[39m \u001b[38;5;28mself\u001b[39m\u001b[38;5;241m.\u001b[39mcolumns\u001b[38;5;241m.\u001b[39m_get_indexer_strict(key, \u001b[38;5;124m\"\u001b[39m\u001b[38;5;124mcolumns\u001b[39m\u001b[38;5;124m\"\u001b[39m)[\u001b[38;5;241m1\u001b[39m]\n\u001b[0;32m   4110\u001b[0m \u001b[38;5;66;03m# take() does not accept boolean indexers\u001b[39;00m\n\u001b[0;32m   4111\u001b[0m \u001b[38;5;28;01mif\u001b[39;00m \u001b[38;5;28mgetattr\u001b[39m(indexer, \u001b[38;5;124m\"\u001b[39m\u001b[38;5;124mdtype\u001b[39m\u001b[38;5;124m\"\u001b[39m, \u001b[38;5;28;01mNone\u001b[39;00m) \u001b[38;5;241m==\u001b[39m \u001b[38;5;28mbool\u001b[39m:\n",
      "File \u001b[1;32m~\\anaconda3\\Lib\\site-packages\\pandas\\core\\indexes\\base.py:6200\u001b[0m, in \u001b[0;36mIndex._get_indexer_strict\u001b[1;34m(self, key, axis_name)\u001b[0m\n\u001b[0;32m   6197\u001b[0m \u001b[38;5;28;01melse\u001b[39;00m:\n\u001b[0;32m   6198\u001b[0m     keyarr, indexer, new_indexer \u001b[38;5;241m=\u001b[39m \u001b[38;5;28mself\u001b[39m\u001b[38;5;241m.\u001b[39m_reindex_non_unique(keyarr)\n\u001b[1;32m-> 6200\u001b[0m \u001b[38;5;28mself\u001b[39m\u001b[38;5;241m.\u001b[39m_raise_if_missing(keyarr, indexer, axis_name)\n\u001b[0;32m   6202\u001b[0m keyarr \u001b[38;5;241m=\u001b[39m \u001b[38;5;28mself\u001b[39m\u001b[38;5;241m.\u001b[39mtake(indexer)\n\u001b[0;32m   6203\u001b[0m \u001b[38;5;28;01mif\u001b[39;00m \u001b[38;5;28misinstance\u001b[39m(key, Index):\n\u001b[0;32m   6204\u001b[0m     \u001b[38;5;66;03m# GH 42790 - Preserve name from an Index\u001b[39;00m\n",
      "File \u001b[1;32m~\\anaconda3\\Lib\\site-packages\\pandas\\core\\indexes\\base.py:6249\u001b[0m, in \u001b[0;36mIndex._raise_if_missing\u001b[1;34m(self, key, indexer, axis_name)\u001b[0m\n\u001b[0;32m   6247\u001b[0m \u001b[38;5;28;01mif\u001b[39;00m nmissing:\n\u001b[0;32m   6248\u001b[0m     \u001b[38;5;28;01mif\u001b[39;00m nmissing \u001b[38;5;241m==\u001b[39m \u001b[38;5;28mlen\u001b[39m(indexer):\n\u001b[1;32m-> 6249\u001b[0m         \u001b[38;5;28;01mraise\u001b[39;00m \u001b[38;5;167;01mKeyError\u001b[39;00m(\u001b[38;5;124mf\u001b[39m\u001b[38;5;124m\"\u001b[39m\u001b[38;5;124mNone of [\u001b[39m\u001b[38;5;132;01m{\u001b[39;00mkey\u001b[38;5;132;01m}\u001b[39;00m\u001b[38;5;124m] are in the [\u001b[39m\u001b[38;5;132;01m{\u001b[39;00maxis_name\u001b[38;5;132;01m}\u001b[39;00m\u001b[38;5;124m]\u001b[39m\u001b[38;5;124m\"\u001b[39m)\n\u001b[0;32m   6251\u001b[0m     not_found \u001b[38;5;241m=\u001b[39m \u001b[38;5;28mlist\u001b[39m(ensure_index(key)[missing_mask\u001b[38;5;241m.\u001b[39mnonzero()[\u001b[38;5;241m0\u001b[39m]]\u001b[38;5;241m.\u001b[39munique())\n\u001b[0;32m   6252\u001b[0m     \u001b[38;5;28;01mraise\u001b[39;00m \u001b[38;5;167;01mKeyError\u001b[39;00m(\u001b[38;5;124mf\u001b[39m\u001b[38;5;124m\"\u001b[39m\u001b[38;5;132;01m{\u001b[39;00mnot_found\u001b[38;5;132;01m}\u001b[39;00m\u001b[38;5;124m not in index\u001b[39m\u001b[38;5;124m\"\u001b[39m)\n",
      "\u001b[1;31mKeyError\u001b[0m: \"None of [Index(['op_unique_carrier'], dtype='object')] are in the [columns]\""
     ]
    }
   ],
   "source": [
    "\n",
    "# One-hot encoding for 'op_unique_carrier'\n",
    "X = pd.get_dummies(X, columns=['op_unique_carrier'], drop_first=True)\n",
    "\n",
    "# Drop any rows with NaN values\n",
    "X = X.dropna()\n",
    "y = y[X.index]  # Align y with X\n",
    "\n",
    "# Add a constant to the model (intercept)\n",
    "X = sm.add_constant(X)\n",
    "\n",
    "# Fit the regression model\n",
    "model = sm.OLS(y, X).fit()\n",
    "\n",
    "# Print the summary\n",
    "print(model.summary())\n"
   ]
  },
  {
   "cell_type": "code",
   "execution_count": 670,
   "id": "aede6cf6-dc28-484b-8cfb-5340f1363ab0",
   "metadata": {},
   "outputs": [
    {
     "name": "stdout",
     "output_type": "stream",
     "text": [
      "Index(['day_of_week', 'date', 'op_unique_carrier', 'tail_num',\n",
      "       'origin_latitude', 'origin_longitude', 'op_carrier_fl_num',\n",
      "       'origin_iata', 'origin_city', 'dest_iata', 'dest_latitude',\n",
      "       'dest_longitude', 'dest_city', 'crs_dep_time', 'dep_time', 'taxi_out',\n",
      "       'wheels_off', 'origin_state', 'dest_state', 'wheels_on', 'taxi_in',\n",
      "       'crs_arr_time', 'arr_time', 'cancelled', 'diverted', 'crs_elapsed_time',\n",
      "       'actual_elapsed_time', 'air_time', 'flights', 'distance',\n",
      "       'carrier_delay', 'weather_delay', 'nas_delay', 'security_delay',\n",
      "       'late_aircraft_delay', 'total_delay_time', 'is_weekend',\n",
      "       'arrival_delay', 'departure_delay', 'airline_name', 'elevation', 'prcp',\n",
      "       'snow', 'snwd', 'tmax', 'tmin', 'delay', 'eras_tour',\n",
      "       'adjusted_delay_time', 'adjusted_elapsed_time',\n",
      "       'log_adjusted_elapsed_time', 'sqrt_adjusted_elapsed_time',\n",
      "       'boxcox_adjusted_elapsed_time'],\n",
      "      dtype='object')\n"
     ]
    }
   ],
   "source": [
    "# Check available columns first\n",
    "print(combined_data_cleaned.columns)\n",
    "\n",
    "# Prepare the data for regression analysis without 'is_tour_window'\n",
    "y = combined_data_cleaned['log_adjusted_elapsed_time']\n",
    "X = combined_data_cleaned[['weather_delay', 'op_unique_carrier']]  # Remove 'is_tour_window' if it doesn't exist\n"
   ]
  },
  {
   "cell_type": "code",
   "execution_count": 674,
   "id": "4ebfa441-68a7-4863-9afd-c6d78b474118",
   "metadata": {},
   "outputs": [
    {
     "name": "stdout",
     "output_type": "stream",
     "text": [
      "is_tour_window                0\n",
      "weather_delay           6431294\n",
      "op_unique_carrier_aa          0\n",
      "op_unique_carrier_as          0\n",
      "op_unique_carrier_b6          0\n",
      "op_unique_carrier_dl          0\n",
      "op_unique_carrier_f9          0\n",
      "op_unique_carrier_g4          0\n",
      "op_unique_carrier_ha          0\n",
      "op_unique_carrier_mq          0\n",
      "op_unique_carrier_nk          0\n",
      "op_unique_carrier_oh          0\n",
      "op_unique_carrier_oo          0\n",
      "op_unique_carrier_ua          0\n",
      "op_unique_carrier_wn          0\n",
      "op_unique_carrier_yx          0\n",
      "dtype: int64\n",
      "0\n"
     ]
    },
    {
     "ename": "ValueError",
     "evalue": "Pandas data cast to numpy dtype of object. Check input data with np.asarray(data).",
     "output_type": "error",
     "traceback": [
      "\u001b[1;31m---------------------------------------------------------------------------\u001b[0m",
      "\u001b[1;31mValueError\u001b[0m                                Traceback (most recent call last)",
      "Cell \u001b[1;32mIn[674], line 22\u001b[0m\n\u001b[0;32m     20\u001b[0m \u001b[38;5;28;01mimport\u001b[39;00m \u001b[38;5;21;01mstatsmodels\u001b[39;00m\u001b[38;5;21;01m.\u001b[39;00m\u001b[38;5;21;01mapi\u001b[39;00m \u001b[38;5;28;01mas\u001b[39;00m \u001b[38;5;21;01msm\u001b[39;00m\n\u001b[0;32m     21\u001b[0m X \u001b[38;5;241m=\u001b[39m sm\u001b[38;5;241m.\u001b[39madd_constant(X)  \u001b[38;5;66;03m# Add a constant for intercept\u001b[39;00m\n\u001b[1;32m---> 22\u001b[0m model \u001b[38;5;241m=\u001b[39m sm\u001b[38;5;241m.\u001b[39mOLS(y, X)\u001b[38;5;241m.\u001b[39mfit()  \u001b[38;5;66;03m# Fit the model\u001b[39;00m\n\u001b[0;32m     23\u001b[0m \u001b[38;5;28mprint\u001b[39m(model\u001b[38;5;241m.\u001b[39msummary())\n",
      "File \u001b[1;32m~\\anaconda3\\Lib\\site-packages\\statsmodels\\regression\\linear_model.py:924\u001b[0m, in \u001b[0;36mOLS.__init__\u001b[1;34m(self, endog, exog, missing, hasconst, **kwargs)\u001b[0m\n\u001b[0;32m    921\u001b[0m     msg \u001b[38;5;241m=\u001b[39m (\u001b[38;5;124m\"\u001b[39m\u001b[38;5;124mWeights are not supported in OLS and will be ignored\u001b[39m\u001b[38;5;124m\"\u001b[39m\n\u001b[0;32m    922\u001b[0m            \u001b[38;5;124m\"\u001b[39m\u001b[38;5;124mAn exception will be raised in the next version.\u001b[39m\u001b[38;5;124m\"\u001b[39m)\n\u001b[0;32m    923\u001b[0m     warnings\u001b[38;5;241m.\u001b[39mwarn(msg, ValueWarning)\n\u001b[1;32m--> 924\u001b[0m \u001b[38;5;28msuper\u001b[39m()\u001b[38;5;241m.\u001b[39m\u001b[38;5;21m__init__\u001b[39m(endog, exog, missing\u001b[38;5;241m=\u001b[39mmissing,\n\u001b[0;32m    925\u001b[0m                           hasconst\u001b[38;5;241m=\u001b[39mhasconst, \u001b[38;5;241m*\u001b[39m\u001b[38;5;241m*\u001b[39mkwargs)\n\u001b[0;32m    926\u001b[0m \u001b[38;5;28;01mif\u001b[39;00m \u001b[38;5;124m\"\u001b[39m\u001b[38;5;124mweights\u001b[39m\u001b[38;5;124m\"\u001b[39m \u001b[38;5;129;01min\u001b[39;00m \u001b[38;5;28mself\u001b[39m\u001b[38;5;241m.\u001b[39m_init_keys:\n\u001b[0;32m    927\u001b[0m     \u001b[38;5;28mself\u001b[39m\u001b[38;5;241m.\u001b[39m_init_keys\u001b[38;5;241m.\u001b[39mremove(\u001b[38;5;124m\"\u001b[39m\u001b[38;5;124mweights\u001b[39m\u001b[38;5;124m\"\u001b[39m)\n",
      "File \u001b[1;32m~\\anaconda3\\Lib\\site-packages\\statsmodels\\regression\\linear_model.py:749\u001b[0m, in \u001b[0;36mWLS.__init__\u001b[1;34m(self, endog, exog, weights, missing, hasconst, **kwargs)\u001b[0m\n\u001b[0;32m    747\u001b[0m \u001b[38;5;28;01melse\u001b[39;00m:\n\u001b[0;32m    748\u001b[0m     weights \u001b[38;5;241m=\u001b[39m weights\u001b[38;5;241m.\u001b[39msqueeze()\n\u001b[1;32m--> 749\u001b[0m \u001b[38;5;28msuper\u001b[39m()\u001b[38;5;241m.\u001b[39m\u001b[38;5;21m__init__\u001b[39m(endog, exog, missing\u001b[38;5;241m=\u001b[39mmissing,\n\u001b[0;32m    750\u001b[0m                           weights\u001b[38;5;241m=\u001b[39mweights, hasconst\u001b[38;5;241m=\u001b[39mhasconst, \u001b[38;5;241m*\u001b[39m\u001b[38;5;241m*\u001b[39mkwargs)\n\u001b[0;32m    751\u001b[0m nobs \u001b[38;5;241m=\u001b[39m \u001b[38;5;28mself\u001b[39m\u001b[38;5;241m.\u001b[39mexog\u001b[38;5;241m.\u001b[39mshape[\u001b[38;5;241m0\u001b[39m]\n\u001b[0;32m    752\u001b[0m weights \u001b[38;5;241m=\u001b[39m \u001b[38;5;28mself\u001b[39m\u001b[38;5;241m.\u001b[39mweights\n",
      "File \u001b[1;32m~\\anaconda3\\Lib\\site-packages\\statsmodels\\regression\\linear_model.py:203\u001b[0m, in \u001b[0;36mRegressionModel.__init__\u001b[1;34m(self, endog, exog, **kwargs)\u001b[0m\n\u001b[0;32m    202\u001b[0m \u001b[38;5;28;01mdef\u001b[39;00m \u001b[38;5;21m__init__\u001b[39m(\u001b[38;5;28mself\u001b[39m, endog, exog, \u001b[38;5;241m*\u001b[39m\u001b[38;5;241m*\u001b[39mkwargs):\n\u001b[1;32m--> 203\u001b[0m     \u001b[38;5;28msuper\u001b[39m()\u001b[38;5;241m.\u001b[39m\u001b[38;5;21m__init__\u001b[39m(endog, exog, \u001b[38;5;241m*\u001b[39m\u001b[38;5;241m*\u001b[39mkwargs)\n\u001b[0;32m    204\u001b[0m     \u001b[38;5;28mself\u001b[39m\u001b[38;5;241m.\u001b[39mpinv_wexog: Float64Array \u001b[38;5;241m|\u001b[39m \u001b[38;5;28;01mNone\u001b[39;00m \u001b[38;5;241m=\u001b[39m \u001b[38;5;28;01mNone\u001b[39;00m\n\u001b[0;32m    205\u001b[0m     \u001b[38;5;28mself\u001b[39m\u001b[38;5;241m.\u001b[39m_data_attr\u001b[38;5;241m.\u001b[39mextend([\u001b[38;5;124m'\u001b[39m\u001b[38;5;124mpinv_wexog\u001b[39m\u001b[38;5;124m'\u001b[39m, \u001b[38;5;124m'\u001b[39m\u001b[38;5;124mwendog\u001b[39m\u001b[38;5;124m'\u001b[39m, \u001b[38;5;124m'\u001b[39m\u001b[38;5;124mwexog\u001b[39m\u001b[38;5;124m'\u001b[39m, \u001b[38;5;124m'\u001b[39m\u001b[38;5;124mweights\u001b[39m\u001b[38;5;124m'\u001b[39m])\n",
      "File \u001b[1;32m~\\anaconda3\\Lib\\site-packages\\statsmodels\\base\\model.py:270\u001b[0m, in \u001b[0;36mLikelihoodModel.__init__\u001b[1;34m(self, endog, exog, **kwargs)\u001b[0m\n\u001b[0;32m    269\u001b[0m \u001b[38;5;28;01mdef\u001b[39;00m \u001b[38;5;21m__init__\u001b[39m(\u001b[38;5;28mself\u001b[39m, endog, exog\u001b[38;5;241m=\u001b[39m\u001b[38;5;28;01mNone\u001b[39;00m, \u001b[38;5;241m*\u001b[39m\u001b[38;5;241m*\u001b[39mkwargs):\n\u001b[1;32m--> 270\u001b[0m     \u001b[38;5;28msuper\u001b[39m()\u001b[38;5;241m.\u001b[39m\u001b[38;5;21m__init__\u001b[39m(endog, exog, \u001b[38;5;241m*\u001b[39m\u001b[38;5;241m*\u001b[39mkwargs)\n\u001b[0;32m    271\u001b[0m     \u001b[38;5;28mself\u001b[39m\u001b[38;5;241m.\u001b[39minitialize()\n",
      "File \u001b[1;32m~\\anaconda3\\Lib\\site-packages\\statsmodels\\base\\model.py:95\u001b[0m, in \u001b[0;36mModel.__init__\u001b[1;34m(self, endog, exog, **kwargs)\u001b[0m\n\u001b[0;32m     93\u001b[0m missing \u001b[38;5;241m=\u001b[39m kwargs\u001b[38;5;241m.\u001b[39mpop(\u001b[38;5;124m'\u001b[39m\u001b[38;5;124mmissing\u001b[39m\u001b[38;5;124m'\u001b[39m, \u001b[38;5;124m'\u001b[39m\u001b[38;5;124mnone\u001b[39m\u001b[38;5;124m'\u001b[39m)\n\u001b[0;32m     94\u001b[0m hasconst \u001b[38;5;241m=\u001b[39m kwargs\u001b[38;5;241m.\u001b[39mpop(\u001b[38;5;124m'\u001b[39m\u001b[38;5;124mhasconst\u001b[39m\u001b[38;5;124m'\u001b[39m, \u001b[38;5;28;01mNone\u001b[39;00m)\n\u001b[1;32m---> 95\u001b[0m \u001b[38;5;28mself\u001b[39m\u001b[38;5;241m.\u001b[39mdata \u001b[38;5;241m=\u001b[39m \u001b[38;5;28mself\u001b[39m\u001b[38;5;241m.\u001b[39m_handle_data(endog, exog, missing, hasconst,\n\u001b[0;32m     96\u001b[0m                               \u001b[38;5;241m*\u001b[39m\u001b[38;5;241m*\u001b[39mkwargs)\n\u001b[0;32m     97\u001b[0m \u001b[38;5;28mself\u001b[39m\u001b[38;5;241m.\u001b[39mk_constant \u001b[38;5;241m=\u001b[39m \u001b[38;5;28mself\u001b[39m\u001b[38;5;241m.\u001b[39mdata\u001b[38;5;241m.\u001b[39mk_constant\n\u001b[0;32m     98\u001b[0m \u001b[38;5;28mself\u001b[39m\u001b[38;5;241m.\u001b[39mexog \u001b[38;5;241m=\u001b[39m \u001b[38;5;28mself\u001b[39m\u001b[38;5;241m.\u001b[39mdata\u001b[38;5;241m.\u001b[39mexog\n",
      "File \u001b[1;32m~\\anaconda3\\Lib\\site-packages\\statsmodels\\base\\model.py:135\u001b[0m, in \u001b[0;36mModel._handle_data\u001b[1;34m(self, endog, exog, missing, hasconst, **kwargs)\u001b[0m\n\u001b[0;32m    134\u001b[0m \u001b[38;5;28;01mdef\u001b[39;00m \u001b[38;5;21m_handle_data\u001b[39m(\u001b[38;5;28mself\u001b[39m, endog, exog, missing, hasconst, \u001b[38;5;241m*\u001b[39m\u001b[38;5;241m*\u001b[39mkwargs):\n\u001b[1;32m--> 135\u001b[0m     data \u001b[38;5;241m=\u001b[39m handle_data(endog, exog, missing, hasconst, \u001b[38;5;241m*\u001b[39m\u001b[38;5;241m*\u001b[39mkwargs)\n\u001b[0;32m    136\u001b[0m     \u001b[38;5;66;03m# kwargs arrays could have changed, easier to just attach here\u001b[39;00m\n\u001b[0;32m    137\u001b[0m     \u001b[38;5;28;01mfor\u001b[39;00m key \u001b[38;5;129;01min\u001b[39;00m kwargs:\n",
      "File \u001b[1;32m~\\anaconda3\\Lib\\site-packages\\statsmodels\\base\\data.py:675\u001b[0m, in \u001b[0;36mhandle_data\u001b[1;34m(endog, exog, missing, hasconst, **kwargs)\u001b[0m\n\u001b[0;32m    672\u001b[0m     exog \u001b[38;5;241m=\u001b[39m np\u001b[38;5;241m.\u001b[39masarray(exog)\n\u001b[0;32m    674\u001b[0m klass \u001b[38;5;241m=\u001b[39m handle_data_class_factory(endog, exog)\n\u001b[1;32m--> 675\u001b[0m \u001b[38;5;28;01mreturn\u001b[39;00m klass(endog, exog\u001b[38;5;241m=\u001b[39mexog, missing\u001b[38;5;241m=\u001b[39mmissing, hasconst\u001b[38;5;241m=\u001b[39mhasconst,\n\u001b[0;32m    676\u001b[0m              \u001b[38;5;241m*\u001b[39m\u001b[38;5;241m*\u001b[39mkwargs)\n",
      "File \u001b[1;32m~\\anaconda3\\Lib\\site-packages\\statsmodels\\base\\data.py:84\u001b[0m, in \u001b[0;36mModelData.__init__\u001b[1;34m(self, endog, exog, missing, hasconst, **kwargs)\u001b[0m\n\u001b[0;32m     82\u001b[0m     \u001b[38;5;28mself\u001b[39m\u001b[38;5;241m.\u001b[39morig_endog \u001b[38;5;241m=\u001b[39m endog\n\u001b[0;32m     83\u001b[0m     \u001b[38;5;28mself\u001b[39m\u001b[38;5;241m.\u001b[39morig_exog \u001b[38;5;241m=\u001b[39m exog\n\u001b[1;32m---> 84\u001b[0m     \u001b[38;5;28mself\u001b[39m\u001b[38;5;241m.\u001b[39mendog, \u001b[38;5;28mself\u001b[39m\u001b[38;5;241m.\u001b[39mexog \u001b[38;5;241m=\u001b[39m \u001b[38;5;28mself\u001b[39m\u001b[38;5;241m.\u001b[39m_convert_endog_exog(endog, exog)\n\u001b[0;32m     86\u001b[0m \u001b[38;5;28mself\u001b[39m\u001b[38;5;241m.\u001b[39mconst_idx \u001b[38;5;241m=\u001b[39m \u001b[38;5;28;01mNone\u001b[39;00m\n\u001b[0;32m     87\u001b[0m \u001b[38;5;28mself\u001b[39m\u001b[38;5;241m.\u001b[39mk_constant \u001b[38;5;241m=\u001b[39m \u001b[38;5;241m0\u001b[39m\n",
      "File \u001b[1;32m~\\anaconda3\\Lib\\site-packages\\statsmodels\\base\\data.py:509\u001b[0m, in \u001b[0;36mPandasData._convert_endog_exog\u001b[1;34m(self, endog, exog)\u001b[0m\n\u001b[0;32m    507\u001b[0m exog \u001b[38;5;241m=\u001b[39m exog \u001b[38;5;28;01mif\u001b[39;00m exog \u001b[38;5;129;01mis\u001b[39;00m \u001b[38;5;28;01mNone\u001b[39;00m \u001b[38;5;28;01melse\u001b[39;00m np\u001b[38;5;241m.\u001b[39masarray(exog)\n\u001b[0;32m    508\u001b[0m \u001b[38;5;28;01mif\u001b[39;00m endog\u001b[38;5;241m.\u001b[39mdtype \u001b[38;5;241m==\u001b[39m \u001b[38;5;28mobject\u001b[39m \u001b[38;5;129;01mor\u001b[39;00m exog \u001b[38;5;129;01mis\u001b[39;00m \u001b[38;5;129;01mnot\u001b[39;00m \u001b[38;5;28;01mNone\u001b[39;00m \u001b[38;5;129;01mand\u001b[39;00m exog\u001b[38;5;241m.\u001b[39mdtype \u001b[38;5;241m==\u001b[39m \u001b[38;5;28mobject\u001b[39m:\n\u001b[1;32m--> 509\u001b[0m     \u001b[38;5;28;01mraise\u001b[39;00m \u001b[38;5;167;01mValueError\u001b[39;00m(\u001b[38;5;124m\"\u001b[39m\u001b[38;5;124mPandas data cast to numpy dtype of object. \u001b[39m\u001b[38;5;124m\"\u001b[39m\n\u001b[0;32m    510\u001b[0m                      \u001b[38;5;124m\"\u001b[39m\u001b[38;5;124mCheck input data with np.asarray(data).\u001b[39m\u001b[38;5;124m\"\u001b[39m)\n\u001b[0;32m    511\u001b[0m \u001b[38;5;28;01mreturn\u001b[39;00m \u001b[38;5;28msuper\u001b[39m()\u001b[38;5;241m.\u001b[39m_convert_endog_exog(endog, exog)\n",
      "\u001b[1;31mValueError\u001b[0m: Pandas data cast to numpy dtype of object. Check input data with np.asarray(data)."
     ]
    }
   ],
   "source": [
    "# Create is_tour_window if needed\n",
    "combined_data_cleaned['is_tour_window'] = combined_data_cleaned['is_weekend']  # Example condition\n",
    "\n",
    "# Prepare the data for regression analysis\n",
    "y = combined_data_cleaned['log_adjusted_elapsed_time']\n",
    "X = combined_data_cleaned[['is_tour_window', 'weather_delay', 'op_unique_carrier']]\n",
    "\n",
    "# Perform one-hot encoding for 'op_unique_carrier'\n",
    "X = pd.get_dummies(X, columns=['op_unique_carrier'], drop_first=True)\n",
    "\n",
    "# Check for missing values\n",
    "print(X.isnull().sum())\n",
    "print(y.isnull().sum())\n",
    "\n",
    "# Drop rows with NaNs\n",
    "X = X.dropna()\n",
    "y = y[X.index]  # Align y with the cleaned X\n",
    "\n",
    "# Fit the model\n",
    "import statsmodels.api as sm\n",
    "X = sm.add_constant(X)  # Add a constant for intercept\n",
    "model = sm.OLS(y, X).fit()  # Fit the model\n",
    "print(model.summary())  # Print the summary"
   ]
  },
  {
   "cell_type": "code",
   "execution_count": 676,
   "id": "4298d72e-810e-4b9d-9853-25966d31cb76",
   "metadata": {},
   "outputs": [
    {
     "name": "stdout",
     "output_type": "stream",
     "text": [
      "const                   float64\n",
      "is_tour_window            int64\n",
      "weather_delay           float64\n",
      "op_unique_carrier_aa       bool\n",
      "op_unique_carrier_as       bool\n",
      "op_unique_carrier_b6       bool\n",
      "op_unique_carrier_dl       bool\n",
      "op_unique_carrier_f9       bool\n",
      "op_unique_carrier_g4       bool\n",
      "op_unique_carrier_ha       bool\n",
      "op_unique_carrier_mq       bool\n",
      "op_unique_carrier_nk       bool\n",
      "op_unique_carrier_oh       bool\n",
      "op_unique_carrier_oo       bool\n",
      "op_unique_carrier_ua       bool\n",
      "op_unique_carrier_wn       bool\n",
      "op_unique_carrier_yx       bool\n",
      "dtype: object\n",
      "float64\n"
     ]
    }
   ],
   "source": [
    "print(X.dtypes)\n",
    "print(y.dtypes)\n"
   ]
  },
  {
   "cell_type": "code",
   "execution_count": 678,
   "id": "0679cd2f-7422-4b59-a61d-b4707990dff3",
   "metadata": {},
   "outputs": [],
   "source": [
    "X = X.astype(int)\n"
   ]
  },
  {
   "cell_type": "code",
   "execution_count": 682,
   "id": "13f3e601-1d72-465c-a5da-da9c10aa6e4d",
   "metadata": {},
   "outputs": [
    {
     "name": "stdout",
     "output_type": "stream",
     "text": [
      "const                   int32\n",
      "is_tour_window          int32\n",
      "weather_delay           int32\n",
      "op_unique_carrier_aa    int32\n",
      "op_unique_carrier_as    int32\n",
      "op_unique_carrier_b6    int32\n",
      "op_unique_carrier_dl    int32\n",
      "op_unique_carrier_f9    int32\n",
      "op_unique_carrier_g4    int32\n",
      "op_unique_carrier_ha    int32\n",
      "op_unique_carrier_mq    int32\n",
      "op_unique_carrier_nk    int32\n",
      "op_unique_carrier_oh    int32\n",
      "op_unique_carrier_oo    int32\n",
      "op_unique_carrier_ua    int32\n",
      "op_unique_carrier_wn    int32\n",
      "op_unique_carrier_yx    int32\n",
      "dtype: object\n",
      "float64\n"
     ]
    }
   ],
   "source": [
    "print(X.dtypes)\n",
    "print(y.dtypes)"
   ]
  },
  {
   "cell_type": "code",
   "execution_count": 684,
   "id": "59b39dee-91b4-4bae-b911-8e55dcb7a0ce",
   "metadata": {},
   "outputs": [
    {
     "name": "stdout",
     "output_type": "stream",
     "text": [
      "const                   0\n",
      "is_tour_window          0\n",
      "weather_delay           0\n",
      "op_unique_carrier_aa    0\n",
      "op_unique_carrier_as    0\n",
      "op_unique_carrier_b6    0\n",
      "op_unique_carrier_dl    0\n",
      "op_unique_carrier_f9    0\n",
      "op_unique_carrier_g4    0\n",
      "op_unique_carrier_ha    0\n",
      "op_unique_carrier_mq    0\n",
      "op_unique_carrier_nk    0\n",
      "op_unique_carrier_oh    0\n",
      "op_unique_carrier_oo    0\n",
      "op_unique_carrier_ua    0\n",
      "op_unique_carrier_wn    0\n",
      "op_unique_carrier_yx    0\n",
      "dtype: int64\n",
      "0\n"
     ]
    }
   ],
   "source": [
    "print(X.isnull().sum())\n",
    "print(y.isnull().sum())\n"
   ]
  },
  {
   "cell_type": "code",
   "execution_count": 686,
   "id": "53cd6daa-7708-47a2-881b-f2b0548bac28",
   "metadata": {},
   "outputs": [
    {
     "name": "stdout",
     "output_type": "stream",
     "text": [
      "                                OLS Regression Results                               \n",
      "=====================================================================================\n",
      "Dep. Variable:     log_adjusted_elapsed_time   R-squared:                       0.127\n",
      "Model:                                   OLS   Adj. R-squared:                  0.127\n",
      "Method:                        Least Squares   F-statistic:                 1.456e+04\n",
      "Date:                       Sat, 02 Nov 2024   Prob (F-statistic):               0.00\n",
      "Time:                               23:40:53   Log-Likelihood:            -8.6069e+05\n",
      "No. Observations:                    1598928   AIC:                         1.721e+06\n",
      "Df Residuals:                        1598911   BIC:                         1.722e+06\n",
      "Df Model:                                 16                                         \n",
      "Covariance Type:                   nonrobust                                         \n",
      "========================================================================================\n",
      "                           coef    std err          t      P>|t|      [0.025      0.975]\n",
      "----------------------------------------------------------------------------------------\n",
      "const                    4.5961      0.002   1866.750      0.000       4.591       4.601\n",
      "is_tour_window           0.0120      0.001     16.679      0.000       0.011       0.013\n",
      "weather_delay         2.162e-05   9.58e-06      2.256      0.024    2.83e-06    4.04e-05\n",
      "op_unique_carrier_aa     0.3650      0.003    142.535      0.000       0.360       0.370\n",
      "op_unique_carrier_as     0.6310      0.003    185.448      0.000       0.624       0.638\n",
      "op_unique_carrier_b6     0.5500      0.003    186.584      0.000       0.544       0.556\n",
      "op_unique_carrier_dl     0.2785      0.003    105.099      0.000       0.273       0.284\n",
      "op_unique_carrier_f9     0.4572      0.003    158.334      0.000       0.452       0.463\n",
      "op_unique_carrier_g4     0.3594      0.003    113.368      0.000       0.353       0.366\n",
      "op_unique_carrier_ha     0.1178      0.006     21.116      0.000       0.107       0.129\n",
      "op_unique_carrier_mq     0.1136      0.003     38.466      0.000       0.108       0.119\n",
      "op_unique_carrier_nk     0.4407      0.003    156.166      0.000       0.435       0.446\n",
      "op_unique_carrier_oh     0.0238      0.003      7.832      0.000       0.018       0.030\n",
      "op_unique_carrier_oo     0.0220      0.003      8.118      0.000       0.017       0.027\n",
      "op_unique_carrier_ua     0.4646      0.003    174.658      0.000       0.459       0.470\n",
      "op_unique_carrier_wn     0.1961      0.003     76.755      0.000       0.191       0.201\n",
      "op_unique_carrier_yx     0.1917      0.003     55.102      0.000       0.185       0.198\n",
      "==============================================================================\n",
      "Omnibus:                     2654.654   Durbin-Watson:                   1.594\n",
      "Prob(Omnibus):                  0.000   Jarque-Bera (JB):             2682.541\n",
      "Skew:                          -0.095   Prob(JB):                         0.00\n",
      "Kurtosis:                       3.065   Cond. No.                     1.03e+03\n",
      "==============================================================================\n",
      "\n",
      "Notes:\n",
      "[1] Standard Errors assume that the covariance matrix of the errors is correctly specified.\n",
      "[2] The condition number is large, 1.03e+03. This might indicate that there are\n",
      "strong multicollinearity or other numerical problems.\n"
     ]
    }
   ],
   "source": [
    "import statsmodels.api as sm\n",
    "\n",
    "# Add a constant to the model (intercept)\n",
    "X = sm.add_constant(X)\n",
    "\n",
    "# Fit the regression model\n",
    "model = sm.OLS(y, X).fit()\n",
    "\n",
    "# Print the summary\n",
    "print(model.summary())\n"
   ]
  },
  {
   "cell_type": "code",
   "execution_count": 688,
   "id": "4a7da286-aea9-4d36-8b1f-3f734b216a01",
   "metadata": {},
   "outputs": [
    {
     "ename": "MissingDataError",
     "evalue": "exog contains inf or nans",
     "output_type": "error",
     "traceback": [
      "\u001b[1;31m---------------------------------------------------------------------------\u001b[0m",
      "\u001b[1;31mMissingDataError\u001b[0m                          Traceback (most recent call last)",
      "Cell \u001b[1;32mIn[688], line 14\u001b[0m\n\u001b[0;32m     12\u001b[0m vif \u001b[38;5;241m=\u001b[39m pd\u001b[38;5;241m.\u001b[39mDataFrame()\n\u001b[0;32m     13\u001b[0m vif[\u001b[38;5;124m\"\u001b[39m\u001b[38;5;124mfeature\u001b[39m\u001b[38;5;124m\"\u001b[39m] \u001b[38;5;241m=\u001b[39m X_vif\u001b[38;5;241m.\u001b[39mcolumns\n\u001b[1;32m---> 14\u001b[0m vif[\u001b[38;5;124m\"\u001b[39m\u001b[38;5;124mVIF\u001b[39m\u001b[38;5;124m\"\u001b[39m] \u001b[38;5;241m=\u001b[39m [variance_inflation_factor(X_vif\u001b[38;5;241m.\u001b[39mvalues, i) \u001b[38;5;28;01mfor\u001b[39;00m i \u001b[38;5;129;01min\u001b[39;00m \u001b[38;5;28mrange\u001b[39m(X_vif\u001b[38;5;241m.\u001b[39mshape[\u001b[38;5;241m1\u001b[39m])]\n\u001b[0;32m     16\u001b[0m \u001b[38;5;28mprint\u001b[39m(vif)\n",
      "File \u001b[1;32m~\\anaconda3\\Lib\\site-packages\\statsmodels\\stats\\outliers_influence.py:196\u001b[0m, in \u001b[0;36mvariance_inflation_factor\u001b[1;34m(exog, exog_idx)\u001b[0m\n\u001b[0;32m    194\u001b[0m mask \u001b[38;5;241m=\u001b[39m np\u001b[38;5;241m.\u001b[39marange(k_vars) \u001b[38;5;241m!=\u001b[39m exog_idx\n\u001b[0;32m    195\u001b[0m x_noti \u001b[38;5;241m=\u001b[39m exog[:, mask]\n\u001b[1;32m--> 196\u001b[0m r_squared_i \u001b[38;5;241m=\u001b[39m OLS(x_i, x_noti)\u001b[38;5;241m.\u001b[39mfit()\u001b[38;5;241m.\u001b[39mrsquared\n\u001b[0;32m    197\u001b[0m vif \u001b[38;5;241m=\u001b[39m \u001b[38;5;241m1.\u001b[39m \u001b[38;5;241m/\u001b[39m (\u001b[38;5;241m1.\u001b[39m \u001b[38;5;241m-\u001b[39m r_squared_i)\n\u001b[0;32m    198\u001b[0m \u001b[38;5;28;01mreturn\u001b[39;00m vif\n",
      "File \u001b[1;32m~\\anaconda3\\Lib\\site-packages\\statsmodels\\regression\\linear_model.py:924\u001b[0m, in \u001b[0;36mOLS.__init__\u001b[1;34m(self, endog, exog, missing, hasconst, **kwargs)\u001b[0m\n\u001b[0;32m    921\u001b[0m     msg \u001b[38;5;241m=\u001b[39m (\u001b[38;5;124m\"\u001b[39m\u001b[38;5;124mWeights are not supported in OLS and will be ignored\u001b[39m\u001b[38;5;124m\"\u001b[39m\n\u001b[0;32m    922\u001b[0m            \u001b[38;5;124m\"\u001b[39m\u001b[38;5;124mAn exception will be raised in the next version.\u001b[39m\u001b[38;5;124m\"\u001b[39m)\n\u001b[0;32m    923\u001b[0m     warnings\u001b[38;5;241m.\u001b[39mwarn(msg, ValueWarning)\n\u001b[1;32m--> 924\u001b[0m \u001b[38;5;28msuper\u001b[39m()\u001b[38;5;241m.\u001b[39m\u001b[38;5;21m__init__\u001b[39m(endog, exog, missing\u001b[38;5;241m=\u001b[39mmissing,\n\u001b[0;32m    925\u001b[0m                           hasconst\u001b[38;5;241m=\u001b[39mhasconst, \u001b[38;5;241m*\u001b[39m\u001b[38;5;241m*\u001b[39mkwargs)\n\u001b[0;32m    926\u001b[0m \u001b[38;5;28;01mif\u001b[39;00m \u001b[38;5;124m\"\u001b[39m\u001b[38;5;124mweights\u001b[39m\u001b[38;5;124m\"\u001b[39m \u001b[38;5;129;01min\u001b[39;00m \u001b[38;5;28mself\u001b[39m\u001b[38;5;241m.\u001b[39m_init_keys:\n\u001b[0;32m    927\u001b[0m     \u001b[38;5;28mself\u001b[39m\u001b[38;5;241m.\u001b[39m_init_keys\u001b[38;5;241m.\u001b[39mremove(\u001b[38;5;124m\"\u001b[39m\u001b[38;5;124mweights\u001b[39m\u001b[38;5;124m\"\u001b[39m)\n",
      "File \u001b[1;32m~\\anaconda3\\Lib\\site-packages\\statsmodels\\regression\\linear_model.py:749\u001b[0m, in \u001b[0;36mWLS.__init__\u001b[1;34m(self, endog, exog, weights, missing, hasconst, **kwargs)\u001b[0m\n\u001b[0;32m    747\u001b[0m \u001b[38;5;28;01melse\u001b[39;00m:\n\u001b[0;32m    748\u001b[0m     weights \u001b[38;5;241m=\u001b[39m weights\u001b[38;5;241m.\u001b[39msqueeze()\n\u001b[1;32m--> 749\u001b[0m \u001b[38;5;28msuper\u001b[39m()\u001b[38;5;241m.\u001b[39m\u001b[38;5;21m__init__\u001b[39m(endog, exog, missing\u001b[38;5;241m=\u001b[39mmissing,\n\u001b[0;32m    750\u001b[0m                           weights\u001b[38;5;241m=\u001b[39mweights, hasconst\u001b[38;5;241m=\u001b[39mhasconst, \u001b[38;5;241m*\u001b[39m\u001b[38;5;241m*\u001b[39mkwargs)\n\u001b[0;32m    751\u001b[0m nobs \u001b[38;5;241m=\u001b[39m \u001b[38;5;28mself\u001b[39m\u001b[38;5;241m.\u001b[39mexog\u001b[38;5;241m.\u001b[39mshape[\u001b[38;5;241m0\u001b[39m]\n\u001b[0;32m    752\u001b[0m weights \u001b[38;5;241m=\u001b[39m \u001b[38;5;28mself\u001b[39m\u001b[38;5;241m.\u001b[39mweights\n",
      "File \u001b[1;32m~\\anaconda3\\Lib\\site-packages\\statsmodels\\regression\\linear_model.py:203\u001b[0m, in \u001b[0;36mRegressionModel.__init__\u001b[1;34m(self, endog, exog, **kwargs)\u001b[0m\n\u001b[0;32m    202\u001b[0m \u001b[38;5;28;01mdef\u001b[39;00m \u001b[38;5;21m__init__\u001b[39m(\u001b[38;5;28mself\u001b[39m, endog, exog, \u001b[38;5;241m*\u001b[39m\u001b[38;5;241m*\u001b[39mkwargs):\n\u001b[1;32m--> 203\u001b[0m     \u001b[38;5;28msuper\u001b[39m()\u001b[38;5;241m.\u001b[39m\u001b[38;5;21m__init__\u001b[39m(endog, exog, \u001b[38;5;241m*\u001b[39m\u001b[38;5;241m*\u001b[39mkwargs)\n\u001b[0;32m    204\u001b[0m     \u001b[38;5;28mself\u001b[39m\u001b[38;5;241m.\u001b[39mpinv_wexog: Float64Array \u001b[38;5;241m|\u001b[39m \u001b[38;5;28;01mNone\u001b[39;00m \u001b[38;5;241m=\u001b[39m \u001b[38;5;28;01mNone\u001b[39;00m\n\u001b[0;32m    205\u001b[0m     \u001b[38;5;28mself\u001b[39m\u001b[38;5;241m.\u001b[39m_data_attr\u001b[38;5;241m.\u001b[39mextend([\u001b[38;5;124m'\u001b[39m\u001b[38;5;124mpinv_wexog\u001b[39m\u001b[38;5;124m'\u001b[39m, \u001b[38;5;124m'\u001b[39m\u001b[38;5;124mwendog\u001b[39m\u001b[38;5;124m'\u001b[39m, \u001b[38;5;124m'\u001b[39m\u001b[38;5;124mwexog\u001b[39m\u001b[38;5;124m'\u001b[39m, \u001b[38;5;124m'\u001b[39m\u001b[38;5;124mweights\u001b[39m\u001b[38;5;124m'\u001b[39m])\n",
      "File \u001b[1;32m~\\anaconda3\\Lib\\site-packages\\statsmodels\\base\\model.py:270\u001b[0m, in \u001b[0;36mLikelihoodModel.__init__\u001b[1;34m(self, endog, exog, **kwargs)\u001b[0m\n\u001b[0;32m    269\u001b[0m \u001b[38;5;28;01mdef\u001b[39;00m \u001b[38;5;21m__init__\u001b[39m(\u001b[38;5;28mself\u001b[39m, endog, exog\u001b[38;5;241m=\u001b[39m\u001b[38;5;28;01mNone\u001b[39;00m, \u001b[38;5;241m*\u001b[39m\u001b[38;5;241m*\u001b[39mkwargs):\n\u001b[1;32m--> 270\u001b[0m     \u001b[38;5;28msuper\u001b[39m()\u001b[38;5;241m.\u001b[39m\u001b[38;5;21m__init__\u001b[39m(endog, exog, \u001b[38;5;241m*\u001b[39m\u001b[38;5;241m*\u001b[39mkwargs)\n\u001b[0;32m    271\u001b[0m     \u001b[38;5;28mself\u001b[39m\u001b[38;5;241m.\u001b[39minitialize()\n",
      "File \u001b[1;32m~\\anaconda3\\Lib\\site-packages\\statsmodels\\base\\model.py:95\u001b[0m, in \u001b[0;36mModel.__init__\u001b[1;34m(self, endog, exog, **kwargs)\u001b[0m\n\u001b[0;32m     93\u001b[0m missing \u001b[38;5;241m=\u001b[39m kwargs\u001b[38;5;241m.\u001b[39mpop(\u001b[38;5;124m'\u001b[39m\u001b[38;5;124mmissing\u001b[39m\u001b[38;5;124m'\u001b[39m, \u001b[38;5;124m'\u001b[39m\u001b[38;5;124mnone\u001b[39m\u001b[38;5;124m'\u001b[39m)\n\u001b[0;32m     94\u001b[0m hasconst \u001b[38;5;241m=\u001b[39m kwargs\u001b[38;5;241m.\u001b[39mpop(\u001b[38;5;124m'\u001b[39m\u001b[38;5;124mhasconst\u001b[39m\u001b[38;5;124m'\u001b[39m, \u001b[38;5;28;01mNone\u001b[39;00m)\n\u001b[1;32m---> 95\u001b[0m \u001b[38;5;28mself\u001b[39m\u001b[38;5;241m.\u001b[39mdata \u001b[38;5;241m=\u001b[39m \u001b[38;5;28mself\u001b[39m\u001b[38;5;241m.\u001b[39m_handle_data(endog, exog, missing, hasconst,\n\u001b[0;32m     96\u001b[0m                               \u001b[38;5;241m*\u001b[39m\u001b[38;5;241m*\u001b[39mkwargs)\n\u001b[0;32m     97\u001b[0m \u001b[38;5;28mself\u001b[39m\u001b[38;5;241m.\u001b[39mk_constant \u001b[38;5;241m=\u001b[39m \u001b[38;5;28mself\u001b[39m\u001b[38;5;241m.\u001b[39mdata\u001b[38;5;241m.\u001b[39mk_constant\n\u001b[0;32m     98\u001b[0m \u001b[38;5;28mself\u001b[39m\u001b[38;5;241m.\u001b[39mexog \u001b[38;5;241m=\u001b[39m \u001b[38;5;28mself\u001b[39m\u001b[38;5;241m.\u001b[39mdata\u001b[38;5;241m.\u001b[39mexog\n",
      "File \u001b[1;32m~\\anaconda3\\Lib\\site-packages\\statsmodels\\base\\model.py:135\u001b[0m, in \u001b[0;36mModel._handle_data\u001b[1;34m(self, endog, exog, missing, hasconst, **kwargs)\u001b[0m\n\u001b[0;32m    134\u001b[0m \u001b[38;5;28;01mdef\u001b[39;00m \u001b[38;5;21m_handle_data\u001b[39m(\u001b[38;5;28mself\u001b[39m, endog, exog, missing, hasconst, \u001b[38;5;241m*\u001b[39m\u001b[38;5;241m*\u001b[39mkwargs):\n\u001b[1;32m--> 135\u001b[0m     data \u001b[38;5;241m=\u001b[39m handle_data(endog, exog, missing, hasconst, \u001b[38;5;241m*\u001b[39m\u001b[38;5;241m*\u001b[39mkwargs)\n\u001b[0;32m    136\u001b[0m     \u001b[38;5;66;03m# kwargs arrays could have changed, easier to just attach here\u001b[39;00m\n\u001b[0;32m    137\u001b[0m     \u001b[38;5;28;01mfor\u001b[39;00m key \u001b[38;5;129;01min\u001b[39;00m kwargs:\n",
      "File \u001b[1;32m~\\anaconda3\\Lib\\site-packages\\statsmodels\\base\\data.py:675\u001b[0m, in \u001b[0;36mhandle_data\u001b[1;34m(endog, exog, missing, hasconst, **kwargs)\u001b[0m\n\u001b[0;32m    672\u001b[0m     exog \u001b[38;5;241m=\u001b[39m np\u001b[38;5;241m.\u001b[39masarray(exog)\n\u001b[0;32m    674\u001b[0m klass \u001b[38;5;241m=\u001b[39m handle_data_class_factory(endog, exog)\n\u001b[1;32m--> 675\u001b[0m \u001b[38;5;28;01mreturn\u001b[39;00m klass(endog, exog\u001b[38;5;241m=\u001b[39mexog, missing\u001b[38;5;241m=\u001b[39mmissing, hasconst\u001b[38;5;241m=\u001b[39mhasconst,\n\u001b[0;32m    676\u001b[0m              \u001b[38;5;241m*\u001b[39m\u001b[38;5;241m*\u001b[39mkwargs)\n",
      "File \u001b[1;32m~\\anaconda3\\Lib\\site-packages\\statsmodels\\base\\data.py:88\u001b[0m, in \u001b[0;36mModelData.__init__\u001b[1;34m(self, endog, exog, missing, hasconst, **kwargs)\u001b[0m\n\u001b[0;32m     86\u001b[0m \u001b[38;5;28mself\u001b[39m\u001b[38;5;241m.\u001b[39mconst_idx \u001b[38;5;241m=\u001b[39m \u001b[38;5;28;01mNone\u001b[39;00m\n\u001b[0;32m     87\u001b[0m \u001b[38;5;28mself\u001b[39m\u001b[38;5;241m.\u001b[39mk_constant \u001b[38;5;241m=\u001b[39m \u001b[38;5;241m0\u001b[39m\n\u001b[1;32m---> 88\u001b[0m \u001b[38;5;28mself\u001b[39m\u001b[38;5;241m.\u001b[39m_handle_constant(hasconst)\n\u001b[0;32m     89\u001b[0m \u001b[38;5;28mself\u001b[39m\u001b[38;5;241m.\u001b[39m_check_integrity()\n\u001b[0;32m     90\u001b[0m \u001b[38;5;28mself\u001b[39m\u001b[38;5;241m.\u001b[39m_cache \u001b[38;5;241m=\u001b[39m {}\n",
      "File \u001b[1;32m~\\anaconda3\\Lib\\site-packages\\statsmodels\\base\\data.py:134\u001b[0m, in \u001b[0;36mModelData._handle_constant\u001b[1;34m(self, hasconst)\u001b[0m\n\u001b[0;32m    132\u001b[0m exog_max \u001b[38;5;241m=\u001b[39m np\u001b[38;5;241m.\u001b[39mmax(\u001b[38;5;28mself\u001b[39m\u001b[38;5;241m.\u001b[39mexog, axis\u001b[38;5;241m=\u001b[39m\u001b[38;5;241m0\u001b[39m)\n\u001b[0;32m    133\u001b[0m \u001b[38;5;28;01mif\u001b[39;00m \u001b[38;5;129;01mnot\u001b[39;00m np\u001b[38;5;241m.\u001b[39misfinite(exog_max)\u001b[38;5;241m.\u001b[39mall():\n\u001b[1;32m--> 134\u001b[0m     \u001b[38;5;28;01mraise\u001b[39;00m MissingDataError(\u001b[38;5;124m'\u001b[39m\u001b[38;5;124mexog contains inf or nans\u001b[39m\u001b[38;5;124m'\u001b[39m)\n\u001b[0;32m    135\u001b[0m exog_min \u001b[38;5;241m=\u001b[39m np\u001b[38;5;241m.\u001b[39mmin(\u001b[38;5;28mself\u001b[39m\u001b[38;5;241m.\u001b[39mexog, axis\u001b[38;5;241m=\u001b[39m\u001b[38;5;241m0\u001b[39m)\n\u001b[0;32m    136\u001b[0m const_idx \u001b[38;5;241m=\u001b[39m np\u001b[38;5;241m.\u001b[39mwhere(exog_max \u001b[38;5;241m==\u001b[39m exog_min)[\u001b[38;5;241m0\u001b[39m]\u001b[38;5;241m.\u001b[39msqueeze()\n",
      "\u001b[1;31mMissingDataError\u001b[0m: exog contains inf or nans"
     ]
    }
   ],
   "source": [
    "import pandas as pd\n",
    "from statsmodels.stats.outliers_influence import variance_inflation_factor\n",
    "\n",
    "# Prepare the data for VIF calculation\n",
    "X_vif = combined_data_cleaned[['is_tour_window', 'weather_delay'] + \n",
    "                                [col for col in combined_data_cleaned.columns if col.startswith('op_unique_carrier_')]]\n",
    "\n",
    "# Add a constant for the intercept\n",
    "X_vif = sm.add_constant(X_vif)\n",
    "\n",
    "# Calculate VIF for each feature\n",
    "vif = pd.DataFrame()\n",
    "vif[\"feature\"] = X_vif.columns\n",
    "vif[\"VIF\"] = [variance_inflation_factor(X_vif.values, i) for i in range(X_vif.shape[1])]\n",
    "\n",
    "print(vif)\n"
   ]
  },
  {
   "cell_type": "code",
   "execution_count": 690,
   "id": "5f7adc71-63de-4829-9544-2a85eff2f3b4",
   "metadata": {},
   "outputs": [
    {
     "name": "stdout",
     "output_type": "stream",
     "text": [
      "Missing values in each feature:\n",
      " const                   0\n",
      "is_tour_window          0\n",
      "weather_delay     6431294\n",
      "dtype: int64\n"
     ]
    }
   ],
   "source": [
    "# Check for missing values in the predictors\n",
    "missing_values = X_vif.isnull().sum()\n",
    "print(\"Missing values in each feature:\\n\", missing_values)\n"
   ]
  },
  {
   "cell_type": "code",
   "execution_count": 692,
   "id": "c5993026-ec74-43b0-bd93-6c7981431843",
   "metadata": {},
   "outputs": [
    {
     "name": "stdout",
     "output_type": "stream",
     "text": [
      "count    1.598928e+06\n",
      "mean     4.374954e+00\n",
      "std      3.434440e+01\n",
      "min      0.000000e+00\n",
      "25%      0.000000e+00\n",
      "50%      0.000000e+00\n",
      "75%      0.000000e+00\n",
      "max      1.804000e+03\n",
      "Name: weather_delay, dtype: float64\n"
     ]
    }
   ],
   "source": [
    "# Check the distribution of weather_delay values\n",
    "print(combined_data_cleaned['weather_delay'].describe())\n"
   ]
  },
  {
   "cell_type": "code",
   "execution_count": 694,
   "id": "44b57f66-a40a-48cc-a981-ff68fcdf0d1e",
   "metadata": {},
   "outputs": [
    {
     "name": "stderr",
     "output_type": "stream",
     "text": [
      "C:\\Users\\hopeh\\AppData\\Local\\Temp\\ipykernel_5900\\2735218142.py:2: FutureWarning: A value is trying to be set on a copy of a DataFrame or Series through chained assignment using an inplace method.\n",
      "The behavior will change in pandas 3.0. This inplace method will never work because the intermediate object on which we are setting values always behaves as a copy.\n",
      "\n",
      "For example, when doing 'df[col].method(value, inplace=True)', try using 'df.method({col: value}, inplace=True)' or df[col] = df[col].method(value) instead, to perform the operation inplace on the original object.\n",
      "\n",
      "\n",
      "  X_vif['weather_delay'].fillna(median_weather_delay, inplace=True)\n"
     ]
    }
   ],
   "source": [
    "median_weather_delay = X_vif['weather_delay'].median()\n",
    "X_vif['weather_delay'].fillna(median_weather_delay, inplace=True)\n"
   ]
  },
  {
   "cell_type": "code",
   "execution_count": 696,
   "id": "c3e11bdf-d05e-4e70-8f26-a6c68826a819",
   "metadata": {},
   "outputs": [
    {
     "name": "stdout",
     "output_type": "stream",
     "text": [
      "const             0\n",
      "is_tour_window    0\n",
      "weather_delay     0\n",
      "dtype: int64\n",
      "          feature       VIF\n",
      "0           const  1.391037\n",
      "1  is_tour_window  1.000013\n",
      "2   weather_delay  1.000013\n"
     ]
    }
   ],
   "source": [
    "# Check for missing values again\n",
    "print(X_vif.isnull().sum())\n",
    "\n",
    "# If all missing values are addressed, add a constant for the intercept\n",
    "import statsmodels.api as sm\n",
    "X_vif = sm.add_constant(X_vif)\n",
    "\n",
    "# Calculate VIF for each feature\n",
    "from statsmodels.stats.outliers_influence import variance_inflation_factor\n",
    "\n",
    "vif = pd.DataFrame()\n",
    "vif[\"feature\"] = X_vif.columns\n",
    "vif[\"VIF\"] = [variance_inflation_factor(X_vif.values, i) for i in range(X_vif.shape[1])]\n",
    "\n",
    "print(vif)\n"
   ]
  },
  {
   "cell_type": "code",
   "execution_count": 700,
   "id": "391c931a-e9bc-4f78-9ad9-bae0f050c012",
   "metadata": {},
   "outputs": [],
   "source": [
    "from sklearn.model_selection import train_test_split\n",
    "from sklearn.metrics import mean_squared_error, mean_absolute_error\n",
    "import statsmodels.api as sm\n"
   ]
  },
  {
   "cell_type": "code",
   "execution_count": 702,
   "id": "07f989b9-ee12-4a26-b974-c37341d86563",
   "metadata": {},
   "outputs": [],
   "source": [
    "# Fill missing values with the median for numerical columns\n",
    "X_train.fillna(X_train.median(), inplace=True)\n",
    "y_train.fillna(y_train.median(), inplace=True) "
   ]
  },
  {
   "cell_type": "code",
   "execution_count": 704,
   "id": "8b621bc5-c688-4f3c-a57d-9c5b58b153c4",
   "metadata": {},
   "outputs": [
    {
     "name": "stdout",
     "output_type": "stream",
     "text": [
      "weather_delay     0\n",
      "is_tour_window    0\n",
      "dtype: int64\n",
      "0\n"
     ]
    }
   ],
   "source": [
    "print(X_train.isnull().sum())\n",
    "print(y_train.isnull().sum())\n"
   ]
  },
  {
   "cell_type": "code",
   "execution_count": 706,
   "id": "4501c39f-f05c-474d-9255-98c1269ce7b9",
   "metadata": {},
   "outputs": [
    {
     "name": "stdout",
     "output_type": "stream",
     "text": [
      "                                OLS Regression Results                               \n",
      "=====================================================================================\n",
      "Dep. Variable:     log_adjusted_elapsed_time   R-squared:                       0.000\n",
      "Model:                                   OLS   Adj. R-squared:                  0.000\n",
      "Method:                        Least Squares   F-statistic:                     783.5\n",
      "Date:                       Sat, 02 Nov 2024   Prob (F-statistic):               0.00\n",
      "Time:                               23:50:07   Log-Likelihood:            -4.0121e+06\n",
      "No. Observations:                    6424177   AIC:                         8.024e+06\n",
      "Df Residuals:                        6424174   BIC:                         8.024e+06\n",
      "Df Model:                                  2                                         \n",
      "Covariance Type:                   nonrobust                                         \n",
      "==================================================================================\n",
      "                     coef    std err          t      P>|t|      [0.025      0.975]\n",
      "----------------------------------------------------------------------------------\n",
      "const              4.7850      0.000   2.28e+04      0.000       4.785       4.785\n",
      "weather_delay      0.0002   1.16e-05     17.239      0.000       0.000       0.000\n",
      "is_tour_window     0.0141      0.000     35.577      0.000       0.013       0.015\n",
      "==============================================================================\n",
      "Omnibus:                    22523.526   Durbin-Watson:                   2.000\n",
      "Prob(Omnibus):                  0.000   Jarque-Bera (JB):            20783.041\n",
      "Skew:                           0.107   Prob(JB):                         0.00\n",
      "Kurtosis:                       2.821   Cond. No.                         35.9\n",
      "==============================================================================\n",
      "\n",
      "Notes:\n",
      "[1] Standard Errors assume that the covariance matrix of the errors is correctly specified.\n"
     ]
    }
   ],
   "source": [
    "# Add constant for intercept\n",
    "X_train_sm = sm.add_constant(X_train)\n",
    "\n",
    "# Fit the model\n",
    "baseline_model = sm.OLS(y_train, X_train_sm).fit()\n",
    "\n",
    "# Print the model summary\n",
    "print(baseline_model.summary())"
   ]
  },
  {
   "cell_type": "markdown",
   "id": "c174391e-b554-4efd-b091-b3d4b790b5d8",
   "metadata": {},
   "source": [
    "R-squared: 0.000, which means the model explains none of the variance in the dependent variable. This suggests that the predictors used (weather delay and is_tour_window) do not effectively capture the variation in the response variable.\n",
    "F-statistic: 783.5 with a p-value of 0.00 indicates that at least one predictor is statistically significant in explaining the variance, but it doesn't tell us about the overall fit of the model"
   ]
  },
  {
   "cell_type": "markdown",
   "id": "39cdce72-7d43-4470-8ee7-0fa59842b5df",
   "metadata": {},
   "source": [
    "\n",
    "The regression results you provided indicate a few key points about your model:\n",
    "\n",
    "Model Summary\n",
    "Dependent Variable: log_adjusted_elapsed_time\n",
    "R-squared: 0.000, which means the model explains none of the variance in the dependent variable. This suggests that the predictors used (weather delay and is_tour_window) do not effectively capture the variation in the response variable.\n",
    "F-statistic: 783.5 with a p-value of 0.00 indicates that at least one predictor is statistically significant in explaining the variance, but it doesn't tell us about the overall fit of the model.\n",
    "Coefficients\n",
    "Intercept (const): 4.7850, which is the expected log-adjusted elapsed time when all predictors are zero.\n",
    "weather_delay: Coefficient is 0.0002, meaning that for every unit increase in weather delay, the log-adjusted elapsed time increases by 0.0002 units. It is statistically significant (p-value = 0.000).\n",
    "is_tour_window: Coefficient is 0.0141, suggesting that being in a tour window is associated with an increase in log-adjusted elapsed time by 0.0141 units. This is also statistically significant."
   ]
  },
  {
   "cell_type": "code",
   "execution_count": 714,
   "id": "1f9988fe-f01a-4529-a706-f499a9a1ab0e",
   "metadata": {},
   "outputs": [],
   "source": [
    "# Assuming `combined_data_cleaned` is your DataFrame\n",
    "combined_data_cleaned = pd.get_dummies(combined_data_cleaned, columns=['op_unique_carrier', 'day_of_week'], drop_first=True)\n"
   ]
  },
  {
   "cell_type": "code",
   "execution_count": 718,
   "id": "d37d8805-3f79-46f0-b1ca-b3128847b304",
   "metadata": {},
   "outputs": [],
   "source": [
    "y = combined_data_cleaned['log_adjusted_elapsed_time']\n",
    "\n",
    "X = combined_data_cleaned[['is_tour_window', 'weather_delay', 'distance'] + \n",
    "                           [col for col in combined_data_cleaned.columns if col.startswith('op_unique_carrier_')] + \n",
    "                           [col for col in combined_data_cleaned.columns if col.startswith('day_of_week_')]]\n",
    "\n",
    "from sklearn.model_selection import train_test_split\n",
    "\n",
    "X_train, X_test, y_train, y_test = train_test_split(X, y, test_size=0.2, random_state=42)\n"
   ]
  },
  {
   "cell_type": "code",
   "execution_count": 719,
   "id": "1281ebd8-8354-4a6f-8446-0b8e8c564b95",
   "metadata": {},
   "outputs": [
    {
     "ename": "ValueError",
     "evalue": "Pandas data cast to numpy dtype of object. Check input data with np.asarray(data).",
     "output_type": "error",
     "traceback": [
      "\u001b[1;31m---------------------------------------------------------------------------\u001b[0m",
      "\u001b[1;31mValueError\u001b[0m                                Traceback (most recent call last)",
      "Cell \u001b[1;32mIn[719], line 7\u001b[0m\n\u001b[0;32m      4\u001b[0m X_train_sm \u001b[38;5;241m=\u001b[39m sm\u001b[38;5;241m.\u001b[39madd_constant(X_train)\n\u001b[0;32m      6\u001b[0m \u001b[38;5;66;03m# Fit the OLS model\u001b[39;00m\n\u001b[1;32m----> 7\u001b[0m model \u001b[38;5;241m=\u001b[39m sm\u001b[38;5;241m.\u001b[39mOLS(y_train, X_train_sm)\u001b[38;5;241m.\u001b[39mfit()\n",
      "File \u001b[1;32m~\\anaconda3\\Lib\\site-packages\\statsmodels\\regression\\linear_model.py:924\u001b[0m, in \u001b[0;36mOLS.__init__\u001b[1;34m(self, endog, exog, missing, hasconst, **kwargs)\u001b[0m\n\u001b[0;32m    921\u001b[0m     msg \u001b[38;5;241m=\u001b[39m (\u001b[38;5;124m\"\u001b[39m\u001b[38;5;124mWeights are not supported in OLS and will be ignored\u001b[39m\u001b[38;5;124m\"\u001b[39m\n\u001b[0;32m    922\u001b[0m            \u001b[38;5;124m\"\u001b[39m\u001b[38;5;124mAn exception will be raised in the next version.\u001b[39m\u001b[38;5;124m\"\u001b[39m)\n\u001b[0;32m    923\u001b[0m     warnings\u001b[38;5;241m.\u001b[39mwarn(msg, ValueWarning)\n\u001b[1;32m--> 924\u001b[0m \u001b[38;5;28msuper\u001b[39m()\u001b[38;5;241m.\u001b[39m\u001b[38;5;21m__init__\u001b[39m(endog, exog, missing\u001b[38;5;241m=\u001b[39mmissing,\n\u001b[0;32m    925\u001b[0m                           hasconst\u001b[38;5;241m=\u001b[39mhasconst, \u001b[38;5;241m*\u001b[39m\u001b[38;5;241m*\u001b[39mkwargs)\n\u001b[0;32m    926\u001b[0m \u001b[38;5;28;01mif\u001b[39;00m \u001b[38;5;124m\"\u001b[39m\u001b[38;5;124mweights\u001b[39m\u001b[38;5;124m\"\u001b[39m \u001b[38;5;129;01min\u001b[39;00m \u001b[38;5;28mself\u001b[39m\u001b[38;5;241m.\u001b[39m_init_keys:\n\u001b[0;32m    927\u001b[0m     \u001b[38;5;28mself\u001b[39m\u001b[38;5;241m.\u001b[39m_init_keys\u001b[38;5;241m.\u001b[39mremove(\u001b[38;5;124m\"\u001b[39m\u001b[38;5;124mweights\u001b[39m\u001b[38;5;124m\"\u001b[39m)\n",
      "File \u001b[1;32m~\\anaconda3\\Lib\\site-packages\\statsmodels\\regression\\linear_model.py:749\u001b[0m, in \u001b[0;36mWLS.__init__\u001b[1;34m(self, endog, exog, weights, missing, hasconst, **kwargs)\u001b[0m\n\u001b[0;32m    747\u001b[0m \u001b[38;5;28;01melse\u001b[39;00m:\n\u001b[0;32m    748\u001b[0m     weights \u001b[38;5;241m=\u001b[39m weights\u001b[38;5;241m.\u001b[39msqueeze()\n\u001b[1;32m--> 749\u001b[0m \u001b[38;5;28msuper\u001b[39m()\u001b[38;5;241m.\u001b[39m\u001b[38;5;21m__init__\u001b[39m(endog, exog, missing\u001b[38;5;241m=\u001b[39mmissing,\n\u001b[0;32m    750\u001b[0m                           weights\u001b[38;5;241m=\u001b[39mweights, hasconst\u001b[38;5;241m=\u001b[39mhasconst, \u001b[38;5;241m*\u001b[39m\u001b[38;5;241m*\u001b[39mkwargs)\n\u001b[0;32m    751\u001b[0m nobs \u001b[38;5;241m=\u001b[39m \u001b[38;5;28mself\u001b[39m\u001b[38;5;241m.\u001b[39mexog\u001b[38;5;241m.\u001b[39mshape[\u001b[38;5;241m0\u001b[39m]\n\u001b[0;32m    752\u001b[0m weights \u001b[38;5;241m=\u001b[39m \u001b[38;5;28mself\u001b[39m\u001b[38;5;241m.\u001b[39mweights\n",
      "File \u001b[1;32m~\\anaconda3\\Lib\\site-packages\\statsmodels\\regression\\linear_model.py:203\u001b[0m, in \u001b[0;36mRegressionModel.__init__\u001b[1;34m(self, endog, exog, **kwargs)\u001b[0m\n\u001b[0;32m    202\u001b[0m \u001b[38;5;28;01mdef\u001b[39;00m \u001b[38;5;21m__init__\u001b[39m(\u001b[38;5;28mself\u001b[39m, endog, exog, \u001b[38;5;241m*\u001b[39m\u001b[38;5;241m*\u001b[39mkwargs):\n\u001b[1;32m--> 203\u001b[0m     \u001b[38;5;28msuper\u001b[39m()\u001b[38;5;241m.\u001b[39m\u001b[38;5;21m__init__\u001b[39m(endog, exog, \u001b[38;5;241m*\u001b[39m\u001b[38;5;241m*\u001b[39mkwargs)\n\u001b[0;32m    204\u001b[0m     \u001b[38;5;28mself\u001b[39m\u001b[38;5;241m.\u001b[39mpinv_wexog: Float64Array \u001b[38;5;241m|\u001b[39m \u001b[38;5;28;01mNone\u001b[39;00m \u001b[38;5;241m=\u001b[39m \u001b[38;5;28;01mNone\u001b[39;00m\n\u001b[0;32m    205\u001b[0m     \u001b[38;5;28mself\u001b[39m\u001b[38;5;241m.\u001b[39m_data_attr\u001b[38;5;241m.\u001b[39mextend([\u001b[38;5;124m'\u001b[39m\u001b[38;5;124mpinv_wexog\u001b[39m\u001b[38;5;124m'\u001b[39m, \u001b[38;5;124m'\u001b[39m\u001b[38;5;124mwendog\u001b[39m\u001b[38;5;124m'\u001b[39m, \u001b[38;5;124m'\u001b[39m\u001b[38;5;124mwexog\u001b[39m\u001b[38;5;124m'\u001b[39m, \u001b[38;5;124m'\u001b[39m\u001b[38;5;124mweights\u001b[39m\u001b[38;5;124m'\u001b[39m])\n",
      "File \u001b[1;32m~\\anaconda3\\Lib\\site-packages\\statsmodels\\base\\model.py:270\u001b[0m, in \u001b[0;36mLikelihoodModel.__init__\u001b[1;34m(self, endog, exog, **kwargs)\u001b[0m\n\u001b[0;32m    269\u001b[0m \u001b[38;5;28;01mdef\u001b[39;00m \u001b[38;5;21m__init__\u001b[39m(\u001b[38;5;28mself\u001b[39m, endog, exog\u001b[38;5;241m=\u001b[39m\u001b[38;5;28;01mNone\u001b[39;00m, \u001b[38;5;241m*\u001b[39m\u001b[38;5;241m*\u001b[39mkwargs):\n\u001b[1;32m--> 270\u001b[0m     \u001b[38;5;28msuper\u001b[39m()\u001b[38;5;241m.\u001b[39m\u001b[38;5;21m__init__\u001b[39m(endog, exog, \u001b[38;5;241m*\u001b[39m\u001b[38;5;241m*\u001b[39mkwargs)\n\u001b[0;32m    271\u001b[0m     \u001b[38;5;28mself\u001b[39m\u001b[38;5;241m.\u001b[39minitialize()\n",
      "File \u001b[1;32m~\\anaconda3\\Lib\\site-packages\\statsmodels\\base\\model.py:95\u001b[0m, in \u001b[0;36mModel.__init__\u001b[1;34m(self, endog, exog, **kwargs)\u001b[0m\n\u001b[0;32m     93\u001b[0m missing \u001b[38;5;241m=\u001b[39m kwargs\u001b[38;5;241m.\u001b[39mpop(\u001b[38;5;124m'\u001b[39m\u001b[38;5;124mmissing\u001b[39m\u001b[38;5;124m'\u001b[39m, \u001b[38;5;124m'\u001b[39m\u001b[38;5;124mnone\u001b[39m\u001b[38;5;124m'\u001b[39m)\n\u001b[0;32m     94\u001b[0m hasconst \u001b[38;5;241m=\u001b[39m kwargs\u001b[38;5;241m.\u001b[39mpop(\u001b[38;5;124m'\u001b[39m\u001b[38;5;124mhasconst\u001b[39m\u001b[38;5;124m'\u001b[39m, \u001b[38;5;28;01mNone\u001b[39;00m)\n\u001b[1;32m---> 95\u001b[0m \u001b[38;5;28mself\u001b[39m\u001b[38;5;241m.\u001b[39mdata \u001b[38;5;241m=\u001b[39m \u001b[38;5;28mself\u001b[39m\u001b[38;5;241m.\u001b[39m_handle_data(endog, exog, missing, hasconst,\n\u001b[0;32m     96\u001b[0m                               \u001b[38;5;241m*\u001b[39m\u001b[38;5;241m*\u001b[39mkwargs)\n\u001b[0;32m     97\u001b[0m \u001b[38;5;28mself\u001b[39m\u001b[38;5;241m.\u001b[39mk_constant \u001b[38;5;241m=\u001b[39m \u001b[38;5;28mself\u001b[39m\u001b[38;5;241m.\u001b[39mdata\u001b[38;5;241m.\u001b[39mk_constant\n\u001b[0;32m     98\u001b[0m \u001b[38;5;28mself\u001b[39m\u001b[38;5;241m.\u001b[39mexog \u001b[38;5;241m=\u001b[39m \u001b[38;5;28mself\u001b[39m\u001b[38;5;241m.\u001b[39mdata\u001b[38;5;241m.\u001b[39mexog\n",
      "File \u001b[1;32m~\\anaconda3\\Lib\\site-packages\\statsmodels\\base\\model.py:135\u001b[0m, in \u001b[0;36mModel._handle_data\u001b[1;34m(self, endog, exog, missing, hasconst, **kwargs)\u001b[0m\n\u001b[0;32m    134\u001b[0m \u001b[38;5;28;01mdef\u001b[39;00m \u001b[38;5;21m_handle_data\u001b[39m(\u001b[38;5;28mself\u001b[39m, endog, exog, missing, hasconst, \u001b[38;5;241m*\u001b[39m\u001b[38;5;241m*\u001b[39mkwargs):\n\u001b[1;32m--> 135\u001b[0m     data \u001b[38;5;241m=\u001b[39m handle_data(endog, exog, missing, hasconst, \u001b[38;5;241m*\u001b[39m\u001b[38;5;241m*\u001b[39mkwargs)\n\u001b[0;32m    136\u001b[0m     \u001b[38;5;66;03m# kwargs arrays could have changed, easier to just attach here\u001b[39;00m\n\u001b[0;32m    137\u001b[0m     \u001b[38;5;28;01mfor\u001b[39;00m key \u001b[38;5;129;01min\u001b[39;00m kwargs:\n",
      "File \u001b[1;32m~\\anaconda3\\Lib\\site-packages\\statsmodels\\base\\data.py:675\u001b[0m, in \u001b[0;36mhandle_data\u001b[1;34m(endog, exog, missing, hasconst, **kwargs)\u001b[0m\n\u001b[0;32m    672\u001b[0m     exog \u001b[38;5;241m=\u001b[39m np\u001b[38;5;241m.\u001b[39masarray(exog)\n\u001b[0;32m    674\u001b[0m klass \u001b[38;5;241m=\u001b[39m handle_data_class_factory(endog, exog)\n\u001b[1;32m--> 675\u001b[0m \u001b[38;5;28;01mreturn\u001b[39;00m klass(endog, exog\u001b[38;5;241m=\u001b[39mexog, missing\u001b[38;5;241m=\u001b[39mmissing, hasconst\u001b[38;5;241m=\u001b[39mhasconst,\n\u001b[0;32m    676\u001b[0m              \u001b[38;5;241m*\u001b[39m\u001b[38;5;241m*\u001b[39mkwargs)\n",
      "File \u001b[1;32m~\\anaconda3\\Lib\\site-packages\\statsmodels\\base\\data.py:84\u001b[0m, in \u001b[0;36mModelData.__init__\u001b[1;34m(self, endog, exog, missing, hasconst, **kwargs)\u001b[0m\n\u001b[0;32m     82\u001b[0m     \u001b[38;5;28mself\u001b[39m\u001b[38;5;241m.\u001b[39morig_endog \u001b[38;5;241m=\u001b[39m endog\n\u001b[0;32m     83\u001b[0m     \u001b[38;5;28mself\u001b[39m\u001b[38;5;241m.\u001b[39morig_exog \u001b[38;5;241m=\u001b[39m exog\n\u001b[1;32m---> 84\u001b[0m     \u001b[38;5;28mself\u001b[39m\u001b[38;5;241m.\u001b[39mendog, \u001b[38;5;28mself\u001b[39m\u001b[38;5;241m.\u001b[39mexog \u001b[38;5;241m=\u001b[39m \u001b[38;5;28mself\u001b[39m\u001b[38;5;241m.\u001b[39m_convert_endog_exog(endog, exog)\n\u001b[0;32m     86\u001b[0m \u001b[38;5;28mself\u001b[39m\u001b[38;5;241m.\u001b[39mconst_idx \u001b[38;5;241m=\u001b[39m \u001b[38;5;28;01mNone\u001b[39;00m\n\u001b[0;32m     87\u001b[0m \u001b[38;5;28mself\u001b[39m\u001b[38;5;241m.\u001b[39mk_constant \u001b[38;5;241m=\u001b[39m \u001b[38;5;241m0\u001b[39m\n",
      "File \u001b[1;32m~\\anaconda3\\Lib\\site-packages\\statsmodels\\base\\data.py:509\u001b[0m, in \u001b[0;36mPandasData._convert_endog_exog\u001b[1;34m(self, endog, exog)\u001b[0m\n\u001b[0;32m    507\u001b[0m exog \u001b[38;5;241m=\u001b[39m exog \u001b[38;5;28;01mif\u001b[39;00m exog \u001b[38;5;129;01mis\u001b[39;00m \u001b[38;5;28;01mNone\u001b[39;00m \u001b[38;5;28;01melse\u001b[39;00m np\u001b[38;5;241m.\u001b[39masarray(exog)\n\u001b[0;32m    508\u001b[0m \u001b[38;5;28;01mif\u001b[39;00m endog\u001b[38;5;241m.\u001b[39mdtype \u001b[38;5;241m==\u001b[39m \u001b[38;5;28mobject\u001b[39m \u001b[38;5;129;01mor\u001b[39;00m exog \u001b[38;5;129;01mis\u001b[39;00m \u001b[38;5;129;01mnot\u001b[39;00m \u001b[38;5;28;01mNone\u001b[39;00m \u001b[38;5;129;01mand\u001b[39;00m exog\u001b[38;5;241m.\u001b[39mdtype \u001b[38;5;241m==\u001b[39m \u001b[38;5;28mobject\u001b[39m:\n\u001b[1;32m--> 509\u001b[0m     \u001b[38;5;28;01mraise\u001b[39;00m \u001b[38;5;167;01mValueError\u001b[39;00m(\u001b[38;5;124m\"\u001b[39m\u001b[38;5;124mPandas data cast to numpy dtype of object. \u001b[39m\u001b[38;5;124m\"\u001b[39m\n\u001b[0;32m    510\u001b[0m                      \u001b[38;5;124m\"\u001b[39m\u001b[38;5;124mCheck input data with np.asarray(data).\u001b[39m\u001b[38;5;124m\"\u001b[39m)\n\u001b[0;32m    511\u001b[0m \u001b[38;5;28;01mreturn\u001b[39;00m \u001b[38;5;28msuper\u001b[39m()\u001b[38;5;241m.\u001b[39m_convert_endog_exog(endog, exog)\n",
      "\u001b[1;31mValueError\u001b[0m: Pandas data cast to numpy dtype of object. Check input data with np.asarray(data)."
     ]
    }
   ],
   "source": [
    "import statsmodels.api as sm\n",
    "\n",
    "# Add constant for intercept\n",
    "X_train_sm = sm.add_constant(X_train)\n",
    "\n",
    "# Fit the OLS model\n",
    "model = sm.OLS(y_train, X_train_sm).fit()\n"
   ]
  },
  {
   "cell_type": "code",
   "execution_count": null,
   "id": "7fae0f80-dbf3-4671-b4ea-4327b3d37ca3",
   "metadata": {},
   "outputs": [],
   "source": []
  }
 ],
 "metadata": {
  "kernelspec": {
   "display_name": "Python 3 (ipykernel)",
   "language": "python",
   "name": "python3"
  },
  "language_info": {
   "codemirror_mode": {
    "name": "ipython",
    "version": 3
   },
   "file_extension": ".py",
   "mimetype": "text/x-python",
   "name": "python",
   "nbconvert_exporter": "python",
   "pygments_lexer": "ipython3",
   "version": "3.12.4"
  }
 },
 "nbformat": 4,
 "nbformat_minor": 5
}
