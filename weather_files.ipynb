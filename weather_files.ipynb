{
 "cells": [
  {
   "cell_type": "code",
   "execution_count": 23,
   "id": "d95234c0-029c-4f0a-bf70-88bd88e57e03",
   "metadata": {},
   "outputs": [],
   "source": [
    "import pandas as pd\n",
    "import os\n",
    "import numpy as np"
   ]
  },
  {
   "cell_type": "markdown",
   "id": "737e5310-d1fd-497b-bc5f-93c7c4db1003",
   "metadata": {},
   "source": [
    "Combine all files in weather_data folder into one .csv file titled combined_weather.csv"
   ]
  },
  {
   "cell_type": "code",
   "execution_count": 27,
   "id": "37a39f60-1a6e-4cc0-983e-fb8b1618ad3d",
   "metadata": {},
   "outputs": [],
   "source": [
    "\n",
    "# Define the folder containing the CSV files and the output file path\n",
    "input_folder = r'C:\\Users\\hopeh\\Desktop\\data_science_bootcamp\\flight_times_capstone\\weather_data'\n",
    "output_file = r'C:\\Users\\hopeh\\Desktop\\data_science_bootcamp\\flight_times_capstone\\combined_weather.csv'\n",
    "\n",
    "\n",
    "# List to hold dataframes\n",
    "dataframes = []\n",
    "\n",
    "# Iterate over all files in the folder\n",
    "for file_name in os.listdir(input_folder):\n",
    "    if file_name.endswith('.csv'):\n",
    "        file_path = os.path.join(input_folder, file_name)\n",
    "        # Read the CSV file\n",
    "        df = pd.read_csv(file_path, low_memory=False)\n",
    "        # Add an ID column with the filename as the ID\n",
    "        df['ID'] = file_name\n",
    "        # Append the dataframe to the list\n",
    "        dataframes.append(df)\n",
    "\n",
    "# Concatenate all dataframes\n",
    "combined_df = pd.concat(dataframes, ignore_index=True, sort=False)\n",
    "\n",
    "# Save the combined dataframe to a new CSV file\n",
    "combined_df.to_csv(output_file, index=False)\n"
   ]
  },
  {
   "cell_type": "code",
   "execution_count": 96,
   "id": "153916b1-8783-4b03-8150-917ccf4b112b",
   "metadata": {},
   "outputs": [
    {
     "name": "stdout",
     "output_type": "stream",
     "text": [
      "       STATION                      NAME  LATITUDE  LONGITUDE  ELEVATION  \\\n",
      "0  US1ALEL0004  MILLBROOK 4.0 NNW, AL US  32.55035   -86.3845      120.1   \n",
      "1  US1ALEL0004  MILLBROOK 4.0 NNW, AL US  32.55035   -86.3845      120.1   \n",
      "2  US1ALEL0004  MILLBROOK 4.0 NNW, AL US  32.55035   -86.3845      120.1   \n",
      "3  US1ALEL0004  MILLBROOK 4.0 NNW, AL US  32.55035   -86.3845      120.1   \n",
      "4  US1ALEL0004  MILLBROOK 4.0 NNW, AL US  32.55035   -86.3845      120.1   \n",
      "\n",
      "         DATE  AWND  DAPR  MDPR  PGTM  PRCP  SN32  SNOW  SNWD  SX32  TAVG  \\\n",
      "0  2024-01-01   NaN   NaN   NaN   NaN  0.00   NaN   0.0   NaN   NaN   NaN   \n",
      "1  2024-01-02   NaN   NaN   NaN   NaN  0.00   NaN   0.0   NaN   NaN   NaN   \n",
      "2  2024-01-03   NaN   NaN   NaN   NaN  0.00   NaN   0.0   NaN   NaN   NaN   \n",
      "3  2024-01-04   NaN   NaN   NaN   NaN  0.21   NaN   NaN   NaN   NaN   NaN   \n",
      "4  2024-01-05   NaN   NaN   NaN   NaN  0.00   NaN   0.0   NaN   NaN   NaN   \n",
      "\n",
      "   TMAX  TMIN  TOBS  WDF2  WDF5  WESD  WESF  WSF2  WSF5  WT01  WT02  WT03  \\\n",
      "0   NaN   NaN   NaN   NaN   NaN   NaN   NaN   NaN   NaN   NaN   NaN   NaN   \n",
      "1   NaN   NaN   NaN   NaN   NaN   NaN   NaN   NaN   NaN   NaN   NaN   NaN   \n",
      "2   NaN   NaN   NaN   NaN   NaN   NaN   NaN   NaN   NaN   NaN   NaN   NaN   \n",
      "3   NaN   NaN   NaN   NaN   NaN   NaN   NaN   NaN   NaN   NaN   NaN   NaN   \n",
      "4   NaN   NaN   NaN   NaN   NaN   NaN   NaN   NaN   NaN   NaN   NaN   NaN   \n",
      "\n",
      "   WT04  WT05  WT06  WT08  WT11           ID  TSUN  WT10  SN52  SN53  SN55  \\\n",
      "0   NaN   NaN   NaN   NaN   NaN  3774578.csv   NaN   NaN   NaN   NaN   NaN   \n",
      "1   NaN   NaN   NaN   NaN   NaN  3774578.csv   NaN   NaN   NaN   NaN   NaN   \n",
      "2   NaN   NaN   NaN   NaN   NaN  3774578.csv   NaN   NaN   NaN   NaN   NaN   \n",
      "3   NaN   NaN   NaN   NaN   NaN  3774578.csv   NaN   NaN   NaN   NaN   NaN   \n",
      "4   NaN   NaN   NaN   NaN   NaN  3774578.csv   NaN   NaN   NaN   NaN   NaN   \n",
      "\n",
      "   SN56  SX52  SX53  SX55  SX56  WDFG  WDMV  WSFG  WSFI  WT09  PSUN  WT07  \\\n",
      "0   NaN   NaN   NaN   NaN   NaN   NaN   NaN   NaN   NaN   NaN   NaN   NaN   \n",
      "1   NaN   NaN   NaN   NaN   NaN   NaN   NaN   NaN   NaN   NaN   NaN   NaN   \n",
      "2   NaN   NaN   NaN   NaN   NaN   NaN   NaN   NaN   NaN   NaN   NaN   NaN   \n",
      "3   NaN   NaN   NaN   NaN   NaN   NaN   NaN   NaN   NaN   NaN   NaN   NaN   \n",
      "4   NaN   NaN   NaN   NaN   NaN   NaN   NaN   NaN   NaN   NaN   NaN   NaN   \n",
      "\n",
      "   SN31  SX31  SN33  SN35  SX33  SX35 AWND_ATTRIBUTES DAPR_ATTRIBUTES  \\\n",
      "0   NaN   NaN   NaN   NaN   NaN   NaN             NaN             NaN   \n",
      "1   NaN   NaN   NaN   NaN   NaN   NaN             NaN             NaN   \n",
      "2   NaN   NaN   NaN   NaN   NaN   NaN             NaN             NaN   \n",
      "3   NaN   NaN   NaN   NaN   NaN   NaN             NaN             NaN   \n",
      "4   NaN   NaN   NaN   NaN   NaN   NaN             NaN             NaN   \n",
      "\n",
      "  MDPR_ATTRIBUTES PGTM_ATTRIBUTES PRCP_ATTRIBUTES SNOW_ATTRIBUTES  \\\n",
      "0             NaN             NaN             NaN             NaN   \n",
      "1             NaN             NaN             NaN             NaN   \n",
      "2             NaN             NaN             NaN             NaN   \n",
      "3             NaN             NaN             NaN             NaN   \n",
      "4             NaN             NaN             NaN             NaN   \n",
      "\n",
      "  SNWD_ATTRIBUTES TAVG_ATTRIBUTES TMAX_ATTRIBUTES TMIN_ATTRIBUTES  \\\n",
      "0             NaN             NaN             NaN             NaN   \n",
      "1             NaN             NaN             NaN             NaN   \n",
      "2             NaN             NaN             NaN             NaN   \n",
      "3             NaN             NaN             NaN             NaN   \n",
      "4             NaN             NaN             NaN             NaN   \n",
      "\n",
      "  TOBS_ATTRIBUTES WDF2_ATTRIBUTES WDF5_ATTRIBUTES WDFG_ATTRIBUTES  \\\n",
      "0             NaN             NaN             NaN             NaN   \n",
      "1             NaN             NaN             NaN             NaN   \n",
      "2             NaN             NaN             NaN             NaN   \n",
      "3             NaN             NaN             NaN             NaN   \n",
      "4             NaN             NaN             NaN             NaN   \n",
      "\n",
      "  WDMV_ATTRIBUTES WESD_ATTRIBUTES WESF_ATTRIBUTES WSF2_ATTRIBUTES  \\\n",
      "0             NaN             NaN             NaN             NaN   \n",
      "1             NaN             NaN             NaN             NaN   \n",
      "2             NaN             NaN             NaN             NaN   \n",
      "3             NaN             NaN             NaN             NaN   \n",
      "4             NaN             NaN             NaN             NaN   \n",
      "\n",
      "  WSF5_ATTRIBUTES WSFG_ATTRIBUTES WT01_ATTRIBUTES WT02_ATTRIBUTES  \\\n",
      "0             NaN             NaN             NaN             NaN   \n",
      "1             NaN             NaN             NaN             NaN   \n",
      "2             NaN             NaN             NaN             NaN   \n",
      "3             NaN             NaN             NaN             NaN   \n",
      "4             NaN             NaN             NaN             NaN   \n",
      "\n",
      "  WT03_ATTRIBUTES WT04_ATTRIBUTES WT05_ATTRIBUTES WT06_ATTRIBUTES  \\\n",
      "0             NaN             NaN             NaN             NaN   \n",
      "1             NaN             NaN             NaN             NaN   \n",
      "2             NaN             NaN             NaN             NaN   \n",
      "3             NaN             NaN             NaN             NaN   \n",
      "4             NaN             NaN             NaN             NaN   \n",
      "\n",
      "  WT07_ATTRIBUTES WT08_ATTRIBUTES WT09_ATTRIBUTES WT10_ATTRIBUTES  \\\n",
      "0             NaN             NaN             NaN             NaN   \n",
      "1             NaN             NaN             NaN             NaN   \n",
      "2             NaN             NaN             NaN             NaN   \n",
      "3             NaN             NaN             NaN             NaN   \n",
      "4             NaN             NaN             NaN             NaN   \n",
      "\n",
      "  WT11_ATTRIBUTES  DASF  MDSF WSFI_ATTRIBUTES  PSUN_ATTRIBUTES  \\\n",
      "0             NaN   NaN   NaN             NaN              NaN   \n",
      "1             NaN   NaN   NaN             NaN              NaN   \n",
      "2             NaN   NaN   NaN             NaN              NaN   \n",
      "3             NaN   NaN   NaN             NaN              NaN   \n",
      "4             NaN   NaN   NaN             NaN              NaN   \n",
      "\n",
      "  SN32_ATTRIBUTES SN52_ATTRIBUTES SX32_ATTRIBUTES SX52_ATTRIBUTES  \\\n",
      "0             NaN             NaN             NaN             NaN   \n",
      "1             NaN             NaN             NaN             NaN   \n",
      "2             NaN             NaN             NaN             NaN   \n",
      "3             NaN             NaN             NaN             NaN   \n",
      "4             NaN             NaN             NaN             NaN   \n",
      "\n",
      "  SN31_ATTRIBUTES SN33_ATTRIBUTES SX31_ATTRIBUTES SX33_ATTRIBUTES  SN51  SX51  \\\n",
      "0             NaN             NaN             NaN             NaN   NaN   NaN   \n",
      "1             NaN             NaN             NaN             NaN   NaN   NaN   \n",
      "2             NaN             NaN             NaN             NaN   NaN   NaN   \n",
      "3             NaN             NaN             NaN             NaN   NaN   NaN   \n",
      "4             NaN             NaN             NaN             NaN   NaN   NaN   \n",
      "\n",
      "  SN51_ATTRIBUTES SN53_ATTRIBUTES SN55_ATTRIBUTES SX53_ATTRIBUTES  \\\n",
      "0             NaN             NaN             NaN             NaN   \n",
      "1             NaN             NaN             NaN             NaN   \n",
      "2             NaN             NaN             NaN             NaN   \n",
      "3             NaN             NaN             NaN             NaN   \n",
      "4             NaN             NaN             NaN             NaN   \n",
      "\n",
      "  SX55_ATTRIBUTES  SN36  SX36  \n",
      "0             NaN   NaN   NaN  \n",
      "1             NaN   NaN   NaN  \n",
      "2             NaN   NaN   NaN  \n",
      "3             NaN   NaN   NaN  \n",
      "4             NaN   NaN   NaN  \n"
     ]
    }
   ],
   "source": [
    "# Define the path to the combined CSV file\n",
    "combined_weather_path = r'C:\\Users\\hopeh\\Desktop\\data_science_bootcamp\\flight_times_capstone\\combined_weather.csv'\n",
    "\n",
    "# Read the CSV file into a DataFrame\n",
    "weather_df = pd.read_csv(combined_weather_path, low_memory=False)\n",
    "\n",
    "# Display the first few rows of the DataFrame\n",
    "print(weather_df.head())"
   ]
  },
  {
   "cell_type": "code",
   "execution_count": 97,
   "id": "5ac2fdce-db2a-45e3-9832-90fa16c4168a",
   "metadata": {},
   "outputs": [
    {
     "name": "stdout",
     "output_type": "stream",
     "text": [
      "['STATION', 'NAME', 'LATITUDE', 'LONGITUDE', 'ELEVATION', 'DATE', 'AWND', 'DAPR', 'MDPR', 'PGTM', 'PRCP', 'SN32', 'SNOW', 'SNWD', 'SX32', 'TAVG', 'TMAX', 'TMIN', 'TOBS', 'WDF2', 'WDF5', 'WESD', 'WESF', 'WSF2', 'WSF5', 'WT01', 'WT02', 'WT03', 'WT04', 'WT05', 'WT06', 'WT08', 'WT11', 'ID', 'TSUN', 'WT10', 'SN52', 'SN53', 'SN55', 'SN56', 'SX52', 'SX53', 'SX55', 'SX56', 'WDFG', 'WDMV', 'WSFG', 'WSFI', 'WT09', 'PSUN', 'WT07', 'SN31', 'SX31', 'SN33', 'SN35', 'SX33', 'SX35', 'AWND_ATTRIBUTES', 'DAPR_ATTRIBUTES', 'MDPR_ATTRIBUTES', 'PGTM_ATTRIBUTES', 'PRCP_ATTRIBUTES', 'SNOW_ATTRIBUTES', 'SNWD_ATTRIBUTES', 'TAVG_ATTRIBUTES', 'TMAX_ATTRIBUTES', 'TMIN_ATTRIBUTES', 'TOBS_ATTRIBUTES', 'WDF2_ATTRIBUTES', 'WDF5_ATTRIBUTES', 'WDFG_ATTRIBUTES', 'WDMV_ATTRIBUTES', 'WESD_ATTRIBUTES', 'WESF_ATTRIBUTES', 'WSF2_ATTRIBUTES', 'WSF5_ATTRIBUTES', 'WSFG_ATTRIBUTES', 'WT01_ATTRIBUTES', 'WT02_ATTRIBUTES', 'WT03_ATTRIBUTES', 'WT04_ATTRIBUTES', 'WT05_ATTRIBUTES', 'WT06_ATTRIBUTES', 'WT07_ATTRIBUTES', 'WT08_ATTRIBUTES', 'WT09_ATTRIBUTES', 'WT10_ATTRIBUTES', 'WT11_ATTRIBUTES', 'DASF', 'MDSF', 'WSFI_ATTRIBUTES', 'PSUN_ATTRIBUTES', 'SN32_ATTRIBUTES', 'SN52_ATTRIBUTES', 'SX32_ATTRIBUTES', 'SX52_ATTRIBUTES', 'SN31_ATTRIBUTES', 'SN33_ATTRIBUTES', 'SX31_ATTRIBUTES', 'SX33_ATTRIBUTES', 'SN51', 'SX51', 'SN51_ATTRIBUTES', 'SN53_ATTRIBUTES', 'SN55_ATTRIBUTES', 'SX53_ATTRIBUTES', 'SX55_ATTRIBUTES', 'SN36', 'SX36']\n"
     ]
    }
   ],
   "source": [
    "# Display the column names\n",
    "print(weather_df.columns.tolist())"
   ]
  },
  {
   "cell_type": "code",
   "execution_count": 98,
   "id": "6ac1ac9d-2a2c-4f00-af33-026013745956",
   "metadata": {},
   "outputs": [
    {
     "name": "stdout",
     "output_type": "stream",
     "text": [
      "<class 'pandas.core.frame.DataFrame'>\n",
      "RangeIndex: 22834319 entries, 0 to 22834318\n",
      "Columns: 109 entries, STATION to SX36\n",
      "dtypes: float64(60), object(49)\n",
      "memory usage: 18.5+ GB\n",
      "None\n"
     ]
    }
   ],
   "source": [
    "# Display information about the DataFrame\n",
    "print(weather_df.info())"
   ]
  },
  {
   "cell_type": "code",
   "execution_count": 99,
   "id": "ad24de5d-8e2c-46d0-83d3-3c9ed74113ed",
   "metadata": {},
   "outputs": [],
   "source": [
    "# Reduce memory usage\n",
    "\n",
    "# Convert float64 to float32\n",
    "float_cols = weather_df.select_dtypes(include=['float64']).columns\n",
    "weather_df[float_cols] = weather_df[float_cols].astype('float32')\n"
   ]
  },
  {
   "cell_type": "code",
   "execution_count": 167,
   "id": "b18ed952-fbfe-4157-b0a8-e4fa4e247a37",
   "metadata": {},
   "outputs": [
    {
     "name": "stdout",
     "output_type": "stream",
     "text": [
      "Empty DataFrame\n",
      "Columns: [station, id, latitude, longitude, elevation, date, prcp, snow, snwd, tmax, tmin, tobs, city, state]\n",
      "Index: []\n",
      "Total unique duplicate rows: 0\n"
     ]
    }
   ],
   "source": [
    "# Check for duplicates\n",
    "\n",
    "# Find all duplicate rows where all cells are identical\n",
    "duplicate_rows = weather_df[weather_df.duplicated(keep=False)]\n",
    "\n",
    "# Display the first 10 unique duplicate rows\n",
    "unique_duplicate_rows = duplicate_rows.drop_duplicates()\n",
    "print(unique_duplicate_rows.head(10))\n",
    "\n",
    "# Count the number of unique duplicate rows\n",
    "unique_duplicate_count = unique_duplicate_rows.shape[0]\n",
    "print(f\"Total unique duplicate rows: {unique_duplicate_count}\")"
   ]
  },
  {
   "cell_type": "code",
   "execution_count": 104,
   "id": "03585f49-ac88-449a-901d-a335c70523ba",
   "metadata": {},
   "outputs": [],
   "source": [
    "# Reformat column titles\n",
    "\n",
    "# Convert all column names to lowercase\n",
    "weather_df.columns = weather_df.columns.str.lower()\n",
    "\n",
    "# # Rename specific columns if needed\n",
    "# weather_df.rename(columns={\n",
    "#     'fl_date': 'date', \n",
    "#     'origin_city_name': 'origin_city',\n",
    "#     'dest_city_name' : 'dest_city'\n",
    "# }, inplace=True)"
   ]
  },
  {
   "cell_type": "code",
   "execution_count": 106,
   "id": "3d232afe-519b-4c1f-bfd6-a2f021305faa",
   "metadata": {},
   "outputs": [
    {
     "name": "stdout",
     "output_type": "stream",
     "text": [
      "Index(['station', 'name', 'latitude', 'longitude', 'elevation', 'date', 'awnd',\n",
      "       'dapr', 'mdpr', 'pgtm',\n",
      "       ...\n",
      "       'sx33_attributes', 'sn51', 'sx51', 'sn51_attributes', 'sn53_attributes',\n",
      "       'sn55_attributes', 'sx53_attributes', 'sx55_attributes', 'sn36',\n",
      "       'sx36'],\n",
      "      dtype='object', length=109)\n"
     ]
    }
   ],
   "source": [
    "# Display column names\n",
    "print(weather_df.columns)"
   ]
  },
  {
   "cell_type": "code",
   "execution_count": 108,
   "id": "ec651f76-ff64-41d0-bb77-feb5f7358a75",
   "metadata": {},
   "outputs": [
    {
     "name": "stdout",
     "output_type": "stream",
     "text": [
      "<class 'pandas.core.frame.DataFrame'>\n",
      "RangeIndex: 22834319 entries, 0 to 22834318\n",
      "Columns: 109 entries, station to sx36\n",
      "dtypes: float32(60), object(49)\n",
      "memory usage: 13.4+ GB\n",
      "None\n"
     ]
    }
   ],
   "source": [
    "# Check to see difference\n",
    "print(weather_df.info())"
   ]
  },
  {
   "cell_type": "code",
   "execution_count": 114,
   "id": "4a508724-50d0-4c78-ba00-102cc27f234f",
   "metadata": {
    "scrolled": true
   },
   "outputs": [
    {
     "name": "stdout",
     "output_type": "stream",
     "text": [
      "station                   0\n",
      "name                      0\n",
      "latitude             126389\n",
      "longitude            126389\n",
      "elevation            308039\n",
      "date                      0\n",
      "awnd               21730433\n",
      "dapr               22542782\n",
      "mdpr               22545462\n",
      "pgtm               22606193\n",
      "prcp                1646456\n",
      "sn32               22716418\n",
      "snow                8800855\n",
      "snwd               16392560\n",
      "sx32               22716691\n",
      "tavg               20602392\n",
      "tmax               15953944\n",
      "tmin               15962693\n",
      "tobs               18699569\n",
      "wdf2               21787117\n",
      "wdf5               21822776\n",
      "wesd               21434477\n",
      "wesf               21996337\n",
      "wsf2               21786826\n",
      "wsf5               21821049\n",
      "wt01               22412503\n",
      "wt02               22776358\n",
      "wt03               22660100\n",
      "wt04               22826176\n",
      "wt05               22827863\n",
      "wt06               22823223\n",
      "wt08               22713981\n",
      "wt11               22824417\n",
      "id                        0\n",
      "tsun               22832701\n",
      "wt10               22834244\n",
      "sn52               22790115\n",
      "sn53               22828012\n",
      "sn55               22831463\n",
      "sn56               22832659\n",
      "sx52               22789302\n",
      "sx53               22828013\n",
      "sx55               22831461\n",
      "sx56               22832659\n",
      "wdfg               22809397\n",
      "wdmv               22748070\n",
      "wsfg               22796173\n",
      "wsfi               22806590\n",
      "wt09               22831646\n",
      "psun               22832692\n",
      "wt07               22833974\n",
      "sn31               22819770\n",
      "sx31               22819833\n",
      "sn33               22823604\n",
      "sn35               22830449\n",
      "sx33               22823629\n",
      "sx35               22829552\n",
      "awnd_attributes    22798240\n",
      "dapr_attributes    22823377\n",
      "mdpr_attributes    22823473\n",
      "pgtm_attributes    22825550\n",
      "prcp_attributes    22124817\n",
      "snow_attributes    22352746\n",
      "snwd_attributes    22597324\n",
      "tavg_attributes    22792759\n",
      "tmax_attributes    22648564\n",
      "tmin_attributes    22648553\n",
      "tobs_attributes    22706894\n",
      "wdf2_attributes    22800845\n",
      "wdf5_attributes    22802023\n",
      "wdfg_attributes    22833482\n",
      "wdmv_attributes    22832560\n",
      "wesd_attributes    22793687\n",
      "wesf_attributes    22799940\n",
      "wsf2_attributes    22800839\n",
      "wsf5_attributes    22801952\n",
      "wsfg_attributes    22833418\n",
      "wt01_attributes    22818917\n",
      "wt02_attributes    22832434\n",
      "wt03_attributes    22828523\n",
      "wt04_attributes    22833544\n",
      "wt05_attributes    22834065\n",
      "wt06_attributes    22833550\n",
      "wt07_attributes    22834314\n",
      "wt08_attributes    22831617\n",
      "wt09_attributes    22834220\n",
      "wt10_attributes    22834317\n",
      "wt11_attributes    22833890\n",
      "dasf               22834310\n",
      "mdsf               22834310\n",
      "wsfi_attributes    22834257\n",
      "psun_attributes    22834319\n",
      "sn32_attributes    22833527\n",
      "sn52_attributes    22832397\n",
      "sx32_attributes    22833529\n",
      "sx52_attributes    22832392\n",
      "sn31_attributes    22834011\n",
      "sn33_attributes    22834131\n",
      "sx31_attributes    22834011\n",
      "sx33_attributes    22834131\n",
      "sn51               22831126\n",
      "sx51               22831136\n",
      "sn51_attributes    22834309\n",
      "sn53_attributes    22833593\n",
      "sn55_attributes    22833593\n",
      "sx53_attributes    22833593\n",
      "sx55_attributes    22833593\n",
      "sn36               22832616\n",
      "sx36               22831706\n",
      "dtype: int64\n"
     ]
    }
   ],
   "source": [
    "# Check for missing values\n",
    "print(weather_df.isnull().sum())"
   ]
  },
  {
   "cell_type": "code",
   "execution_count": 116,
   "id": "3424688a-ecff-40f3-989d-3e84907abeea",
   "metadata": {},
   "outputs": [],
   "source": [
    "# # Define the missing value threshold to determine which attributes to remove (20%)\n",
    "# threshold = 0.20\n",
    "\n",
    "# # Calculate the proportion of missing values\n",
    "# missing_proportion = combined_weather_df.isnull().mean()\n",
    "\n",
    "# # Calculate the proportion of zero values\n",
    "# zero_proportion = (combined_weather_df == 0).mean()\n",
    "\n",
    "# # Filter columns where missing or zero values are more than the threshold\n",
    "# high_missing_cols = missing_proportion[missing_proportion > threshold].index\n",
    "# high_zero_cols = zero_proportion[zero_proportion > threshold].index\n",
    "\n",
    "# # Print the results\n",
    "# print(\"Columns with more than 20% missing values:\")\n",
    "# print(high_missing_cols)\n",
    "\n",
    "# print(\"\\nColumns with more than 20% zero values:\")\n",
    "# print(high_zero_cols)\n",
    "\n",
    "# # Combine both lists to see columns with either high missing or zero values\n",
    "# high_issue_cols = set(high_missing_cols).union(set(high_zero_cols))\n",
    "# print(\"\\nColumns with either high missing or zero values:\")\n",
    "# print(high_issue_cols)"
   ]
  },
  {
   "cell_type": "code",
   "execution_count": 118,
   "id": "3736f933-697b-4535-995d-88337f792232",
   "metadata": {},
   "outputs": [
    {
     "name": "stdout",
     "output_type": "stream",
     "text": [
      "station              0.000000\n",
      "name                 0.000000\n",
      "latitude             0.553505\n",
      "longitude            0.553505\n",
      "elevation            1.349018\n",
      "date                 0.000000\n",
      "awnd                95.165671\n",
      "dapr                98.723251\n",
      "mdpr                98.734987\n",
      "pgtm                99.000951\n",
      "prcp                 7.210445\n",
      "sn32                99.483668\n",
      "snow                38.542227\n",
      "snwd                71.789135\n",
      "sx32                99.484863\n",
      "tavg                90.225559\n",
      "tmax                69.868272\n",
      "tmin                69.906587\n",
      "tobs                81.892388\n",
      "wdf2                95.413912\n",
      "wdf5                95.570076\n",
      "wesd                93.869570\n",
      "wesf                96.330164\n",
      "wsf2                95.412637\n",
      "wsf5                95.562513\n",
      "wt01                98.152710\n",
      "wt02                99.746167\n",
      "wt03                99.237030\n",
      "wt04                99.964339\n",
      "wt05                99.971727\n",
      "wt06                99.951406\n",
      "wt08                99.472995\n",
      "wt11                99.956635\n",
      "id                   0.000000\n",
      "tsun                99.992914\n",
      "wt10                99.999672\n",
      "sn52                99.806414\n",
      "sn53                99.972379\n",
      "sn55                99.987493\n",
      "sn56                99.992730\n",
      "sx52                99.802854\n",
      "sx53                99.972384\n",
      "sx55                99.987484\n",
      "sx56                99.992730\n",
      "wdfg                99.890857\n",
      "wdmv                99.622283\n",
      "wsfg                99.832944\n",
      "wsfi                99.878564\n",
      "wt09                99.988294\n",
      "psun                99.992875\n",
      "wt07                99.998489\n",
      "sn31                99.936285\n",
      "sx31                99.936560\n",
      "sn33                99.953075\n",
      "sn35                99.983052\n",
      "sx33                99.953185\n",
      "sx35                99.979124\n",
      "awnd_attributes     99.841997\n",
      "dapr_attributes     99.952081\n",
      "mdpr_attributes     99.952501\n",
      "pgtm_attributes     99.961597\n",
      "prcp_attributes     96.892826\n",
      "snow_attributes     97.891012\n",
      "snwd_attributes     98.962110\n",
      "tavg_attributes     99.817993\n",
      "tmax_attributes     99.186510\n",
      "tmin_attributes     99.186461\n",
      "tobs_attributes     99.441958\n",
      "wdf2_attributes     99.853405\n",
      "wdf5_attributes     99.858564\n",
      "wdfg_attributes     99.996334\n",
      "wdmv_attributes     99.992297\n",
      "wesd_attributes     99.822057\n",
      "wesf_attributes     99.849442\n",
      "wsf2_attributes     99.853379\n",
      "wsf5_attributes     99.858253\n",
      "wsfg_attributes     99.996054\n",
      "wt01_attributes     99.932549\n",
      "wt02_attributes     99.991745\n",
      "wt03_attributes     99.974617\n",
      "wt04_attributes     99.996606\n",
      "wt05_attributes     99.998888\n",
      "wt06_attributes     99.996632\n",
      "wt07_attributes     99.999978\n",
      "wt08_attributes     99.988167\n",
      "wt09_attributes     99.999566\n",
      "wt10_attributes     99.999991\n",
      "wt11_attributes     99.998121\n",
      "dasf                99.999961\n",
      "mdsf                99.999961\n",
      "wsfi_attributes     99.999728\n",
      "psun_attributes    100.000000\n",
      "sn32_attributes     99.996532\n",
      "sn52_attributes     99.991583\n",
      "sx32_attributes     99.996540\n",
      "sx52_attributes     99.991561\n",
      "sn31_attributes     99.998651\n",
      "sn33_attributes     99.999177\n",
      "sx31_attributes     99.998651\n",
      "sx33_attributes     99.999177\n",
      "sn51                99.986017\n",
      "sx51                99.986060\n",
      "sn51_attributes     99.999956\n",
      "sn53_attributes     99.996821\n",
      "sn55_attributes     99.996821\n",
      "sx53_attributes     99.996821\n",
      "sx55_attributes     99.996821\n",
      "sn36                99.992542\n",
      "sx36                99.988557\n",
      "dtype: float64\n"
     ]
    }
   ],
   "source": [
    "# Calculate the percentage of NaN values for each column\n",
    "nan_percentage = weather_df.isna().mean() * 100\n",
    "\n",
    "# Adjust pandas display options\n",
    "pd.set_option('display.max_columns', None)  # Show all columns\n",
    "pd.set_option('display.max_rows', None)     # Show all rows\n",
    "\n",
    "# Print the results\n",
    "print(nan_percentage)\n"
   ]
  },
  {
   "cell_type": "code",
   "execution_count": 120,
   "id": "1b04ec86-6639-4295-9bc5-f5f8b402533b",
   "metadata": {},
   "outputs": [],
   "source": [
    "# Select the subset of columns to KEEP\n",
    "columns_to_keep = ['station', 'id', 'name', 'latitude', 'longitude', 'elevation', 'date', 'prcp', 'snow', 'snwd', 'tmax', 'tmin', 'tobs']\n",
    "weather_df = weather_df[columns_to_keep]\n"
   ]
  },
  {
   "cell_type": "code",
   "execution_count": null,
   "id": "e32a09cd-51ee-42a2-b22a-60e32daed912",
   "metadata": {},
   "outputs": [],
   "source": [
    "# # Drop Columns that provide no useful information for analysis (e.g., unique\n",
    "# # identifiers if not needed)\n",
    "\n",
    "# columns_to_drop = [\n",
    "#     'origin_city_market_id',\n",
    "#     'dest_city_market_id',\n",
    "#     'origin',\n",
    "#     'dest',\n",
    "#     'origin_state_nm',\n",
    "#     'dest_state_nm', \n",
    "#     'origin_airport_id',\n",
    "#     'dest_airport_id'\n",
    "# ]\n",
    "\n",
    "# # Drop the identified columns\n",
    "# flight_data = flight_data.drop(columns=columns_to_drop)\n",
    "\n",
    "# # Verify the changes\n",
    "# print(flight_data.info())"
   ]
  },
  {
   "cell_type": "code",
   "execution_count": 122,
   "id": "4c1f249b-9d5d-439e-a5c0-b4be2996c796",
   "metadata": {},
   "outputs": [],
   "source": [
    "# Calculate the number of NaN values per row\n",
    "num_nans_per_row = weather_df.isnull().sum(axis=1)\n",
    "\n",
    "# Calculate the total number of columns in the DataFrame\n",
    "total_columns = weather_df.shape[1]\n",
    "\n",
    "# Calculate the proportion of NaN values per row\n",
    "nan_proportion_per_row = num_nans_per_row / total_columns"
   ]
  },
  {
   "cell_type": "code",
   "execution_count": 124,
   "id": "7a62cf4b-0521-40dc-b4c4-c859772c5969",
   "metadata": {},
   "outputs": [],
   "source": [
    "# Define the threshold (62%)\n",
    "threshold = 0.62\n",
    "\n",
    "# Identify rows where the proportion of NaN values is more than the threshold\n",
    "rows_with_high_nan = weather_df[nan_proportion_per_row > threshold]\n",
    "\n",
    "# Save the rows with high NaN proportions to a new CSV file\n",
    "rows_with_high_nan.to_csv(r'C:\\Users\\hopeh\\Desktop\\data_science_bootcamp\\flight_times_capstone\\rows_with_high_nan.csv', index=False)"
   ]
  },
  {
   "cell_type": "code",
   "execution_count": 126,
   "id": "35a74b48-f3ab-48c8-a4c1-280450c0a4d4",
   "metadata": {},
   "outputs": [
    {
     "name": "stdout",
     "output_type": "stream",
     "text": [
      "Number of rows with more than 62% NaN values: 1016\n"
     ]
    }
   ],
   "source": [
    "# Display the number of rows with more than 62% NaN values\n",
    "print(f\"Number of rows with more than 62% NaN values: {len(rows_with_high_nan)}\")"
   ]
  },
  {
   "cell_type": "code",
   "execution_count": 144,
   "id": "9039ca40-f3a3-4586-9da0-2ee0575cf14c",
   "metadata": {},
   "outputs": [
    {
     "name": "stdout",
     "output_type": "stream",
     "text": [
      "       station           id                       name  latitude  longitude  \\\n",
      "0  US1ALBR0006  3774589.csv       CLAYTON 7.8 W, AL US       NaN        NaN   \n",
      "1  US1ALTS0022  3774589.csv  TUSCALOOSA 1.3 ENE, AL US       NaN        NaN   \n",
      "2  US1ALTS0022  3774589.csv  TUSCALOOSA 1.3 ENE, AL US       NaN        NaN   \n",
      "3  US1ALTS0022  3774589.csv  TUSCALOOSA 1.3 ENE, AL US       NaN        NaN   \n",
      "4  US1ALTS0022  3774589.csv  TUSCALOOSA 1.3 ENE, AL US       NaN        NaN   \n",
      "\n",
      "   elevation        date  prcp  snow  snwd  tmax  tmin  tobs  \n",
      "0        NaN  2023-04-04   NaN   NaN   NaN   NaN   NaN   NaN  \n",
      "1        NaN  2023-01-09   NaN   NaN   NaN   NaN   NaN   NaN  \n",
      "2        NaN  2023-01-23   NaN   NaN   NaN   NaN   NaN   NaN  \n",
      "3        NaN  2023-01-30   NaN   NaN   NaN   NaN   NaN   NaN  \n",
      "4        NaN  2023-02-03   NaN   NaN   NaN   NaN   NaN   NaN  \n"
     ]
    }
   ],
   "source": [
    "# Read the CSV file into a DataFrame\n",
    "rows_w_high_nan_df = pd.read_csv(r'C:\\Users\\hopeh\\Desktop\\data_science_bootcamp\\flight_times_capstone\\rows_with_high_nan.csv', low_memory=False)\n",
    "\n",
    "# Display the first few rows of the DataFrame\n",
    "print(rows_w_high_nan_df.head())"
   ]
  },
  {
   "cell_type": "code",
   "execution_count": 130,
   "id": "1a588cdb-a8e7-4a80-9aab-736f8e92bfb0",
   "metadata": {},
   "outputs": [
    {
     "name": "stdout",
     "output_type": "stream",
     "text": [
      "['station', 'id', 'name', 'latitude', 'longitude', 'elevation', 'date', 'prcp', 'snow', 'snwd', 'tmax', 'tmin', 'tobs']\n"
     ]
    }
   ],
   "source": [
    "# Display the column names\n",
    "print(rows_w_high_nan_df.columns.tolist())"
   ]
  },
  {
   "cell_type": "code",
   "execution_count": 134,
   "id": "28b16984-1141-4323-b34d-60fa689219c3",
   "metadata": {},
   "outputs": [],
   "source": [
    "# Define the columns to check for NaN\n",
    "columns_to_check = ['latitude', 'longitude', 'elevation', 'prcp', 'snow', 'snwd', 'tmax', 'tmin', 'tobs']\n",
    "\n",
    "# Remove rows where all specified columns are NaN\n",
    "weather_df = weather_df.dropna(subset=columns_to_check, how='all')"
   ]
  },
  {
   "cell_type": "code",
   "execution_count": 149,
   "id": "9bf1c6d9-5bc8-4266-b602-dacaa19bc75a",
   "metadata": {},
   "outputs": [
    {
     "name": "stderr",
     "output_type": "stream",
     "text": [
      "C:\\Users\\hopeh\\AppData\\Local\\Temp\\ipykernel_12200\\3439108702.py:2: SettingWithCopyWarning: \n",
      "A value is trying to be set on a copy of a slice from a DataFrame.\n",
      "Try using .loc[row_indexer,col_indexer] = value instead\n",
      "\n",
      "See the caveats in the documentation: https://pandas.pydata.org/pandas-docs/stable/user_guide/indexing.html#returning-a-view-versus-a-copy\n",
      "  weather_df[['city', 'state']] = weather_df['name'].str.split(',', n=1, expand=True)\n"
     ]
    },
    {
     "name": "stdout",
     "output_type": "stream",
     "text": [
      "       station           id                      name  latitude  longitude  \\\n",
      "0  US1ALEL0004  3774578.csv  MILLBROOK 4.0 NNW, AL US  32.55035 -86.384499   \n",
      "1  US1ALEL0004  3774578.csv  MILLBROOK 4.0 NNW, AL US  32.55035 -86.384499   \n",
      "2  US1ALEL0004  3774578.csv  MILLBROOK 4.0 NNW, AL US  32.55035 -86.384499   \n",
      "3  US1ALEL0004  3774578.csv  MILLBROOK 4.0 NNW, AL US  32.55035 -86.384499   \n",
      "4  US1ALEL0004  3774578.csv  MILLBROOK 4.0 NNW, AL US  32.55035 -86.384499   \n",
      "\n",
      "    elevation        date  prcp  snow  snwd  tmax  tmin  tobs       city state  \n",
      "0  120.099998  2024-01-01  0.00   0.0   NaN   NaN   NaN   NaN  MILLBROOK    AL  \n",
      "1  120.099998  2024-01-02  0.00   0.0   NaN   NaN   NaN   NaN  MILLBROOK    AL  \n",
      "2  120.099998  2024-01-03  0.00   0.0   NaN   NaN   NaN   NaN  MILLBROOK    AL  \n",
      "3  120.099998  2024-01-04  0.21   NaN   NaN   NaN   NaN   NaN  MILLBROOK    AL  \n",
      "4  120.099998  2024-01-05  0.00   0.0   NaN   NaN   NaN   NaN  MILLBROOK    AL  \n"
     ]
    }
   ],
   "source": [
    "# Split the 'name' column into 'city' and 'state'\n",
    "weather_df[['city', 'state']] = weather_df['name'].str.split(',', n=1, expand=True)\n",
    "\n",
    "# Clean up the 'city' and 'state' columns\n",
    "weather_df.loc[:, 'city'] = weather_df['city'].str.replace(r'\\d+\\.?\\d*\\s+[NSEW]+', '', regex=True).str.strip()\n",
    "weather_df.loc[:, 'state'] = weather_df['state'].str.extract(r'([A-Z]{2})')[0]\n",
    "\n",
    "# Display the updated DataFrame\n",
    "print(weather_df.head())"
   ]
  },
  {
   "cell_type": "code",
   "execution_count": 136,
   "id": "2216edbb-e991-4a3a-872d-c1b501309511",
   "metadata": {},
   "outputs": [
    {
     "name": "stdout",
     "output_type": "stream",
     "text": [
      "DataFrame shape: (22833303, 13)\n"
     ]
    }
   ],
   "source": [
    "# Check the shape of the cleaned DataFrame\n",
    "print(f'DataFrame shape: {weather_df.shape}')\n"
   ]
  },
  {
   "cell_type": "code",
   "execution_count": 151,
   "id": "01bf0e4e-6ba3-46c5-a910-72a689d20fae",
   "metadata": {},
   "outputs": [
    {
     "name": "stderr",
     "output_type": "stream",
     "text": [
      "C:\\Users\\hopeh\\AppData\\Local\\Temp\\ipykernel_12200\\1077275807.py:2: SettingWithCopyWarning: \n",
      "A value is trying to be set on a copy of a slice from a DataFrame\n",
      "\n",
      "See the caveats in the documentation: https://pandas.pydata.org/pandas-docs/stable/user_guide/indexing.html#returning-a-view-versus-a-copy\n",
      "  weather_df.drop(columns=['name'], inplace=True)\n"
     ]
    }
   ],
   "source": [
    "# Drop the name column\n",
    "weather_df.drop(columns=['name'], inplace=True)"
   ]
  },
  {
   "cell_type": "code",
   "execution_count": 153,
   "id": "256ba0ff-a0fd-4cad-a2cb-c9d77ed81267",
   "metadata": {},
   "outputs": [
    {
     "name": "stdout",
     "output_type": "stream",
     "text": [
      "       station           id  latitude  longitude   elevation        date  \\\n",
      "0  US1ALEL0004  3774578.csv  32.55035 -86.384499  120.099998  2024-01-01   \n",
      "1  US1ALEL0004  3774578.csv  32.55035 -86.384499  120.099998  2024-01-02   \n",
      "2  US1ALEL0004  3774578.csv  32.55035 -86.384499  120.099998  2024-01-03   \n",
      "3  US1ALEL0004  3774578.csv  32.55035 -86.384499  120.099998  2024-01-04   \n",
      "4  US1ALEL0004  3774578.csv  32.55035 -86.384499  120.099998  2024-01-05   \n",
      "\n",
      "   prcp  snow  snwd  tmax  tmin  tobs       city state  \n",
      "0  0.00   0.0   NaN   NaN   NaN   NaN  MILLBROOK    AL  \n",
      "1  0.00   0.0   NaN   NaN   NaN   NaN  MILLBROOK    AL  \n",
      "2  0.00   0.0   NaN   NaN   NaN   NaN  MILLBROOK    AL  \n",
      "3  0.21   NaN   NaN   NaN   NaN   NaN  MILLBROOK    AL  \n",
      "4  0.00   0.0   NaN   NaN   NaN   NaN  MILLBROOK    AL  \n"
     ]
    }
   ],
   "source": [
    "# Display the updated DataFrame\n",
    "print(weather_df.head())"
   ]
  },
  {
   "cell_type": "code",
   "execution_count": 155,
   "id": "aca69fc1-f969-4e28-a0c0-f985f6c92cba",
   "metadata": {},
   "outputs": [],
   "source": [
    "# Define the date range\n",
    "start_date = '2023-05-01'\n",
    "end_date = '2024-04-30'\n",
    "\n",
    "# Filter the DataFrame\n",
    "weather_df = weather_df[(weather_df['date'] >= start_date) & (weather_df['date'] <= end_date)]\n"
   ]
  },
  {
   "cell_type": "code",
   "execution_count": 156,
   "id": "9c4a9571-c686-4cc7-b6ca-9874356e88e2",
   "metadata": {},
   "outputs": [
    {
     "name": "stdout",
     "output_type": "stream",
     "text": [
      "       station           id  latitude  longitude   elevation        date  \\\n",
      "0  US1ALEL0004  3774578.csv  32.55035 -86.384499  120.099998  2024-01-01   \n",
      "1  US1ALEL0004  3774578.csv  32.55035 -86.384499  120.099998  2024-01-02   \n",
      "2  US1ALEL0004  3774578.csv  32.55035 -86.384499  120.099998  2024-01-03   \n",
      "3  US1ALEL0004  3774578.csv  32.55035 -86.384499  120.099998  2024-01-04   \n",
      "4  US1ALEL0004  3774578.csv  32.55035 -86.384499  120.099998  2024-01-05   \n",
      "\n",
      "   prcp  snow  snwd  tmax  tmin  tobs       city state  \n",
      "0  0.00   0.0   NaN   NaN   NaN   NaN  MILLBROOK    AL  \n",
      "1  0.00   0.0   NaN   NaN   NaN   NaN  MILLBROOK    AL  \n",
      "2  0.00   0.0   NaN   NaN   NaN   NaN  MILLBROOK    AL  \n",
      "3  0.21   NaN   NaN   NaN   NaN   NaN  MILLBROOK    AL  \n",
      "4  0.00   0.0   NaN   NaN   NaN   NaN  MILLBROOK    AL  \n"
     ]
    }
   ],
   "source": [
    "print(weather_df.head())"
   ]
  },
  {
   "cell_type": "code",
   "execution_count": 170,
   "id": "cff5d7c8-7fab-47d0-abfa-76f3c6436c73",
   "metadata": {},
   "outputs": [
    {
     "name": "stdout",
     "output_type": "stream",
     "text": [
      "       station           id  latitude  longitude   elevation        date  \\\n",
      "0  us1alel0004  3774578.csv  32.55035 -86.384499  120.099998  2024-01-01   \n",
      "1  us1alel0004  3774578.csv  32.55035 -86.384499  120.099998  2024-01-02   \n",
      "2  us1alel0004  3774578.csv  32.55035 -86.384499  120.099998  2024-01-03   \n",
      "3  us1alel0004  3774578.csv  32.55035 -86.384499  120.099998  2024-01-04   \n",
      "4  us1alel0004  3774578.csv  32.55035 -86.384499  120.099998  2024-01-05   \n",
      "\n",
      "   prcp  snow  snwd  tmax  tmin  tobs       city state  \n",
      "0  0.00   0.0   NaN   NaN   NaN   NaN  millbrook    al  \n",
      "1  0.00   0.0   NaN   NaN   NaN   NaN  millbrook    al  \n",
      "2  0.00   0.0   NaN   NaN   NaN   NaN  millbrook    al  \n",
      "3  0.21   NaN   NaN   NaN   NaN   NaN  millbrook    al  \n",
      "4  0.00   0.0   NaN   NaN   NaN   NaN  millbrook    al  \n"
     ]
    }
   ],
   "source": [
    "# Convert all string values in the DataFrame to lowercase using apply\n",
    "weather_df = weather_df.apply(lambda col: col.str.lower() if col.dtype == \"object\" else col)\n",
    "\n",
    "# Check the updated DataFrame\n",
    "print(weather_df.head())\n"
   ]
  },
  {
   "cell_type": "code",
   "execution_count": 172,
   "id": "959163e1-791c-4bcb-a77b-2c4747dbad72",
   "metadata": {},
   "outputs": [],
   "source": [
    "# save the cleaned DataFrame to a new CSV file\n",
    "weather_df.to_csv('cleaned_weather_data.csv', index=False)"
   ]
  },
  {
   "cell_type": "code",
   "execution_count": 173,
   "id": "d5a75f39-45be-4e8e-9118-b3ee29562358",
   "metadata": {},
   "outputs": [
    {
     "name": "stdout",
     "output_type": "stream",
     "text": [
      "Index(['station', 'id', 'latitude', 'longitude', 'elevation', 'date', 'prcp',\n",
      "       'snow', 'snwd', 'tmax', 'tmin', 'tobs', 'city', 'state'],\n",
      "      dtype='object')\n"
     ]
    }
   ],
   "source": [
    "# Display the column names\n",
    "print(weather_df.columns)"
   ]
  },
  {
   "cell_type": "code",
   "execution_count": null,
   "id": "9a5f3697-40fd-4cca-a8b9-f22aead63a13",
   "metadata": {},
   "outputs": [],
   "source": []
  }
 ],
 "metadata": {
  "kernelspec": {
   "display_name": "Python 3 (ipykernel)",
   "language": "python",
   "name": "python3"
  },
  "language_info": {
   "codemirror_mode": {
    "name": "ipython",
    "version": 3
   },
   "file_extension": ".py",
   "mimetype": "text/x-python",
   "name": "python",
   "nbconvert_exporter": "python",
   "pygments_lexer": "ipython3",
   "version": "3.12.4"
  }
 },
 "nbformat": 4,
 "nbformat_minor": 5
}
