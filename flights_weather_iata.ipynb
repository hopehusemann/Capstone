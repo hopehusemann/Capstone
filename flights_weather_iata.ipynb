{
 "cells": [
  {
   "cell_type": "code",
   "execution_count": 5,
   "id": "8f392e16-5c28-477a-8681-6ef2fe6af8da",
   "metadata": {},
   "outputs": [],
   "source": [
    "import pandas as pd\n",
    "import gc\n",
    "from dask.distributed import Client\n",
    "import dask.dataframe as dd\n"
   ]
  },
  {
   "cell_type": "code",
   "execution_count": 1,
   "id": "bb91331e-360b-4d58-9b28-c411c442bfab",
   "metadata": {},
   "outputs": [],
   "source": [
    "# Load the cleaned merged weather IATA data (ensure this is a CSV)\n",
    "weather_iata_df = pd.read_csv(r\"C:\\Users\\hopeh\\Desktop\\data_science_bootcamp\\flight_times_capstone\\weather_iata.csv\")\n",
    "\n",
    "# Load the cleaned merged flight IATA data (ensure this is a CSV)\n",
    "flight_iata_df = pd.read_csv(r\"C:\\Users\\hopeh\\Desktop\\data_science_bootcamp\\flight_times_capstone\\flights_iata.csv\")\n"
   ]
  },
  {
   "cell_type": "code",
   "execution_count": 3,
   "id": "0ee714b1-50ab-4eea-89d7-416e7b53c315",
   "metadata": {},
   "outputs": [
    {
     "name": "stdout",
     "output_type": "stream",
     "text": [
      "   latitude  longitude  elevation        date  prcp  snow  snwd  tmax  tmin  \\\n",
      "0     31.95     -85.13  86.800003  2024-01-01  0.00   NaN   NaN  65.0  32.0   \n",
      "1     31.95     -85.13  86.800003  2024-01-02  0.00   NaN   NaN  55.0  27.0   \n",
      "2     31.95     -85.13  86.800003  2024-01-03  0.14   NaN   NaN  43.0  27.0   \n",
      "3     31.95     -85.13  86.800003  2024-01-04  0.00   NaN   NaN  58.0  31.0   \n",
      "4     31.95     -85.13  86.800003  2024-01-05  0.23   NaN   NaN  61.0  29.0   \n",
      "\n",
      "   tobs                          city state_abbr_x    state iata  \\\n",
      "0   NaN  eufaula weedon field airport           al  alabama  euf   \n",
      "1   NaN  eufaula weedon field airport           al  alabama  euf   \n",
      "2   NaN  eufaula weedon field airport           al  alabama  euf   \n",
      "3   NaN  eufaula weedon field airport           al  alabama  euf   \n",
      "4   NaN  eufaula weedon field airport           al  alabama  euf   \n",
      "\n",
      "   airport_name state_abbr_y  \n",
      "0  weedon field           al  \n",
      "1  weedon field           al  \n",
      "2  weedon field           al  \n",
      "3  weedon field           al  \n",
      "4  weedon field           al  \n"
     ]
    }
   ],
   "source": [
    "# Display the first few rows of each DataFrame to confirm they loaded correctly\n",
    "print(weather_iata_df.head())"
   ]
  },
  {
   "cell_type": "code",
   "execution_count": 5,
   "id": "3a5bdf15-592f-4b7e-a713-abb66b3c8162",
   "metadata": {},
   "outputs": [
    {
     "name": "stdout",
     "output_type": "stream",
     "text": [
      "   year  month  day_of_month  day_of_week        date op_unique_carrier  \\\n",
      "0  2022      5             1            7  2022-05-01                9e   \n",
      "1  2022      5             1            7  2022-05-01                9e   \n",
      "2  2022      5             1            7  2022-05-01                9e   \n",
      "3  2022      5             1            7  2022-05-01                9e   \n",
      "4  2022      5             1            7  2022-05-01                9e   \n",
      "\n",
      "  tail_num  op_carrier_fl_num origin_iata                origin_city  ...  \\\n",
      "0   n131ev               4633         atl                    atlanta  ...   \n",
      "1   n131ev               4633         hpn               white plains  ...   \n",
      "2   n131ev               4717         tys                  knoxville  ...   \n",
      "3   n131ev               4958         atl                    atlanta  ...   \n",
      "4   n131ev               4958         oaj  jacksonville/camp lejeune  ...   \n",
      "\n",
      "                                       airport_name latitude  longitude  \\\n",
      "0  hartsfield-jackson atlanta international airport  33.6367   -84.4281   \n",
      "1                        westchester county airport  41.0670   -73.7076   \n",
      "2                              mcghee tyson airport  35.8110   -83.9940   \n",
      "3  hartsfield-jackson atlanta international airport  33.6367   -84.4281   \n",
      "4                           albert j. ellis airport  34.8292   -77.6121   \n",
      "\n",
      "   state_abbr      state_dest  iata_dest  \\\n",
      "0          ga        new york        hpn   \n",
      "1          ny         georgia        atl   \n",
      "2          tn         georgia        atl   \n",
      "3          ga  north carolina        oaj   \n",
      "4          nc         georgia        atl   \n",
      "\n",
      "                                  airport_name_dest  latitude_dest  \\\n",
      "0                        westchester county airport        41.0670   \n",
      "1  hartsfield-jackson atlanta international airport        33.6367   \n",
      "2  hartsfield-jackson atlanta international airport        33.6367   \n",
      "3                           albert j. ellis airport        34.8292   \n",
      "4  hartsfield-jackson atlanta international airport        33.6367   \n",
      "\n",
      "   longitude_dest  state_abbr_dest  \n",
      "0        -73.7076               ny  \n",
      "1        -84.4281               ga  \n",
      "2        -84.4281               ga  \n",
      "3        -77.6121               nc  \n",
      "4        -84.4281               ga  \n",
      "\n",
      "[5 rows x 47 columns]\n"
     ]
    }
   ],
   "source": [
    "# Display the first few rows of each DataFrame to confirm they loaded correctly\n",
    "print(flight_iata_df.head())"
   ]
  },
  {
   "cell_type": "code",
   "execution_count": 7,
   "id": "a3b0836e-2bcb-4e85-a162-332981c1c7a2",
   "metadata": {},
   "outputs": [
    {
     "data": {
      "text/plain": [
       "(146022, 16)"
      ]
     },
     "execution_count": 7,
     "metadata": {},
     "output_type": "execute_result"
    }
   ],
   "source": [
    "weather_iata_df.shape"
   ]
  },
  {
   "cell_type": "code",
   "execution_count": 9,
   "id": "73f0af98-262c-4439-8be0-4b1f9514afb9",
   "metadata": {},
   "outputs": [
    {
     "data": {
      "text/plain": [
       "(12951297, 47)"
      ]
     },
     "execution_count": 9,
     "metadata": {},
     "output_type": "execute_result"
    }
   ],
   "source": [
    "flight_iata_df.shape"
   ]
  },
  {
   "cell_type": "code",
   "execution_count": 15,
   "id": "ed79c20f-9267-47bc-8a3a-f9a44b3943cf",
   "metadata": {},
   "outputs": [
    {
     "name": "stdout",
     "output_type": "stream",
     "text": [
      "Index(['latitude', 'longitude', 'elevation', 'date', 'prcp', 'snow', 'snwd',\n",
      "       'tmax', 'tmin', 'tobs', 'city', 'state_abbr_x', 'iata', 'airport_name'],\n",
      "      dtype='object')\n"
     ]
    }
   ],
   "source": [
    "print(weather_iata_df.columns)"
   ]
  },
  {
   "cell_type": "code",
   "execution_count": 17,
   "id": "b9c2ade3-f326-407f-83db-6a95cc7ffef6",
   "metadata": {},
   "outputs": [
    {
     "name": "stdout",
     "output_type": "stream",
     "text": [
      "Index(['year', 'month', 'day_of_month', 'day_of_week', 'date',\n",
      "       'op_unique_carrier', 'tail_num', 'op_carrier_fl_num', 'origin_iata',\n",
      "       'origin_city', 'dest_iata', 'dest_city', 'crs_dep_time', 'dep_time',\n",
      "       'taxi_out', 'wheels_off', 'wheels_on', 'taxi_in', 'crs_arr_time',\n",
      "       'arr_time', 'cancelled', 'diverted', 'crs_elapsed_time',\n",
      "       'actual_elapsed_time', 'air_time', 'flights', 'distance',\n",
      "       'distance_group', 'carrier_delay', 'weather_delay', 'nas_delay',\n",
      "       'security_delay', 'late_aircraft_delay', 'origin_state', 'dest_state',\n",
      "       'state', 'iata', 'airport_name', 'latitude', 'longitude', 'state_abbr',\n",
      "       'state_dest', 'iata_dest', 'airport_name_dest', 'latitude_dest',\n",
      "       'longitude_dest', 'state_abbr_dest'],\n",
      "      dtype='object')\n"
     ]
    }
   ],
   "source": [
    "print(flight_iata_df.columns)"
   ]
  },
  {
   "cell_type": "code",
   "execution_count": 43,
   "id": "31b12d4b-d7e2-40fe-8e20-95cbba86b852",
   "metadata": {},
   "outputs": [
    {
     "name": "stdout",
     "output_type": "stream",
     "text": [
      "Filtered data shape: (6821609, 47)\n",
      "         year  month  day_of_month  day_of_week       date op_unique_carrier  \\\n",
      "6129688  2023      5             1            1 2023-05-01                9e   \n",
      "6129689  2023      5             1            1 2023-05-01                9e   \n",
      "6129690  2023      5             1            1 2023-05-01                9e   \n",
      "6129691  2023      5             1            1 2023-05-01                9e   \n",
      "6129692  2023      5             1            1 2023-05-01                9e   \n",
      "\n",
      "        tail_num  op_carrier_fl_num origin_iata  origin_city  ...  \\\n",
      "6129688   n131ev               4704         msp  minneapolis  ...   \n",
      "6129689   n131ev               4888         cvg   cincinnati  ...   \n",
      "6129690   n131ev               5128         dsm   des moines  ...   \n",
      "6129691   n131ev               5190         msp  minneapolis  ...   \n",
      "6129692   n131ev               5283         cvg   cincinnati  ...   \n",
      "\n",
      "                                              airport_name   latitude  \\\n",
      "6129688  minneapolis-saint paul international airport (...  44.882000   \n",
      "6129689  cincinnati/northern kentucky international air...  39.048801   \n",
      "6129690                   des moines international airport  41.534000   \n",
      "6129691  minneapolis-saint paul international airport (...  44.882000   \n",
      "6129692  cincinnati/northern kentucky international air...  39.048801   \n",
      "\n",
      "         longitude  state_abbr  state_dest  iata_dest  \\\n",
      "6129688 -93.221802          mn    kentucky        cvg   \n",
      "6129689 -84.667801          ky   minnesota        msp   \n",
      "6129690 -93.663101          ia   minnesota        msp   \n",
      "6129691 -93.221802          mn        iowa        dsm   \n",
      "6129692 -84.667801          ky   minnesota        msp   \n",
      "\n",
      "                                         airport_name_dest  latitude_dest  \\\n",
      "6129688  cincinnati/northern kentucky international air...      39.048801   \n",
      "6129689  minneapolis-saint paul international airport (...      44.882000   \n",
      "6129690  minneapolis-saint paul international airport (...      44.882000   \n",
      "6129691                   des moines international airport      41.534000   \n",
      "6129692  minneapolis-saint paul international airport (...      44.882000   \n",
      "\n",
      "         longitude_dest  state_abbr_dest  \n",
      "6129688      -84.667801               ky  \n",
      "6129689      -93.221802               mn  \n",
      "6129690      -93.221802               mn  \n",
      "6129691      -93.663101               ia  \n",
      "6129692      -93.221802               mn  \n",
      "\n",
      "[5 rows x 47 columns]\n"
     ]
    }
   ],
   "source": [
    "# Ensure the 'date' column is in datetime format\n",
    "flight_iata_df['date'] = pd.to_datetime(flight_iata_df['date'])\n",
    "\n",
    "# Define the date range\n",
    "start_date = '2023-05-01'\n",
    "end_date = '2024-04-30'\n",
    "\n",
    "# Filter the DataFrame\n",
    "flight_iata_filtered = flight_iata_df[(flight_iata_df['date'] >= start_date) & (flight_iata_df['date'] <= end_date)]\n",
    "\n",
    "# Display the shape or first few rows of the filtered DataFrame\n",
    "print(\"Filtered data shape:\", flight_iata_filtered.shape)\n",
    "print(flight_iata_filtered.head())"
   ]
  },
  {
   "cell_type": "code",
   "execution_count": 45,
   "id": "25caf626-d183-428f-816b-a02eed801982",
   "metadata": {},
   "outputs": [],
   "source": [
    "# Round latitude and longitude to two decimal places\n",
    "weather_iata_df['latitude'] = weather_iata_df['latitude'].round(2)\n",
    "weather_iata_df['longitude'] = weather_iata_df['longitude'].round(2)\n",
    "\n",
    "flight_iata_df['latitude'] = flight_iata_df['latitude'].round(2)\n",
    "flight_iata_df['longitude'] = flight_iata_df['longitude'].round(2)"
   ]
  },
  {
   "cell_type": "code",
   "execution_count": 47,
   "id": "24557c78-152f-4fe5-90d5-edd0ae0caf58",
   "metadata": {},
   "outputs": [
    {
     "name": "stdout",
     "output_type": "stream",
     "text": [
      "Test merged data shape: (1509, 79)\n",
      "Sample of the merged data:\n",
      "   year  month  day_of_month  day_of_week       date op_unique_carrier  \\\n",
      "0  2022      8            11            4 2022-08-11                ha   \n",
      "1  2023      9            22            5 2023-09-22                yx   \n",
      "2  2023      2             7            2 2023-02-07                wn   \n",
      "3  2022     12             8            4 2022-12-08                ua   \n",
      "4  2024      4            16            2 2024-04-16                aa   \n",
      "\n",
      "  tail_num  op_carrier_fl_num origin_iata        origin_city  ... snwd_dest  \\\n",
      "0   n483ha                548         hnl           honolulu  ...       NaN   \n",
      "1   n207jq               5782         cmh           columbus  ...       NaN   \n",
      "2   n8657b               1481         jax       jacksonville  ...       NaN   \n",
      "3   n848ua               1063         tvc      traverse city  ...       NaN   \n",
      "4   n107us               2352         dfw  dallas/fort worth  ...       NaN   \n",
      "\n",
      "  tmax_dest  tmin_dest  tobs_dest                           city_dest  \\\n",
      "0       NaN        NaN        NaN                                 NaN   \n",
      "1      72.0       59.0        NaN  boston logan international airport   \n",
      "2       NaN        NaN        NaN                                 NaN   \n",
      "3       NaN        NaN        NaN                                 NaN   \n",
      "4       NaN        NaN        NaN                                 NaN   \n",
      "\n",
      "   state_abbr_x_dest     state_dest  iata_dest            airport_name_dest  \\\n",
      "0                NaN            NaN        NaN                          NaN   \n",
      "1                 ma  massachusetts        bos  logan international airport   \n",
      "2                NaN            NaN        NaN                          NaN   \n",
      "3                NaN            NaN        NaN                          NaN   \n",
      "4                NaN            NaN        NaN                          NaN   \n",
      "\n",
      "   state_abbr_y_dest  \n",
      "0                NaN  \n",
      "1                 ma  \n",
      "2                NaN  \n",
      "3                NaN  \n",
      "4                NaN  \n",
      "\n",
      "[5 rows x 79 columns]\n"
     ]
    }
   ],
   "source": [
    "# Sample sizes for testing\n",
    "test_size_flights = 1000  # Adjust as necessary\n",
    "test_size_weather = 1000   # Adjust as necessary\n",
    "\n",
    "# Create smaller subsets for testing\n",
    "small_flight_iata_df = flight_iata_df.sample(n=test_size_flights, random_state=1)\n",
    "small_weather_iata_df = weather_iata_df.sample(n=test_size_weather, random_state=1)\n",
    "\n",
    "# Merge for origin\n",
    "merged_origin_test = pd.merge(\n",
    "    small_flight_iata_df,\n",
    "    small_weather_iata_df,\n",
    "    left_on='origin_iata',\n",
    "    right_on='iata',\n",
    "    how='left',\n",
    "    suffixes=('', '_origin')\n",
    ")\n",
    "\n",
    "# Merge for destination\n",
    "final_merged_test = pd.merge(\n",
    "    merged_origin_test,\n",
    "    small_weather_iata_df,\n",
    "    left_on='dest_iata',\n",
    "    right_on='iata',\n",
    "    how='left',\n",
    "    suffixes=('', '_dest')\n",
    ")\n",
    "\n",
    "# Check the results\n",
    "print(\"Test merged data shape:\", final_merged_test.shape)\n",
    "print(\"Sample of the merged data:\")\n",
    "print(final_merged_test.head())"
   ]
  },
  {
   "cell_type": "code",
   "execution_count": 48,
   "id": "8fe74f70-19b1-4087-abb6-8970fa6bbe58",
   "metadata": {},
   "outputs": [
    {
     "name": "stdout",
     "output_type": "stream",
     "text": [
      "Index(['year', 'month', 'day_of_month', 'day_of_week', 'date',\n",
      "       'op_unique_carrier', 'tail_num', 'op_carrier_fl_num', 'origin_iata',\n",
      "       'origin_city', 'dest_iata', 'dest_city', 'crs_dep_time', 'dep_time',\n",
      "       'taxi_out', 'wheels_off', 'wheels_on', 'taxi_in', 'crs_arr_time',\n",
      "       'arr_time', 'cancelled', 'diverted', 'crs_elapsed_time',\n",
      "       'actual_elapsed_time', 'air_time', 'flights', 'distance',\n",
      "       'distance_group', 'carrier_delay', 'weather_delay', 'nas_delay',\n",
      "       'security_delay', 'late_aircraft_delay', 'origin_state', 'dest_state',\n",
      "       'state', 'iata', 'airport_name', 'latitude', 'longitude', 'state_abbr',\n",
      "       'state_dest', 'iata_dest', 'airport_name_dest', 'latitude_dest',\n",
      "       'longitude_dest', 'state_abbr_dest', 'latitude_origin',\n",
      "       'longitude_origin', 'elevation', 'date_origin', 'prcp', 'snow', 'snwd',\n",
      "       'tmax', 'tmin', 'tobs', 'city', 'state_abbr_x', 'state_origin',\n",
      "       'iata_origin', 'airport_name_origin', 'state_abbr_y', 'latitude_dest',\n",
      "       'longitude_dest', 'elevation_dest', 'date_dest', 'prcp_dest',\n",
      "       'snow_dest', 'snwd_dest', 'tmax_dest', 'tmin_dest', 'tobs_dest',\n",
      "       'city_dest', 'state_abbr_x_dest', 'state_dest', 'iata_dest',\n",
      "       'airport_name_dest', 'state_abbr_y_dest'],\n",
      "      dtype='object')\n"
     ]
    }
   ],
   "source": [
    "print(final_merged_test.columns)"
   ]
  },
  {
   "cell_type": "code",
   "execution_count": 51,
   "id": "d96ad58d-461a-4cfd-89df-8e50946d955b",
   "metadata": {},
   "outputs": [],
   "source": [
    "# Drop the specified columns from weather_iata_df\n",
    "#weather_iata_df = weather_iata_df.drop(columns=[])"
   ]
  },
  {
   "cell_type": "code",
   "execution_count": 53,
   "id": "dd28bc89-ef03-4a08-a57e-03a630ffa10a",
   "metadata": {},
   "outputs": [],
   "source": [
    "# optimize dataframe\n",
    "def optimize_dataframe(df):\n",
    "    for col in df.select_dtypes(include=['float64']).columns:\n",
    "        df[col] = pd.to_numeric(df[col], downcast='float')\n",
    "    for col in df.select_dtypes(include=['int64']).columns:\n",
    "        df[col] = pd.to_numeric(df[col], downcast='integer')\n",
    "    for col in df.select_dtypes(include=['object']).columns:\n",
    "        if df[col].nunique() / len(df) < 0.5:  # Adjust threshold as needed\n",
    "            df[col] = df[col].astype('category')\n",
    "    return df\n",
    "\n",
    "chunksize = 25000  # Adjust based on memory capacity\n",
    "\n",
    "# Process flight_iata_df in chunks\n",
    "optimized_flight_chunks = []\n",
    "for chunk in pd.read_csv(r'C:\\Users\\hopeh\\Desktop\\data_science_bootcamp\\flight_times_capstone\\flights_iata.csv', chunksize=chunksize):\n",
    "    optimized_chunk = optimize_dataframe(chunk)\n",
    "    optimized_flight_chunks.append(optimized_chunk)\n",
    "    del chunk  # Delete the chunk to free up memory\n",
    "    gc.collect()  # Trigger garbage collection\n",
    "\n",
    "# Concatenate all processed flight chunks into a single DataFrame\n",
    "flight_iata_df = pd.concat(optimized_flight_chunks, ignore_index=True)\n",
    "\n",
    "# Process weather_iata_df in chunks\n",
    "optimized_weather_chunks = []\n",
    "for chunk in pd.read_csv(r'C:\\Users\\hopeh\\Desktop\\data_science_bootcamp\\flight_times_capstone\\weather_iata.csv', chunksize=chunksize):\n",
    "    optimized_chunk = optimize_dataframe(chunk)\n",
    "    optimized_weather_chunks.append(optimized_chunk)\n",
    "    del chunk  # Delete the chunk to free up memory\n",
    "    gc.collect()  # Trigger garbage collection\n",
    "\n",
    "# Concatenate all processed weather chunks into a single DataFrame\n",
    "weather_iata_df = pd.concat(optimized_weather_chunks, ignore_index=True)\n",
    "\n",
    "# Now flight_iata_df and weather_iata_df are optimized\n"
   ]
  },
  {
   "cell_type": "code",
   "execution_count": 60,
   "id": "d77597d9-7fed-4ac0-901c-968b92dfbe91",
   "metadata": {
    "scrolled": true
   },
   "outputs": [
    {
     "name": "stdout",
     "output_type": "stream",
     "text": [
      "Processing chunk 1/25903\n"
     ]
    },
    {
     "ename": "KeyboardInterrupt",
     "evalue": "",
     "output_type": "error",
     "traceback": [
      "\u001b[1;31m---------------------------------------------------------------------------\u001b[0m",
      "\u001b[1;31mKeyboardInterrupt\u001b[0m                         Traceback (most recent call last)",
      "Cell \u001b[1;32mIn[60], line 46\u001b[0m\n\u001b[0;32m     43\u001b[0m     \u001b[38;5;28;01mreturn\u001b[39;00m final_merged_data\n\u001b[0;32m     45\u001b[0m \u001b[38;5;66;03m# Call the function with your DataFrames\u001b[39;00m\n\u001b[1;32m---> 46\u001b[0m final_merged_data \u001b[38;5;241m=\u001b[39m merge_flights_with_weather(flight_iata_df, weather_iata_df)\n\u001b[0;32m     47\u001b[0m \u001b[38;5;28mprint\u001b[39m(\u001b[38;5;124m\"\u001b[39m\u001b[38;5;124mMerged data shape:\u001b[39m\u001b[38;5;124m\"\u001b[39m, final_merged_data\u001b[38;5;241m.\u001b[39mshape)\n",
      "Cell \u001b[1;32mIn[60], line 32\u001b[0m, in \u001b[0;36mmerge_flights_with_weather\u001b[1;34m(flight_iata_df, weather_iata_df, chunk_size)\u001b[0m\n\u001b[0;32m     22\u001b[0m merged_final_chunk \u001b[38;5;241m=\u001b[39m pd\u001b[38;5;241m.\u001b[39mmerge(\n\u001b[0;32m     23\u001b[0m     merged_origin_chunk,\n\u001b[0;32m     24\u001b[0m     weather_iata_df,\n\u001b[1;32m   (...)\u001b[0m\n\u001b[0;32m     28\u001b[0m     suffixes\u001b[38;5;241m=\u001b[39m(\u001b[38;5;124m'\u001b[39m\u001b[38;5;124m'\u001b[39m, \u001b[38;5;124m'\u001b[39m\u001b[38;5;124m_dest\u001b[39m\u001b[38;5;124m'\u001b[39m)\n\u001b[0;32m     29\u001b[0m )\n\u001b[0;32m     31\u001b[0m \u001b[38;5;66;03m# Append the merged chunk to a CSV file\u001b[39;00m\n\u001b[1;32m---> 32\u001b[0m merged_final_chunk\u001b[38;5;241m.\u001b[39mto_csv(output_file, mode\u001b[38;5;241m=\u001b[39m\u001b[38;5;124m'\u001b[39m\u001b[38;5;124ma\u001b[39m\u001b[38;5;124m'\u001b[39m, header\u001b[38;5;241m=\u001b[39m(i\u001b[38;5;241m==\u001b[39m\u001b[38;5;241m0\u001b[39m), index\u001b[38;5;241m=\u001b[39m\u001b[38;5;28;01mFalse\u001b[39;00m)\n\u001b[0;32m     34\u001b[0m \u001b[38;5;66;03m# Print progress\u001b[39;00m\n\u001b[0;32m     35\u001b[0m \u001b[38;5;28mprint\u001b[39m(\u001b[38;5;124mf\u001b[39m\u001b[38;5;124m\"\u001b[39m\u001b[38;5;124mProcessing chunk \u001b[39m\u001b[38;5;132;01m{\u001b[39;00mi\u001b[38;5;250m \u001b[39m\u001b[38;5;241m+\u001b[39m\u001b[38;5;250m \u001b[39m\u001b[38;5;241m1\u001b[39m\u001b[38;5;132;01m}\u001b[39;00m\u001b[38;5;124m/\u001b[39m\u001b[38;5;132;01m{\u001b[39;00mtotal_chunks\u001b[38;5;132;01m}\u001b[39;00m\u001b[38;5;124m\"\u001b[39m)\n",
      "File \u001b[1;32m~\\anaconda3\\Lib\\site-packages\\pandas\\util\\_decorators.py:333\u001b[0m, in \u001b[0;36mdeprecate_nonkeyword_arguments.<locals>.decorate.<locals>.wrapper\u001b[1;34m(*args, **kwargs)\u001b[0m\n\u001b[0;32m    327\u001b[0m \u001b[38;5;28;01mif\u001b[39;00m \u001b[38;5;28mlen\u001b[39m(args) \u001b[38;5;241m>\u001b[39m num_allow_args:\n\u001b[0;32m    328\u001b[0m     warnings\u001b[38;5;241m.\u001b[39mwarn(\n\u001b[0;32m    329\u001b[0m         msg\u001b[38;5;241m.\u001b[39mformat(arguments\u001b[38;5;241m=\u001b[39m_format_argument_list(allow_args)),\n\u001b[0;32m    330\u001b[0m         \u001b[38;5;167;01mFutureWarning\u001b[39;00m,\n\u001b[0;32m    331\u001b[0m         stacklevel\u001b[38;5;241m=\u001b[39mfind_stack_level(),\n\u001b[0;32m    332\u001b[0m     )\n\u001b[1;32m--> 333\u001b[0m \u001b[38;5;28;01mreturn\u001b[39;00m func(\u001b[38;5;241m*\u001b[39margs, \u001b[38;5;241m*\u001b[39m\u001b[38;5;241m*\u001b[39mkwargs)\n",
      "File \u001b[1;32m~\\anaconda3\\Lib\\site-packages\\pandas\\core\\generic.py:3967\u001b[0m, in \u001b[0;36mNDFrame.to_csv\u001b[1;34m(self, path_or_buf, sep, na_rep, float_format, columns, header, index, index_label, mode, encoding, compression, quoting, quotechar, lineterminator, chunksize, date_format, doublequote, escapechar, decimal, errors, storage_options)\u001b[0m\n\u001b[0;32m   3956\u001b[0m df \u001b[38;5;241m=\u001b[39m \u001b[38;5;28mself\u001b[39m \u001b[38;5;28;01mif\u001b[39;00m \u001b[38;5;28misinstance\u001b[39m(\u001b[38;5;28mself\u001b[39m, ABCDataFrame) \u001b[38;5;28;01melse\u001b[39;00m \u001b[38;5;28mself\u001b[39m\u001b[38;5;241m.\u001b[39mto_frame()\n\u001b[0;32m   3958\u001b[0m formatter \u001b[38;5;241m=\u001b[39m DataFrameFormatter(\n\u001b[0;32m   3959\u001b[0m     frame\u001b[38;5;241m=\u001b[39mdf,\n\u001b[0;32m   3960\u001b[0m     header\u001b[38;5;241m=\u001b[39mheader,\n\u001b[1;32m   (...)\u001b[0m\n\u001b[0;32m   3964\u001b[0m     decimal\u001b[38;5;241m=\u001b[39mdecimal,\n\u001b[0;32m   3965\u001b[0m )\n\u001b[1;32m-> 3967\u001b[0m \u001b[38;5;28;01mreturn\u001b[39;00m DataFrameRenderer(formatter)\u001b[38;5;241m.\u001b[39mto_csv(\n\u001b[0;32m   3968\u001b[0m     path_or_buf,\n\u001b[0;32m   3969\u001b[0m     lineterminator\u001b[38;5;241m=\u001b[39mlineterminator,\n\u001b[0;32m   3970\u001b[0m     sep\u001b[38;5;241m=\u001b[39msep,\n\u001b[0;32m   3971\u001b[0m     encoding\u001b[38;5;241m=\u001b[39mencoding,\n\u001b[0;32m   3972\u001b[0m     errors\u001b[38;5;241m=\u001b[39merrors,\n\u001b[0;32m   3973\u001b[0m     compression\u001b[38;5;241m=\u001b[39mcompression,\n\u001b[0;32m   3974\u001b[0m     quoting\u001b[38;5;241m=\u001b[39mquoting,\n\u001b[0;32m   3975\u001b[0m     columns\u001b[38;5;241m=\u001b[39mcolumns,\n\u001b[0;32m   3976\u001b[0m     index_label\u001b[38;5;241m=\u001b[39mindex_label,\n\u001b[0;32m   3977\u001b[0m     mode\u001b[38;5;241m=\u001b[39mmode,\n\u001b[0;32m   3978\u001b[0m     chunksize\u001b[38;5;241m=\u001b[39mchunksize,\n\u001b[0;32m   3979\u001b[0m     quotechar\u001b[38;5;241m=\u001b[39mquotechar,\n\u001b[0;32m   3980\u001b[0m     date_format\u001b[38;5;241m=\u001b[39mdate_format,\n\u001b[0;32m   3981\u001b[0m     doublequote\u001b[38;5;241m=\u001b[39mdoublequote,\n\u001b[0;32m   3982\u001b[0m     escapechar\u001b[38;5;241m=\u001b[39mescapechar,\n\u001b[0;32m   3983\u001b[0m     storage_options\u001b[38;5;241m=\u001b[39mstorage_options,\n\u001b[0;32m   3984\u001b[0m )\n",
      "File \u001b[1;32m~\\anaconda3\\Lib\\site-packages\\pandas\\io\\formats\\format.py:1014\u001b[0m, in \u001b[0;36mDataFrameRenderer.to_csv\u001b[1;34m(self, path_or_buf, encoding, sep, columns, index_label, mode, compression, quoting, quotechar, lineterminator, chunksize, date_format, doublequote, escapechar, errors, storage_options)\u001b[0m\n\u001b[0;32m    993\u001b[0m     created_buffer \u001b[38;5;241m=\u001b[39m \u001b[38;5;28;01mFalse\u001b[39;00m\n\u001b[0;32m    995\u001b[0m csv_formatter \u001b[38;5;241m=\u001b[39m CSVFormatter(\n\u001b[0;32m    996\u001b[0m     path_or_buf\u001b[38;5;241m=\u001b[39mpath_or_buf,\n\u001b[0;32m    997\u001b[0m     lineterminator\u001b[38;5;241m=\u001b[39mlineterminator,\n\u001b[1;32m   (...)\u001b[0m\n\u001b[0;32m   1012\u001b[0m     formatter\u001b[38;5;241m=\u001b[39m\u001b[38;5;28mself\u001b[39m\u001b[38;5;241m.\u001b[39mfmt,\n\u001b[0;32m   1013\u001b[0m )\n\u001b[1;32m-> 1014\u001b[0m csv_formatter\u001b[38;5;241m.\u001b[39msave()\n\u001b[0;32m   1016\u001b[0m \u001b[38;5;28;01mif\u001b[39;00m created_buffer:\n\u001b[0;32m   1017\u001b[0m     \u001b[38;5;28;01massert\u001b[39;00m \u001b[38;5;28misinstance\u001b[39m(path_or_buf, StringIO)\n",
      "File \u001b[1;32m~\\anaconda3\\Lib\\site-packages\\pandas\\io\\formats\\csvs.py:270\u001b[0m, in \u001b[0;36mCSVFormatter.save\u001b[1;34m(self)\u001b[0m\n\u001b[0;32m    251\u001b[0m \u001b[38;5;28;01mwith\u001b[39;00m get_handle(\n\u001b[0;32m    252\u001b[0m     \u001b[38;5;28mself\u001b[39m\u001b[38;5;241m.\u001b[39mfilepath_or_buffer,\n\u001b[0;32m    253\u001b[0m     \u001b[38;5;28mself\u001b[39m\u001b[38;5;241m.\u001b[39mmode,\n\u001b[1;32m   (...)\u001b[0m\n\u001b[0;32m    258\u001b[0m ) \u001b[38;5;28;01mas\u001b[39;00m handles:\n\u001b[0;32m    259\u001b[0m     \u001b[38;5;66;03m# Note: self.encoding is irrelevant here\u001b[39;00m\n\u001b[0;32m    260\u001b[0m     \u001b[38;5;28mself\u001b[39m\u001b[38;5;241m.\u001b[39mwriter \u001b[38;5;241m=\u001b[39m csvlib\u001b[38;5;241m.\u001b[39mwriter(\n\u001b[0;32m    261\u001b[0m         handles\u001b[38;5;241m.\u001b[39mhandle,\n\u001b[0;32m    262\u001b[0m         lineterminator\u001b[38;5;241m=\u001b[39m\u001b[38;5;28mself\u001b[39m\u001b[38;5;241m.\u001b[39mlineterminator,\n\u001b[1;32m   (...)\u001b[0m\n\u001b[0;32m    267\u001b[0m         quotechar\u001b[38;5;241m=\u001b[39m\u001b[38;5;28mself\u001b[39m\u001b[38;5;241m.\u001b[39mquotechar,\n\u001b[0;32m    268\u001b[0m     )\n\u001b[1;32m--> 270\u001b[0m     \u001b[38;5;28mself\u001b[39m\u001b[38;5;241m.\u001b[39m_save()\n",
      "File \u001b[1;32m~\\anaconda3\\Lib\\site-packages\\pandas\\io\\formats\\csvs.py:275\u001b[0m, in \u001b[0;36mCSVFormatter._save\u001b[1;34m(self)\u001b[0m\n\u001b[0;32m    273\u001b[0m \u001b[38;5;28;01mif\u001b[39;00m \u001b[38;5;28mself\u001b[39m\u001b[38;5;241m.\u001b[39m_need_to_save_header:\n\u001b[0;32m    274\u001b[0m     \u001b[38;5;28mself\u001b[39m\u001b[38;5;241m.\u001b[39m_save_header()\n\u001b[1;32m--> 275\u001b[0m \u001b[38;5;28mself\u001b[39m\u001b[38;5;241m.\u001b[39m_save_body()\n",
      "File \u001b[1;32m~\\anaconda3\\Lib\\site-packages\\pandas\\io\\formats\\csvs.py:313\u001b[0m, in \u001b[0;36mCSVFormatter._save_body\u001b[1;34m(self)\u001b[0m\n\u001b[0;32m    311\u001b[0m \u001b[38;5;28;01mif\u001b[39;00m start_i \u001b[38;5;241m>\u001b[39m\u001b[38;5;241m=\u001b[39m end_i:\n\u001b[0;32m    312\u001b[0m     \u001b[38;5;28;01mbreak\u001b[39;00m\n\u001b[1;32m--> 313\u001b[0m \u001b[38;5;28mself\u001b[39m\u001b[38;5;241m.\u001b[39m_save_chunk(start_i, end_i)\n",
      "File \u001b[1;32m~\\anaconda3\\Lib\\site-packages\\pandas\\io\\formats\\csvs.py:324\u001b[0m, in \u001b[0;36mCSVFormatter._save_chunk\u001b[1;34m(self, start_i, end_i)\u001b[0m\n\u001b[0;32m    321\u001b[0m data \u001b[38;5;241m=\u001b[39m \u001b[38;5;28mlist\u001b[39m(res\u001b[38;5;241m.\u001b[39m_iter_column_arrays())\n\u001b[0;32m    323\u001b[0m ix \u001b[38;5;241m=\u001b[39m \u001b[38;5;28mself\u001b[39m\u001b[38;5;241m.\u001b[39mdata_index[slicer]\u001b[38;5;241m.\u001b[39m_get_values_for_csv(\u001b[38;5;241m*\u001b[39m\u001b[38;5;241m*\u001b[39m\u001b[38;5;28mself\u001b[39m\u001b[38;5;241m.\u001b[39m_number_format)\n\u001b[1;32m--> 324\u001b[0m libwriters\u001b[38;5;241m.\u001b[39mwrite_csv_rows(\n\u001b[0;32m    325\u001b[0m     data,\n\u001b[0;32m    326\u001b[0m     ix,\n\u001b[0;32m    327\u001b[0m     \u001b[38;5;28mself\u001b[39m\u001b[38;5;241m.\u001b[39mnlevels,\n\u001b[0;32m    328\u001b[0m     \u001b[38;5;28mself\u001b[39m\u001b[38;5;241m.\u001b[39mcols,\n\u001b[0;32m    329\u001b[0m     \u001b[38;5;28mself\u001b[39m\u001b[38;5;241m.\u001b[39mwriter,\n\u001b[0;32m    330\u001b[0m )\n",
      "File \u001b[1;32mwriters.pyx:73\u001b[0m, in \u001b[0;36mpandas._libs.writers.write_csv_rows\u001b[1;34m()\u001b[0m\n",
      "\u001b[1;31mKeyboardInterrupt\u001b[0m: "
     ]
    }
   ],
   "source": [
    "# def merge_flights_with_weather(flight_iata_df, weather_iata_df, chunk_size=500):\n",
    "#     # Temporary file to store the merged data\n",
    "#     output_file = 'merged_data.csv'\n",
    "    \n",
    "#     total_chunks = len(flight_iata_df) // chunk_size + 1  # Calculate total chunks\n",
    "\n",
    "#     # Process flight_iata_df in chunks\n",
    "#     for i in range(total_chunks):\n",
    "#         flight_chunk = flight_iata_df.iloc[i * chunk_size:(i + 1) * chunk_size]  # Create a chunk\n",
    "\n",
    "#         # Merge for origin\n",
    "#         merged_origin_chunk = pd.merge(\n",
    "#             flight_chunk,\n",
    "#             weather_iata_df,\n",
    "#             left_on='origin_iata',\n",
    "#             right_on='iata',\n",
    "#             how='left',\n",
    "#             suffixes=('', '_origin')\n",
    "#         )\n",
    "\n",
    "#         # Merge for destination\n",
    "#         merged_final_chunk = pd.merge(\n",
    "#             merged_origin_chunk,\n",
    "#             weather_iata_df,\n",
    "#             left_on='dest_iata',\n",
    "#             right_on='iata',\n",
    "#             how='left',\n",
    "#             suffixes=('', '_dest')\n",
    "#         )\n",
    "\n",
    "#         # Append the merged chunk to a CSV file\n",
    "#         merged_final_chunk.to_csv(output_file, mode='a', header=(i==0), index=False)\n",
    "\n",
    "#         # Print progress\n",
    "#         print(f\"Processing chunk {i + 1}/{total_chunks}\")\n",
    "\n",
    "#         # Clean up\n",
    "#         del flight_chunk, merged_origin_chunk, merged_final_chunk\n",
    "#         gc.collect()  # Trigger garbage collection\n",
    "\n",
    "#     # Read the merged data back into a DataFrame if needed\n",
    "#     final_merged_data = pd.read_csv(output_file)\n",
    "#     return final_merged_data\n",
    "\n",
    "# # Call the function with your DataFrames\n",
    "# final_merged_data = merge_flights_with_weather(flight_iata_df, weather_iata_df)\n",
    "# print(\"Merged data shape:\", final_merged_data.shape)"
   ]
  },
  {
   "cell_type": "code",
   "execution_count": 11,
   "id": "340ec81f-5d0e-4f4e-8d42-1dee420d1d67",
   "metadata": {},
   "outputs": [
    {
     "name": "stderr",
     "output_type": "stream",
     "text": [
      "C:\\Users\\hopeh\\anaconda3\\Lib\\site-packages\\distributed\\node.py:187: UserWarning: Port 8787 is already in use.\n",
      "Perhaps you already have a cluster running?\n",
      "Hosting the HTTP server on port 50350 instead\n",
      "  warnings.warn(\n"
     ]
    },
    {
     "ename": "RuntimeError",
     "evalue": "Nanny failed to start.",
     "output_type": "error",
     "traceback": [
      "\u001b[1;31m---------------------------------------------------------------------------\u001b[0m",
      "\u001b[1;31mOSError\u001b[0m                                   Traceback (most recent call last)",
      "File \u001b[1;32m~\\anaconda3\\Lib\\site-packages\\distributed\\core.py:525\u001b[0m, in \u001b[0;36mServer.start\u001b[1;34m(self)\u001b[0m\n\u001b[0;32m    524\u001b[0m \u001b[38;5;28;01mtry\u001b[39;00m:\n\u001b[1;32m--> 525\u001b[0m     \u001b[38;5;28;01mawait\u001b[39;00m wait_for(\u001b[38;5;28mself\u001b[39m\u001b[38;5;241m.\u001b[39mstart_unsafe(), timeout\u001b[38;5;241m=\u001b[39mtimeout)\n\u001b[0;32m    526\u001b[0m \u001b[38;5;28;01mexcept\u001b[39;00m asyncio\u001b[38;5;241m.\u001b[39mTimeoutError \u001b[38;5;28;01mas\u001b[39;00m exc:\n",
      "File \u001b[1;32m~\\anaconda3\\Lib\\site-packages\\distributed\\utils.py:1921\u001b[0m, in \u001b[0;36mwait_for\u001b[1;34m(fut, timeout)\u001b[0m\n\u001b[0;32m   1920\u001b[0m \u001b[38;5;28;01masync\u001b[39;00m \u001b[38;5;28;01mwith\u001b[39;00m asyncio\u001b[38;5;241m.\u001b[39mtimeout(timeout):\n\u001b[1;32m-> 1921\u001b[0m     \u001b[38;5;28;01mreturn\u001b[39;00m \u001b[38;5;28;01mawait\u001b[39;00m fut\n",
      "File \u001b[1;32m~\\anaconda3\\Lib\\site-packages\\distributed\\nanny.py:337\u001b[0m, in \u001b[0;36mNanny.start_unsafe\u001b[1;34m(self)\u001b[0m\n\u001b[0;32m    336\u001b[0m \u001b[38;5;28;01mtry\u001b[39;00m:\n\u001b[1;32m--> 337\u001b[0m     \u001b[38;5;28;01mawait\u001b[39;00m \u001b[38;5;28mself\u001b[39m\u001b[38;5;241m.\u001b[39mlisten(\n\u001b[0;32m    338\u001b[0m         start_address, \u001b[38;5;241m*\u001b[39m\u001b[38;5;241m*\u001b[39m\u001b[38;5;28mself\u001b[39m\u001b[38;5;241m.\u001b[39msecurity\u001b[38;5;241m.\u001b[39mget_listen_args(\u001b[38;5;124m\"\u001b[39m\u001b[38;5;124mworker\u001b[39m\u001b[38;5;124m\"\u001b[39m)\n\u001b[0;32m    339\u001b[0m     )\n\u001b[0;32m    340\u001b[0m \u001b[38;5;28;01mexcept\u001b[39;00m \u001b[38;5;167;01mOSError\u001b[39;00m \u001b[38;5;28;01mas\u001b[39;00m e:\n",
      "File \u001b[1;32m~\\anaconda3\\Lib\\site-packages\\distributed\\core.py:720\u001b[0m, in \u001b[0;36mServer.listen\u001b[1;34m(self, port_or_addr, allow_offload, **kwargs)\u001b[0m\n\u001b[0;32m    719\u001b[0m     \u001b[38;5;28;01massert\u001b[39;00m \u001b[38;5;28misinstance\u001b[39m(addr, \u001b[38;5;28mstr\u001b[39m)\n\u001b[1;32m--> 720\u001b[0m listener \u001b[38;5;241m=\u001b[39m \u001b[38;5;28;01mawait\u001b[39;00m listen(\n\u001b[0;32m    721\u001b[0m     addr,\n\u001b[0;32m    722\u001b[0m     \u001b[38;5;28mself\u001b[39m\u001b[38;5;241m.\u001b[39mhandle_comm,\n\u001b[0;32m    723\u001b[0m     deserialize\u001b[38;5;241m=\u001b[39m\u001b[38;5;28mself\u001b[39m\u001b[38;5;241m.\u001b[39mdeserialize,\n\u001b[0;32m    724\u001b[0m     allow_offload\u001b[38;5;241m=\u001b[39mallow_offload,\n\u001b[0;32m    725\u001b[0m     \u001b[38;5;241m*\u001b[39m\u001b[38;5;241m*\u001b[39mkwargs,\n\u001b[0;32m    726\u001b[0m )\n\u001b[0;32m    727\u001b[0m \u001b[38;5;28mself\u001b[39m\u001b[38;5;241m.\u001b[39mlisteners\u001b[38;5;241m.\u001b[39mappend(listener)\n",
      "File \u001b[1;32m~\\anaconda3\\Lib\\site-packages\\distributed\\comm\\core.py:256\u001b[0m, in \u001b[0;36mListener.__await__.<locals>._\u001b[1;34m()\u001b[0m\n\u001b[0;32m    255\u001b[0m \u001b[38;5;28;01masync\u001b[39;00m \u001b[38;5;28;01mdef\u001b[39;00m \u001b[38;5;21m_\u001b[39m():\n\u001b[1;32m--> 256\u001b[0m     \u001b[38;5;28;01mawait\u001b[39;00m \u001b[38;5;28mself\u001b[39m\u001b[38;5;241m.\u001b[39mstart()\n\u001b[0;32m    257\u001b[0m     \u001b[38;5;28;01mreturn\u001b[39;00m \u001b[38;5;28mself\u001b[39m\n",
      "File \u001b[1;32m~\\anaconda3\\Lib\\site-packages\\distributed\\comm\\tcp.py:629\u001b[0m, in \u001b[0;36mBaseTCPListener.start\u001b[1;34m(self)\u001b[0m\n\u001b[0;32m    624\u001b[0m \u001b[38;5;28;01mtry\u001b[39;00m:\n\u001b[0;32m    625\u001b[0m     \u001b[38;5;66;03m# When shuffling data between workers, there can\u001b[39;00m\n\u001b[0;32m    626\u001b[0m     \u001b[38;5;66;03m# really be O(cluster size) connection requests\u001b[39;00m\n\u001b[0;32m    627\u001b[0m     \u001b[38;5;66;03m# on a single worker socket, make sure the backlog\u001b[39;00m\n\u001b[0;32m    628\u001b[0m     \u001b[38;5;66;03m# is large enough not to lose any.\u001b[39;00m\n\u001b[1;32m--> 629\u001b[0m     sockets \u001b[38;5;241m=\u001b[39m netutil\u001b[38;5;241m.\u001b[39mbind_sockets(\n\u001b[0;32m    630\u001b[0m         \u001b[38;5;28mself\u001b[39m\u001b[38;5;241m.\u001b[39mport, address\u001b[38;5;241m=\u001b[39m\u001b[38;5;28mself\u001b[39m\u001b[38;5;241m.\u001b[39mip, backlog\u001b[38;5;241m=\u001b[39mbacklog\n\u001b[0;32m    631\u001b[0m     )\n\u001b[0;32m    632\u001b[0m \u001b[38;5;28;01mexcept\u001b[39;00m \u001b[38;5;167;01mOSError\u001b[39;00m \u001b[38;5;28;01mas\u001b[39;00m e:\n\u001b[0;32m    633\u001b[0m     \u001b[38;5;66;03m# EADDRINUSE can happen sporadically when trying to bind\u001b[39;00m\n\u001b[0;32m    634\u001b[0m     \u001b[38;5;66;03m# to an ephemeral port\u001b[39;00m\n",
      "File \u001b[1;32m~\\anaconda3\\Lib\\site-packages\\tornado\\netutil.py:162\u001b[0m, in \u001b[0;36mbind_sockets\u001b[1;34m(port, address, family, backlog, flags, reuse_port)\u001b[0m\n\u001b[0;32m    161\u001b[0m \u001b[38;5;28;01mtry\u001b[39;00m:\n\u001b[1;32m--> 162\u001b[0m     sock\u001b[38;5;241m.\u001b[39mbind(sockaddr)\n\u001b[0;32m    163\u001b[0m \u001b[38;5;28;01mexcept\u001b[39;00m \u001b[38;5;167;01mOSError\u001b[39;00m \u001b[38;5;28;01mas\u001b[39;00m e:\n",
      "\u001b[1;31mOSError\u001b[0m: [WinError 10048] Only one usage of each socket address (protocol/network address/port) is normally permitted",
      "\nThe above exception was the direct cause of the following exception:\n",
      "\u001b[1;31mRuntimeError\u001b[0m                              Traceback (most recent call last)",
      "Cell \u001b[1;32mIn[11], line 2\u001b[0m\n\u001b[0;32m      1\u001b[0m \u001b[38;5;66;03m# Initialize the Dask client with specific settings\u001b[39;00m\n\u001b[1;32m----> 2\u001b[0m client \u001b[38;5;241m=\u001b[39m Client(n_workers\u001b[38;5;241m=\u001b[39m\u001b[38;5;241m4\u001b[39m, threads_per_worker\u001b[38;5;241m=\u001b[39m\u001b[38;5;241m1\u001b[39m, port\u001b[38;5;241m=\u001b[39m\u001b[38;5;241m8788\u001b[39m, nanny\u001b[38;5;241m=\u001b[39m\u001b[38;5;28;01mFalse\u001b[39;00m)\n\u001b[0;32m      4\u001b[0m \u001b[38;5;28;01mdef\u001b[39;00m \u001b[38;5;21mmerge_flights_with_weather_dask\u001b[39m(flight_file, weather_file):\n\u001b[0;32m      5\u001b[0m     \u001b[38;5;66;03m# Load data as Dask DataFrames\u001b[39;00m\n\u001b[0;32m      6\u001b[0m     flight_iata_dd \u001b[38;5;241m=\u001b[39m dd\u001b[38;5;241m.\u001b[39mread_csv(flight_file)\n",
      "File \u001b[1;32m~\\anaconda3\\Lib\\site-packages\\distributed\\client.py:1224\u001b[0m, in \u001b[0;36mClient.__init__\u001b[1;34m(self, address, loop, timeout, set_as_default, scheduler_file, security, asynchronous, name, heartbeat_interval, serializers, deserializers, extensions, direct_to_workers, connection_limit, **kwargs)\u001b[0m\n\u001b[0;32m   1221\u001b[0m preload_argv \u001b[38;5;241m=\u001b[39m dask\u001b[38;5;241m.\u001b[39mconfig\u001b[38;5;241m.\u001b[39mget(\u001b[38;5;124m\"\u001b[39m\u001b[38;5;124mdistributed.client.preload-argv\u001b[39m\u001b[38;5;124m\"\u001b[39m)\n\u001b[0;32m   1222\u001b[0m \u001b[38;5;28mself\u001b[39m\u001b[38;5;241m.\u001b[39mpreloads \u001b[38;5;241m=\u001b[39m preloading\u001b[38;5;241m.\u001b[39mprocess_preloads(\u001b[38;5;28mself\u001b[39m, preload, preload_argv)\n\u001b[1;32m-> 1224\u001b[0m \u001b[38;5;28mself\u001b[39m\u001b[38;5;241m.\u001b[39mstart(timeout\u001b[38;5;241m=\u001b[39mtimeout)\n\u001b[0;32m   1225\u001b[0m Client\u001b[38;5;241m.\u001b[39m_instances\u001b[38;5;241m.\u001b[39madd(\u001b[38;5;28mself\u001b[39m)\n\u001b[0;32m   1227\u001b[0m \u001b[38;5;28;01mfrom\u001b[39;00m \u001b[38;5;21;01mdistributed\u001b[39;00m\u001b[38;5;21;01m.\u001b[39;00m\u001b[38;5;21;01mrecreate_tasks\u001b[39;00m \u001b[38;5;28;01mimport\u001b[39;00m ReplayTaskClient\n",
      "File \u001b[1;32m~\\anaconda3\\Lib\\site-packages\\distributed\\client.py:1426\u001b[0m, in \u001b[0;36mClient.start\u001b[1;34m(self, **kwargs)\u001b[0m\n\u001b[0;32m   1424\u001b[0m     \u001b[38;5;28mself\u001b[39m\u001b[38;5;241m.\u001b[39m_started \u001b[38;5;241m=\u001b[39m asyncio\u001b[38;5;241m.\u001b[39mensure_future(\u001b[38;5;28mself\u001b[39m\u001b[38;5;241m.\u001b[39m_start(\u001b[38;5;241m*\u001b[39m\u001b[38;5;241m*\u001b[39mkwargs))\n\u001b[0;32m   1425\u001b[0m \u001b[38;5;28;01melse\u001b[39;00m:\n\u001b[1;32m-> 1426\u001b[0m     sync(\u001b[38;5;28mself\u001b[39m\u001b[38;5;241m.\u001b[39mloop, \u001b[38;5;28mself\u001b[39m\u001b[38;5;241m.\u001b[39m_start, \u001b[38;5;241m*\u001b[39m\u001b[38;5;241m*\u001b[39mkwargs)\n",
      "File \u001b[1;32m~\\anaconda3\\Lib\\site-packages\\distributed\\utils.py:440\u001b[0m, in \u001b[0;36msync\u001b[1;34m(loop, func, callback_timeout, *args, **kwargs)\u001b[0m\n\u001b[0;32m    437\u001b[0m         wait(\u001b[38;5;241m10\u001b[39m)\n\u001b[0;32m    439\u001b[0m \u001b[38;5;28;01mif\u001b[39;00m error \u001b[38;5;129;01mis\u001b[39;00m \u001b[38;5;129;01mnot\u001b[39;00m \u001b[38;5;28;01mNone\u001b[39;00m:\n\u001b[1;32m--> 440\u001b[0m     \u001b[38;5;28;01mraise\u001b[39;00m error\n\u001b[0;32m    441\u001b[0m \u001b[38;5;28;01melse\u001b[39;00m:\n\u001b[0;32m    442\u001b[0m     \u001b[38;5;28;01mreturn\u001b[39;00m result\n",
      "File \u001b[1;32m~\\anaconda3\\Lib\\site-packages\\distributed\\utils.py:414\u001b[0m, in \u001b[0;36msync.<locals>.f\u001b[1;34m()\u001b[0m\n\u001b[0;32m    412\u001b[0m         awaitable \u001b[38;5;241m=\u001b[39m wait_for(awaitable, timeout)\n\u001b[0;32m    413\u001b[0m     future \u001b[38;5;241m=\u001b[39m asyncio\u001b[38;5;241m.\u001b[39mensure_future(awaitable)\n\u001b[1;32m--> 414\u001b[0m     result \u001b[38;5;241m=\u001b[39m \u001b[38;5;28;01myield\u001b[39;00m future\n\u001b[0;32m    415\u001b[0m \u001b[38;5;28;01mexcept\u001b[39;00m \u001b[38;5;167;01mException\u001b[39;00m \u001b[38;5;28;01mas\u001b[39;00m exception:\n\u001b[0;32m    416\u001b[0m     error \u001b[38;5;241m=\u001b[39m exception\n",
      "File \u001b[1;32m~\\anaconda3\\Lib\\site-packages\\tornado\\gen.py:766\u001b[0m, in \u001b[0;36mRunner.run\u001b[1;34m(self)\u001b[0m\n\u001b[0;32m    764\u001b[0m \u001b[38;5;28;01mtry\u001b[39;00m:\n\u001b[0;32m    765\u001b[0m     \u001b[38;5;28;01mtry\u001b[39;00m:\n\u001b[1;32m--> 766\u001b[0m         value \u001b[38;5;241m=\u001b[39m future\u001b[38;5;241m.\u001b[39mresult()\n\u001b[0;32m    767\u001b[0m     \u001b[38;5;28;01mexcept\u001b[39;00m \u001b[38;5;167;01mException\u001b[39;00m \u001b[38;5;28;01mas\u001b[39;00m e:\n\u001b[0;32m    768\u001b[0m         \u001b[38;5;66;03m# Save the exception for later. It's important that\u001b[39;00m\n\u001b[0;32m    769\u001b[0m         \u001b[38;5;66;03m# gen.throw() not be called inside this try/except block\u001b[39;00m\n\u001b[0;32m    770\u001b[0m         \u001b[38;5;66;03m# because that makes sys.exc_info behave unexpectedly.\u001b[39;00m\n\u001b[0;32m    771\u001b[0m         exc: Optional[\u001b[38;5;167;01mException\u001b[39;00m] \u001b[38;5;241m=\u001b[39m e\n",
      "File \u001b[1;32m~\\anaconda3\\Lib\\site-packages\\distributed\\client.py:1491\u001b[0m, in \u001b[0;36mClient._start\u001b[1;34m(self, timeout, **kwargs)\u001b[0m\n\u001b[0;32m   1488\u001b[0m \u001b[38;5;28;01melif\u001b[39;00m \u001b[38;5;28mself\u001b[39m\u001b[38;5;241m.\u001b[39m_start_arg \u001b[38;5;129;01mis\u001b[39;00m \u001b[38;5;28;01mNone\u001b[39;00m:\n\u001b[0;32m   1489\u001b[0m     \u001b[38;5;28;01mfrom\u001b[39;00m \u001b[38;5;21;01mdistributed\u001b[39;00m\u001b[38;5;21;01m.\u001b[39;00m\u001b[38;5;21;01mdeploy\u001b[39;00m \u001b[38;5;28;01mimport\u001b[39;00m LocalCluster\n\u001b[1;32m-> 1491\u001b[0m     \u001b[38;5;28mself\u001b[39m\u001b[38;5;241m.\u001b[39mcluster \u001b[38;5;241m=\u001b[39m \u001b[38;5;28;01mawait\u001b[39;00m LocalCluster(\n\u001b[0;32m   1492\u001b[0m         loop\u001b[38;5;241m=\u001b[39m\u001b[38;5;28mself\u001b[39m\u001b[38;5;241m.\u001b[39mloop,\n\u001b[0;32m   1493\u001b[0m         asynchronous\u001b[38;5;241m=\u001b[39m\u001b[38;5;28mself\u001b[39m\u001b[38;5;241m.\u001b[39m_asynchronous,\n\u001b[0;32m   1494\u001b[0m         \u001b[38;5;241m*\u001b[39m\u001b[38;5;241m*\u001b[39m\u001b[38;5;28mself\u001b[39m\u001b[38;5;241m.\u001b[39m_startup_kwargs,\n\u001b[0;32m   1495\u001b[0m     )\n\u001b[0;32m   1496\u001b[0m     address \u001b[38;5;241m=\u001b[39m \u001b[38;5;28mself\u001b[39m\u001b[38;5;241m.\u001b[39mcluster\u001b[38;5;241m.\u001b[39mscheduler_address\n\u001b[0;32m   1498\u001b[0m \u001b[38;5;28mself\u001b[39m\u001b[38;5;241m.\u001b[39m_gather_semaphore \u001b[38;5;241m=\u001b[39m asyncio\u001b[38;5;241m.\u001b[39mSemaphore(\u001b[38;5;241m5\u001b[39m)\n",
      "File \u001b[1;32m~\\anaconda3\\Lib\\site-packages\\distributed\\deploy\\spec.py:420\u001b[0m, in \u001b[0;36mSpecCluster.__await__.<locals>._\u001b[1;34m()\u001b[0m\n\u001b[0;32m    418\u001b[0m     \u001b[38;5;28;01mawait\u001b[39;00m \u001b[38;5;28mself\u001b[39m\u001b[38;5;241m.\u001b[39m_start()\n\u001b[0;32m    419\u001b[0m \u001b[38;5;28;01mawait\u001b[39;00m \u001b[38;5;28mself\u001b[39m\u001b[38;5;241m.\u001b[39mscheduler\n\u001b[1;32m--> 420\u001b[0m \u001b[38;5;28;01mawait\u001b[39;00m \u001b[38;5;28mself\u001b[39m\u001b[38;5;241m.\u001b[39m_correct_state()\n\u001b[0;32m    421\u001b[0m \u001b[38;5;28;01mif\u001b[39;00m \u001b[38;5;28mself\u001b[39m\u001b[38;5;241m.\u001b[39mworkers:\n\u001b[0;32m    422\u001b[0m     \u001b[38;5;28;01mawait\u001b[39;00m asyncio\u001b[38;5;241m.\u001b[39mwait(\n\u001b[0;32m    423\u001b[0m         [\n\u001b[0;32m    424\u001b[0m             asyncio\u001b[38;5;241m.\u001b[39mcreate_task(_wrap_awaitable(w))\n\u001b[0;32m    425\u001b[0m             \u001b[38;5;28;01mfor\u001b[39;00m w \u001b[38;5;129;01min\u001b[39;00m \u001b[38;5;28mself\u001b[39m\u001b[38;5;241m.\u001b[39mworkers\u001b[38;5;241m.\u001b[39mvalues()\n\u001b[0;32m    426\u001b[0m         ]\n\u001b[0;32m    427\u001b[0m     )  \u001b[38;5;66;03m# maybe there are more\u001b[39;00m\n",
      "File \u001b[1;32m~\\anaconda3\\Lib\\site-packages\\distributed\\deploy\\spec.py:390\u001b[0m, in \u001b[0;36mSpecCluster._correct_state_internal\u001b[1;34m(self)\u001b[0m\n\u001b[0;32m    386\u001b[0m     w\u001b[38;5;241m.\u001b[39m_cluster \u001b[38;5;241m=\u001b[39m weakref\u001b[38;5;241m.\u001b[39mref(\u001b[38;5;28mself\u001b[39m)\n\u001b[0;32m    387\u001b[0m \u001b[38;5;66;03m# Collect exceptions from failed workers. This must happen after all\u001b[39;00m\n\u001b[0;32m    388\u001b[0m \u001b[38;5;66;03m# *other* workers have finished initialising, so that we can have a\u001b[39;00m\n\u001b[0;32m    389\u001b[0m \u001b[38;5;66;03m# proper teardown.\u001b[39;00m\n\u001b[1;32m--> 390\u001b[0m \u001b[38;5;28;01mawait\u001b[39;00m asyncio\u001b[38;5;241m.\u001b[39mgather(\u001b[38;5;241m*\u001b[39mworker_futs)\n",
      "File \u001b[1;32m~\\anaconda3\\Lib\\asyncio\\tasks.py:684\u001b[0m, in \u001b[0;36mensure_future.<locals>._wrap_awaitable\u001b[1;34m(awaitable)\u001b[0m\n\u001b[0;32m    683\u001b[0m \u001b[38;5;28;01masync\u001b[39;00m \u001b[38;5;28;01mdef\u001b[39;00m \u001b[38;5;21m_wrap_awaitable\u001b[39m(awaitable):\n\u001b[1;32m--> 684\u001b[0m     \u001b[38;5;28;01mreturn\u001b[39;00m \u001b[38;5;28;01mawait\u001b[39;00m awaitable\n",
      "File \u001b[1;32m~\\anaconda3\\Lib\\site-packages\\distributed\\core.py:533\u001b[0m, in \u001b[0;36mServer.start\u001b[1;34m(self)\u001b[0m\n\u001b[0;32m    531\u001b[0m \u001b[38;5;28;01mexcept\u001b[39;00m \u001b[38;5;167;01mException\u001b[39;00m \u001b[38;5;28;01mas\u001b[39;00m exc:\n\u001b[0;32m    532\u001b[0m     \u001b[38;5;28;01mawait\u001b[39;00m _close_on_failure(exc)\n\u001b[1;32m--> 533\u001b[0m     \u001b[38;5;28;01mraise\u001b[39;00m \u001b[38;5;167;01mRuntimeError\u001b[39;00m(\u001b[38;5;124mf\u001b[39m\u001b[38;5;124m\"\u001b[39m\u001b[38;5;132;01m{\u001b[39;00m\u001b[38;5;28mtype\u001b[39m(\u001b[38;5;28mself\u001b[39m)\u001b[38;5;241m.\u001b[39m\u001b[38;5;18m__name__\u001b[39m\u001b[38;5;132;01m}\u001b[39;00m\u001b[38;5;124m failed to start.\u001b[39m\u001b[38;5;124m\"\u001b[39m) \u001b[38;5;28;01mfrom\u001b[39;00m \u001b[38;5;21;01mexc\u001b[39;00m\n\u001b[0;32m    534\u001b[0m \u001b[38;5;28;01mif\u001b[39;00m \u001b[38;5;28mself\u001b[39m\u001b[38;5;241m.\u001b[39mstatus \u001b[38;5;241m==\u001b[39m Status\u001b[38;5;241m.\u001b[39minit:\n\u001b[0;32m    535\u001b[0m     \u001b[38;5;28mself\u001b[39m\u001b[38;5;241m.\u001b[39mstatus \u001b[38;5;241m=\u001b[39m Status\u001b[38;5;241m.\u001b[39mrunning\n",
      "\u001b[1;31mRuntimeError\u001b[0m: Nanny failed to start."
     ]
    }
   ],
   "source": [
    "# Initialize the Dask client with specific settings\n",
    "client = Client(n_workers=4, threads_per_worker=1, port=8788, nanny=False)\n",
    "\n",
    "def merge_flights_with_weather_dask(flight_file, weather_file):\n",
    "    # Load data as Dask DataFrames\n",
    "    flight_iata_dd = dd.read_csv(flight_file)\n",
    "    weather_iata_dd = dd.read_csv(weather_file)\n",
    "\n",
    "    # Merge for origin\n",
    "    merged_origin_dd = dd.merge(\n",
    "        flight_iata_dd,\n",
    "        weather_iata_dd,\n",
    "        left_on='origin_iata',\n",
    "        right_on='iata',\n",
    "        how='left',\n",
    "        suffixes=('', '_origin')\n",
    "    )\n",
    "\n",
    "    # Merge for destination\n",
    "    merged_final_dd = dd.merge(\n",
    "        merged_origin_dd,\n",
    "        weather_iata_dd,\n",
    "        left_on='dest_iata',\n",
    "        right_on='iata',\n",
    "        how='left',\n",
    "        suffixes=('', '_dest')\n",
    "    )\n",
    "\n",
    "    # Compute the final DataFrame\n",
    "    final_merged_data = merged_final_dd.compute()\n",
    "    \n",
    "    return final_merged_data\n",
    "\n",
    "# Call the function with the paths to your CSV files\n",
    "flight_file = r'C:\\Users\\hopeh\\Desktop\\data_science_bootcamp\\flight_times_capstone\\flights_iata.csv'\n",
    "weather_file = r'C:\\Users\\hopeh\\Desktop\\data_science_bootcamp\\flight_times_capstone\\weather_iata.csv'\n",
    "final_merged_data = merge_flights_with_weather_dask(flight_file, weather_file)\n",
    "\n",
    "print(\"Merged data shape:\", final_merged_data.shape)\n"
   ]
  },
  {
   "cell_type": "code",
   "execution_count": null,
   "id": "cf9acc6f-42e5-42c0-97c4-824aff611498",
   "metadata": {},
   "outputs": [],
   "source": [
    "print(final_merged_data.head())"
   ]
  },
  {
   "cell_type": "code",
   "execution_count": null,
   "id": "c39fddd9-4276-41b9-a7c7-c7062cd058fe",
   "metadata": {},
   "outputs": [],
   "source": []
  }
 ],
 "metadata": {
  "kernelspec": {
   "display_name": "Python 3 (ipykernel)",
   "language": "python",
   "name": "python3"
  },
  "language_info": {
   "codemirror_mode": {
    "name": "ipython",
    "version": 3
   },
   "file_extension": ".py",
   "mimetype": "text/x-python",
   "name": "python",
   "nbconvert_exporter": "python",
   "pygments_lexer": "ipython3",
   "version": "3.12.4"
  }
 },
 "nbformat": 4,
 "nbformat_minor": 5
}
