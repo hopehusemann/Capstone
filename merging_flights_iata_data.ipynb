{
 "cells": [
  {
   "cell_type": "code",
   "execution_count": 60,
   "id": "549e3a73-503c-4459-825f-435585cd90a6",
   "metadata": {},
   "outputs": [
    {
     "name": "stdout",
     "output_type": "stream",
     "text": [
      "   year  month  day_of_month  day_of_week        date op_unique_carrier  \\\n",
      "0  2022      5             1            7  2022-05-01                9e   \n",
      "1  2022      5             1            7  2022-05-01                9e   \n",
      "2  2022      5             1            7  2022-05-01                9e   \n",
      "3  2022      5             1            7  2022-05-01                9e   \n",
      "4  2022      5             1            7  2022-05-01                9e   \n",
      "\n",
      "  tail_num  op_carrier_fl_num origin_iata                origin_city  ...  \\\n",
      "0   n131ev               4633         atl                    atlanta  ...   \n",
      "1   n131ev               4633         hpn               white plains  ...   \n",
      "2   n131ev               4717         tys                  knoxville  ...   \n",
      "3   n131ev               4958         atl                    atlanta  ...   \n",
      "4   n131ev               4958         oaj  jacksonville/camp lejeune  ...   \n",
      "\n",
      "  flights distance  distance_group  carrier_delay  weather_delay  nas_delay  \\\n",
      "0     1.0    780.0               4            NaN            NaN        NaN   \n",
      "1     1.0    780.0               4            NaN            NaN        NaN   \n",
      "2     1.0    152.0               1            NaN            NaN        NaN   \n",
      "3     1.0    399.0               2            NaN            NaN        NaN   \n",
      "4     1.0    399.0               2            NaN            NaN        NaN   \n",
      "\n",
      "   security_delay  late_aircraft_delay  origin_state  dest_state  \n",
      "0             NaN                  NaN            ga          ny  \n",
      "1             NaN                  NaN            ny          ga  \n",
      "2             NaN                  NaN            tn          ga  \n",
      "3             NaN                  NaN            ga          nc  \n",
      "4             NaN                  NaN            nc          ga  \n",
      "\n",
      "[5 rows x 35 columns]\n",
      "     state iata                        airport_name  latitude  longitude  \\\n",
      "0  Alabama  AIV               George Downer Airport   33.1065   -88.1978   \n",
      "1  Alabama  ALX             Thomas C. Russell Field   32.9147   -85.9630   \n",
      "2  Alabama  ANB           Anniston Regional Airport   33.5882   -85.8581   \n",
      "3  Alabama  ASN         Talladega Municipal Airport   33.5699   -86.0509   \n",
      "4  Alabama  AUO  Auburn University Regional Airport   32.6151   -85.4340   \n",
      "\n",
      "   unique_id state_abbr  \n",
      "0          1         AL  \n",
      "1          2         AL  \n",
      "2          3         AL  \n",
      "3          4         AL  \n",
      "4          5         AL  \n"
     ]
    }
   ],
   "source": [
    "import pandas as pd\n",
    "\n",
    "# Load the cleaned flight data\n",
    "flight_data = pd.read_csv(r'C:\\Users\\hopeh\\Desktop\\data_science_bootcamp\\flight_times_capstone\\cleaned_flight_data.csv')\n",
    "\n",
    "# Load the cleaned IATA data\n",
    "iata_data = pd.read_csv(r'C:\\Users\\hopeh\\Desktop\\data_science_bootcamp\\flight_times_capstone\\cleaned_iata_data.csv')\n",
    "\n",
    "# Display the first few rows of each DataFrame to confirm they loaded correctly\n",
    "print(flight_data.head())\n",
    "print(iata_data.head())\n"
   ]
  },
  {
   "cell_type": "code",
   "execution_count": 61,
   "id": "f8ae6bdc-4503-48e0-ae6c-ea5ff253e895",
   "metadata": {},
   "outputs": [
    {
     "name": "stdout",
     "output_type": "stream",
     "text": [
      "Index(['year', 'month', 'day_of_month', 'day_of_week', 'date',\n",
      "       'op_unique_carrier', 'tail_num', 'op_carrier_fl_num', 'origin_iata',\n",
      "       'origin_city', 'dest_iata', 'dest_city', 'crs_dep_time', 'dep_time',\n",
      "       'taxi_out', 'wheels_off', 'wheels_on', 'taxi_in', 'crs_arr_time',\n",
      "       'arr_time', 'cancelled', 'diverted', 'crs_elapsed_time',\n",
      "       'actual_elapsed_time', 'air_time', 'flights', 'distance',\n",
      "       'distance_group', 'carrier_delay', 'weather_delay', 'nas_delay',\n",
      "       'security_delay', 'late_aircraft_delay', 'origin_state', 'dest_state'],\n",
      "      dtype='object')\n",
      "Index(['state', 'iata', 'airport_name', 'latitude', 'longitude', 'unique_id',\n",
      "       'state_abbr'],\n",
      "      dtype='object')\n"
     ]
    }
   ],
   "source": [
    "print(flight_data.columns)\n",
    "print(iata_data.columns)"
   ]
  },
  {
   "cell_type": "code",
   "execution_count": 62,
   "id": "b31200ec-9c03-4d32-a60e-5b927c09eaf3",
   "metadata": {},
   "outputs": [],
   "source": [
    "# Remove multiple columns by names\n",
    "flight_data = flight_data.drop(columns=['year', 'month', 'day_of_month'])\n",
    "iata_data = iata_data.drop(columns=['state', 'unique_id'])"
   ]
  },
  {
   "cell_type": "code",
   "execution_count": 63,
   "id": "f50540b3-b1fc-47da-bcd2-5f478b237562",
   "metadata": {},
   "outputs": [
    {
     "name": "stdout",
     "output_type": "stream",
     "text": [
      "Index(['day_of_week', 'date', 'op_unique_carrier', 'tail_num',\n",
      "       'op_carrier_fl_num', 'origin_iata', 'origin_city', 'dest_iata',\n",
      "       'dest_city', 'crs_dep_time', 'dep_time', 'taxi_out', 'wheels_off',\n",
      "       'wheels_on', 'taxi_in', 'crs_arr_time', 'arr_time', 'cancelled',\n",
      "       'diverted', 'crs_elapsed_time', 'actual_elapsed_time', 'air_time',\n",
      "       'flights', 'distance', 'distance_group', 'carrier_delay',\n",
      "       'weather_delay', 'nas_delay', 'security_delay', 'late_aircraft_delay',\n",
      "       'origin_state', 'dest_state'],\n",
      "      dtype='object')\n",
      "Index(['iata', 'airport_name', 'latitude', 'longitude', 'state_abbr'], dtype='object')\n"
     ]
    }
   ],
   "source": [
    "print(flight_data.columns)\n",
    "print(iata_data.columns)"
   ]
  },
  {
   "cell_type": "code",
   "execution_count": 64,
   "id": "b1041f3d-ddd3-48eb-8efa-b0ef6d47843e",
   "metadata": {},
   "outputs": [
    {
     "name": "stdout",
     "output_type": "stream",
     "text": [
      "(13105004, 32)\n",
      "(2029, 5)\n"
     ]
    }
   ],
   "source": [
    "print(flight_data.shape)\n",
    "print(iata_data.shape)"
   ]
  },
  {
   "cell_type": "code",
   "execution_count": 65,
   "id": "18a272cf-6ab1-4a80-909b-e87b4052ca75",
   "metadata": {},
   "outputs": [],
   "source": [
    "# Function to clean column names and string values\n",
    "def clean_dataframe(df):\n",
    "    # Convert column names to lowercase and strip whitespace\n",
    "    df.columns = df.columns.str.lower().str.strip()\n",
    "    # Convert all string values to lowercase and strip whitespace\n",
    "    for col in df.select_dtypes(include=['object']).columns:\n",
    "        df[col] = df[col].str.lower().str.strip()\n",
    "    return df\n",
    "\n",
    "# Clean both datasets\n",
    "flight_data = clean_dataframe(flight_data)\n",
    "iata_data = clean_dataframe(iata_data)\n",
    "\n",
    "# Now both datasets have lowercase columns and cleaned string values\n"
   ]
  },
  {
   "cell_type": "code",
   "execution_count": 66,
   "id": "f55c1f10-a3f3-49d0-9e2a-3fed92a546d3",
   "metadata": {},
   "outputs": [
    {
     "name": "stdout",
     "output_type": "stream",
     "text": [
      "   day_of_week        date op_unique_carrier tail_num  op_carrier_fl_num  \\\n",
      "0            7  2022-05-01                9e   n131ev               4633   \n",
      "1            7  2022-05-01                9e   n131ev               4633   \n",
      "2            7  2022-05-01                9e   n131ev               4717   \n",
      "3            7  2022-05-01                9e   n131ev               4958   \n",
      "4            7  2022-05-01                9e   n131ev               4958   \n",
      "\n",
      "  origin_iata                origin_city dest_iata                  dest_city  \\\n",
      "0         atl                    atlanta       hpn               white plains   \n",
      "1         hpn               white plains       atl                    atlanta   \n",
      "2         tys                  knoxville       atl                    atlanta   \n",
      "3         atl                    atlanta       oaj  jacksonville/camp lejeune   \n",
      "4         oaj  jacksonville/camp lejeune       atl                    atlanta   \n",
      "\n",
      "   crs_dep_time  ...  flights  distance  distance_group  carrier_delay  \\\n",
      "0          1558  ...      1.0     780.0               4            NaN   \n",
      "1          1859  ...      1.0     780.0               4            NaN   \n",
      "2           655  ...      1.0     152.0               1            NaN   \n",
      "3          1127  ...      1.0     399.0               2            NaN   \n",
      "4          1334  ...      1.0     399.0               2            NaN   \n",
      "\n",
      "   weather_delay  nas_delay  security_delay  late_aircraft_delay  \\\n",
      "0            NaN        NaN             NaN                  NaN   \n",
      "1            NaN        NaN             NaN                  NaN   \n",
      "2            NaN        NaN             NaN                  NaN   \n",
      "3            NaN        NaN             NaN                  NaN   \n",
      "4            NaN        NaN             NaN                  NaN   \n",
      "\n",
      "   origin_state  dest_state  \n",
      "0            ga          ny  \n",
      "1            ny          ga  \n",
      "2            tn          ga  \n",
      "3            ga          nc  \n",
      "4            nc          ga  \n",
      "\n",
      "[5 rows x 32 columns]\n",
      "  iata                        airport_name  latitude  longitude state_abbr\n",
      "0  aiv               george downer airport   33.1065   -88.1978         al\n",
      "1  alx             thomas c. russell field   32.9147   -85.9630         al\n",
      "2  anb           anniston regional airport   33.5882   -85.8581         al\n",
      "3  asn         talladega municipal airport   33.5699   -86.0509         al\n",
      "4  auo  auburn university regional airport   32.6151   -85.4340         al\n"
     ]
    }
   ],
   "source": [
    "print(flight_data.head())\n",
    "print(iata_data.head())"
   ]
  },
  {
   "cell_type": "code",
   "execution_count": 67,
   "id": "8eba1366-65d2-4349-bfaf-6d92ae0ee96f",
   "metadata": {},
   "outputs": [],
   "source": [
    "# Merge on origin_iata\n",
    "merged_data = flight_data.merge(iata_data, left_on='origin_iata', right_on='iata', suffixes=('', '_origin'))\n",
    "\n",
    "# Merge on dest_iata\n",
    "merged_data = merged_data.merge(iata_data, left_on='dest_iata', right_on='iata', suffixes=('', '_dest'))\n",
    "\n",
    "# Now merged_data contains the combined information from both datasets\n"
   ]
  },
  {
   "cell_type": "code",
   "execution_count": 68,
   "id": "25e3eb5e-bea9-46f4-95f4-7a66a558feca",
   "metadata": {},
   "outputs": [
    {
     "name": "stdout",
     "output_type": "stream",
     "text": [
      "   day_of_week        date op_unique_carrier tail_num  op_carrier_fl_num  \\\n",
      "0            7  2022-05-01                9e   n131ev               4633   \n",
      "1            7  2022-05-01                9e   n131ev               4633   \n",
      "2            7  2022-05-01                9e   n131ev               4717   \n",
      "3            7  2022-05-01                9e   n131ev               4958   \n",
      "4            7  2022-05-01                9e   n131ev               4958   \n",
      "\n",
      "  origin_iata                origin_city dest_iata                  dest_city  \\\n",
      "0         atl                    atlanta       hpn               white plains   \n",
      "1         hpn               white plains       atl                    atlanta   \n",
      "2         tys                  knoxville       atl                    atlanta   \n",
      "3         atl                    atlanta       oaj  jacksonville/camp lejeune   \n",
      "4         oaj  jacksonville/camp lejeune       atl                    atlanta   \n",
      "\n",
      "   crs_dep_time  ...  iata                                      airport_name  \\\n",
      "0          1558  ...   atl  hartsfield-jackson atlanta international airport   \n",
      "1          1859  ...   hpn                        westchester county airport   \n",
      "2           655  ...   tys                              mcghee tyson airport   \n",
      "3          1127  ...   atl  hartsfield-jackson atlanta international airport   \n",
      "4          1334  ...   oaj                           albert j. ellis airport   \n",
      "\n",
      "   latitude  longitude  state_abbr  iata_dest  \\\n",
      "0   33.6367   -84.4281          ga        hpn   \n",
      "1   41.0670   -73.7076          ny        atl   \n",
      "2   35.8110   -83.9940          tn        atl   \n",
      "3   33.6367   -84.4281          ga        oaj   \n",
      "4   34.8292   -77.6121          nc        atl   \n",
      "\n",
      "                                  airport_name_dest  latitude_dest  \\\n",
      "0                        westchester county airport        41.0670   \n",
      "1  hartsfield-jackson atlanta international airport        33.6367   \n",
      "2  hartsfield-jackson atlanta international airport        33.6367   \n",
      "3                           albert j. ellis airport        34.8292   \n",
      "4  hartsfield-jackson atlanta international airport        33.6367   \n",
      "\n",
      "   longitude_dest  state_abbr_dest  \n",
      "0        -73.7076               ny  \n",
      "1        -84.4281               ga  \n",
      "2        -84.4281               ga  \n",
      "3        -77.6121               nc  \n",
      "4        -84.4281               ga  \n",
      "\n",
      "[5 rows x 42 columns]\n"
     ]
    }
   ],
   "source": [
    "print(merged_data.head())"
   ]
  },
  {
   "cell_type": "code",
   "execution_count": 69,
   "id": "b24b5f76-de8a-4767-b143-040ef83aeff7",
   "metadata": {},
   "outputs": [
    {
     "name": "stdout",
     "output_type": "stream",
     "text": [
      "Index(['day_of_week', 'date', 'op_unique_carrier', 'tail_num',\n",
      "       'op_carrier_fl_num', 'origin_iata', 'origin_city', 'dest_iata',\n",
      "       'dest_city', 'crs_dep_time', 'dep_time', 'taxi_out', 'wheels_off',\n",
      "       'wheels_on', 'taxi_in', 'crs_arr_time', 'arr_time', 'cancelled',\n",
      "       'diverted', 'crs_elapsed_time', 'actual_elapsed_time', 'air_time',\n",
      "       'flights', 'distance', 'distance_group', 'carrier_delay',\n",
      "       'weather_delay', 'nas_delay', 'security_delay', 'late_aircraft_delay',\n",
      "       'origin_state', 'dest_state', 'iata', 'airport_name', 'latitude',\n",
      "       'longitude', 'state_abbr', 'iata_dest', 'airport_name_dest',\n",
      "       'latitude_dest', 'longitude_dest', 'state_abbr_dest'],\n",
      "      dtype='object')\n"
     ]
    }
   ],
   "source": [
    "print(merged_data.columns)"
   ]
  },
  {
   "cell_type": "code",
   "execution_count": 70,
   "id": "d7660280-6aae-4c61-adb6-f06900ae93c6",
   "metadata": {},
   "outputs": [
    {
     "name": "stdout",
     "output_type": "stream",
     "text": [
      "          day_of_week        date op_unique_carrier tail_num  \\\n",
      "100                 7  2022-05-01                9e   n295pq   \n",
      "228                 7  2022-05-01                9e   n330pq   \n",
      "307                 7  2022-05-01                9e   n482px   \n",
      "662                 7  2022-05-01                9e   n936xj   \n",
      "1705                7  2022-05-01                aa   n738us   \n",
      "...               ...         ...               ...      ...   \n",
      "12950971            2  2024-04-30                yx   n426yx   \n",
      "12951019            2  2024-04-30                yx   n436yx   \n",
      "12951149            2  2024-04-30                yx   n745yx   \n",
      "12951181            2  2024-04-30                yx   n755yx   \n",
      "12951294            2  2024-04-30                yx   n880rw   \n",
      "\n",
      "          op_carrier_fl_num origin_iata origin_city dest_iata    dest_city  \\\n",
      "100                    5372         stl   st. louis       lga     new york   \n",
      "228                    5094         stl   st. louis       lga     new york   \n",
      "307                    5387         stl   st. louis       lga     new york   \n",
      "662                    5090         stl   st. louis       lga     new york   \n",
      "1705                    453         stl   st. louis       lax  los angeles   \n",
      "...                     ...         ...         ...       ...          ...   \n",
      "12950971               4344         stl   st. louis       bos       boston   \n",
      "12951019               4365         stl   st. louis       bos       boston   \n",
      "12951149               3684         stl   st. louis       ewr       newark   \n",
      "12951181               3568         stl   st. louis       ord      chicago   \n",
      "12951294               5820         stl   st. louis       lga     new york   \n",
      "\n",
      "          crs_dep_time  ...  iata                             airport_name  \\\n",
      "100                740  ...   stl  lambert-st. louis international airport   \n",
      "228               1446  ...   stl  lambert-st. louis international airport   \n",
      "307               1135  ...   stl  lambert-st. louis international airport   \n",
      "662               1800  ...   stl  lambert-st. louis international airport   \n",
      "1705              1500  ...   stl  lambert-st. louis international airport   \n",
      "...                ...  ...   ...                                      ...   \n",
      "12950971          1030  ...   stl  lambert-st. louis international airport   \n",
      "12951019          1347  ...   stl  lambert-st. louis international airport   \n",
      "12951149          1149  ...   stl  lambert-st. louis international airport   \n",
      "12951181          1515  ...   stl  lambert-st. louis international airport   \n",
      "12951294           600  ...   stl  lambert-st. louis international airport   \n",
      "\n",
      "          latitude  longitude  state_abbr  iata_dest  \\\n",
      "100        38.7487     -90.37          mo        lga   \n",
      "228        38.7487     -90.37          mo        lga   \n",
      "307        38.7487     -90.37          mo        lga   \n",
      "662        38.7487     -90.37          mo        lga   \n",
      "1705       38.7487     -90.37          mo        lax   \n",
      "...            ...        ...         ...        ...   \n",
      "12950971   38.7487     -90.37          mo        bos   \n",
      "12951019   38.7487     -90.37          mo        bos   \n",
      "12951149   38.7487     -90.37          mo        ewr   \n",
      "12951181   38.7487     -90.37          mo        ord   \n",
      "12951294   38.7487     -90.37          mo        lga   \n",
      "\n",
      "                             airport_name_dest  latitude_dest  longitude_dest  \\\n",
      "100                          laguardia airport        40.7750        -73.8750   \n",
      "228                          laguardia airport        40.7750        -73.8750   \n",
      "307                          laguardia airport        40.7750        -73.8750   \n",
      "662                          laguardia airport        40.7750        -73.8750   \n",
      "1705         los angeles international airport        33.9425       -118.4080   \n",
      "...                                        ...            ...             ...   \n",
      "12950971           logan international airport        42.3643        -71.0052   \n",
      "12951019           logan international airport        42.3643        -71.0052   \n",
      "12951149  newark liberty international airport        40.6925        -74.1686   \n",
      "12951181  chicago o'hare international airport        41.9786        -87.9047   \n",
      "12951294                     laguardia airport        40.7750        -73.8750   \n",
      "\n",
      "          state_abbr_dest  \n",
      "100                    ny  \n",
      "228                    ny  \n",
      "307                    ny  \n",
      "662                    ny  \n",
      "1705                   ca  \n",
      "...                   ...  \n",
      "12950971               ma  \n",
      "12951019               ma  \n",
      "12951149               nj  \n",
      "12951181               il  \n",
      "12951294               ny  \n",
      "\n",
      "[117832 rows x 42 columns]\n"
     ]
    }
   ],
   "source": [
    "print(merged_data[merged_data['origin_iata']=='stl'])"
   ]
  },
  {
   "cell_type": "code",
   "execution_count": 71,
   "id": "70e86f27-ab7a-4e0a-8a9c-8b11a626a531",
   "metadata": {},
   "outputs": [],
   "source": [
    "# Remove multiple columns by names\n",
    "merged_data = merged_data.drop(columns=['airport_name', 'airport_name_dest'])"
   ]
  },
  {
   "cell_type": "code",
   "execution_count": 72,
   "id": "c398255d-9ace-45c2-b1b4-e575ae7e949d",
   "metadata": {},
   "outputs": [],
   "source": [
    "# Save the merged_data DataFrame to a CSV file\n",
    "merged_data.to_csv('flights_iata.csv', index=False)"
   ]
  },
  {
   "cell_type": "code",
   "execution_count": null,
   "id": "a808bd3a-6422-4b48-878e-4a5905115bc3",
   "metadata": {},
   "outputs": [],
   "source": []
  }
 ],
 "metadata": {
  "kernelspec": {
   "display_name": "Python 3 (ipykernel)",
   "language": "python",
   "name": "python3"
  },
  "language_info": {
   "codemirror_mode": {
    "name": "ipython",
    "version": 3
   },
   "file_extension": ".py",
   "mimetype": "text/x-python",
   "name": "python",
   "nbconvert_exporter": "python",
   "pygments_lexer": "ipython3",
   "version": "3.12.4"
  }
 },
 "nbformat": 4,
 "nbformat_minor": 5
}
